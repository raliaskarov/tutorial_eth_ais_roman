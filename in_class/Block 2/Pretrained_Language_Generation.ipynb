{
 "cells": [
  {
   "cell_type": "markdown",
   "metadata": {
    "id": "KMAjhRtJ_nkL"
   },
   "source": [
    "# Language Generation using Pretrained Models\n",
    "\n",
    "In this notebook, we will finally look at language generation!"
   ]
  },
  {
   "cell_type": "markdown",
   "metadata": {
    "id": "bkRu2VrfbTWP"
   },
   "source": [
    "## Preparations\n",
    "Import packages, and customize settings:"
   ]
  },
  {
   "cell_type": "code",
   "execution_count": 1,
   "metadata": {
    "id": "95xS7aiPbg1k"
   },
   "outputs": [],
   "source": [
    "# Libraries for deep learning. In the background, we will use torch / pytorch\n",
    "import torch\n",
    "import torch.nn.functional as F\n",
    "\n",
    "# Libraries from huggingface to easily interact with pretrained models\n",
    "from transformers import AutoTokenizer, AutoModelForCausalLM"
   ]
  },
  {
   "cell_type": "code",
   "execution_count": 2,
   "metadata": {
    "id": "IC6ziHmqbuwn"
   },
   "outputs": [],
   "source": [
    "# general Python libraries:\n",
    "import pandas as pd"
   ]
  },
  {
   "cell_type": "code",
   "execution_count": 3,
   "metadata": {
    "id": "VZVLWuPtCwew"
   },
   "outputs": [],
   "source": [
    "# make sure the entire text is output:\n",
    "pd.set_option('display.max_colwidth', 80)"
   ]
  },
  {
   "cell_type": "code",
   "execution_count": 4,
   "metadata": {
    "id": "7BSKQ8gcbkff"
   },
   "outputs": [],
   "source": [
    "# what device is this notebook running on?\n",
    "device = \"cuda\" if torch.cuda.is_available() else \"cpu\""
   ]
  },
  {
   "cell_type": "markdown",
   "metadata": {
    "id": "pDBcH7sUcvN_"
   },
   "source": [
    "For this notebook, we will use the `GPT2` model, that has been open-sources by openAI. We use the corresponding tokenizer and causal language model:"
   ]
  },
  {
   "cell_type": "code",
   "execution_count": 5,
   "metadata": {
    "colab": {
     "base_uri": "https://localhost:8080/",
     "height": 365,
     "referenced_widgets": [
      "0785832988244b3280120f72b52748c1",
      "8cbd6ba0c58d472fbf76c9f7a072195e",
      "2249ec91905a4b0fbbef9fa18db8aad4",
      "d116f2dc3d1340e59d6236226ab648ea",
      "e618864204e14212a39cede5916fcb5a",
      "9e12ab2b52054002bc540ebc71f7acad",
      "ba9f82c712f745df9fc256b05d8ae0b6",
      "b47aa6649e414167983052187fb8ab1a",
      "e4202455b99f4daf9502e016d59f8027",
      "7dcf9e460b1148259aa5626a2df92964",
      "2161b6cda8b943f29855d85b73a99de7",
      "a3885cf1bc4749f8af8584e5f16e7647",
      "3c61347a284344ea894f665d0d5bc512",
      "825b267cd649495a93c6742562a7ea55",
      "3b28c17584344dbfaebc42ad7ca0168e",
      "89c585e058c6420fbcb8891bdb696ebc",
      "e8387661aa6d46218134d28e0d7dbae9",
      "c832ff4335374e0db1324dd312269f44",
      "82bfe4e1c097496fb0f4de59bee79066",
      "77ca20253f0a47259fd77ea2667c753e",
      "1e809cb6a2154d0e956bcaafe1b235fe",
      "f84f38493992486a9417a64f53eabfb5",
      "c640949555294d9db6fb8d789051470b",
      "18f6ed5bcfbe4117854b4090d31e9707",
      "643942703c1940158ce2d2f9d3c44fdd",
      "41de0745f48840a48f930e2d5ec6fad9",
      "f56608ab83fe4c4ea8ee1aefd345f016",
      "a7c123c47aaa4d219f1ab6efcdd242ad",
      "db0cc190700544859b6e1028c48ba9c6",
      "93e3cadcadf64a0182c952e6486d2132",
      "80a8737e02ca4797871d4e4e409825fc",
      "cc0da4ece0e84de9b7483e76e8910410",
      "ba38a6d3c3e249b88bf43eaabdfd7831",
      "6e8b98e5f329449cb691819de9b7c753",
      "51c62e5f70014c03ab11004ac412c221",
      "93fc396dac0c40f1adb4516a12bf411a",
      "57ddf00effcb480c86103c384f94e711",
      "aafdff1e446f45728d312973882a9d17",
      "0a8344eef2e248908459f6a9f6462e6e",
      "2c1c0e24e0384dac9195dbeb6e5c5c6a",
      "3395777067db4d198e66195cff9f3b51",
      "6e41a4cb366f4de597ed70edb21c4884",
      "f59d26e5844c4bd2a27502e3d039e032",
      "eeb41940dc884643bfd736cd0db3531e",
      "4931d179fcd2454b8763c083c020d380",
      "4781403079974a6595e7432f7e1cf831",
      "6163c4125105463fb39165a59aa3fe87",
      "5cf3c3cc6522488babd6c44b04adee5c",
      "92efe0cb8b7e4b1697688f48b65478dc",
      "02ef67cbd2844ec793946c45f9be54fe",
      "654e283bb08d4a74966400a6352c1a66",
      "0fc498820e254ee1982e677f83cbfd16",
      "fa0eeef5bd6a43cca4be92a760ccab99",
      "54d3fa5842074900a5d39dce375c89c9",
      "29630009a37a407982535e0b9ca6fa62",
      "a0f18505c8c04f8d99ad0bdc14c21e18",
      "3a7bd1eb9105468ca9435d1eb2c59889",
      "40981e9a9cee40ce945dd2d6729541e4",
      "b67fdaaa7e0f40628f0cfbcf9fa2c91c",
      "8c0452ad616842c09b4bf2cc55c863b4",
      "500bf1a5a12c416dab25ac7343659863",
      "15c23b01e38b498c8b9d6536dd46d4ed",
      "10e032352dcb42dba5b01935b2bf9199",
      "03782d153d5a425c90b2fd7ba11fbef0",
      "3257371b44c0429da5d0d5fa4538157b",
      "998f2bfba71e46cba8945f4b1f36c748",
      "d8d0f674d98048f9a5dac3cdbd8b080e",
      "d1e6addc68944ed881b9658295fe5858",
      "e608bd43e49e474d858a43d45febf182",
      "f205269a38e34bb98070bfdfc0fae47a",
      "e4772445b76148669fb2ede5473a762e",
      "4bce3b6aeece4da6871876b13639d949",
      "88b9b3061463493484c2161c7e015a52",
      "55f9e93ef47b462f9e37c5615a772d3c",
      "5fc8f625070c4bcea3267cc2e51b88f0",
      "e436d07a270b449da6ea72d48bdce7a5",
      "9a292a3a1feb4deaa4bfb5507218904a"
     ]
    },
    "id": "cJaGtOz2_0Yl",
    "outputId": "57b324b1-82ea-49e9-87c8-9e24d96ffee0"
   },
   "outputs": [
    {
     "data": {
      "application/vnd.jupyter.widget-view+json": {
       "model_id": "9a27342c542c40d1a8feb971bbef1987",
       "version_major": 2,
       "version_minor": 0
      },
      "text/plain": [
       "tokenizer_config.json:   0%|          | 0.00/26.0 [00:00<?, ?B/s]"
      ]
     },
     "metadata": {},
     "output_type": "display_data"
    },
    {
     "data": {
      "application/vnd.jupyter.widget-view+json": {
       "model_id": "9e32a234cbfa4ef7824b1c08760f8bce",
       "version_major": 2,
       "version_minor": 0
      },
      "text/plain": [
       "config.json:   0%|          | 0.00/665 [00:00<?, ?B/s]"
      ]
     },
     "metadata": {},
     "output_type": "display_data"
    },
    {
     "data": {
      "application/vnd.jupyter.widget-view+json": {
       "model_id": "adab6e36e93e406297bca945d6ee3fa1",
       "version_major": 2,
       "version_minor": 0
      },
      "text/plain": [
       "vocab.json:   0%|          | 0.00/1.04M [00:00<?, ?B/s]"
      ]
     },
     "metadata": {},
     "output_type": "display_data"
    },
    {
     "data": {
      "application/vnd.jupyter.widget-view+json": {
       "model_id": "321b488a4f894aca87e9123e6dc1c034",
       "version_major": 2,
       "version_minor": 0
      },
      "text/plain": [
       "merges.txt:   0%|          | 0.00/456k [00:00<?, ?B/s]"
      ]
     },
     "metadata": {},
     "output_type": "display_data"
    },
    {
     "data": {
      "application/vnd.jupyter.widget-view+json": {
       "model_id": "32b5438404b5480f95ef97caf22e5348",
       "version_major": 2,
       "version_minor": 0
      },
      "text/plain": [
       "tokenizer.json:   0%|          | 0.00/1.36M [00:00<?, ?B/s]"
      ]
     },
     "metadata": {},
     "output_type": "display_data"
    },
    {
     "data": {
      "application/vnd.jupyter.widget-view+json": {
       "model_id": "e2a6acc8b4aa41ee93ce502405a724e9",
       "version_major": 2,
       "version_minor": 0
      },
      "text/plain": [
       "model.safetensors:   0%|          | 0.00/548M [00:00<?, ?B/s]"
      ]
     },
     "metadata": {},
     "output_type": "display_data"
    },
    {
     "data": {
      "application/vnd.jupyter.widget-view+json": {
       "model_id": "d8e6ea6b94374b43bad30bd19110ec02",
       "version_major": 2,
       "version_minor": 0
      },
      "text/plain": [
       "generation_config.json:   0%|          | 0.00/124 [00:00<?, ?B/s]"
      ]
     },
     "metadata": {},
     "output_type": "display_data"
    }
   ],
   "source": [
    "model_name = \"gpt2\"\n",
    "# if you have a powerful computer and want to use a larger model, you can use the following one: model_name = \"gpt2-xl\"\n",
    "tokenizer = AutoTokenizer.from_pretrained(model_name)\n",
    "model = AutoModelForCausalLM.from_pretrained(model_name).to(device)"
   ]
  },
  {
   "cell_type": "markdown",
   "metadata": {
    "id": "g8-35HL__xyd"
   },
   "source": [
    "## Greedy Search Decoding\n",
    "\n",
    "We start with an example for greedy decoding. While there is an easy way of using this decoding strategy via the `generate` function of the `model` with the pretrained parameters, we start with a more granular look at the sampling method."
   ]
  },
  {
   "cell_type": "code",
   "execution_count": 6,
   "metadata": {
    "id": "fxR_JK2-iMbg"
   },
   "outputs": [],
   "source": [
    "input_txt = \"Transformers are the\"\n",
    "input_ids = tokenizer(input_txt, return_tensors=\"pt\")[\"input_ids\"].to(device)"
   ]
  },
  {
   "cell_type": "markdown",
   "metadata": {
    "id": "8fgSkC9XiO3m"
   },
   "source": [
    "### An in-depth Look at Greedy Search\n",
    "Starting from the input text \"Transformers are the\", we repeatedly call the model. As a result of the model, we get (among other things) the logits, the non-normalized scores by the model for each of the tokens. We then normalize these scores to probabilities, and store the tokens with the highest probabilities."
   ]
  },
  {
   "cell_type": "code",
   "execution_count": 9,
   "metadata": {
    "id": "V3HbwHhgB_ev"
   },
   "outputs": [],
   "source": [
    "\"\"\"\n",
    "This code:\n",
    "\n",
    "Starts with some initial input_ids.\n",
    "\n",
    "Runs the model for n_steps (8 tokens).\n",
    "\n",
    "At each step:\n",
    "\n",
    "Shows the current input text.\n",
    "\n",
    "Records the top choices_per_step (5) possible next tokens with probabilities.\n",
    "\n",
    "Picks the most likely token and appends it to input_ids.\n",
    "\n",
    "Stores everything in iterations.\n",
    "\"\"\"\n",
    "iterations = [] #list that will store results of each decoding step (for later inspection).\n",
    "n_steps = 8 # number of tokens \n",
    "choices_per_step = 5 # each step select top 5\n",
    "\n",
    "with torch.no_grad():\n",
    "    for _ in range(n_steps):\n",
    "        iteration = dict() \n",
    "        iteration[\"Input\"] = tokenizer.decode(input_ids[0])\n",
    "        output = model(input_ids=input_ids)\n",
    "        # Select logits of the first batch and the last token and apply softmax\n",
    "        next_token_logits = output.logits[0, -1, :]\n",
    "        next_token_probs = torch.softmax(next_token_logits, dim=-1)\n",
    "        sorted_ids = torch.argsort(next_token_probs, dim=-1, descending=True)\n",
    "        # Store tokens with highest probabilities\n",
    "        for choice_idx in range(choices_per_step):\n",
    "            token_id = sorted_ids[choice_idx]\n",
    "            token_prob = next_token_probs[token_id].cpu().numpy()\n",
    "            token_choice = (\n",
    "                f\"{tokenizer.decode(token_id)} ({100 * token_prob:.2f}%)\"\n",
    "            )\n",
    "            iteration[f\"Choice {choice_idx+1}\"] = token_choice\n",
    "        # Append predicted next token to input\n",
    "        input_ids = torch.cat([input_ids, sorted_ids[None, 0, None]], dim=-1)\n",
    "        iterations.append(iteration)"
   ]
  },
  {
   "cell_type": "markdown",
   "metadata": {
    "id": "KBlr1YpRhAjp"
   },
   "source": [
    "Now let us look at the most probable tokens of every iteration step:"
   ]
  },
  {
   "cell_type": "code",
   "execution_count": 10,
   "metadata": {
    "colab": {
     "base_uri": "https://localhost:8080/",
     "height": 439
    },
    "id": "f4T6ZUNbdju_",
    "outputId": "ec2e3951-4487-40fb-8cb3-5cd9d1802164"
   },
   "outputs": [
    {
     "data": {
      "text/html": [
       "<div>\n",
       "<style scoped>\n",
       "    .dataframe tbody tr th:only-of-type {\n",
       "        vertical-align: middle;\n",
       "    }\n",
       "\n",
       "    .dataframe tbody tr th {\n",
       "        vertical-align: top;\n",
       "    }\n",
       "\n",
       "    .dataframe thead th {\n",
       "        text-align: right;\n",
       "    }\n",
       "</style>\n",
       "<table border=\"1\" class=\"dataframe\">\n",
       "  <thead>\n",
       "    <tr style=\"text-align: right;\">\n",
       "      <th></th>\n",
       "      <th>Input</th>\n",
       "      <th>Choice 1</th>\n",
       "      <th>Choice 2</th>\n",
       "      <th>Choice 3</th>\n",
       "      <th>Choice 4</th>\n",
       "      <th>Choice 5</th>\n",
       "    </tr>\n",
       "  </thead>\n",
       "  <tbody>\n",
       "    <tr>\n",
       "      <th>0</th>\n",
       "      <td>Transformers are the most common type of particle. They are</td>\n",
       "      <td>composed (4.76%)</td>\n",
       "      <td>the (4.36%)</td>\n",
       "      <td>used (2.98%)</td>\n",
       "      <td>also (2.75%)</td>\n",
       "      <td>usually (2.48%)</td>\n",
       "    </tr>\n",
       "    <tr>\n",
       "      <th>1</th>\n",
       "      <td>Transformers are the most common type of particle. They are composed</td>\n",
       "      <td>of (88.87%)</td>\n",
       "      <td>by (1.85%)</td>\n",
       "      <td>mainly (1.42%)</td>\n",
       "      <td>primarily (1.21%)</td>\n",
       "      <td>mostly (1.08%)</td>\n",
       "    </tr>\n",
       "    <tr>\n",
       "      <th>2</th>\n",
       "      <td>Transformers are the most common type of particle. They are composed of</td>\n",
       "      <td>a (12.19%)</td>\n",
       "      <td>two (8.91%)</td>\n",
       "      <td>particles (5.12%)</td>\n",
       "      <td>many (4.00%)</td>\n",
       "      <td>three (3.59%)</td>\n",
       "    </tr>\n",
       "    <tr>\n",
       "      <th>3</th>\n",
       "      <td>Transformers are the most common type of particle. They are composed of a</td>\n",
       "      <td>number (8.59%)</td>\n",
       "      <td>single (6.34%)</td>\n",
       "      <td>small (3.40%)</td>\n",
       "      <td>set (2.98%)</td>\n",
       "      <td>mixture (2.89%)</td>\n",
       "    </tr>\n",
       "    <tr>\n",
       "      <th>4</th>\n",
       "      <td>Transformers are the most common type of particle. They are composed of a nu...</td>\n",
       "      <td>of (99.61%)</td>\n",
       "      <td>( (0.05%)</td>\n",
       "      <td>and (0.04%)</td>\n",
       "      <td>, (0.03%)</td>\n",
       "      <td>or (0.03%)</td>\n",
       "    </tr>\n",
       "    <tr>\n",
       "      <th>5</th>\n",
       "      <td>Transformers are the most common type of particle. They are composed of a nu...</td>\n",
       "      <td>different (11.71%)</td>\n",
       "      <td>particles (8.65%)</td>\n",
       "      <td>small (4.11%)</td>\n",
       "      <td>components (2.36%)</td>\n",
       "      <td>elements (2.23%)</td>\n",
       "    </tr>\n",
       "    <tr>\n",
       "      <th>6</th>\n",
       "      <td>Transformers are the most common type of particle. They are composed of a nu...</td>\n",
       "      <td>particles (22.86%)</td>\n",
       "      <td>types (18.60%)</td>\n",
       "      <td>elements (3.09%)</td>\n",
       "      <td>materials (2.96%)</td>\n",
       "      <td>components (2.88%)</td>\n",
       "    </tr>\n",
       "    <tr>\n",
       "      <th>7</th>\n",
       "      <td>Transformers are the most common type of particle. They are composed of a nu...</td>\n",
       "      <td>, (30.90%)</td>\n",
       "      <td>that (10.66%)</td>\n",
       "      <td>. (8.76%)</td>\n",
       "      <td>and (6.41%)</td>\n",
       "      <td>( (5.63%)</td>\n",
       "    </tr>\n",
       "  </tbody>\n",
       "</table>\n",
       "</div>"
      ],
      "text/plain": [
       "                                                                             Input  \\\n",
       "0                      Transformers are the most common type of particle. They are   \n",
       "1             Transformers are the most common type of particle. They are composed   \n",
       "2          Transformers are the most common type of particle. They are composed of   \n",
       "3        Transformers are the most common type of particle. They are composed of a   \n",
       "4  Transformers are the most common type of particle. They are composed of a nu...   \n",
       "5  Transformers are the most common type of particle. They are composed of a nu...   \n",
       "6  Transformers are the most common type of particle. They are composed of a nu...   \n",
       "7  Transformers are the most common type of particle. They are composed of a nu...   \n",
       "\n",
       "              Choice 1            Choice 2            Choice 3  \\\n",
       "0     composed (4.76%)         the (4.36%)        used (2.98%)   \n",
       "1          of (88.87%)          by (1.85%)      mainly (1.42%)   \n",
       "2           a (12.19%)         two (8.91%)   particles (5.12%)   \n",
       "3       number (8.59%)      single (6.34%)       small (3.40%)   \n",
       "4          of (99.61%)           ( (0.05%)         and (0.04%)   \n",
       "5   different (11.71%)   particles (8.65%)       small (4.11%)   \n",
       "6   particles (22.86%)      types (18.60%)    elements (3.09%)   \n",
       "7           , (30.90%)       that (10.66%)           . (8.76%)   \n",
       "\n",
       "              Choice 4             Choice 5  \n",
       "0         also (2.75%)      usually (2.48%)  \n",
       "1    primarily (1.21%)       mostly (1.08%)  \n",
       "2         many (4.00%)        three (3.59%)  \n",
       "3          set (2.98%)      mixture (2.89%)  \n",
       "4            , (0.03%)           or (0.03%)  \n",
       "5   components (2.36%)     elements (2.23%)  \n",
       "6    materials (2.96%)   components (2.88%)  \n",
       "7          and (6.41%)            ( (5.63%)  "
      ]
     },
     "execution_count": 10,
     "metadata": {},
     "output_type": "execute_result"
    }
   ],
   "source": [
    "pd.DataFrame(iterations)"
   ]
  },
  {
   "cell_type": "markdown",
   "metadata": {
    "id": "tpbO0oNhC_yK"
   },
   "source": [
    "### Using the `generate()` Function\n",
    "The Huggingface transformer model has a function `generate()` to generate texts, and allows us to specify the methods to be used for the text generation. Without futher arguments, the greedy search is implemented:"
   ]
  },
  {
   "cell_type": "code",
   "execution_count": 11,
   "metadata": {
    "colab": {
     "base_uri": "https://localhost:8080/"
    },
    "id": "XbFBAi67CyiX",
    "outputId": "5f60be98-4658-4f56-f9b0-e668428a5ea3"
   },
   "outputs": [
    {
     "name": "stderr",
     "output_type": "stream",
     "text": [
      "The attention mask is not set and cannot be inferred from input because pad token is same as eos token. As a consequence, you may observe unexpected behavior. Please pass your input's `attention_mask` to obtain reliable results.\n"
     ]
    },
    {
     "name": "stdout",
     "output_type": "stream",
     "text": [
      "Transformers are the most common type of particle. They are\n"
     ]
    }
   ],
   "source": [
    "input_ids = tokenizer(input_txt, return_tensors=\"pt\")[\"input_ids\"].to(device)\n",
    "output = model.generate(input_ids, max_new_tokens=n_steps, do_sample=False,\n",
    "                        pad_token_id=tokenizer.eos_token_id)\n",
    "print(tokenizer.decode(output[0]))"
   ]
  },
  {
   "cell_type": "markdown",
   "metadata": {
    "id": "ZCCXNq44j5xl"
   },
   "source": [
    "**Exercise**: Use a starting text of your choice that should be continued by the model. Vary the maximum number of new tokens that should be generated by setting different values to `n_steps`. For example, you might use \"The university is a place\" as prompt. Or, can you reproduce the unicorn story presented along with GPT-2?"
   ]
  },
  {
   "cell_type": "code",
   "execution_count": 36,
   "metadata": {
    "id": "Ueu5r-l5kHj8"
   },
   "outputs": [
    {
     "name": "stdout",
     "output_type": "stream",
     "text": [
      "In a shocking finding, scientist discovered a herd of unicorns living  in a forest in the middle of the forest.\n",
      "The researchers found that the unicorns were not only able to live in the forest, but also to live in the forest itself.\n",
      "The\n"
     ]
    }
   ],
   "source": [
    "n_steps = 40\n",
    "input_txt = r\"In a shocking finding, scientist discovered a herd of unicorns living \"\n",
    "input_ids = tokenizer(input_txt, return_tensors=\"pt\")[\"input_ids\"].to(device)\n",
    "output_greedy = model.generate(input_ids, max_new_tokens=n_steps, do_sample=False,\n",
    "                         pad_token_id=tokenizer.eos_token_id)\n",
    "print(tokenizer.decode(output_greedy[0]))"
   ]
  },
  {
   "cell_type": "markdown",
   "metadata": {
    "id": "8hBraq9pSSmk"
   },
   "source": [
    "### GPT as Calculator?\n"
   ]
  },
  {
   "cell_type": "code",
   "execution_count": 37,
   "metadata": {
    "colab": {
     "base_uri": "https://localhost:8080/"
    },
    "id": "IgzSj8ncFI4n",
    "outputId": "2570476b-f901-4635-8ee7-778108c0afb4"
   },
   "outputs": [
    {
     "name": "stdout",
     "output_type": "stream",
     "text": [
      "\n",
      "5 + 8 = 13\n",
      "2 + 7 = 9\n",
      "13 - 5 = 8\n",
      "2 * 5 = 10\n",
      "5 + 7 =\n",
      "10 - 4 = 11\n",
      "11 - 3 = 12\n",
      "12 - 2 = 13\n",
      "13 - 1 = 14\n",
      "14 - 0 = 15\n",
      "15 - 0 = 16\n",
      "16 - 1 =\n"
     ]
    }
   ],
   "source": [
    "max_length_math = 70\n",
    "input_txt_math1 = \"\"\"\n",
    "5 + 8 = 13\n",
    "2 + 7 = 9\n",
    "13 - 5 = 8\n",
    "2 * 5 = 10\n",
    "5 + 7 =\n",
    "\"\"\"\n",
    "input_ids_math1 = tokenizer(input_txt_math1, return_tensors=\"pt\")[\"input_ids\"].to(device)\n",
    "output_greedy_math1 = model.generate(input_ids_math1, max_length=max_length_math,\n",
    "                               do_sample=False,\n",
    "                               pad_token_id=tokenizer.eos_token_id)\n",
    "print(tokenizer.decode(output_greedy_math1[0]))"
   ]
  },
  {
   "cell_type": "markdown",
   "metadata": {
    "id": "6sCYwCrKiw-8"
   },
   "source": [
    "Unfortunately, this is completely wrong. Even when we're restricting ourselves to the addition, our model completely fails:"
   ]
  },
  {
   "cell_type": "code",
   "execution_count": 38,
   "metadata": {
    "colab": {
     "base_uri": "https://localhost:8080/"
    },
    "id": "FF7_DCcxFaHP",
    "outputId": "cb7374bd-28f6-4990-915f-200b791f3799"
   },
   "outputs": [
    {
     "name": "stdout",
     "output_type": "stream",
     "text": [
      "\n",
      "5 + 8 = 13\n",
      "2 + 7 = 9\n",
      "5 + 7 =\n",
      "\n",
      "6 + 7 =\n",
      "\n",
      "7 + 7 =\n",
      "\n",
      "8 + 7 =\n",
      "\n",
      "9 + 7 =\n",
      "\n",
      "10 + 7 =\n",
      "\n",
      "11 + 7 =\n",
      "\n",
      "12 + 7 =\n",
      "\n",
      "13 + 7 =\n",
      "\n",
      "14 + 7\n"
     ]
    }
   ],
   "source": [
    "input_txt_math2 = \"\"\"\n",
    "5 + 8 = 13\n",
    "2 + 7 = 9\n",
    "5 + 7 =\n",
    "\"\"\"\n",
    "input_ids_math2 = tokenizer(input_txt_math2, return_tensors=\"pt\")[\"input_ids\"].to(device)\n",
    "output_greedy_math2 = model.generate(input_ids_math2, max_length=max_length_math,\n",
    "                               do_sample=False,\n",
    "                               pad_token_id=tokenizer.eos_token_id)\n",
    "print(tokenizer.decode(output_greedy_math2[0]))"
   ]
  },
  {
   "cell_type": "markdown",
   "metadata": {
    "id": "BExutlSRbvU7"
   },
   "source": [
    "Let's look at it step by step."
   ]
  },
  {
   "cell_type": "code",
   "execution_count": 39,
   "metadata": {
    "colab": {
     "base_uri": "https://localhost:8080/",
     "height": 300
    },
    "id": "ohU7T6-FbZww",
    "outputId": "831d3db7-9244-4fab-e925-73eb4311d7fd"
   },
   "outputs": [
    {
     "data": {
      "text/html": [
       "<div>\n",
       "<style scoped>\n",
       "    .dataframe tbody tr th:only-of-type {\n",
       "        vertical-align: middle;\n",
       "    }\n",
       "\n",
       "    .dataframe tbody tr th {\n",
       "        vertical-align: top;\n",
       "    }\n",
       "\n",
       "    .dataframe thead th {\n",
       "        text-align: right;\n",
       "    }\n",
       "</style>\n",
       "<table border=\"1\" class=\"dataframe\">\n",
       "  <thead>\n",
       "    <tr style=\"text-align: right;\">\n",
       "      <th></th>\n",
       "      <th>Input</th>\n",
       "      <th>Choice 1</th>\n",
       "      <th>Choice 2</th>\n",
       "      <th>Choice 3</th>\n",
       "      <th>Choice 4</th>\n",
       "      <th>Choice 5</th>\n",
       "    </tr>\n",
       "  </thead>\n",
       "  <tbody>\n",
       "    <tr>\n",
       "      <th>0</th>\n",
       "      <td>\\n5 + 8 = 13\\n2 + 7 = 9\\n5 + 7 =\\n</td>\n",
       "      <td>\\n (7.88%)</td>\n",
       "      <td>5 (7.23%)</td>\n",
       "      <td>6 (6.93%)</td>\n",
       "      <td>2 (4.25%)</td>\n",
       "      <td>1 (3.99%)</td>\n",
       "    </tr>\n",
       "    <tr>\n",
       "      <th>1</th>\n",
       "      <td>\\n5 + 8 = 13\\n2 + 7 = 9\\n5 + 7 =\\n\\n</td>\n",
       "      <td>6 (10.38%)</td>\n",
       "      <td>5 (7.82%)</td>\n",
       "      <td>9 (7.67%)</td>\n",
       "      <td>7 (7.04%)</td>\n",
       "      <td>8 (6.90%)</td>\n",
       "    </tr>\n",
       "    <tr>\n",
       "      <th>2</th>\n",
       "      <td>\\n5 + 8 = 13\\n2 + 7 = 9\\n5 + 7 =\\n\\n6</td>\n",
       "      <td>+ (79.00%)</td>\n",
       "      <td>- (3.29%)</td>\n",
       "      <td>\\n (2.65%)</td>\n",
       "      <td>= (2.07%)</td>\n",
       "      <td>* (0.63%)</td>\n",
       "    </tr>\n",
       "    <tr>\n",
       "      <th>3</th>\n",
       "      <td>\\n5 + 8 = 13\\n2 + 7 = 9\\n5 + 7 =\\n\\n6 +</td>\n",
       "      <td>7 (19.21%)</td>\n",
       "      <td>8 (17.52%)</td>\n",
       "      <td>6 (12.56%)</td>\n",
       "      <td>5 (8.29%)</td>\n",
       "      <td>4 (7.61%)</td>\n",
       "    </tr>\n",
       "    <tr>\n",
       "      <th>4</th>\n",
       "      <td>\\n5 + 8 = 13\\n2 + 7 = 9\\n5 + 7 =\\n\\n6 + 7</td>\n",
       "      <td>= (96.03%)</td>\n",
       "      <td>+ (1.24%)</td>\n",
       "      <td>. (0.20%)</td>\n",
       "      <td>= (0.18%)</td>\n",
       "      <td>/ (0.15%)</td>\n",
       "    </tr>\n",
       "    <tr>\n",
       "      <th>5</th>\n",
       "      <td>\\n5 + 8 = 13\\n2 + 7 = 9\\n5 + 7 =\\n\\n6 + 7 =</td>\n",
       "      <td>\\n (18.15%)</td>\n",
       "      <td>9 (8.29%)</td>\n",
       "      <td>10 (7.92%)</td>\n",
       "      <td>8 (6.44%)</td>\n",
       "      <td>7 (6.16%)</td>\n",
       "    </tr>\n",
       "    <tr>\n",
       "      <th>6</th>\n",
       "      <td>\\n5 + 8 = 13\\n2 + 7 = 9\\n5 + 7 =\\n\\n6 + 7 =\\n</td>\n",
       "      <td>\\n (99.96%)</td>\n",
       "      <td>. (0.01%)</td>\n",
       "      <td>( (0.00%)</td>\n",
       "      <td>, (0.00%)</td>\n",
       "      <td>- (0.00%)</td>\n",
       "    </tr>\n",
       "    <tr>\n",
       "      <th>7</th>\n",
       "      <td>\\n5 + 8 = 13\\n2 + 7 = 9\\n5 + 7 =\\n\\n6 + 7 =\\n\\n</td>\n",
       "      <td>7 (66.48%)</td>\n",
       "      <td>6 (7.71%)</td>\n",
       "      <td>8 (6.14%)</td>\n",
       "      <td>9 (3.60%)</td>\n",
       "      <td>5 (2.75%)</td>\n",
       "    </tr>\n",
       "  </tbody>\n",
       "</table>\n",
       "</div>"
      ],
      "text/plain": [
       "                                             Input     Choice 1     Choice 2  \\\n",
       "0               \\n5 + 8 = 13\\n2 + 7 = 9\\n5 + 7 =\\n   \\n (7.88%)    5 (7.23%)   \n",
       "1             \\n5 + 8 = 13\\n2 + 7 = 9\\n5 + 7 =\\n\\n   6 (10.38%)    5 (7.82%)   \n",
       "2            \\n5 + 8 = 13\\n2 + 7 = 9\\n5 + 7 =\\n\\n6   + (79.00%)    - (3.29%)   \n",
       "3          \\n5 + 8 = 13\\n2 + 7 = 9\\n5 + 7 =\\n\\n6 +   7 (19.21%)   8 (17.52%)   \n",
       "4        \\n5 + 8 = 13\\n2 + 7 = 9\\n5 + 7 =\\n\\n6 + 7   = (96.03%)    + (1.24%)   \n",
       "5      \\n5 + 8 = 13\\n2 + 7 = 9\\n5 + 7 =\\n\\n6 + 7 =  \\n (18.15%)    9 (8.29%)   \n",
       "6    \\n5 + 8 = 13\\n2 + 7 = 9\\n5 + 7 =\\n\\n6 + 7 =\\n  \\n (99.96%)    . (0.01%)   \n",
       "7  \\n5 + 8 = 13\\n2 + 7 = 9\\n5 + 7 =\\n\\n6 + 7 =\\n\\n   7 (66.48%)    6 (7.71%)   \n",
       "\n",
       "      Choice 3    Choice 4    Choice 5  \n",
       "0    6 (6.93%)   2 (4.25%)   1 (3.99%)  \n",
       "1    9 (7.67%)   7 (7.04%)   8 (6.90%)  \n",
       "2   \\n (2.65%)   = (2.07%)   * (0.63%)  \n",
       "3   6 (12.56%)   5 (8.29%)   4 (7.61%)  \n",
       "4    . (0.20%)   = (0.18%)   / (0.15%)  \n",
       "5   10 (7.92%)   8 (6.44%)   7 (6.16%)  \n",
       "6    ( (0.00%)   , (0.00%)   - (0.00%)  \n",
       "7    8 (6.14%)   9 (3.60%)   5 (2.75%)  "
      ]
     },
     "execution_count": 39,
     "metadata": {},
     "output_type": "execute_result"
    }
   ],
   "source": [
    "input_txt_math2 = \"\"\"\n",
    "5 + 8 = 13\n",
    "2 + 7 = 9\n",
    "5 + 7 =\n",
    "\"\"\"\n",
    "input_ids_math2 = tokenizer(input_txt_math2, return_tensors=\"pt\")[\"input_ids\"].to(device)\n",
    "\n",
    "iterations = []\n",
    "n_steps = 8\n",
    "choices_per_step = 5\n",
    "\n",
    "with torch.no_grad():\n",
    "    for _ in range(n_steps):\n",
    "        iteration = dict()\n",
    "        iteration[\"Input\"] = tokenizer.decode(input_ids_math2[0])\n",
    "        output = model(input_ids=input_ids_math2)\n",
    "        # Select logits of the first batch and the last token and apply softmax\n",
    "        next_token_logits = output.logits[0, -1, :]\n",
    "        next_token_probs = torch.softmax(next_token_logits, dim=-1)\n",
    "        sorted_ids = torch.argsort(next_token_probs, dim=-1, descending=True)\n",
    "        # Store tokens with highest probabilities\n",
    "        for choice_idx in range(choices_per_step):\n",
    "            token_id = sorted_ids[choice_idx]\n",
    "            token_prob = next_token_probs[token_id].cpu().numpy()\n",
    "            token_choice = (\n",
    "                f\"{tokenizer.decode(token_id)} ({100 * token_prob:.2f}%)\"\n",
    "            )\n",
    "            iteration[f\"Choice {choice_idx+1}\"] = token_choice\n",
    "        # Append predicted next token to input\n",
    "        input_ids_math2 = torch.cat([input_ids_math2, sorted_ids[None, 0, None]], dim=-1)\n",
    "        iterations.append(iteration)\n",
    "\n",
    "pd.DataFrame(iterations)"
   ]
  },
  {
   "cell_type": "markdown",
   "metadata": {
    "id": "VvafV9OFFtmZ"
   },
   "source": [
    "It's been known for a while that the large language models are bad in doing calcations. We revert to the fiction story about the Andine unicors."
   ]
  },
  {
   "cell_type": "markdown",
   "metadata": {
    "id": "BSbIYwxVjWCz"
   },
   "source": [
    "## Beam Search\n",
    "Next, we look at the beam search strategy, which keeps a set of most probable partial solutions.\n",
    "\n",
    "First, we define two functions to compute the log-probability of a sequence from the logits we get from the model:"
   ]
  },
  {
   "cell_type": "code",
   "execution_count": 40,
   "metadata": {
    "id": "5pLbUqv1GRSw"
   },
   "outputs": [],
   "source": [
    "def log_probs_from_logits(logits, labels):\n",
    "    logp = F.log_softmax(logits, dim=-1)\n",
    "    logp_label = torch.gather(logp, 2, labels.unsqueeze(2)).squeeze(-1)\n",
    "    return logp_label"
   ]
  },
  {
   "cell_type": "code",
   "execution_count": 41,
   "metadata": {
    "id": "uayQ-vksGR60"
   },
   "outputs": [],
   "source": [
    "def sequence_logprob(model, labels, input_len=0):\n",
    "    with torch.no_grad():\n",
    "        output = model(labels)\n",
    "        log_probs = log_probs_from_logits(\n",
    "            output.logits[:, :-1, :], labels[:, 1:])\n",
    "        seq_log_prob = torch.sum(log_probs[:, input_len:])\n",
    "    return seq_log_prob.cpu().numpy()"
   ]
  },
  {
   "cell_type": "markdown",
   "metadata": {
    "id": "w8UlZaQhjr93"
   },
   "source": [
    "Let us calculate the log-probability of the greedy output we've obtained before:"
   ]
  },
  {
   "cell_type": "code",
   "execution_count": 42,
   "metadata": {
    "colab": {
     "base_uri": "https://localhost:8080/",
     "height": 139
    },
    "id": "YYaLksa9GTU2",
    "outputId": "926aafd8-fe3c-4b98-fa93-4f46b3403955"
   },
   "outputs": [
    {
     "data": {
      "text/plain": [
       "'In a shocking finding, scientist discovered a herd of unicorns living \\xa0in a forest in the middle of the forest.\\nThe researchers found that the unicorns were not only able to live in the forest, but also to live in the forest itself.\\nThe'"
      ]
     },
     "execution_count": 42,
     "metadata": {},
     "output_type": "execute_result"
    }
   ],
   "source": [
    "logp = sequence_logprob(model, output_greedy, input_len=len(input_ids[0]))\n",
    "tokenizer.decode(output_greedy[0])"
   ]
  },
  {
   "cell_type": "code",
   "execution_count": 43,
   "metadata": {
    "colab": {
     "base_uri": "https://localhost:8080/"
    },
    "id": "DGmwG13t_TBB",
    "outputId": "bb0b1dbe-e167-4268-db20-d500e5a774f0"
   },
   "outputs": [
    {
     "name": "stdout",
     "output_type": "stream",
     "text": [
      "\n",
      "log-prob: -58.51\n"
     ]
    }
   ],
   "source": [
    "print(f\"\\nlog-prob: {logp:.2f}\")"
   ]
  },
  {
   "cell_type": "markdown",
   "metadata": {
    "id": "bz3xez8ujwD-"
   },
   "source": [
    "Now, let's generate a text continuation using beam search:"
   ]
  },
  {
   "cell_type": "code",
   "execution_count": 45,
   "metadata": {
    "colab": {
     "base_uri": "https://localhost:8080/",
     "height": 139
    },
    "id": "oayVSG_CGU_T",
    "outputId": "ddee65d5-a0b5-4937-b5df-e1ef231bdc2c"
   },
   "outputs": [
    {
     "data": {
      "text/plain": [
       "'In a shocking finding, scientist discovered a herd of unicorns living \\xa0in a cave in the Himalayas.\\nThe researchers found that the unicorns lived in a cave in the Himalay'"
      ]
     },
     "execution_count": 45,
     "metadata": {},
     "output_type": "execute_result"
    }
   ],
   "source": [
    "max_length = 40\n",
    "output_beam = model.generate(input_ids, max_length=max_length, num_beams=5,\n",
    "                             do_sample=False,\n",
    "                             pad_token_id=tokenizer.eos_token_id)\n",
    "logp = sequence_logprob(model, output_beam, input_len=len(input_ids[0]))\n",
    "tokenizer.decode(output_beam[0])"
   ]
  },
  {
   "cell_type": "code",
   "execution_count": 46,
   "metadata": {
    "colab": {
     "base_uri": "https://localhost:8080/"
    },
    "id": "6lWQZx3o_LWK",
    "outputId": "319e393e-4af1-49b6-d24d-3b1bff03df23"
   },
   "outputs": [
    {
     "name": "stdout",
     "output_type": "stream",
     "text": [
      "\n",
      "log-prob: -32.49\n"
     ]
    }
   ],
   "source": [
    "print(f\"\\nlog-prob: {logp:.2f}\")"
   ]
  },
  {
   "cell_type": "markdown",
   "metadata": {
    "id": "7UA8dXLvGq6d"
   },
   "source": [
    "Tracking several potential continuations of the start sentence, we get a sentence that has a higher overall probability, and also sounds much more natural - but the part that the unicorns communicate in a way similar to that of human speech is still there. We can force the `generate` function not to produce repeated `n`-grams (i.e., combinations of `n` words that occurr more than once):"
   ]
  },
  {
   "cell_type": "code",
   "execution_count": 47,
   "metadata": {
    "colab": {
     "base_uri": "https://localhost:8080/",
     "height": 139
    },
    "id": "dc0qM_ILTdHN",
    "outputId": "40dcb2cc-8c40-443b-d0cb-6a53e71c94de"
   },
   "outputs": [
    {
     "data": {
      "text/plain": [
       "'In a shocking finding, scientist discovered a herd of unicorns living \\xa0in a cave in the Himalayas.\\nThe researchers found that the animals had been living in caves for thousands of years'"
      ]
     },
     "execution_count": 47,
     "metadata": {},
     "output_type": "execute_result"
    }
   ],
   "source": [
    "output_beam = model.generate(input_ids, max_length=max_length, num_beams=5,\n",
    "                             do_sample=False, no_repeat_ngram_size=2,\n",
    "                             pad_token_id=tokenizer.eos_token_id)\n",
    "logp = sequence_logprob(model, output_beam, input_len=len(input_ids[0]))\n",
    "tokenizer.decode(output_beam[0])"
   ]
  },
  {
   "cell_type": "code",
   "execution_count": 48,
   "metadata": {
    "colab": {
     "base_uri": "https://localhost:8080/"
    },
    "id": "IF7kxbIq_Py0",
    "outputId": "c1925227-8d0d-4ead-df4d-baa38eaeb52a"
   },
   "outputs": [
    {
     "name": "stdout",
     "output_type": "stream",
     "text": [
      "\n",
      "log-prob: -36.79\n"
     ]
    }
   ],
   "source": [
    "print(f\"\\nlog-prob: {logp:.2f}\")"
   ]
  },
  {
   "cell_type": "markdown",
   "metadata": {
    "id": "na_OsM39TpC0"
   },
   "source": [
    "Note that the affiliation of the researcher has changed - \"University of California, San Diego, and the University of California, Santa Cruz\" (as was stated in the previous sequence) contains the 3-gram \"University of California\" twice. Since we have told the model not to repeat any 2-grams, \"University of California\" must only appear once.\n",
    "\n",
    "While the model has thus correctly followed the rules we've imposed, the text - even though it might sound convincing - does not really make sense: If the unicorns speak perfect English, why would the \"words of the unicorns\" have to be translated into English? Also, the statement \"This is the first time that we have translated a language into an English language\" which is attributed to the NSF professor of linguistics and evolutionary biology, is clearly wrong."
   ]
  },
  {
   "cell_type": "markdown",
   "metadata": {
    "id": "l9qa62KZTi3M"
   },
   "source": [
    "## Sampling Methods\n",
    "\n",
    "In order to obtain some more interesting texts, we now look at sampling methods. First, we vary the temperature:"
   ]
  },
  {
   "cell_type": "code",
   "execution_count": 49,
   "metadata": {
    "colab": {
     "base_uri": "https://localhost:8080/",
     "height": 139
    },
    "id": "TyGtaPJ6HLeM",
    "outputId": "79090780-74c3-461e-c700-9c475c810587"
   },
   "outputs": [
    {
     "data": {
      "text/plain": [
       "'In a shocking finding, scientist discovered a herd of unicorns living pless in white expressedrous continuing between spectors spiked burning footprints and bubbles. Temper bondingende travelers UrbanBAeries Manufactypunic seeking'"
      ]
     },
     "execution_count": 49,
     "metadata": {},
     "output_type": "execute_result"
    }
   ],
   "source": [
    "output_temp = model.generate(input_ids, max_length=max_length, do_sample=True,\n",
    "                             temperature=2.0, top_k=0,\n",
    "                             pad_token_id=tokenizer.eos_token_id)\n",
    "tokenizer.decode(output_temp[0])"
   ]
  },
  {
   "cell_type": "code",
   "execution_count": 50,
   "metadata": {
    "colab": {
     "base_uri": "https://localhost:8080/",
     "height": 139
    },
    "id": "DVdKB-pXHV8X",
    "outputId": "8ab69069-29bf-45fa-b243-a38311139068"
   },
   "outputs": [
    {
     "data": {
      "text/plain": [
       "'In a shocking finding, scientist discovered a herd of unicorns living \\xa0in a cave in a cave in the woods of the northern Indian state of Kerala.\\n\"We found a herd of unic'"
      ]
     },
     "execution_count": 50,
     "metadata": {},
     "output_type": "execute_result"
    }
   ],
   "source": [
    "output_temp = model.generate(input_ids, max_length=max_length, do_sample=True,\n",
    "                             temperature=0.5, top_k=0,\n",
    "                             pad_token_id=tokenizer.eos_token_id)\n",
    "tokenizer.decode(output_temp[0])"
   ]
  },
  {
   "cell_type": "markdown",
   "metadata": {
    "id": "PEIAHvlAkCiZ"
   },
   "source": [
    "Setting the temperature to 2.0 (in the first attempt) results in a very confuse text, using words that are very rare in the context, and ignoring almost all rules of grammar. With a lower temperature of 0.5, however, we get a pretty consistent and plausible text."
   ]
  },
  {
   "cell_type": "markdown",
   "metadata": {
    "id": "0OQTs6ScnHsJ"
   },
   "source": [
    "**Exercise:** Vary the temperature as you like and look at the output."
   ]
  },
  {
   "cell_type": "code",
   "execution_count": 51,
   "metadata": {
    "id": "syIOvth2nUFR"
   },
   "outputs": [],
   "source": [
    "# output_temp = ... # fill in this line\n",
    "# tokenizer.decode(output_temp[0])"
   ]
  },
  {
   "cell_type": "markdown",
   "metadata": {
    "id": "GQNBXZJQkd1G"
   },
   "source": [
    "### Top-k Sampling\n",
    "Next, we limit the choice to the top 50 tokens in every step."
   ]
  },
  {
   "cell_type": "code",
   "execution_count": 52,
   "metadata": {
    "colab": {
     "base_uri": "https://localhost:8080/",
     "height": 139
    },
    "id": "lyEtyvixHXqX",
    "outputId": "66e15598-fa8f-4965-e457-b821ebe4e095"
   },
   "outputs": [
    {
     "data": {
      "text/plain": [
       "'In a shocking finding, scientist discovered a herd of unicorns living \\ue800 on a tropical island near South Carolina, and the scientists used a similar technique to collect the eggs.\\n\\n�'"
      ]
     },
     "execution_count": 52,
     "metadata": {},
     "output_type": "execute_result"
    }
   ],
   "source": [
    "output_topk = model.generate(input_ids, max_length=max_length, do_sample=True,\n",
    "                             top_k=50,\n",
    "                             pad_token_id=tokenizer.eos_token_id)\n",
    "tokenizer.decode(output_topk[0])"
   ]
  },
  {
   "cell_type": "markdown",
   "metadata": {
    "id": "a112qgJPkm27"
   },
   "source": [
    "### Top-p Sampling\n",
    "As the value `k` in the previous example was rather random, we also want to try the dynamic cut-off using top-p (or nucleus) sampling."
   ]
  },
  {
   "cell_type": "code",
   "execution_count": 53,
   "metadata": {
    "colab": {
     "base_uri": "https://localhost:8080/",
     "height": 139
    },
    "id": "idgQ1CeCIQUy",
    "outputId": "7cbb1e00-377a-4aa6-e314-1024b48fa152"
   },
   "outputs": [
    {
     "data": {
      "text/plain": [
       "'In a shocking finding, scientist discovered a herd of unicorns living ursines in the Sahara desert.\\n\\nThe researchers believe that the discovery may help explain the long-standing trend of sightings of'"
      ]
     },
     "execution_count": 53,
     "metadata": {},
     "output_type": "execute_result"
    }
   ],
   "source": [
    "output_topp = model.generate(input_ids, max_length=max_length, do_sample=True,\n",
    "                             top_p=0.90,\n",
    "                             pad_token_id=tokenizer.eos_token_id)\n",
    "tokenizer.decode(output_topp[0])"
   ]
  },
  {
   "cell_type": "markdown",
   "metadata": {
    "id": "E1wC7R9roRiv"
   },
   "source": [
    "**Exercise:** By trying different values for `top_p`, you can observe how the model's output changes. Lower values of `top_p` will make the text more deterministic and focused, while higher values will allow for more diversity and creativity in the generated text. Be careful: `top_p` can only be between 0 and 1."
   ]
  },
  {
   "cell_type": "code",
   "execution_count": 54,
   "metadata": {
    "id": "F8xIigE4oXDS"
   },
   "outputs": [],
   "source": [
    "# output_topp = ... # fill in this line\n",
    "# tokenizer.decode(output_topp[0])"
   ]
  },
  {
   "cell_type": "markdown",
   "metadata": {
    "id": "ZLUir9pm-PAm"
   },
   "source": [
    "## Experimenting with GPT2\n",
    "**Exercise:**\n",
    "Experiment with different prompts, and generate the several outputs for the same prompt. For example:\n",
    "\n",
    "* Can you make GPT2 invent a fairytale?\n",
    "* Can you get GPT2 to give you some travel advice for, say, Paris?\n",
    "* Can you get GPT2 to give you the capital of a given state? Use few-shot learning to guide GPT2 to the type of response you are looking for!\n",
    "* Ask it a logical question in written text (e.g. There are two apples. I eat one. How many are left?)."
   ]
  },
  {
   "cell_type": "markdown",
   "metadata": {
    "id": "sJFloeZBIZax"
   },
   "source": [
    "## Conclusion\n",
    "\n",
    "After trying out several approaches - what is the best one? Unfortunately, there is no universal answer. As we have seen, lower temperatures (or a deterministic approach as a limit behaviour) produces more predictable texts, at the risk of repetitions. For more creativity, increase the temperature, possibly in combination with top-k or a dynamic cutoff using top-p sampling."
   ]
  },
  {
   "cell_type": "code",
   "execution_count": 55,
   "metadata": {},
   "outputs": [
    {
     "data": {
      "text/plain": [
       "'/home/jovyan/work/tutorial_eth_ais_roman/in_class/Block 2'"
      ]
     },
     "execution_count": 55,
     "metadata": {},
     "output_type": "execute_result"
    }
   ],
   "source": [
    "%pwd"
   ]
  }
 ],
 "metadata": {
  "accelerator": "GPU",
  "colab": {
   "gpuType": "T4",
   "provenance": [],
   "toc_visible": true
  },
  "kernelspec": {
   "display_name": "Torch",
   "language": "python",
   "name": "torch"
  },
  "language_info": {
   "codemirror_mode": {
    "name": "ipython",
    "version": 3
   },
   "file_extension": ".py",
   "mimetype": "text/x-python",
   "name": "python",
   "nbconvert_exporter": "python",
   "pygments_lexer": "ipython3",
   "version": "3.10.11"
  },
  "widgets": {
   "application/vnd.jupyter.widget-state+json": {
    "02ef67cbd2844ec793946c45f9be54fe": {
     "model_module": "@jupyter-widgets/base",
     "model_module_version": "1.2.0",
     "model_name": "LayoutModel",
     "state": {
      "_model_module": "@jupyter-widgets/base",
      "_model_module_version": "1.2.0",
      "_model_name": "LayoutModel",
      "_view_count": null,
      "_view_module": "@jupyter-widgets/base",
      "_view_module_version": "1.2.0",
      "_view_name": "LayoutView",
      "align_content": null,
      "align_items": null,
      "align_self": null,
      "border": null,
      "bottom": null,
      "display": null,
      "flex": null,
      "flex_flow": null,
      "grid_area": null,
      "grid_auto_columns": null,
      "grid_auto_flow": null,
      "grid_auto_rows": null,
      "grid_column": null,
      "grid_gap": null,
      "grid_row": null,
      "grid_template_areas": null,
      "grid_template_columns": null,
      "grid_template_rows": null,
      "height": null,
      "justify_content": null,
      "justify_items": null,
      "left": null,
      "margin": null,
      "max_height": null,
      "max_width": null,
      "min_height": null,
      "min_width": null,
      "object_fit": null,
      "object_position": null,
      "order": null,
      "overflow": null,
      "overflow_x": null,
      "overflow_y": null,
      "padding": null,
      "right": null,
      "top": null,
      "visibility": null,
      "width": null
     }
    },
    "03782d153d5a425c90b2fd7ba11fbef0": {
     "model_module": "@jupyter-widgets/controls",
     "model_module_version": "1.5.0",
     "model_name": "ProgressStyleModel",
     "state": {
      "_model_module": "@jupyter-widgets/controls",
      "_model_module_version": "1.5.0",
      "_model_name": "ProgressStyleModel",
      "_view_count": null,
      "_view_module": "@jupyter-widgets/base",
      "_view_module_version": "1.2.0",
      "_view_name": "StyleView",
      "bar_color": null,
      "description_width": ""
     }
    },
    "0785832988244b3280120f72b52748c1": {
     "model_module": "@jupyter-widgets/controls",
     "model_module_version": "1.5.0",
     "model_name": "HBoxModel",
     "state": {
      "_dom_classes": [],
      "_model_module": "@jupyter-widgets/controls",
      "_model_module_version": "1.5.0",
      "_model_name": "HBoxModel",
      "_view_count": null,
      "_view_module": "@jupyter-widgets/controls",
      "_view_module_version": "1.5.0",
      "_view_name": "HBoxView",
      "box_style": "",
      "children": [
       "IPY_MODEL_8cbd6ba0c58d472fbf76c9f7a072195e",
       "IPY_MODEL_2249ec91905a4b0fbbef9fa18db8aad4",
       "IPY_MODEL_d116f2dc3d1340e59d6236226ab648ea"
      ],
      "layout": "IPY_MODEL_e618864204e14212a39cede5916fcb5a"
     }
    },
    "0a8344eef2e248908459f6a9f6462e6e": {
     "model_module": "@jupyter-widgets/base",
     "model_module_version": "1.2.0",
     "model_name": "LayoutModel",
     "state": {
      "_model_module": "@jupyter-widgets/base",
      "_model_module_version": "1.2.0",
      "_model_name": "LayoutModel",
      "_view_count": null,
      "_view_module": "@jupyter-widgets/base",
      "_view_module_version": "1.2.0",
      "_view_name": "LayoutView",
      "align_content": null,
      "align_items": null,
      "align_self": null,
      "border": null,
      "bottom": null,
      "display": null,
      "flex": null,
      "flex_flow": null,
      "grid_area": null,
      "grid_auto_columns": null,
      "grid_auto_flow": null,
      "grid_auto_rows": null,
      "grid_column": null,
      "grid_gap": null,
      "grid_row": null,
      "grid_template_areas": null,
      "grid_template_columns": null,
      "grid_template_rows": null,
      "height": null,
      "justify_content": null,
      "justify_items": null,
      "left": null,
      "margin": null,
      "max_height": null,
      "max_width": null,
      "min_height": null,
      "min_width": null,
      "object_fit": null,
      "object_position": null,
      "order": null,
      "overflow": null,
      "overflow_x": null,
      "overflow_y": null,
      "padding": null,
      "right": null,
      "top": null,
      "visibility": null,
      "width": null
     }
    },
    "0fc498820e254ee1982e677f83cbfd16": {
     "model_module": "@jupyter-widgets/base",
     "model_module_version": "1.2.0",
     "model_name": "LayoutModel",
     "state": {
      "_model_module": "@jupyter-widgets/base",
      "_model_module_version": "1.2.0",
      "_model_name": "LayoutModel",
      "_view_count": null,
      "_view_module": "@jupyter-widgets/base",
      "_view_module_version": "1.2.0",
      "_view_name": "LayoutView",
      "align_content": null,
      "align_items": null,
      "align_self": null,
      "border": null,
      "bottom": null,
      "display": null,
      "flex": null,
      "flex_flow": null,
      "grid_area": null,
      "grid_auto_columns": null,
      "grid_auto_flow": null,
      "grid_auto_rows": null,
      "grid_column": null,
      "grid_gap": null,
      "grid_row": null,
      "grid_template_areas": null,
      "grid_template_columns": null,
      "grid_template_rows": null,
      "height": null,
      "justify_content": null,
      "justify_items": null,
      "left": null,
      "margin": null,
      "max_height": null,
      "max_width": null,
      "min_height": null,
      "min_width": null,
      "object_fit": null,
      "object_position": null,
      "order": null,
      "overflow": null,
      "overflow_x": null,
      "overflow_y": null,
      "padding": null,
      "right": null,
      "top": null,
      "visibility": null,
      "width": null
     }
    },
    "10e032352dcb42dba5b01935b2bf9199": {
     "model_module": "@jupyter-widgets/base",
     "model_module_version": "1.2.0",
     "model_name": "LayoutModel",
     "state": {
      "_model_module": "@jupyter-widgets/base",
      "_model_module_version": "1.2.0",
      "_model_name": "LayoutModel",
      "_view_count": null,
      "_view_module": "@jupyter-widgets/base",
      "_view_module_version": "1.2.0",
      "_view_name": "LayoutView",
      "align_content": null,
      "align_items": null,
      "align_self": null,
      "border": null,
      "bottom": null,
      "display": null,
      "flex": null,
      "flex_flow": null,
      "grid_area": null,
      "grid_auto_columns": null,
      "grid_auto_flow": null,
      "grid_auto_rows": null,
      "grid_column": null,
      "grid_gap": null,
      "grid_row": null,
      "grid_template_areas": null,
      "grid_template_columns": null,
      "grid_template_rows": null,
      "height": null,
      "justify_content": null,
      "justify_items": null,
      "left": null,
      "margin": null,
      "max_height": null,
      "max_width": null,
      "min_height": null,
      "min_width": null,
      "object_fit": null,
      "object_position": null,
      "order": null,
      "overflow": null,
      "overflow_x": null,
      "overflow_y": null,
      "padding": null,
      "right": null,
      "top": null,
      "visibility": null,
      "width": null
     }
    },
    "15c23b01e38b498c8b9d6536dd46d4ed": {
     "model_module": "@jupyter-widgets/controls",
     "model_module_version": "1.5.0",
     "model_name": "DescriptionStyleModel",
     "state": {
      "_model_module": "@jupyter-widgets/controls",
      "_model_module_version": "1.5.0",
      "_model_name": "DescriptionStyleModel",
      "_view_count": null,
      "_view_module": "@jupyter-widgets/base",
      "_view_module_version": "1.2.0",
      "_view_name": "StyleView",
      "description_width": ""
     }
    },
    "18f6ed5bcfbe4117854b4090d31e9707": {
     "model_module": "@jupyter-widgets/controls",
     "model_module_version": "1.5.0",
     "model_name": "HTMLModel",
     "state": {
      "_dom_classes": [],
      "_model_module": "@jupyter-widgets/controls",
      "_model_module_version": "1.5.0",
      "_model_name": "HTMLModel",
      "_view_count": null,
      "_view_module": "@jupyter-widgets/controls",
      "_view_module_version": "1.5.0",
      "_view_name": "HTMLView",
      "description": "",
      "description_tooltip": null,
      "layout": "IPY_MODEL_a7c123c47aaa4d219f1ab6efcdd242ad",
      "placeholder": "​",
      "style": "IPY_MODEL_db0cc190700544859b6e1028c48ba9c6",
      "value": "vocab.json: 100%"
     }
    },
    "1e809cb6a2154d0e956bcaafe1b235fe": {
     "model_module": "@jupyter-widgets/base",
     "model_module_version": "1.2.0",
     "model_name": "LayoutModel",
     "state": {
      "_model_module": "@jupyter-widgets/base",
      "_model_module_version": "1.2.0",
      "_model_name": "LayoutModel",
      "_view_count": null,
      "_view_module": "@jupyter-widgets/base",
      "_view_module_version": "1.2.0",
      "_view_name": "LayoutView",
      "align_content": null,
      "align_items": null,
      "align_self": null,
      "border": null,
      "bottom": null,
      "display": null,
      "flex": null,
      "flex_flow": null,
      "grid_area": null,
      "grid_auto_columns": null,
      "grid_auto_flow": null,
      "grid_auto_rows": null,
      "grid_column": null,
      "grid_gap": null,
      "grid_row": null,
      "grid_template_areas": null,
      "grid_template_columns": null,
      "grid_template_rows": null,
      "height": null,
      "justify_content": null,
      "justify_items": null,
      "left": null,
      "margin": null,
      "max_height": null,
      "max_width": null,
      "min_height": null,
      "min_width": null,
      "object_fit": null,
      "object_position": null,
      "order": null,
      "overflow": null,
      "overflow_x": null,
      "overflow_y": null,
      "padding": null,
      "right": null,
      "top": null,
      "visibility": null,
      "width": null
     }
    },
    "2161b6cda8b943f29855d85b73a99de7": {
     "model_module": "@jupyter-widgets/controls",
     "model_module_version": "1.5.0",
     "model_name": "DescriptionStyleModel",
     "state": {
      "_model_module": "@jupyter-widgets/controls",
      "_model_module_version": "1.5.0",
      "_model_name": "DescriptionStyleModel",
      "_view_count": null,
      "_view_module": "@jupyter-widgets/base",
      "_view_module_version": "1.2.0",
      "_view_name": "StyleView",
      "description_width": ""
     }
    },
    "2249ec91905a4b0fbbef9fa18db8aad4": {
     "model_module": "@jupyter-widgets/controls",
     "model_module_version": "1.5.0",
     "model_name": "FloatProgressModel",
     "state": {
      "_dom_classes": [],
      "_model_module": "@jupyter-widgets/controls",
      "_model_module_version": "1.5.0",
      "_model_name": "FloatProgressModel",
      "_view_count": null,
      "_view_module": "@jupyter-widgets/controls",
      "_view_module_version": "1.5.0",
      "_view_name": "ProgressView",
      "bar_style": "success",
      "description": "",
      "description_tooltip": null,
      "layout": "IPY_MODEL_b47aa6649e414167983052187fb8ab1a",
      "max": 26,
      "min": 0,
      "orientation": "horizontal",
      "style": "IPY_MODEL_e4202455b99f4daf9502e016d59f8027",
      "value": 26
     }
    },
    "29630009a37a407982535e0b9ca6fa62": {
     "model_module": "@jupyter-widgets/controls",
     "model_module_version": "1.5.0",
     "model_name": "DescriptionStyleModel",
     "state": {
      "_model_module": "@jupyter-widgets/controls",
      "_model_module_version": "1.5.0",
      "_model_name": "DescriptionStyleModel",
      "_view_count": null,
      "_view_module": "@jupyter-widgets/base",
      "_view_module_version": "1.2.0",
      "_view_name": "StyleView",
      "description_width": ""
     }
    },
    "2c1c0e24e0384dac9195dbeb6e5c5c6a": {
     "model_module": "@jupyter-widgets/controls",
     "model_module_version": "1.5.0",
     "model_name": "DescriptionStyleModel",
     "state": {
      "_model_module": "@jupyter-widgets/controls",
      "_model_module_version": "1.5.0",
      "_model_name": "DescriptionStyleModel",
      "_view_count": null,
      "_view_module": "@jupyter-widgets/base",
      "_view_module_version": "1.2.0",
      "_view_name": "StyleView",
      "description_width": ""
     }
    },
    "3257371b44c0429da5d0d5fa4538157b": {
     "model_module": "@jupyter-widgets/base",
     "model_module_version": "1.2.0",
     "model_name": "LayoutModel",
     "state": {
      "_model_module": "@jupyter-widgets/base",
      "_model_module_version": "1.2.0",
      "_model_name": "LayoutModel",
      "_view_count": null,
      "_view_module": "@jupyter-widgets/base",
      "_view_module_version": "1.2.0",
      "_view_name": "LayoutView",
      "align_content": null,
      "align_items": null,
      "align_self": null,
      "border": null,
      "bottom": null,
      "display": null,
      "flex": null,
      "flex_flow": null,
      "grid_area": null,
      "grid_auto_columns": null,
      "grid_auto_flow": null,
      "grid_auto_rows": null,
      "grid_column": null,
      "grid_gap": null,
      "grid_row": null,
      "grid_template_areas": null,
      "grid_template_columns": null,
      "grid_template_rows": null,
      "height": null,
      "justify_content": null,
      "justify_items": null,
      "left": null,
      "margin": null,
      "max_height": null,
      "max_width": null,
      "min_height": null,
      "min_width": null,
      "object_fit": null,
      "object_position": null,
      "order": null,
      "overflow": null,
      "overflow_x": null,
      "overflow_y": null,
      "padding": null,
      "right": null,
      "top": null,
      "visibility": null,
      "width": null
     }
    },
    "3395777067db4d198e66195cff9f3b51": {
     "model_module": "@jupyter-widgets/base",
     "model_module_version": "1.2.0",
     "model_name": "LayoutModel",
     "state": {
      "_model_module": "@jupyter-widgets/base",
      "_model_module_version": "1.2.0",
      "_model_name": "LayoutModel",
      "_view_count": null,
      "_view_module": "@jupyter-widgets/base",
      "_view_module_version": "1.2.0",
      "_view_name": "LayoutView",
      "align_content": null,
      "align_items": null,
      "align_self": null,
      "border": null,
      "bottom": null,
      "display": null,
      "flex": null,
      "flex_flow": null,
      "grid_area": null,
      "grid_auto_columns": null,
      "grid_auto_flow": null,
      "grid_auto_rows": null,
      "grid_column": null,
      "grid_gap": null,
      "grid_row": null,
      "grid_template_areas": null,
      "grid_template_columns": null,
      "grid_template_rows": null,
      "height": null,
      "justify_content": null,
      "justify_items": null,
      "left": null,
      "margin": null,
      "max_height": null,
      "max_width": null,
      "min_height": null,
      "min_width": null,
      "object_fit": null,
      "object_position": null,
      "order": null,
      "overflow": null,
      "overflow_x": null,
      "overflow_y": null,
      "padding": null,
      "right": null,
      "top": null,
      "visibility": null,
      "width": null
     }
    },
    "3a7bd1eb9105468ca9435d1eb2c59889": {
     "model_module": "@jupyter-widgets/controls",
     "model_module_version": "1.5.0",
     "model_name": "HTMLModel",
     "state": {
      "_dom_classes": [],
      "_model_module": "@jupyter-widgets/controls",
      "_model_module_version": "1.5.0",
      "_model_name": "HTMLModel",
      "_view_count": null,
      "_view_module": "@jupyter-widgets/controls",
      "_view_module_version": "1.5.0",
      "_view_name": "HTMLView",
      "description": "",
      "description_tooltip": null,
      "layout": "IPY_MODEL_500bf1a5a12c416dab25ac7343659863",
      "placeholder": "​",
      "style": "IPY_MODEL_15c23b01e38b498c8b9d6536dd46d4ed",
      "value": "model.safetensors: 100%"
     }
    },
    "3b28c17584344dbfaebc42ad7ca0168e": {
     "model_module": "@jupyter-widgets/controls",
     "model_module_version": "1.5.0",
     "model_name": "HTMLModel",
     "state": {
      "_dom_classes": [],
      "_model_module": "@jupyter-widgets/controls",
      "_model_module_version": "1.5.0",
      "_model_name": "HTMLModel",
      "_view_count": null,
      "_view_module": "@jupyter-widgets/controls",
      "_view_module_version": "1.5.0",
      "_view_name": "HTMLView",
      "description": "",
      "description_tooltip": null,
      "layout": "IPY_MODEL_1e809cb6a2154d0e956bcaafe1b235fe",
      "placeholder": "​",
      "style": "IPY_MODEL_f84f38493992486a9417a64f53eabfb5",
      "value": " 665/665 [00:00&lt;00:00, 45.0kB/s]"
     }
    },
    "3c61347a284344ea894f665d0d5bc512": {
     "model_module": "@jupyter-widgets/controls",
     "model_module_version": "1.5.0",
     "model_name": "HTMLModel",
     "state": {
      "_dom_classes": [],
      "_model_module": "@jupyter-widgets/controls",
      "_model_module_version": "1.5.0",
      "_model_name": "HTMLModel",
      "_view_count": null,
      "_view_module": "@jupyter-widgets/controls",
      "_view_module_version": "1.5.0",
      "_view_name": "HTMLView",
      "description": "",
      "description_tooltip": null,
      "layout": "IPY_MODEL_e8387661aa6d46218134d28e0d7dbae9",
      "placeholder": "​",
      "style": "IPY_MODEL_c832ff4335374e0db1324dd312269f44",
      "value": "config.json: 100%"
     }
    },
    "40981e9a9cee40ce945dd2d6729541e4": {
     "model_module": "@jupyter-widgets/controls",
     "model_module_version": "1.5.0",
     "model_name": "FloatProgressModel",
     "state": {
      "_dom_classes": [],
      "_model_module": "@jupyter-widgets/controls",
      "_model_module_version": "1.5.0",
      "_model_name": "FloatProgressModel",
      "_view_count": null,
      "_view_module": "@jupyter-widgets/controls",
      "_view_module_version": "1.5.0",
      "_view_name": "ProgressView",
      "bar_style": "success",
      "description": "",
      "description_tooltip": null,
      "layout": "IPY_MODEL_10e032352dcb42dba5b01935b2bf9199",
      "max": 548105171,
      "min": 0,
      "orientation": "horizontal",
      "style": "IPY_MODEL_03782d153d5a425c90b2fd7ba11fbef0",
      "value": 548105171
     }
    },
    "41de0745f48840a48f930e2d5ec6fad9": {
     "model_module": "@jupyter-widgets/controls",
     "model_module_version": "1.5.0",
     "model_name": "HTMLModel",
     "state": {
      "_dom_classes": [],
      "_model_module": "@jupyter-widgets/controls",
      "_model_module_version": "1.5.0",
      "_model_name": "HTMLModel",
      "_view_count": null,
      "_view_module": "@jupyter-widgets/controls",
      "_view_module_version": "1.5.0",
      "_view_name": "HTMLView",
      "description": "",
      "description_tooltip": null,
      "layout": "IPY_MODEL_cc0da4ece0e84de9b7483e76e8910410",
      "placeholder": "​",
      "style": "IPY_MODEL_ba38a6d3c3e249b88bf43eaabdfd7831",
      "value": " 1.04M/1.04M [00:00&lt;00:00, 7.98MB/s]"
     }
    },
    "4781403079974a6595e7432f7e1cf831": {
     "model_module": "@jupyter-widgets/controls",
     "model_module_version": "1.5.0",
     "model_name": "HTMLModel",
     "state": {
      "_dom_classes": [],
      "_model_module": "@jupyter-widgets/controls",
      "_model_module_version": "1.5.0",
      "_model_name": "HTMLModel",
      "_view_count": null,
      "_view_module": "@jupyter-widgets/controls",
      "_view_module_version": "1.5.0",
      "_view_name": "HTMLView",
      "description": "",
      "description_tooltip": null,
      "layout": "IPY_MODEL_02ef67cbd2844ec793946c45f9be54fe",
      "placeholder": "​",
      "style": "IPY_MODEL_654e283bb08d4a74966400a6352c1a66",
      "value": "tokenizer.json: 100%"
     }
    },
    "4931d179fcd2454b8763c083c020d380": {
     "model_module": "@jupyter-widgets/controls",
     "model_module_version": "1.5.0",
     "model_name": "HBoxModel",
     "state": {
      "_dom_classes": [],
      "_model_module": "@jupyter-widgets/controls",
      "_model_module_version": "1.5.0",
      "_model_name": "HBoxModel",
      "_view_count": null,
      "_view_module": "@jupyter-widgets/controls",
      "_view_module_version": "1.5.0",
      "_view_name": "HBoxView",
      "box_style": "",
      "children": [
       "IPY_MODEL_4781403079974a6595e7432f7e1cf831",
       "IPY_MODEL_6163c4125105463fb39165a59aa3fe87",
       "IPY_MODEL_5cf3c3cc6522488babd6c44b04adee5c"
      ],
      "layout": "IPY_MODEL_92efe0cb8b7e4b1697688f48b65478dc"
     }
    },
    "4bce3b6aeece4da6871876b13639d949": {
     "model_module": "@jupyter-widgets/base",
     "model_module_version": "1.2.0",
     "model_name": "LayoutModel",
     "state": {
      "_model_module": "@jupyter-widgets/base",
      "_model_module_version": "1.2.0",
      "_model_name": "LayoutModel",
      "_view_count": null,
      "_view_module": "@jupyter-widgets/base",
      "_view_module_version": "1.2.0",
      "_view_name": "LayoutView",
      "align_content": null,
      "align_items": null,
      "align_self": null,
      "border": null,
      "bottom": null,
      "display": null,
      "flex": null,
      "flex_flow": null,
      "grid_area": null,
      "grid_auto_columns": null,
      "grid_auto_flow": null,
      "grid_auto_rows": null,
      "grid_column": null,
      "grid_gap": null,
      "grid_row": null,
      "grid_template_areas": null,
      "grid_template_columns": null,
      "grid_template_rows": null,
      "height": null,
      "justify_content": null,
      "justify_items": null,
      "left": null,
      "margin": null,
      "max_height": null,
      "max_width": null,
      "min_height": null,
      "min_width": null,
      "object_fit": null,
      "object_position": null,
      "order": null,
      "overflow": null,
      "overflow_x": null,
      "overflow_y": null,
      "padding": null,
      "right": null,
      "top": null,
      "visibility": null,
      "width": null
     }
    },
    "500bf1a5a12c416dab25ac7343659863": {
     "model_module": "@jupyter-widgets/base",
     "model_module_version": "1.2.0",
     "model_name": "LayoutModel",
     "state": {
      "_model_module": "@jupyter-widgets/base",
      "_model_module_version": "1.2.0",
      "_model_name": "LayoutModel",
      "_view_count": null,
      "_view_module": "@jupyter-widgets/base",
      "_view_module_version": "1.2.0",
      "_view_name": "LayoutView",
      "align_content": null,
      "align_items": null,
      "align_self": null,
      "border": null,
      "bottom": null,
      "display": null,
      "flex": null,
      "flex_flow": null,
      "grid_area": null,
      "grid_auto_columns": null,
      "grid_auto_flow": null,
      "grid_auto_rows": null,
      "grid_column": null,
      "grid_gap": null,
      "grid_row": null,
      "grid_template_areas": null,
      "grid_template_columns": null,
      "grid_template_rows": null,
      "height": null,
      "justify_content": null,
      "justify_items": null,
      "left": null,
      "margin": null,
      "max_height": null,
      "max_width": null,
      "min_height": null,
      "min_width": null,
      "object_fit": null,
      "object_position": null,
      "order": null,
      "overflow": null,
      "overflow_x": null,
      "overflow_y": null,
      "padding": null,
      "right": null,
      "top": null,
      "visibility": null,
      "width": null
     }
    },
    "51c62e5f70014c03ab11004ac412c221": {
     "model_module": "@jupyter-widgets/controls",
     "model_module_version": "1.5.0",
     "model_name": "HTMLModel",
     "state": {
      "_dom_classes": [],
      "_model_module": "@jupyter-widgets/controls",
      "_model_module_version": "1.5.0",
      "_model_name": "HTMLModel",
      "_view_count": null,
      "_view_module": "@jupyter-widgets/controls",
      "_view_module_version": "1.5.0",
      "_view_name": "HTMLView",
      "description": "",
      "description_tooltip": null,
      "layout": "IPY_MODEL_0a8344eef2e248908459f6a9f6462e6e",
      "placeholder": "​",
      "style": "IPY_MODEL_2c1c0e24e0384dac9195dbeb6e5c5c6a",
      "value": "merges.txt: 100%"
     }
    },
    "54d3fa5842074900a5d39dce375c89c9": {
     "model_module": "@jupyter-widgets/base",
     "model_module_version": "1.2.0",
     "model_name": "LayoutModel",
     "state": {
      "_model_module": "@jupyter-widgets/base",
      "_model_module_version": "1.2.0",
      "_model_name": "LayoutModel",
      "_view_count": null,
      "_view_module": "@jupyter-widgets/base",
      "_view_module_version": "1.2.0",
      "_view_name": "LayoutView",
      "align_content": null,
      "align_items": null,
      "align_self": null,
      "border": null,
      "bottom": null,
      "display": null,
      "flex": null,
      "flex_flow": null,
      "grid_area": null,
      "grid_auto_columns": null,
      "grid_auto_flow": null,
      "grid_auto_rows": null,
      "grid_column": null,
      "grid_gap": null,
      "grid_row": null,
      "grid_template_areas": null,
      "grid_template_columns": null,
      "grid_template_rows": null,
      "height": null,
      "justify_content": null,
      "justify_items": null,
      "left": null,
      "margin": null,
      "max_height": null,
      "max_width": null,
      "min_height": null,
      "min_width": null,
      "object_fit": null,
      "object_position": null,
      "order": null,
      "overflow": null,
      "overflow_x": null,
      "overflow_y": null,
      "padding": null,
      "right": null,
      "top": null,
      "visibility": null,
      "width": null
     }
    },
    "55f9e93ef47b462f9e37c5615a772d3c": {
     "model_module": "@jupyter-widgets/base",
     "model_module_version": "1.2.0",
     "model_name": "LayoutModel",
     "state": {
      "_model_module": "@jupyter-widgets/base",
      "_model_module_version": "1.2.0",
      "_model_name": "LayoutModel",
      "_view_count": null,
      "_view_module": "@jupyter-widgets/base",
      "_view_module_version": "1.2.0",
      "_view_name": "LayoutView",
      "align_content": null,
      "align_items": null,
      "align_self": null,
      "border": null,
      "bottom": null,
      "display": null,
      "flex": null,
      "flex_flow": null,
      "grid_area": null,
      "grid_auto_columns": null,
      "grid_auto_flow": null,
      "grid_auto_rows": null,
      "grid_column": null,
      "grid_gap": null,
      "grid_row": null,
      "grid_template_areas": null,
      "grid_template_columns": null,
      "grid_template_rows": null,
      "height": null,
      "justify_content": null,
      "justify_items": null,
      "left": null,
      "margin": null,
      "max_height": null,
      "max_width": null,
      "min_height": null,
      "min_width": null,
      "object_fit": null,
      "object_position": null,
      "order": null,
      "overflow": null,
      "overflow_x": null,
      "overflow_y": null,
      "padding": null,
      "right": null,
      "top": null,
      "visibility": null,
      "width": null
     }
    },
    "57ddf00effcb480c86103c384f94e711": {
     "model_module": "@jupyter-widgets/controls",
     "model_module_version": "1.5.0",
     "model_name": "HTMLModel",
     "state": {
      "_dom_classes": [],
      "_model_module": "@jupyter-widgets/controls",
      "_model_module_version": "1.5.0",
      "_model_name": "HTMLModel",
      "_view_count": null,
      "_view_module": "@jupyter-widgets/controls",
      "_view_module_version": "1.5.0",
      "_view_name": "HTMLView",
      "description": "",
      "description_tooltip": null,
      "layout": "IPY_MODEL_f59d26e5844c4bd2a27502e3d039e032",
      "placeholder": "​",
      "style": "IPY_MODEL_eeb41940dc884643bfd736cd0db3531e",
      "value": " 456k/456k [00:00&lt;00:00, 3.71MB/s]"
     }
    },
    "5cf3c3cc6522488babd6c44b04adee5c": {
     "model_module": "@jupyter-widgets/controls",
     "model_module_version": "1.5.0",
     "model_name": "HTMLModel",
     "state": {
      "_dom_classes": [],
      "_model_module": "@jupyter-widgets/controls",
      "_model_module_version": "1.5.0",
      "_model_name": "HTMLModel",
      "_view_count": null,
      "_view_module": "@jupyter-widgets/controls",
      "_view_module_version": "1.5.0",
      "_view_name": "HTMLView",
      "description": "",
      "description_tooltip": null,
      "layout": "IPY_MODEL_54d3fa5842074900a5d39dce375c89c9",
      "placeholder": "​",
      "style": "IPY_MODEL_29630009a37a407982535e0b9ca6fa62",
      "value": " 1.36M/1.36M [00:00&lt;00:00, 18.8MB/s]"
     }
    },
    "5fc8f625070c4bcea3267cc2e51b88f0": {
     "model_module": "@jupyter-widgets/controls",
     "model_module_version": "1.5.0",
     "model_name": "ProgressStyleModel",
     "state": {
      "_model_module": "@jupyter-widgets/controls",
      "_model_module_version": "1.5.0",
      "_model_name": "ProgressStyleModel",
      "_view_count": null,
      "_view_module": "@jupyter-widgets/base",
      "_view_module_version": "1.2.0",
      "_view_name": "StyleView",
      "bar_color": null,
      "description_width": ""
     }
    },
    "6163c4125105463fb39165a59aa3fe87": {
     "model_module": "@jupyter-widgets/controls",
     "model_module_version": "1.5.0",
     "model_name": "FloatProgressModel",
     "state": {
      "_dom_classes": [],
      "_model_module": "@jupyter-widgets/controls",
      "_model_module_version": "1.5.0",
      "_model_name": "FloatProgressModel",
      "_view_count": null,
      "_view_module": "@jupyter-widgets/controls",
      "_view_module_version": "1.5.0",
      "_view_name": "ProgressView",
      "bar_style": "success",
      "description": "",
      "description_tooltip": null,
      "layout": "IPY_MODEL_0fc498820e254ee1982e677f83cbfd16",
      "max": 1355256,
      "min": 0,
      "orientation": "horizontal",
      "style": "IPY_MODEL_fa0eeef5bd6a43cca4be92a760ccab99",
      "value": 1355256
     }
    },
    "643942703c1940158ce2d2f9d3c44fdd": {
     "model_module": "@jupyter-widgets/controls",
     "model_module_version": "1.5.0",
     "model_name": "FloatProgressModel",
     "state": {
      "_dom_classes": [],
      "_model_module": "@jupyter-widgets/controls",
      "_model_module_version": "1.5.0",
      "_model_name": "FloatProgressModel",
      "_view_count": null,
      "_view_module": "@jupyter-widgets/controls",
      "_view_module_version": "1.5.0",
      "_view_name": "ProgressView",
      "bar_style": "success",
      "description": "",
      "description_tooltip": null,
      "layout": "IPY_MODEL_93e3cadcadf64a0182c952e6486d2132",
      "max": 1042301,
      "min": 0,
      "orientation": "horizontal",
      "style": "IPY_MODEL_80a8737e02ca4797871d4e4e409825fc",
      "value": 1042301
     }
    },
    "654e283bb08d4a74966400a6352c1a66": {
     "model_module": "@jupyter-widgets/controls",
     "model_module_version": "1.5.0",
     "model_name": "DescriptionStyleModel",
     "state": {
      "_model_module": "@jupyter-widgets/controls",
      "_model_module_version": "1.5.0",
      "_model_name": "DescriptionStyleModel",
      "_view_count": null,
      "_view_module": "@jupyter-widgets/base",
      "_view_module_version": "1.2.0",
      "_view_name": "StyleView",
      "description_width": ""
     }
    },
    "6e41a4cb366f4de597ed70edb21c4884": {
     "model_module": "@jupyter-widgets/controls",
     "model_module_version": "1.5.0",
     "model_name": "ProgressStyleModel",
     "state": {
      "_model_module": "@jupyter-widgets/controls",
      "_model_module_version": "1.5.0",
      "_model_name": "ProgressStyleModel",
      "_view_count": null,
      "_view_module": "@jupyter-widgets/base",
      "_view_module_version": "1.2.0",
      "_view_name": "StyleView",
      "bar_color": null,
      "description_width": ""
     }
    },
    "6e8b98e5f329449cb691819de9b7c753": {
     "model_module": "@jupyter-widgets/controls",
     "model_module_version": "1.5.0",
     "model_name": "HBoxModel",
     "state": {
      "_dom_classes": [],
      "_model_module": "@jupyter-widgets/controls",
      "_model_module_version": "1.5.0",
      "_model_name": "HBoxModel",
      "_view_count": null,
      "_view_module": "@jupyter-widgets/controls",
      "_view_module_version": "1.5.0",
      "_view_name": "HBoxView",
      "box_style": "",
      "children": [
       "IPY_MODEL_51c62e5f70014c03ab11004ac412c221",
       "IPY_MODEL_93fc396dac0c40f1adb4516a12bf411a",
       "IPY_MODEL_57ddf00effcb480c86103c384f94e711"
      ],
      "layout": "IPY_MODEL_aafdff1e446f45728d312973882a9d17"
     }
    },
    "77ca20253f0a47259fd77ea2667c753e": {
     "model_module": "@jupyter-widgets/controls",
     "model_module_version": "1.5.0",
     "model_name": "ProgressStyleModel",
     "state": {
      "_model_module": "@jupyter-widgets/controls",
      "_model_module_version": "1.5.0",
      "_model_name": "ProgressStyleModel",
      "_view_count": null,
      "_view_module": "@jupyter-widgets/base",
      "_view_module_version": "1.2.0",
      "_view_name": "StyleView",
      "bar_color": null,
      "description_width": ""
     }
    },
    "7dcf9e460b1148259aa5626a2df92964": {
     "model_module": "@jupyter-widgets/base",
     "model_module_version": "1.2.0",
     "model_name": "LayoutModel",
     "state": {
      "_model_module": "@jupyter-widgets/base",
      "_model_module_version": "1.2.0",
      "_model_name": "LayoutModel",
      "_view_count": null,
      "_view_module": "@jupyter-widgets/base",
      "_view_module_version": "1.2.0",
      "_view_name": "LayoutView",
      "align_content": null,
      "align_items": null,
      "align_self": null,
      "border": null,
      "bottom": null,
      "display": null,
      "flex": null,
      "flex_flow": null,
      "grid_area": null,
      "grid_auto_columns": null,
      "grid_auto_flow": null,
      "grid_auto_rows": null,
      "grid_column": null,
      "grid_gap": null,
      "grid_row": null,
      "grid_template_areas": null,
      "grid_template_columns": null,
      "grid_template_rows": null,
      "height": null,
      "justify_content": null,
      "justify_items": null,
      "left": null,
      "margin": null,
      "max_height": null,
      "max_width": null,
      "min_height": null,
      "min_width": null,
      "object_fit": null,
      "object_position": null,
      "order": null,
      "overflow": null,
      "overflow_x": null,
      "overflow_y": null,
      "padding": null,
      "right": null,
      "top": null,
      "visibility": null,
      "width": null
     }
    },
    "80a8737e02ca4797871d4e4e409825fc": {
     "model_module": "@jupyter-widgets/controls",
     "model_module_version": "1.5.0",
     "model_name": "ProgressStyleModel",
     "state": {
      "_model_module": "@jupyter-widgets/controls",
      "_model_module_version": "1.5.0",
      "_model_name": "ProgressStyleModel",
      "_view_count": null,
      "_view_module": "@jupyter-widgets/base",
      "_view_module_version": "1.2.0",
      "_view_name": "StyleView",
      "bar_color": null,
      "description_width": ""
     }
    },
    "825b267cd649495a93c6742562a7ea55": {
     "model_module": "@jupyter-widgets/controls",
     "model_module_version": "1.5.0",
     "model_name": "FloatProgressModel",
     "state": {
      "_dom_classes": [],
      "_model_module": "@jupyter-widgets/controls",
      "_model_module_version": "1.5.0",
      "_model_name": "FloatProgressModel",
      "_view_count": null,
      "_view_module": "@jupyter-widgets/controls",
      "_view_module_version": "1.5.0",
      "_view_name": "ProgressView",
      "bar_style": "success",
      "description": "",
      "description_tooltip": null,
      "layout": "IPY_MODEL_82bfe4e1c097496fb0f4de59bee79066",
      "max": 665,
      "min": 0,
      "orientation": "horizontal",
      "style": "IPY_MODEL_77ca20253f0a47259fd77ea2667c753e",
      "value": 665
     }
    },
    "82bfe4e1c097496fb0f4de59bee79066": {
     "model_module": "@jupyter-widgets/base",
     "model_module_version": "1.2.0",
     "model_name": "LayoutModel",
     "state": {
      "_model_module": "@jupyter-widgets/base",
      "_model_module_version": "1.2.0",
      "_model_name": "LayoutModel",
      "_view_count": null,
      "_view_module": "@jupyter-widgets/base",
      "_view_module_version": "1.2.0",
      "_view_name": "LayoutView",
      "align_content": null,
      "align_items": null,
      "align_self": null,
      "border": null,
      "bottom": null,
      "display": null,
      "flex": null,
      "flex_flow": null,
      "grid_area": null,
      "grid_auto_columns": null,
      "grid_auto_flow": null,
      "grid_auto_rows": null,
      "grid_column": null,
      "grid_gap": null,
      "grid_row": null,
      "grid_template_areas": null,
      "grid_template_columns": null,
      "grid_template_rows": null,
      "height": null,
      "justify_content": null,
      "justify_items": null,
      "left": null,
      "margin": null,
      "max_height": null,
      "max_width": null,
      "min_height": null,
      "min_width": null,
      "object_fit": null,
      "object_position": null,
      "order": null,
      "overflow": null,
      "overflow_x": null,
      "overflow_y": null,
      "padding": null,
      "right": null,
      "top": null,
      "visibility": null,
      "width": null
     }
    },
    "88b9b3061463493484c2161c7e015a52": {
     "model_module": "@jupyter-widgets/controls",
     "model_module_version": "1.5.0",
     "model_name": "DescriptionStyleModel",
     "state": {
      "_model_module": "@jupyter-widgets/controls",
      "_model_module_version": "1.5.0",
      "_model_name": "DescriptionStyleModel",
      "_view_count": null,
      "_view_module": "@jupyter-widgets/base",
      "_view_module_version": "1.2.0",
      "_view_name": "StyleView",
      "description_width": ""
     }
    },
    "89c585e058c6420fbcb8891bdb696ebc": {
     "model_module": "@jupyter-widgets/base",
     "model_module_version": "1.2.0",
     "model_name": "LayoutModel",
     "state": {
      "_model_module": "@jupyter-widgets/base",
      "_model_module_version": "1.2.0",
      "_model_name": "LayoutModel",
      "_view_count": null,
      "_view_module": "@jupyter-widgets/base",
      "_view_module_version": "1.2.0",
      "_view_name": "LayoutView",
      "align_content": null,
      "align_items": null,
      "align_self": null,
      "border": null,
      "bottom": null,
      "display": null,
      "flex": null,
      "flex_flow": null,
      "grid_area": null,
      "grid_auto_columns": null,
      "grid_auto_flow": null,
      "grid_auto_rows": null,
      "grid_column": null,
      "grid_gap": null,
      "grid_row": null,
      "grid_template_areas": null,
      "grid_template_columns": null,
      "grid_template_rows": null,
      "height": null,
      "justify_content": null,
      "justify_items": null,
      "left": null,
      "margin": null,
      "max_height": null,
      "max_width": null,
      "min_height": null,
      "min_width": null,
      "object_fit": null,
      "object_position": null,
      "order": null,
      "overflow": null,
      "overflow_x": null,
      "overflow_y": null,
      "padding": null,
      "right": null,
      "top": null,
      "visibility": null,
      "width": null
     }
    },
    "8c0452ad616842c09b4bf2cc55c863b4": {
     "model_module": "@jupyter-widgets/base",
     "model_module_version": "1.2.0",
     "model_name": "LayoutModel",
     "state": {
      "_model_module": "@jupyter-widgets/base",
      "_model_module_version": "1.2.0",
      "_model_name": "LayoutModel",
      "_view_count": null,
      "_view_module": "@jupyter-widgets/base",
      "_view_module_version": "1.2.0",
      "_view_name": "LayoutView",
      "align_content": null,
      "align_items": null,
      "align_self": null,
      "border": null,
      "bottom": null,
      "display": null,
      "flex": null,
      "flex_flow": null,
      "grid_area": null,
      "grid_auto_columns": null,
      "grid_auto_flow": null,
      "grid_auto_rows": null,
      "grid_column": null,
      "grid_gap": null,
      "grid_row": null,
      "grid_template_areas": null,
      "grid_template_columns": null,
      "grid_template_rows": null,
      "height": null,
      "justify_content": null,
      "justify_items": null,
      "left": null,
      "margin": null,
      "max_height": null,
      "max_width": null,
      "min_height": null,
      "min_width": null,
      "object_fit": null,
      "object_position": null,
      "order": null,
      "overflow": null,
      "overflow_x": null,
      "overflow_y": null,
      "padding": null,
      "right": null,
      "top": null,
      "visibility": null,
      "width": null
     }
    },
    "8cbd6ba0c58d472fbf76c9f7a072195e": {
     "model_module": "@jupyter-widgets/controls",
     "model_module_version": "1.5.0",
     "model_name": "HTMLModel",
     "state": {
      "_dom_classes": [],
      "_model_module": "@jupyter-widgets/controls",
      "_model_module_version": "1.5.0",
      "_model_name": "HTMLModel",
      "_view_count": null,
      "_view_module": "@jupyter-widgets/controls",
      "_view_module_version": "1.5.0",
      "_view_name": "HTMLView",
      "description": "",
      "description_tooltip": null,
      "layout": "IPY_MODEL_9e12ab2b52054002bc540ebc71f7acad",
      "placeholder": "​",
      "style": "IPY_MODEL_ba9f82c712f745df9fc256b05d8ae0b6",
      "value": "tokenizer_config.json: 100%"
     }
    },
    "92efe0cb8b7e4b1697688f48b65478dc": {
     "model_module": "@jupyter-widgets/base",
     "model_module_version": "1.2.0",
     "model_name": "LayoutModel",
     "state": {
      "_model_module": "@jupyter-widgets/base",
      "_model_module_version": "1.2.0",
      "_model_name": "LayoutModel",
      "_view_count": null,
      "_view_module": "@jupyter-widgets/base",
      "_view_module_version": "1.2.0",
      "_view_name": "LayoutView",
      "align_content": null,
      "align_items": null,
      "align_self": null,
      "border": null,
      "bottom": null,
      "display": null,
      "flex": null,
      "flex_flow": null,
      "grid_area": null,
      "grid_auto_columns": null,
      "grid_auto_flow": null,
      "grid_auto_rows": null,
      "grid_column": null,
      "grid_gap": null,
      "grid_row": null,
      "grid_template_areas": null,
      "grid_template_columns": null,
      "grid_template_rows": null,
      "height": null,
      "justify_content": null,
      "justify_items": null,
      "left": null,
      "margin": null,
      "max_height": null,
      "max_width": null,
      "min_height": null,
      "min_width": null,
      "object_fit": null,
      "object_position": null,
      "order": null,
      "overflow": null,
      "overflow_x": null,
      "overflow_y": null,
      "padding": null,
      "right": null,
      "top": null,
      "visibility": null,
      "width": null
     }
    },
    "93e3cadcadf64a0182c952e6486d2132": {
     "model_module": "@jupyter-widgets/base",
     "model_module_version": "1.2.0",
     "model_name": "LayoutModel",
     "state": {
      "_model_module": "@jupyter-widgets/base",
      "_model_module_version": "1.2.0",
      "_model_name": "LayoutModel",
      "_view_count": null,
      "_view_module": "@jupyter-widgets/base",
      "_view_module_version": "1.2.0",
      "_view_name": "LayoutView",
      "align_content": null,
      "align_items": null,
      "align_self": null,
      "border": null,
      "bottom": null,
      "display": null,
      "flex": null,
      "flex_flow": null,
      "grid_area": null,
      "grid_auto_columns": null,
      "grid_auto_flow": null,
      "grid_auto_rows": null,
      "grid_column": null,
      "grid_gap": null,
      "grid_row": null,
      "grid_template_areas": null,
      "grid_template_columns": null,
      "grid_template_rows": null,
      "height": null,
      "justify_content": null,
      "justify_items": null,
      "left": null,
      "margin": null,
      "max_height": null,
      "max_width": null,
      "min_height": null,
      "min_width": null,
      "object_fit": null,
      "object_position": null,
      "order": null,
      "overflow": null,
      "overflow_x": null,
      "overflow_y": null,
      "padding": null,
      "right": null,
      "top": null,
      "visibility": null,
      "width": null
     }
    },
    "93fc396dac0c40f1adb4516a12bf411a": {
     "model_module": "@jupyter-widgets/controls",
     "model_module_version": "1.5.0",
     "model_name": "FloatProgressModel",
     "state": {
      "_dom_classes": [],
      "_model_module": "@jupyter-widgets/controls",
      "_model_module_version": "1.5.0",
      "_model_name": "FloatProgressModel",
      "_view_count": null,
      "_view_module": "@jupyter-widgets/controls",
      "_view_module_version": "1.5.0",
      "_view_name": "ProgressView",
      "bar_style": "success",
      "description": "",
      "description_tooltip": null,
      "layout": "IPY_MODEL_3395777067db4d198e66195cff9f3b51",
      "max": 456318,
      "min": 0,
      "orientation": "horizontal",
      "style": "IPY_MODEL_6e41a4cb366f4de597ed70edb21c4884",
      "value": 456318
     }
    },
    "998f2bfba71e46cba8945f4b1f36c748": {
     "model_module": "@jupyter-widgets/controls",
     "model_module_version": "1.5.0",
     "model_name": "DescriptionStyleModel",
     "state": {
      "_model_module": "@jupyter-widgets/controls",
      "_model_module_version": "1.5.0",
      "_model_name": "DescriptionStyleModel",
      "_view_count": null,
      "_view_module": "@jupyter-widgets/base",
      "_view_module_version": "1.2.0",
      "_view_name": "StyleView",
      "description_width": ""
     }
    },
    "9a292a3a1feb4deaa4bfb5507218904a": {
     "model_module": "@jupyter-widgets/controls",
     "model_module_version": "1.5.0",
     "model_name": "DescriptionStyleModel",
     "state": {
      "_model_module": "@jupyter-widgets/controls",
      "_model_module_version": "1.5.0",
      "_model_name": "DescriptionStyleModel",
      "_view_count": null,
      "_view_module": "@jupyter-widgets/base",
      "_view_module_version": "1.2.0",
      "_view_name": "StyleView",
      "description_width": ""
     }
    },
    "9e12ab2b52054002bc540ebc71f7acad": {
     "model_module": "@jupyter-widgets/base",
     "model_module_version": "1.2.0",
     "model_name": "LayoutModel",
     "state": {
      "_model_module": "@jupyter-widgets/base",
      "_model_module_version": "1.2.0",
      "_model_name": "LayoutModel",
      "_view_count": null,
      "_view_module": "@jupyter-widgets/base",
      "_view_module_version": "1.2.0",
      "_view_name": "LayoutView",
      "align_content": null,
      "align_items": null,
      "align_self": null,
      "border": null,
      "bottom": null,
      "display": null,
      "flex": null,
      "flex_flow": null,
      "grid_area": null,
      "grid_auto_columns": null,
      "grid_auto_flow": null,
      "grid_auto_rows": null,
      "grid_column": null,
      "grid_gap": null,
      "grid_row": null,
      "grid_template_areas": null,
      "grid_template_columns": null,
      "grid_template_rows": null,
      "height": null,
      "justify_content": null,
      "justify_items": null,
      "left": null,
      "margin": null,
      "max_height": null,
      "max_width": null,
      "min_height": null,
      "min_width": null,
      "object_fit": null,
      "object_position": null,
      "order": null,
      "overflow": null,
      "overflow_x": null,
      "overflow_y": null,
      "padding": null,
      "right": null,
      "top": null,
      "visibility": null,
      "width": null
     }
    },
    "a0f18505c8c04f8d99ad0bdc14c21e18": {
     "model_module": "@jupyter-widgets/controls",
     "model_module_version": "1.5.0",
     "model_name": "HBoxModel",
     "state": {
      "_dom_classes": [],
      "_model_module": "@jupyter-widgets/controls",
      "_model_module_version": "1.5.0",
      "_model_name": "HBoxModel",
      "_view_count": null,
      "_view_module": "@jupyter-widgets/controls",
      "_view_module_version": "1.5.0",
      "_view_name": "HBoxView",
      "box_style": "",
      "children": [
       "IPY_MODEL_3a7bd1eb9105468ca9435d1eb2c59889",
       "IPY_MODEL_40981e9a9cee40ce945dd2d6729541e4",
       "IPY_MODEL_b67fdaaa7e0f40628f0cfbcf9fa2c91c"
      ],
      "layout": "IPY_MODEL_8c0452ad616842c09b4bf2cc55c863b4"
     }
    },
    "a3885cf1bc4749f8af8584e5f16e7647": {
     "model_module": "@jupyter-widgets/controls",
     "model_module_version": "1.5.0",
     "model_name": "HBoxModel",
     "state": {
      "_dom_classes": [],
      "_model_module": "@jupyter-widgets/controls",
      "_model_module_version": "1.5.0",
      "_model_name": "HBoxModel",
      "_view_count": null,
      "_view_module": "@jupyter-widgets/controls",
      "_view_module_version": "1.5.0",
      "_view_name": "HBoxView",
      "box_style": "",
      "children": [
       "IPY_MODEL_3c61347a284344ea894f665d0d5bc512",
       "IPY_MODEL_825b267cd649495a93c6742562a7ea55",
       "IPY_MODEL_3b28c17584344dbfaebc42ad7ca0168e"
      ],
      "layout": "IPY_MODEL_89c585e058c6420fbcb8891bdb696ebc"
     }
    },
    "a7c123c47aaa4d219f1ab6efcdd242ad": {
     "model_module": "@jupyter-widgets/base",
     "model_module_version": "1.2.0",
     "model_name": "LayoutModel",
     "state": {
      "_model_module": "@jupyter-widgets/base",
      "_model_module_version": "1.2.0",
      "_model_name": "LayoutModel",
      "_view_count": null,
      "_view_module": "@jupyter-widgets/base",
      "_view_module_version": "1.2.0",
      "_view_name": "LayoutView",
      "align_content": null,
      "align_items": null,
      "align_self": null,
      "border": null,
      "bottom": null,
      "display": null,
      "flex": null,
      "flex_flow": null,
      "grid_area": null,
      "grid_auto_columns": null,
      "grid_auto_flow": null,
      "grid_auto_rows": null,
      "grid_column": null,
      "grid_gap": null,
      "grid_row": null,
      "grid_template_areas": null,
      "grid_template_columns": null,
      "grid_template_rows": null,
      "height": null,
      "justify_content": null,
      "justify_items": null,
      "left": null,
      "margin": null,
      "max_height": null,
      "max_width": null,
      "min_height": null,
      "min_width": null,
      "object_fit": null,
      "object_position": null,
      "order": null,
      "overflow": null,
      "overflow_x": null,
      "overflow_y": null,
      "padding": null,
      "right": null,
      "top": null,
      "visibility": null,
      "width": null
     }
    },
    "aafdff1e446f45728d312973882a9d17": {
     "model_module": "@jupyter-widgets/base",
     "model_module_version": "1.2.0",
     "model_name": "LayoutModel",
     "state": {
      "_model_module": "@jupyter-widgets/base",
      "_model_module_version": "1.2.0",
      "_model_name": "LayoutModel",
      "_view_count": null,
      "_view_module": "@jupyter-widgets/base",
      "_view_module_version": "1.2.0",
      "_view_name": "LayoutView",
      "align_content": null,
      "align_items": null,
      "align_self": null,
      "border": null,
      "bottom": null,
      "display": null,
      "flex": null,
      "flex_flow": null,
      "grid_area": null,
      "grid_auto_columns": null,
      "grid_auto_flow": null,
      "grid_auto_rows": null,
      "grid_column": null,
      "grid_gap": null,
      "grid_row": null,
      "grid_template_areas": null,
      "grid_template_columns": null,
      "grid_template_rows": null,
      "height": null,
      "justify_content": null,
      "justify_items": null,
      "left": null,
      "margin": null,
      "max_height": null,
      "max_width": null,
      "min_height": null,
      "min_width": null,
      "object_fit": null,
      "object_position": null,
      "order": null,
      "overflow": null,
      "overflow_x": null,
      "overflow_y": null,
      "padding": null,
      "right": null,
      "top": null,
      "visibility": null,
      "width": null
     }
    },
    "b47aa6649e414167983052187fb8ab1a": {
     "model_module": "@jupyter-widgets/base",
     "model_module_version": "1.2.0",
     "model_name": "LayoutModel",
     "state": {
      "_model_module": "@jupyter-widgets/base",
      "_model_module_version": "1.2.0",
      "_model_name": "LayoutModel",
      "_view_count": null,
      "_view_module": "@jupyter-widgets/base",
      "_view_module_version": "1.2.0",
      "_view_name": "LayoutView",
      "align_content": null,
      "align_items": null,
      "align_self": null,
      "border": null,
      "bottom": null,
      "display": null,
      "flex": null,
      "flex_flow": null,
      "grid_area": null,
      "grid_auto_columns": null,
      "grid_auto_flow": null,
      "grid_auto_rows": null,
      "grid_column": null,
      "grid_gap": null,
      "grid_row": null,
      "grid_template_areas": null,
      "grid_template_columns": null,
      "grid_template_rows": null,
      "height": null,
      "justify_content": null,
      "justify_items": null,
      "left": null,
      "margin": null,
      "max_height": null,
      "max_width": null,
      "min_height": null,
      "min_width": null,
      "object_fit": null,
      "object_position": null,
      "order": null,
      "overflow": null,
      "overflow_x": null,
      "overflow_y": null,
      "padding": null,
      "right": null,
      "top": null,
      "visibility": null,
      "width": null
     }
    },
    "b67fdaaa7e0f40628f0cfbcf9fa2c91c": {
     "model_module": "@jupyter-widgets/controls",
     "model_module_version": "1.5.0",
     "model_name": "HTMLModel",
     "state": {
      "_dom_classes": [],
      "_model_module": "@jupyter-widgets/controls",
      "_model_module_version": "1.5.0",
      "_model_name": "HTMLModel",
      "_view_count": null,
      "_view_module": "@jupyter-widgets/controls",
      "_view_module_version": "1.5.0",
      "_view_name": "HTMLView",
      "description": "",
      "description_tooltip": null,
      "layout": "IPY_MODEL_3257371b44c0429da5d0d5fa4538157b",
      "placeholder": "​",
      "style": "IPY_MODEL_998f2bfba71e46cba8945f4b1f36c748",
      "value": " 548M/548M [00:03&lt;00:00, 177MB/s]"
     }
    },
    "ba38a6d3c3e249b88bf43eaabdfd7831": {
     "model_module": "@jupyter-widgets/controls",
     "model_module_version": "1.5.0",
     "model_name": "DescriptionStyleModel",
     "state": {
      "_model_module": "@jupyter-widgets/controls",
      "_model_module_version": "1.5.0",
      "_model_name": "DescriptionStyleModel",
      "_view_count": null,
      "_view_module": "@jupyter-widgets/base",
      "_view_module_version": "1.2.0",
      "_view_name": "StyleView",
      "description_width": ""
     }
    },
    "ba9f82c712f745df9fc256b05d8ae0b6": {
     "model_module": "@jupyter-widgets/controls",
     "model_module_version": "1.5.0",
     "model_name": "DescriptionStyleModel",
     "state": {
      "_model_module": "@jupyter-widgets/controls",
      "_model_module_version": "1.5.0",
      "_model_name": "DescriptionStyleModel",
      "_view_count": null,
      "_view_module": "@jupyter-widgets/base",
      "_view_module_version": "1.2.0",
      "_view_name": "StyleView",
      "description_width": ""
     }
    },
    "c640949555294d9db6fb8d789051470b": {
     "model_module": "@jupyter-widgets/controls",
     "model_module_version": "1.5.0",
     "model_name": "HBoxModel",
     "state": {
      "_dom_classes": [],
      "_model_module": "@jupyter-widgets/controls",
      "_model_module_version": "1.5.0",
      "_model_name": "HBoxModel",
      "_view_count": null,
      "_view_module": "@jupyter-widgets/controls",
      "_view_module_version": "1.5.0",
      "_view_name": "HBoxView",
      "box_style": "",
      "children": [
       "IPY_MODEL_18f6ed5bcfbe4117854b4090d31e9707",
       "IPY_MODEL_643942703c1940158ce2d2f9d3c44fdd",
       "IPY_MODEL_41de0745f48840a48f930e2d5ec6fad9"
      ],
      "layout": "IPY_MODEL_f56608ab83fe4c4ea8ee1aefd345f016"
     }
    },
    "c832ff4335374e0db1324dd312269f44": {
     "model_module": "@jupyter-widgets/controls",
     "model_module_version": "1.5.0",
     "model_name": "DescriptionStyleModel",
     "state": {
      "_model_module": "@jupyter-widgets/controls",
      "_model_module_version": "1.5.0",
      "_model_name": "DescriptionStyleModel",
      "_view_count": null,
      "_view_module": "@jupyter-widgets/base",
      "_view_module_version": "1.2.0",
      "_view_name": "StyleView",
      "description_width": ""
     }
    },
    "cc0da4ece0e84de9b7483e76e8910410": {
     "model_module": "@jupyter-widgets/base",
     "model_module_version": "1.2.0",
     "model_name": "LayoutModel",
     "state": {
      "_model_module": "@jupyter-widgets/base",
      "_model_module_version": "1.2.0",
      "_model_name": "LayoutModel",
      "_view_count": null,
      "_view_module": "@jupyter-widgets/base",
      "_view_module_version": "1.2.0",
      "_view_name": "LayoutView",
      "align_content": null,
      "align_items": null,
      "align_self": null,
      "border": null,
      "bottom": null,
      "display": null,
      "flex": null,
      "flex_flow": null,
      "grid_area": null,
      "grid_auto_columns": null,
      "grid_auto_flow": null,
      "grid_auto_rows": null,
      "grid_column": null,
      "grid_gap": null,
      "grid_row": null,
      "grid_template_areas": null,
      "grid_template_columns": null,
      "grid_template_rows": null,
      "height": null,
      "justify_content": null,
      "justify_items": null,
      "left": null,
      "margin": null,
      "max_height": null,
      "max_width": null,
      "min_height": null,
      "min_width": null,
      "object_fit": null,
      "object_position": null,
      "order": null,
      "overflow": null,
      "overflow_x": null,
      "overflow_y": null,
      "padding": null,
      "right": null,
      "top": null,
      "visibility": null,
      "width": null
     }
    },
    "d116f2dc3d1340e59d6236226ab648ea": {
     "model_module": "@jupyter-widgets/controls",
     "model_module_version": "1.5.0",
     "model_name": "HTMLModel",
     "state": {
      "_dom_classes": [],
      "_model_module": "@jupyter-widgets/controls",
      "_model_module_version": "1.5.0",
      "_model_name": "HTMLModel",
      "_view_count": null,
      "_view_module": "@jupyter-widgets/controls",
      "_view_module_version": "1.5.0",
      "_view_name": "HTMLView",
      "description": "",
      "description_tooltip": null,
      "layout": "IPY_MODEL_7dcf9e460b1148259aa5626a2df92964",
      "placeholder": "​",
      "style": "IPY_MODEL_2161b6cda8b943f29855d85b73a99de7",
      "value": " 26.0/26.0 [00:00&lt;00:00, 1.56kB/s]"
     }
    },
    "d1e6addc68944ed881b9658295fe5858": {
     "model_module": "@jupyter-widgets/controls",
     "model_module_version": "1.5.0",
     "model_name": "HTMLModel",
     "state": {
      "_dom_classes": [],
      "_model_module": "@jupyter-widgets/controls",
      "_model_module_version": "1.5.0",
      "_model_name": "HTMLModel",
      "_view_count": null,
      "_view_module": "@jupyter-widgets/controls",
      "_view_module_version": "1.5.0",
      "_view_name": "HTMLView",
      "description": "",
      "description_tooltip": null,
      "layout": "IPY_MODEL_4bce3b6aeece4da6871876b13639d949",
      "placeholder": "​",
      "style": "IPY_MODEL_88b9b3061463493484c2161c7e015a52",
      "value": "generation_config.json: 100%"
     }
    },
    "d8d0f674d98048f9a5dac3cdbd8b080e": {
     "model_module": "@jupyter-widgets/controls",
     "model_module_version": "1.5.0",
     "model_name": "HBoxModel",
     "state": {
      "_dom_classes": [],
      "_model_module": "@jupyter-widgets/controls",
      "_model_module_version": "1.5.0",
      "_model_name": "HBoxModel",
      "_view_count": null,
      "_view_module": "@jupyter-widgets/controls",
      "_view_module_version": "1.5.0",
      "_view_name": "HBoxView",
      "box_style": "",
      "children": [
       "IPY_MODEL_d1e6addc68944ed881b9658295fe5858",
       "IPY_MODEL_e608bd43e49e474d858a43d45febf182",
       "IPY_MODEL_f205269a38e34bb98070bfdfc0fae47a"
      ],
      "layout": "IPY_MODEL_e4772445b76148669fb2ede5473a762e"
     }
    },
    "db0cc190700544859b6e1028c48ba9c6": {
     "model_module": "@jupyter-widgets/controls",
     "model_module_version": "1.5.0",
     "model_name": "DescriptionStyleModel",
     "state": {
      "_model_module": "@jupyter-widgets/controls",
      "_model_module_version": "1.5.0",
      "_model_name": "DescriptionStyleModel",
      "_view_count": null,
      "_view_module": "@jupyter-widgets/base",
      "_view_module_version": "1.2.0",
      "_view_name": "StyleView",
      "description_width": ""
     }
    },
    "e4202455b99f4daf9502e016d59f8027": {
     "model_module": "@jupyter-widgets/controls",
     "model_module_version": "1.5.0",
     "model_name": "ProgressStyleModel",
     "state": {
      "_model_module": "@jupyter-widgets/controls",
      "_model_module_version": "1.5.0",
      "_model_name": "ProgressStyleModel",
      "_view_count": null,
      "_view_module": "@jupyter-widgets/base",
      "_view_module_version": "1.2.0",
      "_view_name": "StyleView",
      "bar_color": null,
      "description_width": ""
     }
    },
    "e436d07a270b449da6ea72d48bdce7a5": {
     "model_module": "@jupyter-widgets/base",
     "model_module_version": "1.2.0",
     "model_name": "LayoutModel",
     "state": {
      "_model_module": "@jupyter-widgets/base",
      "_model_module_version": "1.2.0",
      "_model_name": "LayoutModel",
      "_view_count": null,
      "_view_module": "@jupyter-widgets/base",
      "_view_module_version": "1.2.0",
      "_view_name": "LayoutView",
      "align_content": null,
      "align_items": null,
      "align_self": null,
      "border": null,
      "bottom": null,
      "display": null,
      "flex": null,
      "flex_flow": null,
      "grid_area": null,
      "grid_auto_columns": null,
      "grid_auto_flow": null,
      "grid_auto_rows": null,
      "grid_column": null,
      "grid_gap": null,
      "grid_row": null,
      "grid_template_areas": null,
      "grid_template_columns": null,
      "grid_template_rows": null,
      "height": null,
      "justify_content": null,
      "justify_items": null,
      "left": null,
      "margin": null,
      "max_height": null,
      "max_width": null,
      "min_height": null,
      "min_width": null,
      "object_fit": null,
      "object_position": null,
      "order": null,
      "overflow": null,
      "overflow_x": null,
      "overflow_y": null,
      "padding": null,
      "right": null,
      "top": null,
      "visibility": null,
      "width": null
     }
    },
    "e4772445b76148669fb2ede5473a762e": {
     "model_module": "@jupyter-widgets/base",
     "model_module_version": "1.2.0",
     "model_name": "LayoutModel",
     "state": {
      "_model_module": "@jupyter-widgets/base",
      "_model_module_version": "1.2.0",
      "_model_name": "LayoutModel",
      "_view_count": null,
      "_view_module": "@jupyter-widgets/base",
      "_view_module_version": "1.2.0",
      "_view_name": "LayoutView",
      "align_content": null,
      "align_items": null,
      "align_self": null,
      "border": null,
      "bottom": null,
      "display": null,
      "flex": null,
      "flex_flow": null,
      "grid_area": null,
      "grid_auto_columns": null,
      "grid_auto_flow": null,
      "grid_auto_rows": null,
      "grid_column": null,
      "grid_gap": null,
      "grid_row": null,
      "grid_template_areas": null,
      "grid_template_columns": null,
      "grid_template_rows": null,
      "height": null,
      "justify_content": null,
      "justify_items": null,
      "left": null,
      "margin": null,
      "max_height": null,
      "max_width": null,
      "min_height": null,
      "min_width": null,
      "object_fit": null,
      "object_position": null,
      "order": null,
      "overflow": null,
      "overflow_x": null,
      "overflow_y": null,
      "padding": null,
      "right": null,
      "top": null,
      "visibility": null,
      "width": null
     }
    },
    "e608bd43e49e474d858a43d45febf182": {
     "model_module": "@jupyter-widgets/controls",
     "model_module_version": "1.5.0",
     "model_name": "FloatProgressModel",
     "state": {
      "_dom_classes": [],
      "_model_module": "@jupyter-widgets/controls",
      "_model_module_version": "1.5.0",
      "_model_name": "FloatProgressModel",
      "_view_count": null,
      "_view_module": "@jupyter-widgets/controls",
      "_view_module_version": "1.5.0",
      "_view_name": "ProgressView",
      "bar_style": "success",
      "description": "",
      "description_tooltip": null,
      "layout": "IPY_MODEL_55f9e93ef47b462f9e37c5615a772d3c",
      "max": 124,
      "min": 0,
      "orientation": "horizontal",
      "style": "IPY_MODEL_5fc8f625070c4bcea3267cc2e51b88f0",
      "value": 124
     }
    },
    "e618864204e14212a39cede5916fcb5a": {
     "model_module": "@jupyter-widgets/base",
     "model_module_version": "1.2.0",
     "model_name": "LayoutModel",
     "state": {
      "_model_module": "@jupyter-widgets/base",
      "_model_module_version": "1.2.0",
      "_model_name": "LayoutModel",
      "_view_count": null,
      "_view_module": "@jupyter-widgets/base",
      "_view_module_version": "1.2.0",
      "_view_name": "LayoutView",
      "align_content": null,
      "align_items": null,
      "align_self": null,
      "border": null,
      "bottom": null,
      "display": null,
      "flex": null,
      "flex_flow": null,
      "grid_area": null,
      "grid_auto_columns": null,
      "grid_auto_flow": null,
      "grid_auto_rows": null,
      "grid_column": null,
      "grid_gap": null,
      "grid_row": null,
      "grid_template_areas": null,
      "grid_template_columns": null,
      "grid_template_rows": null,
      "height": null,
      "justify_content": null,
      "justify_items": null,
      "left": null,
      "margin": null,
      "max_height": null,
      "max_width": null,
      "min_height": null,
      "min_width": null,
      "object_fit": null,
      "object_position": null,
      "order": null,
      "overflow": null,
      "overflow_x": null,
      "overflow_y": null,
      "padding": null,
      "right": null,
      "top": null,
      "visibility": null,
      "width": null
     }
    },
    "e8387661aa6d46218134d28e0d7dbae9": {
     "model_module": "@jupyter-widgets/base",
     "model_module_version": "1.2.0",
     "model_name": "LayoutModel",
     "state": {
      "_model_module": "@jupyter-widgets/base",
      "_model_module_version": "1.2.0",
      "_model_name": "LayoutModel",
      "_view_count": null,
      "_view_module": "@jupyter-widgets/base",
      "_view_module_version": "1.2.0",
      "_view_name": "LayoutView",
      "align_content": null,
      "align_items": null,
      "align_self": null,
      "border": null,
      "bottom": null,
      "display": null,
      "flex": null,
      "flex_flow": null,
      "grid_area": null,
      "grid_auto_columns": null,
      "grid_auto_flow": null,
      "grid_auto_rows": null,
      "grid_column": null,
      "grid_gap": null,
      "grid_row": null,
      "grid_template_areas": null,
      "grid_template_columns": null,
      "grid_template_rows": null,
      "height": null,
      "justify_content": null,
      "justify_items": null,
      "left": null,
      "margin": null,
      "max_height": null,
      "max_width": null,
      "min_height": null,
      "min_width": null,
      "object_fit": null,
      "object_position": null,
      "order": null,
      "overflow": null,
      "overflow_x": null,
      "overflow_y": null,
      "padding": null,
      "right": null,
      "top": null,
      "visibility": null,
      "width": null
     }
    },
    "eeb41940dc884643bfd736cd0db3531e": {
     "model_module": "@jupyter-widgets/controls",
     "model_module_version": "1.5.0",
     "model_name": "DescriptionStyleModel",
     "state": {
      "_model_module": "@jupyter-widgets/controls",
      "_model_module_version": "1.5.0",
      "_model_name": "DescriptionStyleModel",
      "_view_count": null,
      "_view_module": "@jupyter-widgets/base",
      "_view_module_version": "1.2.0",
      "_view_name": "StyleView",
      "description_width": ""
     }
    },
    "f205269a38e34bb98070bfdfc0fae47a": {
     "model_module": "@jupyter-widgets/controls",
     "model_module_version": "1.5.0",
     "model_name": "HTMLModel",
     "state": {
      "_dom_classes": [],
      "_model_module": "@jupyter-widgets/controls",
      "_model_module_version": "1.5.0",
      "_model_name": "HTMLModel",
      "_view_count": null,
      "_view_module": "@jupyter-widgets/controls",
      "_view_module_version": "1.5.0",
      "_view_name": "HTMLView",
      "description": "",
      "description_tooltip": null,
      "layout": "IPY_MODEL_e436d07a270b449da6ea72d48bdce7a5",
      "placeholder": "​",
      "style": "IPY_MODEL_9a292a3a1feb4deaa4bfb5507218904a",
      "value": " 124/124 [00:00&lt;00:00, 8.98kB/s]"
     }
    },
    "f56608ab83fe4c4ea8ee1aefd345f016": {
     "model_module": "@jupyter-widgets/base",
     "model_module_version": "1.2.0",
     "model_name": "LayoutModel",
     "state": {
      "_model_module": "@jupyter-widgets/base",
      "_model_module_version": "1.2.0",
      "_model_name": "LayoutModel",
      "_view_count": null,
      "_view_module": "@jupyter-widgets/base",
      "_view_module_version": "1.2.0",
      "_view_name": "LayoutView",
      "align_content": null,
      "align_items": null,
      "align_self": null,
      "border": null,
      "bottom": null,
      "display": null,
      "flex": null,
      "flex_flow": null,
      "grid_area": null,
      "grid_auto_columns": null,
      "grid_auto_flow": null,
      "grid_auto_rows": null,
      "grid_column": null,
      "grid_gap": null,
      "grid_row": null,
      "grid_template_areas": null,
      "grid_template_columns": null,
      "grid_template_rows": null,
      "height": null,
      "justify_content": null,
      "justify_items": null,
      "left": null,
      "margin": null,
      "max_height": null,
      "max_width": null,
      "min_height": null,
      "min_width": null,
      "object_fit": null,
      "object_position": null,
      "order": null,
      "overflow": null,
      "overflow_x": null,
      "overflow_y": null,
      "padding": null,
      "right": null,
      "top": null,
      "visibility": null,
      "width": null
     }
    },
    "f59d26e5844c4bd2a27502e3d039e032": {
     "model_module": "@jupyter-widgets/base",
     "model_module_version": "1.2.0",
     "model_name": "LayoutModel",
     "state": {
      "_model_module": "@jupyter-widgets/base",
      "_model_module_version": "1.2.0",
      "_model_name": "LayoutModel",
      "_view_count": null,
      "_view_module": "@jupyter-widgets/base",
      "_view_module_version": "1.2.0",
      "_view_name": "LayoutView",
      "align_content": null,
      "align_items": null,
      "align_self": null,
      "border": null,
      "bottom": null,
      "display": null,
      "flex": null,
      "flex_flow": null,
      "grid_area": null,
      "grid_auto_columns": null,
      "grid_auto_flow": null,
      "grid_auto_rows": null,
      "grid_column": null,
      "grid_gap": null,
      "grid_row": null,
      "grid_template_areas": null,
      "grid_template_columns": null,
      "grid_template_rows": null,
      "height": null,
      "justify_content": null,
      "justify_items": null,
      "left": null,
      "margin": null,
      "max_height": null,
      "max_width": null,
      "min_height": null,
      "min_width": null,
      "object_fit": null,
      "object_position": null,
      "order": null,
      "overflow": null,
      "overflow_x": null,
      "overflow_y": null,
      "padding": null,
      "right": null,
      "top": null,
      "visibility": null,
      "width": null
     }
    },
    "f84f38493992486a9417a64f53eabfb5": {
     "model_module": "@jupyter-widgets/controls",
     "model_module_version": "1.5.0",
     "model_name": "DescriptionStyleModel",
     "state": {
      "_model_module": "@jupyter-widgets/controls",
      "_model_module_version": "1.5.0",
      "_model_name": "DescriptionStyleModel",
      "_view_count": null,
      "_view_module": "@jupyter-widgets/base",
      "_view_module_version": "1.2.0",
      "_view_name": "StyleView",
      "description_width": ""
     }
    },
    "fa0eeef5bd6a43cca4be92a760ccab99": {
     "model_module": "@jupyter-widgets/controls",
     "model_module_version": "1.5.0",
     "model_name": "ProgressStyleModel",
     "state": {
      "_model_module": "@jupyter-widgets/controls",
      "_model_module_version": "1.5.0",
      "_model_name": "ProgressStyleModel",
      "_view_count": null,
      "_view_module": "@jupyter-widgets/base",
      "_view_module_version": "1.2.0",
      "_view_name": "StyleView",
      "bar_color": null,
      "description_width": ""
     }
    }
   }
  }
 },
 "nbformat": 4,
 "nbformat_minor": 4
}
