{
 "cells": [
  {
   "cell_type": "markdown",
   "metadata": {},
   "source": [
    "# Creating a Customer Service Agent with Client-Side Tools\n",
    "\n",
    "In this notebook, we'll demonstrate how to create a household assistant chatbot using gpt-3.5 (via the Azure platoform) plus client-side tools. The chatbot will be able to look up information stored locally (i.e., an inventory of the fridge) as well as to use information from a search query to inform the answer."
   ]
  },
  {
   "cell_type": "markdown",
   "metadata": {},
   "source": [
    "## Step 1: Set up the environment\n",
    "First, let's install the required libraries and set up the openai API client.\n",
    "\n",
    "### Set up LLM via API call\n",
    "We will call the LLM (gpt-3.5 turbo, in our case) via an API, i.e. an Application programming interface, i.e. a defined interface for two programs (here: the code in the notebook, and the LLM) can interact."
   ]
  },
  {
   "cell_type": "code",
   "execution_count": 1,
   "metadata": {
    "scrolled": true
   },
   "outputs": [
    {
     "name": "stdout",
     "output_type": "stream",
     "text": [
      "Requirement already satisfied: openai in /opt/conda/lib/python3.10/site-packages (1.65.4)\n",
      "Requirement already satisfied: anyio<5,>=3.5.0 in /opt/conda/lib/python3.10/site-packages (from openai) (3.6.2)\n",
      "Requirement already satisfied: distro<2,>=1.7.0 in /opt/conda/lib/python3.10/site-packages (from openai) (1.9.0)\n",
      "Requirement already satisfied: httpx<1,>=0.23.0 in /opt/conda/lib/python3.10/site-packages (from openai) (0.28.0)\n",
      "Requirement already satisfied: jiter<1,>=0.4.0 in /opt/conda/lib/python3.10/site-packages (from openai) (0.8.2)\n",
      "Requirement already satisfied: pydantic<3,>=1.9.0 in /opt/conda/lib/python3.10/site-packages (from openai) (2.10.6)\n",
      "Requirement already satisfied: sniffio in /opt/conda/lib/python3.10/site-packages (from openai) (1.3.0)\n",
      "Requirement already satisfied: tqdm>4 in /opt/conda/lib/python3.10/site-packages (from openai) (4.67.1)\n",
      "Requirement already satisfied: typing-extensions<5,>=4.11 in /opt/conda/lib/python3.10/site-packages (from openai) (4.12.2)\n",
      "Requirement already satisfied: idna>=2.8 in /opt/conda/lib/python3.10/site-packages (from anyio<5,>=3.5.0->openai) (3.4)\n",
      "Requirement already satisfied: certifi in /opt/conda/lib/python3.10/site-packages (from httpx<1,>=0.23.0->openai) (2024.8.30)\n",
      "Requirement already satisfied: httpcore==1.* in /opt/conda/lib/python3.10/site-packages (from httpx<1,>=0.23.0->openai) (1.0.7)\n",
      "Requirement already satisfied: h11<0.15,>=0.13 in /opt/conda/lib/python3.10/site-packages (from httpcore==1.*->httpx<1,>=0.23.0->openai) (0.14.0)\n",
      "Requirement already satisfied: annotated-types>=0.6.0 in /opt/conda/lib/python3.10/site-packages (from pydantic<3,>=1.9.0->openai) (0.7.0)\n",
      "Requirement already satisfied: pydantic-core==2.27.2 in /opt/conda/lib/python3.10/site-packages (from pydantic<3,>=1.9.0->openai) (2.27.2)\n",
      "Note: you may need to restart the kernel to use updated packages.\n"
     ]
    }
   ],
   "source": [
    "%pip install openai"
   ]
  },
  {
   "cell_type": "code",
   "execution_count": 2,
   "metadata": {},
   "outputs": [],
   "source": [
    "import os  \n",
    "from openai import AzureOpenAI  \n",
    "\n",
    "# technical set-up - don't change anything here!\n",
    "endpoint = os.getenv(\"ENDPOINT_URL\", \"https://cas-dml-llm.openai.azure.com/\")  \n",
    "deployment = os.getenv(\"DEPLOYMENT_NAME\", \"gpt-35-turbo\")  \n",
    "subscription_key = os.getenv(\"AZURE_OPENAI_API_KEY\", \"986IfxLKwN3Paiq4yx1Kn2iTG7FyG2GxFg17qQSyr1KZqGLaizAGJQQJ99BCACI8hq2XJ3w3AAABACOGQfvw\")  \n",
    "\n",
    "# Initialize Azure OpenAI Service client with key-based authentication    \n",
    "client = AzureOpenAI(  \n",
    "    azure_endpoint=endpoint,  \n",
    "    api_key=subscription_key,  \n",
    "    api_version=\"2024-05-01-preview\",\n",
    ")"
   ]
  },
  {
   "cell_type": "code",
   "execution_count": 3,
   "metadata": {},
   "outputs": [],
   "source": [
    "# core funtion to interact with the llm over the API:\n",
    "def get_ai_response(user_query):\n",
    "    messages = [\n",
    "        {\"role\": \"system\", \"content\": \"You are an AI assistant that helps people find information.\"},\n",
    "        {\"role\": \"user\", \"content\": user_query}\n",
    "    ]\n",
    "\n",
    "    response = client.chat.completions.create(\n",
    "        model=deployment,\n",
    "        messages=messages,\n",
    "        max_tokens=800,\n",
    "        temperature=0, #0.7,\n",
    "        top_p=0.95\n",
    "    )\n",
    "\n",
    "    return response.choices[0].message.content  # Extract AI's reply"
   ]
  },
  {
   "cell_type": "code",
   "execution_count": 4,
   "metadata": {},
   "outputs": [
    {
     "name": "stdout",
     "output_type": "stream",
     "text": [
      "42\n"
     ]
    }
   ],
   "source": [
    "# Example query:\n",
    "user_input = \"What is the meaning of life according to Douglas Adams, give me only the number?\"\n",
    "answer = get_ai_response(user_input)\n",
    "print(answer)"
   ]
  },
  {
   "cell_type": "markdown",
   "metadata": {},
   "source": [
    "### Web search\n",
    "The following allows for web searches - note that most API calls usually don't allow the LLM to search the web."
   ]
  },
  {
   "cell_type": "code",
   "execution_count": 5,
   "metadata": {
    "scrolled": true
   },
   "outputs": [
    {
     "name": "stdout",
     "output_type": "stream",
     "text": [
      "Requirement already satisfied: serpapi in /opt/conda/lib/python3.10/site-packages (0.1.5)\n",
      "Requirement already satisfied: requests in /opt/conda/lib/python3.10/site-packages (from serpapi) (2.32.3)\n",
      "Requirement already satisfied: charset-normalizer<4,>=2 in /opt/conda/lib/python3.10/site-packages (from requests->serpapi) (3.1.0)\n",
      "Requirement already satisfied: idna<4,>=2.5 in /opt/conda/lib/python3.10/site-packages (from requests->serpapi) (3.4)\n",
      "Requirement already satisfied: urllib3<3,>=1.21.1 in /opt/conda/lib/python3.10/site-packages (from requests->serpapi) (2.0.2)\n",
      "Requirement already satisfied: certifi>=2017.4.17 in /opt/conda/lib/python3.10/site-packages (from requests->serpapi) (2024.8.30)\n",
      "Note: you may need to restart the kernel to use updated packages.\n"
     ]
    }
   ],
   "source": [
    "SERPAPI_API_KEY = \"e5ae293efd4fa604f2e5ec848310ff76c41078366082c175fe7e86d7a2aa6d24\"\n",
    "%pip install serpapi\n",
    "#%pip install pandas"
   ]
  },
  {
   "cell_type": "markdown",
   "metadata": {},
   "source": [
    "Here we define the function to do the web search."
   ]
  },
  {
   "cell_type": "code",
   "execution_count": 6,
   "metadata": {},
   "outputs": [],
   "source": [
    "import os\n",
    "import serpapi\n",
    "\n",
    "def get_search_result(query, answer_field='answer_box'):\n",
    "    client = serpapi.Client(api_key=SERPAPI_API_KEY)\n",
    "    results = client.search({\n",
    "        'q':query,\n",
    "        'engine':\"google\",\n",
    "    })\n",
    "\n",
    "    if answer_field not in results:\n",
    "        return \"No answer found\"\n",
    "    \n",
    "    return results[answer_field]"
   ]
  },
  {
   "cell_type": "markdown",
   "metadata": {},
   "source": [
    "### Initialize Local Applications\n",
    "We will use a fridge inventory as a simple case of local data that should be kept up to date and be a data source for some functionality. For the sake of simplicity, we use a simple data frame and a `csv` file; for a proper application, this should probably be handled as a data base."
   ]
  },
  {
   "cell_type": "code",
   "execution_count": 7,
   "metadata": {},
   "outputs": [],
   "source": [
    "import pandas as pd\n",
    "\n",
    "sample_data = [\n",
    "    {\"Item\": \"Milk\", \"Quantity\": 2, \"Expiry Date\": \"2025-03-10\"},\n",
    "    {\"Item\": \"Eggs\", \"Quantity\": 12, \"Expiry Date\": \"2025-03-15\"},\n",
    "    {\"Item\": \"Cheese\", \"Quantity\": 1, \"Expiry Date\": \"2025-03-20\"},\n",
    "    {\"Item\": \"Apples\", \"Quantity\": 6, \"Expiry Date\": \"2025-03-25\"},\n",
    "    {\"Item\": \"Carrots\", \"Quantity\": 5, \"Expiry Date\": \"2025-04-01\"}\n",
    "]\n",
    "# Create an empty fridge inventory DataFrame with the required columns\n",
    "fridge_df = pd.DataFrame(sample_data)\n",
    "\n",
    "# Define the file path\n",
    "fridge_file_path = \"fridge_inventory.csv\"\n",
    "\n",
    "# Save the fridge DataFrame as a CSV file\n",
    "fridge_df.to_csv(fridge_file_path, index=False)"
   ]
  },
  {
   "cell_type": "code",
   "execution_count": 8,
   "metadata": {},
   "outputs": [],
   "source": [
    "try:\n",
    "    fridge_df = pd.read_csv(\"fridge_inventory.csv\")\n",
    "except FileNotFoundError:\n",
    "    fridge_df = pd.DataFrame(columns=[\"Item\", \"Quantity\", \"Expiry Date\"])"
   ]
  },
  {
   "cell_type": "markdown",
   "metadata": {},
   "source": [
    "## Step 2: Simulate tools\n",
    "\n",
    "Here we implement the functions for some of the actual tool responses. In a real-world scenario, these functions would interact with your some systems in our household (or company), typically working with a database."
   ]
  },
  {
   "cell_type": "code",
   "execution_count": 9,
   "metadata": {},
   "outputs": [],
   "source": [
    "def list_fridge_contents():\n",
    "    \"\"\"Return the current contents of the fridge.\"\"\"\n",
    "    fridge_df = pd.read_csv(\"fridge_inventory.csv\")\n",
    "    return fridge_df.to_dict(orient=\"records\")    \n",
    "\n",
    "def get_fridge_contents_as_str_list():\n",
    "    \"\"\"Return the current contents of the fridge.\"\"\"\n",
    "    fridge_df = pd.read_csv(\"fridge_inventory.csv\")\n",
    "    return(\", \".join(fridge_df[\"Item\"].tolist()))\n",
    "    \n",
    "def add_to_fridge(item, quantity=1, expiry_date=\"\"):\n",
    "    \"\"\"Add an item to the fridge.\"\"\"\n",
    "    fridge_df = pd.read_csv(\"fridge_inventory.csv\")\n",
    "    new_entry = pd.DataFrame([[item, quantity, expiry_date]], columns=[\"Item\", \"Quantity\", \"Expiry Date\"])\n",
    "    fridge_df = pd.concat([fridge_df, new_entry], ignore_index=True)\n",
    "    fridge_df.to_csv(\"fridge_inventory.csv\", index=False)\n",
    "    return f\"{item} added to fridge.\"\n",
    "\n",
    "def calculate_total_fridge_cost():\n",
    "    \"\"\"\n",
    "    Calculate the total cost of all items in the fridge.\n",
    "    Assumes the fridge inventory CSV has a 'Price' column.\n",
    "    If the 'Price' is not given (i.e., it's NA or 0), the \n",
    "    typical price is obtained from the internet.\n",
    "    \"\"\"\n",
    "    if \"Price\" not in fridge_df.columns:\n",
    "        fridge_df[\"Price\"] = None\n",
    "        \n",
    "    for index, row in fridge_df.iterrows():\n",
    "        if pd.isna(row[\"Price\"]) or row[\"Price\"] == 0:\n",
    "            price = get_ai_response(f\"What is usually the price of a single: {row['Item']}, reply only with a singular numeric value, no currency symbols.\")\n",
    "            fridge_df.at[index, \"Price\"] = price if price else \"Unknown\"\n",
    "\n",
    "        if pd.isna(row[\"Quantity\"]) or row[\"Quantity\"] == 0:\n",
    "            fridge_df.at[index, \"Quantity\"] = 1  # Default to 1 if missing\n",
    "\n",
    "    # Convert price and quantity to numeric values (handle errors)\n",
    "    fridge_df[\"Price\"] = pd.to_numeric(fridge_df[\"Price\"], errors=\"coerce\")\n",
    "    fridge_df[\"Quantity\"] = pd.to_numeric(fridge_df[\"Quantity\"], errors=\"coerce\")\n",
    "\n",
    "    # Calculate total cost\n",
    "    total_cost = (fridge_df[\"Price\"] * fridge_df[\"Quantity\"]).sum()\n",
    "\n",
    "    return {\"total_cost\": total_cost}"
   ]
  },
  {
   "cell_type": "markdown",
   "metadata": {},
   "source": [
    "## Step 3: Process tool calls and return results\n",
    "\n",
    "We'll create a function to process the various actions as identified by the household assistant LLM.\n",
    "\n",
    "We are defining (simulating) several types of tools:\n",
    "* Tools handling local data, such as `list_fridge_contents()` or `add_to_fridge`.\n",
    "* Tools requiring information from a web search, such as `find_transport` from a given location to a given other location. Note that the LLM will also extract the locations based on the input query."
   ]
  },
  {
   "cell_type": "code",
   "execution_count": 10,
   "metadata": {},
   "outputs": [],
   "source": [
    "def assistant_call(assistant_action):\n",
    "    print(assistant_action)\n",
    "    if assistant_action['name'] == \"get_weather\":\n",
    "        query = f\"current weather in {assistant_action['params']['location']}\"\n",
    "        result = get_search_result(query)\n",
    "\n",
    "        # Needed, as otherwise the token size for queries is too large\n",
    "        fields_to_keep = [\"temperature\", 'unit', 'precipitation', 'humidity', 'wind', 'location', 'date', 'weather']\n",
    "        result = {key: result[key] for key in fields_to_keep if key in result}\n",
    "\n",
    "        ai_answer = get_ai_response(f\"Based on this weather report give me a summary: {result}\")\n",
    "        return ai_answer\n",
    "    \n",
    "    elif assistant_action['name'] == \"find_transport\":\n",
    "        query = f\"public transport from {assistant_action['params']['from_location']} to {assistant_action['params']['to_location']}\"\n",
    "        result = get_search_result(query)\n",
    "        ai_answer = get_ai_response(f'Summarize me these possible iteneraries {result}')\n",
    "        return ai_answer\n",
    "    \n",
    "    elif assistant_action['name'] == \"list_fridge_contents\":\n",
    "        contents = list_fridge_contents()\n",
    "        ai_answer = get_ai_response(f\"Based on this dictionary, what do I have in my fridge? {contents}, don't mention the dictionary in the reply\")\n",
    "        return ai_answer\n",
    "    \n",
    "    elif assistant_action['name'] == \"add_to_fridge\":\n",
    "        return add_to_fridge(assistant_action['params'][\"item\"], assistant_action['params']['quantity'], \n",
    "                             assistant_action['params']['expiry_date']) \n",
    "    \n",
    "    elif assistant_action['name'] == \"calculate_total_fridge_cost\":\n",
    "        return calculate_total_fridge_cost()\n",
    "    \n",
    "    else:\n",
    "        return f\"Error: Tool '{assistant_action['name']}' not recognized.\""
   ]
  },
  {
   "cell_type": "markdown",
   "metadata": {},
   "source": [
    "## Step 4: Describe the client-side tools\n",
    "\n",
    "Next, we'll describe the tools (functions) that our household assistant will use to fulfil the tasks we tell it. The assistant will use this information to decide which tool to use for a given query.\n",
    "\n",
    "For every one of these tools, we give the name of the function and the parameter(s) that the function takes (name and type of the value). Note the format (actually, the information is given in the JSON data interchange format). We choose file names that already contain a key description of the functionality."
   ]
  },
  {
   "cell_type": "code",
   "execution_count": 11,
   "metadata": {},
   "outputs": [],
   "source": [
    "actions = [\n",
    "    {\n",
    "        \"name\": \"get_weather\",\n",
    "        \"params\": {\n",
    "            \"location\": \"string\" # The queried location\n",
    "        }\n",
    "    },\n",
    "    {\n",
    "        \"name\": \"find_transport\",\n",
    "        \"params\": {\n",
    "            \"from_location\": \"string\", # From this location\n",
    "            \"to_location\": \"string\", # To this location\n",
    "        }\n",
    "    },\n",
    "    {\n",
    "        \"name\": \"get_search_result\",\n",
    "        \"params\" : {\n",
    "            \"query\" : \"string\" # Query to be searched\n",
    "        }\n",
    "    },\n",
    "    {\n",
    "        \"name\": \"list_fridge_contents\",\n",
    "        \"params\" : {}\n",
    "    },\n",
    "    {\n",
    "        \"name\": \"add_to_fridge\",\n",
    "        \"params\": {\n",
    "            \"item\": \"string\",\n",
    "            \"quantity\" : \"integer\",\n",
    "            \"expiry_date\": \"string\",\n",
    "         },\n",
    "    },\n",
    "    {\n",
    "        \"name\": \"calculate_total_fridge_cost\",\n",
    "        \"params\": {}\n",
    "    }\n",
    "]"
   ]
  },
  {
   "cell_type": "markdown",
   "metadata": {},
   "source": [
    "## Step 5: Interact with the chatbot\n",
    "\n",
    "Now, let's create a function to interact with the chatbot. We'll send a user message, use the LLM to find the right tool and extract the required parameters, and return the final response to the user."
   ]
  },
  {
   "cell_type": "code",
   "execution_count": 12,
   "metadata": {},
   "outputs": [],
   "source": [
    "import json\n",
    "def household_assistant(user_message):\n",
    "    prompt = f\"Based on this user message: {user_message}, give me a matching action based on this action mapping:{actions}. Give me only the json as a string, no wrapping symbols.\"\n",
    "    response = get_ai_response(prompt)\n",
    "    response = json.loads(response)\n",
    "    response = assistant_call(response)\n",
    "    return response"
   ]
  },
  {
   "cell_type": "markdown",
   "metadata": {},
   "source": [
    "## Step 6: Test the chatbot\n",
    "Let's test our customer service chatbot with a few sample queries."
   ]
  },
  {
   "cell_type": "code",
   "execution_count": 13,
   "metadata": {
    "scrolled": true
   },
   "outputs": [
    {
     "name": "stdout",
     "output_type": "stream",
     "text": [
      "{'name': 'get_weather', 'params': {'location': 'San Francisco, CA'}}\n",
      "The weather in San Francisco, CA on Friday at 12:00 PM is sunny with a temperature of 59°F, 0% chance of precipitation, 50% humidity, and a 5 mph wind.\n"
     ]
    }
   ],
   "source": [
    "print(household_assistant(\"What's the weather right now in San Francisco, CA?\"))"
   ]
  },
  {
   "cell_type": "code",
   "execution_count": 14,
   "metadata": {},
   "outputs": [
    {
     "name": "stdout",
     "output_type": "stream",
     "text": [
      "{'name': 'list_fridge_contents', 'params': {}}\n",
      "In your fridge, you have milk, eggs, cheese, apples, and carrots.\n"
     ]
    }
   ],
   "source": [
    "print(household_assistant(\"Find a recipe from the items in my fridge\"))"
   ]
  },
  {
   "cell_type": "code",
   "execution_count": 15,
   "metadata": {},
   "outputs": [
    {
     "name": "stdout",
     "output_type": "stream",
     "text": [
      "{'name': 'find_transport', 'params': {'from_location': 'Hohlstrasse', 'to_location': 'Seebacherplatz'}}\n",
      "Here are some possible itineraries for your journey from Hohlstrasse, Zürich, Switzerland to Seebacherplatz, 8052 Zürich, Switzerland:\n",
      "\n",
      "1. Route 1: Departure at 10:26 PM, arrival at 11:01 PM, duration 36 min. Departure from SBB Werkstätte at 10:28 PM.\n",
      "2. Route 2: Departure at 10:20 PM, arrival at 10:53 PM, duration 33 min. Departure from Hardbrücke at 10:39 PM.\n",
      "3. Route 3: Departure at 10:36 PM, arrival at 11:11 PM, duration 36 min. Departure from SBB Werkstätte at 10:38 PM.\n",
      "4. Route 4: Departure at 10:26 PM, arrival at 11:01 PM, duration 36 min. Departure from Hardplatz at 10:38 PM.\n",
      "5. Route 5: Departure at 10:20 PM, arrival at 10:58 PM, duration 38 min. Departure from Hardbrücke at 10:39 PM.\n",
      "6. Route 6: Departure at 10:46 PM, arrival at 11:21 PM, duration 36 min. Departure from SBB Werkstätte at 10:48 PM.\n"
     ]
    }
   ],
   "source": [
    "print(household_assistant(\"How can I reach Seebacherplatz from Hohlstrasse?\"))\n"
   ]
  },
  {
   "cell_type": "code",
   "execution_count": 16,
   "metadata": {},
   "outputs": [
    {
     "name": "stdout",
     "output_type": "stream",
     "text": [
      "{'name': 'list_fridge_contents', 'params': {}}\n",
      "In your fridge, you have milk, eggs, cheese, apples, and carrots.\n"
     ]
    }
   ],
   "source": [
    "print(household_assistant(\"What is in my fridge?\"))"
   ]
  },
  {
   "cell_type": "code",
   "execution_count": 17,
   "metadata": {},
   "outputs": [
    {
     "name": "stdout",
     "output_type": "stream",
     "text": [
      "{'name': 'add_to_fridge', 'params': {'item': 'twinkies', 'quantity': 2, 'expiry_date': '2025-05-01'}}\n",
      "twinkies added to fridge.\n"
     ]
    }
   ],
   "source": [
    "print(household_assistant(\"I bought two twinkies that expire on the 2025-05-01, I've added them to my fridge.\"))"
   ]
  },
  {
   "cell_type": "code",
   "execution_count": 18,
   "metadata": {},
   "outputs": [
    {
     "name": "stdout",
     "output_type": "stream",
     "text": [
      "{'name': 'list_fridge_contents', 'params': {}}\n",
      "In your fridge, you have milk, eggs, cheese, apples, carrots, and twinkies.\n"
     ]
    }
   ],
   "source": [
    "print(household_assistant(\"What's in my fridge?\"))"
   ]
  },
  {
   "cell_type": "code",
   "execution_count": 19,
   "metadata": {},
   "outputs": [
    {
     "name": "stdout",
     "output_type": "stream",
     "text": [
      "{'name': 'calculate_total_fridge_cost', 'params': {}}\n",
      "{'total_cost': 51}\n"
     ]
    }
   ],
   "source": [
    "print(household_assistant(\"What is the total value of the items in my fridge?\"))"
   ]
  },
  {
   "cell_type": "markdown",
   "metadata": {},
   "source": [
    "Note that the LLM will have to choose one of the tools you made available. For example, there no tool (yet) to remove something from the fridge. Instead, the LLM will provide a list of the current fridge items:"
   ]
  },
  {
   "cell_type": "code",
   "execution_count": 20,
   "metadata": {},
   "outputs": [
    {
     "name": "stdout",
     "output_type": "stream",
     "text": [
      "{'name': 'list_fridge_contents', 'params': {}}\n",
      "In your fridge, you have milk, eggs, cheese, apples, carrots, and twinkies.\n"
     ]
    }
   ],
   "source": [
    "print(household_assistant(\"Please remove the carrots from my fridge, those are way too unhealthy\"))"
   ]
  },
  {
   "cell_type": "markdown",
   "metadata": {},
   "source": [
    "## Extend the chatbot\n",
    "**Exercise:** Add some more tools to the chatbot. If you need inspiration, what about:\n",
    "- remove items from the fridge inventory list\n",
    "- adding / removing items to a shopping list\n",
    "- find concerts that will take place in your city in the next two weeks\n",
    "- find a few recipes for the items currently in the fridge\n",
    "    - remember that there's already a function that returns the items currently in your fridge. Use it to create a search query.\n",
    "\n",
    "Remeber to add your new tool \n",
    "* in the `actions` map, so that the assistant is aware of the action and can identify if it's the correct tool for a given request.\n",
    "* in the `assistant_call` function, so that the assistant can actually call that tool (function) when it thinks it's the right tool for the request.\n",
    "* possibly some other function (such as `list_fridge_contents` or `get_fridge_contents_as_str_list`) to describe the functionality that is needed."
   ]
  },
  {
   "cell_type": "code",
   "execution_count": null,
   "metadata": {},
   "outputs": [],
   "source": []
  }
 ],
 "metadata": {
  "kernelspec": {
   "display_name": "Python 3 (ipykernel)",
   "language": "python",
   "name": "python3"
  },
  "language_info": {
   "codemirror_mode": {
    "name": "ipython",
    "version": 3
   },
   "file_extension": ".py",
   "mimetype": "text/x-python",
   "name": "python",
   "nbconvert_exporter": "python",
   "pygments_lexer": "ipython3",
   "version": "3.13.7"
  }
 },
 "nbformat": 4,
 "nbformat_minor": 4
}
