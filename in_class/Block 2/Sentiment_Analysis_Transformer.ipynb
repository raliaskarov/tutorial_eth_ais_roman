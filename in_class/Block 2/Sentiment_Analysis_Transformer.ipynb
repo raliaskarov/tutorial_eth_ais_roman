{
 "cells": [
  {
   "cell_type": "markdown",
   "metadata": {
    "id": "3qLvl1v98A4_"
   },
   "source": [
    "# Sentiment Classification With a Transformer\n",
    "\n",
    "In this notebook, we revert to the classification task of the International Movie Database website www.imdb.com with reviews labeled with a binary rating whether they are positive (label 1) or negative (label 0)."
   ]
  },
  {
   "cell_type": "markdown",
   "metadata": {
    "id": "X8DKB6tD88y-"
   },
   "source": [
    "## Set-up\n",
    "First of all, we need to load the libraries that we will need for this task. We will use keras and tensorflow for this code example, so we load the relevant parts of this framework:"
   ]
  },
  {
   "cell_type": "code",
   "execution_count": 1,
   "metadata": {},
   "outputs": [
    {
     "name": "stdout",
     "output_type": "stream",
     "text": [
      "Collecting tensorflow_datasets\n",
      "  Downloading tensorflow_datasets-4.9.9-py3-none-any.whl.metadata (11 kB)\n",
      "Collecting absl-py (from tensorflow_datasets)\n",
      "  Downloading absl_py-2.3.1-py3-none-any.whl.metadata (3.3 kB)\n",
      "Collecting array_record>=0.5.0 (from tensorflow_datasets)\n",
      "  Downloading array_record-0.8.1-cp310-cp310-manylinux2014_x86_64.manylinux_2_17_x86_64.whl.metadata (1.1 kB)\n",
      "Collecting dm-tree (from tensorflow_datasets)\n",
      "  Downloading dm_tree-0.1.9-cp310-cp310-manylinux_2_17_x86_64.manylinux2014_x86_64.whl.metadata (2.2 kB)\n",
      "Collecting etils>=1.6.0 (from etils[edc,enp,epath,epy,etree]>=1.6.0; python_version < \"3.11\"->tensorflow_datasets)\n",
      "  Downloading etils-1.13.0-py3-none-any.whl.metadata (6.5 kB)\n",
      "Collecting immutabledict (from tensorflow_datasets)\n",
      "  Downloading immutabledict-4.2.1-py3-none-any.whl.metadata (3.5 kB)\n",
      "Requirement already satisfied: numpy in /opt/conda/lib/python3.10/site-packages (from tensorflow_datasets) (1.26.4)\n",
      "Collecting promise (from tensorflow_datasets)\n",
      "  Downloading promise-2.3.tar.gz (19 kB)\n",
      "  Preparing metadata (setup.py) ... \u001b[?25ldone\n",
      "\u001b[?25hCollecting protobuf>=3.20 (from tensorflow_datasets)\n",
      "  Downloading protobuf-6.32.1-cp39-abi3-manylinux2014_x86_64.whl.metadata (593 bytes)\n",
      "Requirement already satisfied: psutil in /opt/conda/lib/python3.10/site-packages (from tensorflow_datasets) (5.9.5)\n",
      "Requirement already satisfied: pyarrow in /opt/conda/lib/python3.10/site-packages (from tensorflow_datasets) (19.0.1)\n",
      "Requirement already satisfied: requests>=2.19.0 in /opt/conda/lib/python3.10/site-packages (from tensorflow_datasets) (2.32.3)\n",
      "Collecting simple_parsing (from tensorflow_datasets)\n",
      "  Downloading simple_parsing-0.1.7-py3-none-any.whl.metadata (7.3 kB)\n",
      "Collecting tensorflow-metadata (from tensorflow_datasets)\n",
      "  Downloading tensorflow_metadata-1.17.2-py3-none-any.whl.metadata (2.5 kB)\n",
      "Collecting termcolor (from tensorflow_datasets)\n",
      "  Downloading termcolor-3.1.0-py3-none-any.whl.metadata (6.4 kB)\n",
      "Collecting toml (from tensorflow_datasets)\n",
      "  Downloading toml-0.10.2-py2.py3-none-any.whl.metadata (7.1 kB)\n",
      "Requirement already satisfied: tqdm in /opt/conda/lib/python3.10/site-packages (from tensorflow_datasets) (4.67.1)\n",
      "Requirement already satisfied: wrapt in /opt/conda/lib/python3.10/site-packages (from tensorflow_datasets) (1.17.2)\n",
      "Collecting einops (from etils[edc,enp,epath,epy,etree]>=1.6.0; python_version < \"3.11\"->tensorflow_datasets)\n",
      "  Downloading einops-0.8.1-py3-none-any.whl.metadata (13 kB)\n",
      "Requirement already satisfied: typing_extensions in /opt/conda/lib/python3.10/site-packages (from etils[edc,enp,epath,epy,etree]>=1.6.0; python_version < \"3.11\"->tensorflow_datasets) (4.12.2)\n",
      "Requirement already satisfied: fsspec in /opt/conda/lib/python3.10/site-packages (from etils[edc,enp,epath,epy,etree]>=1.6.0; python_version < \"3.11\"->tensorflow_datasets) (2024.12.0)\n",
      "Requirement already satisfied: importlib_resources in /opt/conda/lib/python3.10/site-packages (from etils[edc,enp,epath,epy,etree]>=1.6.0; python_version < \"3.11\"->tensorflow_datasets) (5.12.0)\n",
      "Requirement already satisfied: zipp in /opt/conda/lib/python3.10/site-packages (from etils[edc,enp,epath,epy,etree]>=1.6.0; python_version < \"3.11\"->tensorflow_datasets) (3.15.0)\n",
      "Requirement already satisfied: charset-normalizer<4,>=2 in /opt/conda/lib/python3.10/site-packages (from requests>=2.19.0->tensorflow_datasets) (3.1.0)\n",
      "Requirement already satisfied: idna<4,>=2.5 in /opt/conda/lib/python3.10/site-packages (from requests>=2.19.0->tensorflow_datasets) (3.4)\n",
      "Requirement already satisfied: urllib3<3,>=1.21.1 in /opt/conda/lib/python3.10/site-packages (from requests>=2.19.0->tensorflow_datasets) (2.0.2)\n",
      "Requirement already satisfied: certifi>=2017.4.17 in /opt/conda/lib/python3.10/site-packages (from requests>=2.19.0->tensorflow_datasets) (2024.8.30)\n",
      "Requirement already satisfied: attrs>=18.2.0 in /opt/conda/lib/python3.10/site-packages (from dm-tree->tensorflow_datasets) (23.1.0)\n",
      "Requirement already satisfied: six in /opt/conda/lib/python3.10/site-packages (from promise->tensorflow_datasets) (1.16.0)\n",
      "Collecting docstring-parser<1.0,>=0.15 (from simple_parsing->tensorflow_datasets)\n",
      "  Downloading docstring_parser-0.17.0-py3-none-any.whl.metadata (3.5 kB)\n",
      "Collecting protobuf>=3.20 (from tensorflow_datasets)\n",
      "  Downloading protobuf-4.21.12-cp37-abi3-manylinux2014_x86_64.whl.metadata (541 bytes)\n",
      "Downloading tensorflow_datasets-4.9.9-py3-none-any.whl (5.3 MB)\n",
      "\u001b[2K   \u001b[90m━━━━━━━━━━━━━━━━━━━━━━━━━━━━━━━━━━━━━━━━\u001b[0m \u001b[32m5.3/5.3 MB\u001b[0m \u001b[31m74.9 MB/s\u001b[0m eta \u001b[36m0:00:00\u001b[0m\n",
      "\u001b[?25hDownloading array_record-0.8.1-cp310-cp310-manylinux2014_x86_64.manylinux_2_17_x86_64.whl (2.5 MB)\n",
      "\u001b[2K   \u001b[90m━━━━━━━━━━━━━━━━━━━━━━━━━━━━━━━━━━━━━━━━\u001b[0m \u001b[32m2.5/2.5 MB\u001b[0m \u001b[31m56.2 MB/s\u001b[0m eta \u001b[36m0:00:00\u001b[0m\n",
      "\u001b[?25hDownloading etils-1.13.0-py3-none-any.whl (170 kB)\n",
      "Downloading absl_py-2.3.1-py3-none-any.whl (135 kB)\n",
      "Downloading dm_tree-0.1.9-cp310-cp310-manylinux_2_17_x86_64.manylinux2014_x86_64.whl (152 kB)\n",
      "Downloading immutabledict-4.2.1-py3-none-any.whl (4.7 kB)\n",
      "Downloading simple_parsing-0.1.7-py3-none-any.whl (112 kB)\n",
      "Downloading tensorflow_metadata-1.17.2-py3-none-any.whl (31 kB)\n",
      "Downloading protobuf-4.21.12-cp37-abi3-manylinux2014_x86_64.whl (409 kB)\n",
      "Downloading termcolor-3.1.0-py3-none-any.whl (7.7 kB)\n",
      "Downloading toml-0.10.2-py2.py3-none-any.whl (16 kB)\n",
      "Downloading docstring_parser-0.17.0-py3-none-any.whl (36 kB)\n",
      "Downloading einops-0.8.1-py3-none-any.whl (64 kB)\n",
      "Building wheels for collected packages: promise\n",
      "  Building wheel for promise (setup.py) ... \u001b[?25ldone\n",
      "\u001b[?25h  Created wheel for promise: filename=promise-2.3-py3-none-any.whl size=21501 sha256=dcb997178b09efe8ab1bca92014d1772312dd7e8fc990c79874375bfe6d34719\n",
      "  Stored in directory: /home/jovyan/.cache/pip/wheels/54/4e/28/3ed0e1c8a752867445bab994d2340724928aa3ab059c57c8db\n",
      "Successfully built promise\n",
      "Installing collected packages: toml, termcolor, protobuf, promise, immutabledict, etils, einops, docstring-parser, absl-py, tensorflow-metadata, simple_parsing, dm-tree, array_record, tensorflow_datasets\n",
      "Successfully installed absl-py-2.3.1 array_record-0.8.1 dm-tree-0.1.9 docstring-parser-0.17.0 einops-0.8.1 etils-1.13.0 immutabledict-4.2.1 promise-2.3 protobuf-4.21.12 simple_parsing-0.1.7 tensorflow-metadata-1.17.2 tensorflow_datasets-4.9.9 termcolor-3.1.0 toml-0.10.2\n"
     ]
    }
   ],
   "source": [
    "!pip install tensorflow_datasets"
   ]
  },
  {
   "cell_type": "code",
   "execution_count": 2,
   "metadata": {
    "executionInfo": {
     "elapsed": 4509,
     "status": "ok",
     "timestamp": 1702289362631,
     "user": {
      "displayName": "Andreas Streich",
      "userId": "16674127324132361302"
     },
     "user_tz": -60
    },
    "id": "r2mlKlDL9Sqx"
   },
   "outputs": [
    {
     "name": "stderr",
     "output_type": "stream",
     "text": [
      "2025-09-19 09:39:40.688682: I tensorflow/core/util/port.cc:113] oneDNN custom operations are on. You may see slightly different numerical results due to floating-point round-off errors from different computation orders. To turn them off, set the environment variable `TF_ENABLE_ONEDNN_OPTS=0`.\n",
      "2025-09-19 09:39:40.747112: E external/local_xla/xla/stream_executor/cuda/cuda_dnn.cc:9261] Unable to register cuDNN factory: Attempting to register factory for plugin cuDNN when one has already been registered\n",
      "2025-09-19 09:39:40.747142: E external/local_xla/xla/stream_executor/cuda/cuda_fft.cc:607] Unable to register cuFFT factory: Attempting to register factory for plugin cuFFT when one has already been registered\n",
      "2025-09-19 09:39:40.748125: E external/local_xla/xla/stream_executor/cuda/cuda_blas.cc:1515] Unable to register cuBLAS factory: Attempting to register factory for plugin cuBLAS when one has already been registered\n",
      "2025-09-19 09:39:40.754258: I tensorflow/core/platform/cpu_feature_guard.cc:182] This TensorFlow binary is optimized to use available CPU instructions in performance-critical operations.\n",
      "To enable the following instructions: AVX2 AVX512F AVX512_VNNI FMA, in other operations, rebuild TensorFlow with the appropriate compiler flags.\n",
      "2025-09-19 09:39:41.608676: W tensorflow/compiler/tf2tensorrt/utils/py_utils.cc:38] TF-TRT Warning: Could not find TensorRT\n"
     ]
    }
   ],
   "source": [
    "import numpy as np\n",
    "import tensorflow as tf\n",
    "import tensorflow_datasets as tfds"
   ]
  },
  {
   "cell_type": "code",
   "execution_count": 3,
   "metadata": {
    "executionInfo": {
     "elapsed": 5,
     "status": "ok",
     "timestamp": 1702289362632,
     "user": {
      "displayName": "Andreas Streich",
      "userId": "16674127324132361302"
     },
     "user_tz": -60
    },
    "id": "Lmpc4ffC9tuz"
   },
   "outputs": [],
   "source": [
    "from tensorflow.keras.models import Sequential\n",
    "from tensorflow.keras.layers import Dense, Activation, Dropout\n",
    "from tensorflow.keras.layers import Input, TextVectorization, Embedding, Conv1D, MaxPooling1D, Flatten, LSTM, Bidirectional\n",
    "from tensorflow.keras.losses import BinaryCrossentropy\n",
    "from tensorflow.keras.optimizers import Adam, RMSprop\n",
    "from tensorflow.keras.utils import to_categorical\n",
    "from tensorflow.keras.callbacks import EarlyStopping\n",
    "from tensorflow.keras.initializers import Constant"
   ]
  },
  {
   "cell_type": "code",
   "execution_count": 4,
   "metadata": {
    "executionInfo": {
     "elapsed": 5,
     "status": "ok",
     "timestamp": 1702289362633,
     "user": {
      "displayName": "Andreas Streich",
      "userId": "16674127324132361302"
     },
     "user_tz": -60
    },
    "id": "bkv-ED06a5FA"
   },
   "outputs": [],
   "source": [
    "tf.config.run_functions_eagerly(True)\n",
    "tf.experimental.numpy.experimental_enable_numpy_behavior()"
   ]
  },
  {
   "cell_type": "code",
   "execution_count": 5,
   "metadata": {
    "executionInfo": {
     "elapsed": 5,
     "status": "ok",
     "timestamp": 1702289362633,
     "user": {
      "displayName": "Andreas Streich",
      "userId": "16674127324132361302"
     },
     "user_tz": -60
    },
    "id": "yjdwz9uU9vZM"
   },
   "outputs": [],
   "source": [
    "# initialize random number generators to ensure reproducibility:\n",
    "tf.random.set_seed(123)\n",
    "np.random.seed(123)"
   ]
  },
  {
   "cell_type": "code",
   "execution_count": 6,
   "metadata": {
    "executionInfo": {
     "elapsed": 5,
     "status": "ok",
     "timestamp": 1702289362633,
     "user": {
      "displayName": "Andreas Streich",
      "userId": "16674127324132361302"
     },
     "user_tz": -60
    },
    "id": "k9CKWApuMOFW"
   },
   "outputs": [],
   "source": [
    "# some more general libraries for evaluation purposes:\n",
    "import matplotlib.pyplot as plt\n",
    "import datetime"
   ]
  },
  {
   "cell_type": "code",
   "execution_count": 7,
   "metadata": {
    "colab": {
     "base_uri": "https://localhost:8080/"
    },
    "executionInfo": {
     "elapsed": 16985,
     "status": "ok",
     "timestamp": 1702289379614,
     "user": {
      "displayName": "Andreas Streich",
      "userId": "16674127324132361302"
     },
     "user_tz": -60
    },
    "id": "3Zu9jRSjcxkk",
    "outputId": "00a3a0de-4901-477b-b683-edbfb0dc376d"
   },
   "outputs": [],
   "source": [
    "import pickle"
   ]
  },
  {
   "cell_type": "markdown",
   "metadata": {
    "id": "no13ZU2gfXbN"
   },
   "source": [
    "Define parameters:"
   ]
  },
  {
   "cell_type": "code",
   "execution_count": 8,
   "metadata": {
    "executionInfo": {
     "elapsed": 6,
     "status": "ok",
     "timestamp": 1702289380019,
     "user": {
      "displayName": "Andreas Streich",
      "userId": "16674127324132361302"
     },
     "user_tz": -60
    },
    "id": "rgz2s6zX7RPH"
   },
   "outputs": [],
   "source": [
    "VOCAB_SIZE = 5000  # Only consider the top 20k words\n",
    "MAX_LEN = 200  # Only consider the first 200 words of each movie review\n",
    "\n",
    "EMBED_DIM = 100  # Embedding size for each token\n",
    "NUM_HEADS = 3  # Number of attention heads\n",
    "FF_DIM = 32  # Hidden layer size in feed forward network inside transformer\n",
    "\n",
    "NUM_EPOCHS = 5\n",
    "\n",
    "batch_size = 32"
   ]
  },
  {
   "cell_type": "markdown",
   "metadata": {
    "id": "zpDbXtQ1fdpi"
   },
   "source": [
    "## Data Loading\n",
    "\n",
    "We now use a different, more direct way to get the imdb data. Using the tensorflow keras datasets subpackage, we can directly get a vectorized representation of the imdb movie reviews"
   ]
  },
  {
   "cell_type": "code",
   "execution_count": 9,
   "metadata": {
    "colab": {
     "base_uri": "https://localhost:8080/"
    },
    "executionInfo": {
     "elapsed": 4221,
     "status": "ok",
     "timestamp": 1702290225052,
     "user": {
      "displayName": "Andreas Streich",
      "userId": "16674127324132361302"
     },
     "user_tz": -60
    },
    "id": "ord49V1FLBfg",
    "outputId": "9c1c03ce-a117-42f7-88a3-1f477edab0fe"
   },
   "outputs": [
    {
     "name": "stdout",
     "output_type": "stream",
     "text": [
      "Downloading data from https://storage.googleapis.com/tensorflow/tf-keras-datasets/imdb.npz\n",
      "17464789/17464789 [==============================] - 1s 0us/step\n",
      "25000 Training sequences\n",
      "25000 Validation sequences\n"
     ]
    }
   ],
   "source": [
    "(x_train, y_train), (x_val, y_val) = tf.keras.datasets.imdb.load_data(num_words=VOCAB_SIZE)\n",
    "print(len(x_train), \"Training sequences\")\n",
    "print(len(x_val), \"Validation sequences\")\n",
    "x_train = tf.keras.utils.pad_sequences(x_train, maxlen=MAX_LEN)\n",
    "x_val = tf.keras.utils.pad_sequences(x_val, maxlen=MAX_LEN)"
   ]
  },
  {
   "cell_type": "markdown",
   "metadata": {
    "id": "8orCMnV8KGXm"
   },
   "source": [
    "## Transformer\n"
   ]
  },
  {
   "cell_type": "code",
   "execution_count": 10,
   "metadata": {
    "executionInfo": {
     "elapsed": 238,
     "status": "ok",
     "timestamp": 1702290230116,
     "user": {
      "displayName": "Andreas Streich",
      "userId": "16674127324132361302"
     },
     "user_tz": -60
    },
    "id": "YY6sh4X3MLOs"
   },
   "outputs": [],
   "source": [
    "import os"
   ]
  },
  {
   "cell_type": "code",
   "execution_count": 11,
   "metadata": {
    "executionInfo": {
     "elapsed": 3,
     "status": "ok",
     "timestamp": 1702290231260,
     "user": {
      "displayName": "Andreas Streich",
      "userId": "16674127324132361302"
     },
     "user_tz": -60
    },
    "id": "6XHdRdFqLdr7"
   },
   "outputs": [],
   "source": [
    "%run Transformers.ipynb"
   ]
  },
  {
   "cell_type": "markdown",
   "metadata": {
    "id": "d_FQaAf8gXaA"
   },
   "source": [
    "# Review Rater with Transformers\n",
    "Using the building blocks defined in the previous notebook, we can simply combine the necessary blocks. Here, we use the Encoder part of the transformer, and then just add a few layers as classification head."
   ]
  },
  {
   "cell_type": "code",
   "execution_count": 12,
   "metadata": {
    "executionInfo": {
     "elapsed": 1223,
     "status": "ok",
     "timestamp": 1702290233062,
     "user": {
      "displayName": "Andreas Streich",
      "userId": "16674127324132361302"
     },
     "user_tz": -60
    },
    "id": "qWu7SyZ1Qrwi"
   },
   "outputs": [],
   "source": [
    "# initialize random number generators to ensure reproducibility:\n",
    "tf.random.set_seed(123)\n",
    "np.random.seed(123)"
   ]
  },
  {
   "cell_type": "code",
   "execution_count": 13,
   "metadata": {
    "executionInfo": {
     "elapsed": 268,
     "status": "ok",
     "timestamp": 1702290385537,
     "user": {
      "displayName": "Andreas Streich",
      "userId": "16674127324132361302"
     },
     "user_tz": -60
    },
    "id": "XEHE7e9HJ0ic"
   },
   "outputs": [],
   "source": [
    "class ReviewRater(tf.keras.Model):\n",
    "    def __init__(self, *, num_layers, embed_dim, num_heads, ff_dim,\n",
    "                 input_vocab_size, target_vocab_size, dropout_rate=0.1):\n",
    "        super().__init__()\n",
    "        # Encoder Block\n",
    "        self.encoder = Encoder(num_layers=num_layers, embed_dim=embed_dim,\n",
    "                               num_heads=num_heads, ff_dim=ff_dim,\n",
    "                               vocab_size=input_vocab_size,\n",
    "                               dropout_rate=dropout_rate)\n",
    "\n",
    "        # custom classification head\n",
    "        self.globAvgPool = tf.keras.layers.GlobalAveragePooling1D()\n",
    "\n",
    "        self.dropout = tf.keras.layers.Dropout(dropout_rate)\n",
    "\n",
    "        self.dense20 = tf.keras.layers.Dense(20, activation=\"relu\")\n",
    "        self.dense2  = tf.keras.layers.Dense(1, activation=\"sigmoid\")\n",
    "\n",
    "    def call(self, inputs):\n",
    "        x = self.encoder(inputs)\n",
    "        x = self.globAvgPool(x)\n",
    "        x = self.dropout(x)\n",
    "        x = self.dense20(x)\n",
    "        outputs = self.dense2(x)\n",
    "\n",
    "        return outputs"
   ]
  },
  {
   "cell_type": "code",
   "execution_count": 14,
   "metadata": {
    "executionInfo": {
     "elapsed": 2,
     "status": "ok",
     "timestamp": 1702290385804,
     "user": {
      "displayName": "Andreas Streich",
      "userId": "16674127324132361302"
     },
     "user_tz": -60
    },
    "id": "tmvHbZf9E22S"
   },
   "outputs": [],
   "source": [
    "model_5kW_trans_RR = ReviewRater(num_layers=1, embed_dim=EMBED_DIM, num_heads=NUM_HEADS,\n",
    "                                 ff_dim=FF_DIM, input_vocab_size=VOCAB_SIZE,\n",
    "                                 target_vocab_size=VOCAB_SIZE)"
   ]
  },
  {
   "cell_type": "code",
   "execution_count": 15,
   "metadata": {},
   "outputs": [],
   "source": [
    "model_5kW_trans_RR.compile(loss = BinaryCrossentropy(from_logits=False),\n",
    "                           optimizer = 'adam', metrics = ['accuracy'])"
   ]
  },
  {
   "cell_type": "markdown",
   "metadata": {},
   "source": [
    "As with the previous models, we only train the models from scratch if needed, and load the pre-trained model weights and results from files otherwise:"
   ]
  },
  {
   "cell_type": "code",
   "execution_count": 16,
   "metadata": {},
   "outputs": [
    {
     "name": "stderr",
     "output_type": "stream",
     "text": [
      "/home/jovyan/tensorflow-venv/lib/python3.10/site-packages/tensorflow/python/data/ops/structured_function.py:258: UserWarning: Even though the `tf.config.experimental_run_functions_eagerly` option is set, this option does not apply to tf.data functions. To force eager execution of tf.data functions, please use `tf.data.experimental.enable_debug_mode()`.\n",
      "  warnings.warn(\n"
     ]
    },
    {
     "name": "stdout",
     "output_type": "stream",
     "text": [
      "Epoch 1/5\n",
      "782/782 [==============================] - 210s 268ms/step - loss: 0.3594 - accuracy: 0.8356 - val_loss: 0.2937 - val_accuracy: 0.8746\n",
      "Epoch 2/5\n",
      "782/782 [==============================] - 186s 238ms/step - loss: 0.2469 - accuracy: 0.8999 - val_loss: 0.3011 - val_accuracy: 0.8739\n",
      "Epoch 3/5\n",
      "782/782 [==============================] - 185s 237ms/step - loss: 0.2132 - accuracy: 0.9165 - val_loss: 0.3223 - val_accuracy: 0.8727\n",
      "Epoch 4/5\n",
      "782/782 [==============================] - 181s 231ms/step - loss: 0.1841 - accuracy: 0.9275 - val_loss: 0.3647 - val_accuracy: 0.8611\n",
      "Epoch 5/5\n",
      "782/782 [==============================] - 179s 229ms/step - loss: 0.1561 - accuracy: 0.9400 - val_loss: 0.3742 - val_accuracy: 0.8583\n"
     ]
    }
   ],
   "source": [
    "train_from_scatch = True\n",
    "\n",
    "model_name = 'transformer,  100 dim'\n",
    "model_weight_file = model_name + '_weights'\n",
    "model_result_file = model_name + '_Results.pkl'\n",
    "\n",
    "if train_from_scatch: \n",
    "    myRRHistory = model_5kW_trans_RR.fit(\n",
    "        x_train, y_train,\n",
    "        validation_data = (x_val, y_val),\n",
    "        epochs = NUM_EPOCHS, verbose = 1,\n",
    "        callbacks = [ EarlyStopping(monitor='val_accuracy', patience=5,\n",
    "                                    verbose=False, restore_best_weights=True)])\n",
    "\n",
    "    myRRHistory_dict = myRRHistory.history\n",
    "    resDict_5kW_trans_RR = {}\n",
    "    resDict_5kW_trans_RR['train_loss'] = myRRHistory_dict['loss']\n",
    "    resDict_5kW_trans_RR['val_loss'] = myRRHistory_dict['val_loss']\n",
    "    resDict_5kW_trans_RR['train_accuracy'] = myRRHistory_dict['accuracy']\n",
    "    resDict_5kW_trans_RR['val_accuracy'] = myRRHistory_dict['val_accuracy']\n",
    "    resDict_5kW_trans_RR['epochs'] = range(1, len(resDict_5kW_trans_RR['train_accuracy']) + 1)\n",
    "    resDict_5kW_trans_RR['model_name'] = model_name\n",
    "    \n",
    "    # save weights and results\n",
    "    model_5kW_trans_RR.save_weights(model_weight_file)\n",
    "    with open(model_result_file, 'wb') as f:\n",
    "        pickle.dump(resDict_5kW_trans_RR, f)\n",
    "else:\n",
    "    model_5kW_trans_RR.load_weights(model_weight_file)\n",
    "    with open(model_result_file, 'rb') as input_file:\n",
    "        resDict_5kW_trans_RR = pickle.load(input_file)"
   ]
  },
  {
   "cell_type": "code",
   "execution_count": 17,
   "metadata": {},
   "outputs": [
    {
     "name": "stdout",
     "output_type": "stream",
     "text": [
      "Model: \"review_rater\"\n",
      "_________________________________________________________________\n",
      " Layer (type)                Output Shape              Param #   \n",
      "=================================================================\n",
      " encoder (Encoder)           multiple                  627932    \n",
      "                                                                 \n",
      " global_average_pooling1d (  multiple                  0         \n",
      " GlobalAveragePooling1D)                                         \n",
      "                                                                 \n",
      " dropout_2 (Dropout)         multiple                  0         \n",
      "                                                                 \n",
      " dense_2 (Dense)             multiple                  2020      \n",
      "                                                                 \n",
      " dense_3 (Dense)             multiple                  21        \n",
      "                                                                 \n",
      "=================================================================\n",
      "Total params: 629973 (2.40 MB)\n",
      "Trainable params: 629973 (2.40 MB)\n",
      "Non-trainable params: 0 (0.00 Byte)\n",
      "_________________________________________________________________\n"
     ]
    }
   ],
   "source": [
    "model_5kW_trans_RR.summary()"
   ]
  },
  {
   "cell_type": "markdown",
   "metadata": {
    "id": "rvRoy-H_hCK5"
   },
   "source": [
    "Now we visualize the development of the accuracy and the loss over the training epochs:"
   ]
  },
  {
   "cell_type": "code",
   "execution_count": 18,
   "metadata": {
    "colab": {
     "base_uri": "https://localhost:8080/",
     "height": 472
    },
    "executionInfo": {
     "elapsed": 882,
     "status": "ok",
     "timestamp": 1702292066128,
     "user": {
      "displayName": "Andreas Streich",
      "userId": "16674127324132361302"
     },
     "user_tz": -60
    },
    "id": "9pHXivB2guFb",
    "outputId": "dd7937db-0288-4df8-ec32-c3da4833f724"
   },
   "outputs": [
    {
     "data": {
      "image/png": "[encoded data removed]",
      "text/plain": [
       "<Figure size 640x480 with 2 Axes>"
      ]
     },
     "metadata": {},
     "output_type": "display_data"
    }
   ],
   "source": [
    "plt.subplot(2, 1, 1)\n",
    "plt.plot(resDict_5kW_trans_RR['epochs'], resDict_5kW_trans_RR['train_loss'],\n",
    "         'g:', label = resDict_5kW_trans_RR['model_name'] +', Training loss')\n",
    "plt.plot(resDict_5kW_trans_RR['epochs'], resDict_5kW_trans_RR['val_loss'],\n",
    "         'g',  label = resDict_5kW_trans_RR['model_name'] +', Validation loss')\n",
    "plt.ylabel('Loss')\n",
    "plt.legend()\n",
    "plt.grid(True)\n",
    "\n",
    "plt.subplot(2, 1, 2)\n",
    "plt.plot(resDict_5kW_trans_RR['epochs'], resDict_5kW_trans_RR['train_accuracy'],\n",
    "         'k:', label = resDict_5kW_trans_RR['model_name'] +', Training acc')\n",
    "plt.plot(resDict_5kW_trans_RR['epochs'], resDict_5kW_trans_RR['val_accuracy'],\n",
    "         'k',  label = resDict_5kW_trans_RR['model_name'] +', Validation acc')\n",
    "plt.ylabel('Accuracy')\n",
    "plt.legend()\n",
    "plt.grid(True)\n",
    "\n",
    "plt.xlabel('Epochs')\n",
    "plt.show()"
   ]
  },
  {
   "cell_type": "markdown",
   "metadata": {},
   "source": [
    "Using the results from the previous notebook on LSTM, we can compare the accuracy of e.g. the 1-layer LSTM network with our transformer network. Note that this will only work if you have run the `Sentiment_Analysis_LSTM_pretrainedEmbeddings` notebook before, and have the files from this run still available. If you have so, please uncomment the respective lines in the next two cells."
   ]
  },
  {
   "cell_type": "code",
   "execution_count": null,
   "metadata": {},
   "outputs": [],
   "source": [
    "model_name = 'Pretrained_Adapted_Embeddings_100_dim'\n",
    "model_weight_file = model_name + '_weights'\n",
    "model_result_file = model_name + '_Results.pkl'\n",
    "\n",
    "# with open(model_result_file, 'rb') as input_file:\n",
    "#     resDict_ae100_1LSTM = pickle.load(input_file)"
   ]
  },
  {
   "cell_type": "code",
   "execution_count": null,
   "metadata": {},
   "outputs": [],
   "source": [
    "plt.plot(resDict_5kW_trans_RR['epochs'], resDict_5kW_trans_RR['train_accuracy'],\n",
    "         'k:', label = resDict_5kW_trans_RR['model_name'] +', Training acc')\n",
    "plt.plot(resDict_5kW_trans_RR['epochs'], resDict_5kW_trans_RR['val_accuracy'],\n",
    "         'k',  label = resDict_5kW_trans_RR['model_name'] +', Validation acc')\n",
    "\n",
    "# plt.plot(resDict_ae100_1LSTM['epochs'], resDict_ae100_1LSTM['train_accuracy'],\n",
    "#          'g:', label = resDict_ae100_1LSTM['model_name'] +', Training acc')\n",
    "# plt.plot(resDict_ae100_1LSTM['epochs'], resDict_ae100_1LSTM['val_accuracy'],\n",
    "#          'g',  label = resDict_ae100_1LSTM['model_name'] +', Validation acc')\n",
    "\n",
    "plt.ylabel('Accuracy')\n",
    "plt.legend()\n",
    "plt.grid(True)\n",
    "\n",
    "plt.xlabel('Epochs')\n",
    "plt.show()"
   ]
  },
  {
   "cell_type": "markdown",
   "metadata": {},
   "source": [
    "We see that the transformer-based solution achieves a good accuracy already after a first training epoch, but then suffers from overfitting. The LSTM-based classifier with adapted, pretrained embeddings takes longer to achieve good performance, but then actually outperforms the transformer-based solution."
   ]
  },
  {
   "cell_type": "code",
   "execution_count": null,
   "metadata": {},
   "outputs": [],
   "source": []
  }
 ],
 "metadata": {
  "accelerator": "GPU",
  "colab": {
   "gpuType": "T4",
   "provenance": [
    {
     "file_id": "1G0Lblz8wXZpJ2WXHidmwUnvkuFut0tLE",
     "timestamp": 1702284761059
    },
    {
     "file_id": "1cNt2GRcxbNVm-Opgl4eoSRvA2IP2wEMW",
     "timestamp": 1702055474440
    },
    {
     "file_id": "1-tp-joPBYKZFV0j7J81wEo0qkRWSwVY_",
     "timestamp": 1702055033669
    },
    {
     "file_id": "1k0tpSBAFVwL5nlgMq4LOrPm19kuhTqvA",
     "timestamp": 1701875962598
    },
    {
     "file_id": "1Rg2GwZbYjXXF0CXOIelfRVunuS5mVWu6",
     "timestamp": 1700902997204
    },
    {
     "file_id": "17vUvk7t_5jiqHDi0xRcPG4Vu8WA0zlEO",
     "timestamp": 1699259363257
    }
   ]
  },
  "kernelspec": {
   "display_name": "Tensorflow",
   "language": "python",
   "name": "tensorflow"
  },
  "language_info": {
   "codemirror_mode": {
    "name": "ipython",
    "version": 3
   },
   "file_extension": ".py",
   "mimetype": "text/x-python",
   "name": "python",
   "nbconvert_exporter": "python",
   "pygments_lexer": "ipython3",
   "version": "3.10.11"
  }
 },
 "nbformat": 4,
 "nbformat_minor": 4
}
