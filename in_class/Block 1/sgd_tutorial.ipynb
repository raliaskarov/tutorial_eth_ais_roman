{
  "cells": [
    {
      "cell_type": "markdown",
      "metadata": {
        "id": "n9EccD18iWtD"
      },
      "source": [
        "# Stochastic Gradient Descent from Scratch\n",
        "\n",
        "We're implementing one of the most powerful algorithms in machine learning: **Stochastic Gradient Descent (SGD)**. This is how machines learn to make predictions by gradually improving their guesses.\n",
        "\n",
        "**Goal**: Predict house prices from area using only basic Python - no fancy libraries!"
      ]
    },
    {
      "cell_type": "markdown",
      "metadata": {
        "id": "kaCYzstGiWtE"
      },
      "source": [
        "## 1. Our Dataset and Model\n",
        "\n",
        "We have 15 houses with their area (m²) and price (k€). Our model is simple linear regression:\n",
        "\n",
        "**Price = b + w × Area**\n",
        "\n",
        "- `b` = base price (intercept)\n",
        "- `w` = price per square meter (slope)"
      ]
    },
    {
      "cell_type": "code",
      "execution_count": 1,
      "metadata": {
        "colab": {
          "base_uri": "https://localhost:8080/"
        },
        "id": "YbC1NvW2iWtE",
        "outputId": "2490d1d5-9b67-4b66-ba82-7db610b3371e"
      },
      "outputs": [
        {
          "output_type": "stream",
          "name": "stdout",
          "text": [
            "Sample houses (area, price):\n",
            "50m² -> 200k€\n",
            "80m² -> 320k€\n",
            "100m² -> 380k€\n",
            "120m² -> 460k€\n",
            "150m² -> 550k€\n"
          ]
        }
      ],
      "source": [
        "houses = [\n",
        "    (50, 200), (80, 320), (100, 380), (120, 460), (150, 550),\n",
        "    (180, 640), (200, 720), (40, 180), (90, 350), (110, 420),\n",
        "    (160, 580), (220, 800), (70, 280), (130, 480), (170, 620)\n",
        "]\n",
        "\n",
        "def predict(area, b, w):\n",
        "    # TODO: Implement error\n",
        "    return 0\n",
        "\n",
        "print(\"Sample houses (area, price):\")\n",
        "for i in range(5):\n",
        "    area, price = houses[i]\n",
        "    print(f\"{area}m² -> {price}k€\")"
      ]
    },
    {
      "cell_type": "markdown",
      "metadata": {
        "id": "dih0DL7BiWtF"
      },
      "source": [
        "## 2. Try Your Own Model\n",
        "\n",
        "Before we let the algorithm learn, try setting your own parameters. What do you think are good values for base price and price per m²?"
      ]
    },
    {
      "cell_type": "code",
      "execution_count": 2,
      "metadata": {
        "colab": {
          "base_uri": "https://localhost:8080/"
        },
        "id": "m5H4Yz12iWtF",
        "outputId": "3a5c69cd-23d6-4034-a304-c4e2eef36d6c"
      },
      "outputs": [
        {
          "output_type": "stream",
          "name": "stdout",
          "text": [
            "Your model: Price = 100 + 3 × Area\n",
            "\n",
            "Your predictions:\n",
            "50m² -> Predicted: 0k€, Actual: 200k€, Error: 200k€\n",
            "80m² -> Predicted: 0k€, Actual: 320k€, Error: 320k€\n",
            "100m² -> Predicted: 0k€, Actual: 380k€, Error: 380k€\n",
            "120m² -> Predicted: 0k€, Actual: 460k€, Error: 460k€\n",
            "150m² -> Predicted: 0k€, Actual: 550k€, Error: 550k€\n"
          ]
        }
      ],
      "source": [
        "# Try your own parameters here!\n",
        "my_b = 100  # base price in k€\n",
        "my_w = 3    # price per m² in k€\n",
        "\n",
        "print(f\"Your model: Price = {my_b} + {my_w} × Area\")\n",
        "print(\"\\nYour predictions:\")\n",
        "for i in range(5):\n",
        "    area, actual = houses[i]\n",
        "    pred = predict(area, my_b, my_w)\n",
        "    error = abs(pred - actual)\n",
        "    print(f\"{area}m² -> Predicted: {pred:.0f}k€, Actual: {actual}k€, Error: {error:.0f}k€\")"
      ]
    },
    {
      "cell_type": "markdown",
      "metadata": {
        "id": "2E5xFlI8iWtF"
      },
      "source": [
        "## 3. Let the Algorithm Learn (SGD)\n",
        "\n",
        "Now watch SGD automatically find better parameters by:\n",
        "1. Making predictions on each house\n",
        "2. Calculating the error\n",
        "3. Adjusting parameters to reduce future errors\n",
        "4. Repeating until parameters converge"
      ]
    },
    {
      "cell_type": "code",
      "execution_count": 3,
      "metadata": {
        "colab": {
          "base_uri": "https://localhost:8080/",
          "height": 211
        },
        "id": "sXmHbUvOiWtG",
        "outputId": "803d9ea1-1830-47ef-fbb5-d892eac00799"
      },
      "outputs": [
        {
          "output_type": "error",
          "ename": "TypeError",
          "evalue": "unsupported format string passed to NoneType.__format__",
          "traceback": [
            "\u001b[0;31m---------------------------------------------------------------------------\u001b[0m",
            "\u001b[0;31mTypeError\u001b[0m                                 Traceback (most recent call last)",
            "\u001b[0;32m/tmp/ipython-input-3535853414.py\u001b[0m in \u001b[0;36m<cell line: 0>\u001b[0;34m()\u001b[0m\n\u001b[1;32m      7\u001b[0m \u001b[0mepochs\u001b[0m \u001b[0;34m=\u001b[0m \u001b[0;36m50\u001b[0m\u001b[0;34m\u001b[0m\u001b[0;34m\u001b[0m\u001b[0m\n\u001b[1;32m      8\u001b[0m \u001b[0;34m\u001b[0m\u001b[0m\n\u001b[0;32m----> 9\u001b[0;31m \u001b[0mprint\u001b[0m\u001b[0;34m(\u001b[0m\u001b[0;34mf\"Initial: b={b:.2f}, w={w:.4f}, Error={compute_error(houses, b, w):.1f}\"\u001b[0m\u001b[0;34m)\u001b[0m\u001b[0;34m\u001b[0m\u001b[0;34m\u001b[0m\u001b[0m\n\u001b[0m\u001b[1;32m     10\u001b[0m \u001b[0;34m\u001b[0m\u001b[0m\n\u001b[1;32m     11\u001b[0m \u001b[0;32mfor\u001b[0m \u001b[0mepoch\u001b[0m \u001b[0;32min\u001b[0m \u001b[0mrange\u001b[0m\u001b[0;34m(\u001b[0m\u001b[0mepochs\u001b[0m\u001b[0;34m)\u001b[0m\u001b[0;34m:\u001b[0m\u001b[0;34m\u001b[0m\u001b[0;34m\u001b[0m\u001b[0m\n",
            "\u001b[0;31mTypeError\u001b[0m: unsupported format string passed to NoneType.__format__"
          ]
        }
      ],
      "source": [
        "def compute_error(houses, b, w):\n",
        "    # TODO: Implement a method that computes this error\n",
        "    return None\n",
        "\n",
        "b, w = 0, 0\n",
        "learning_rate = 0.00001\n",
        "epochs = 10\n",
        "\n",
        "print(f\"Initial: b={b:.2f}, w={w:.4f}, Error={compute_error(houses, b, w):.1f}\")\n",
        "\n",
        "for epoch in range(epochs):\n",
        "    for area, actual_price in houses:\n",
        "        # TODO: predict the price for this house\n",
        "        pred = None\n",
        "        # TODO: Based on this prediction update your estimates for w and b.\n",
        "\n",
        "    loss = compute_error(houses, b, w)\n",
        "    print(f\"Epoch {epoch+1}: b={b:.2f}, w={w:.4f}, Error={loss:.1f}\")\n",
        "\n",
        "print(f\"\\nFinal model: Price = {b:.2f} + {w:.4f} * Area\")"
      ]
    },
    {
      "cell_type": "markdown",
      "metadata": {
        "id": "iy2yee3AiWtG"
      },
      "source": [
        "## 4. Evaluate the Results\n",
        "\n",
        "Let's see how well our learned model performs compared to your manual guess:"
      ]
    },
    {
      "cell_type": "code",
      "execution_count": null,
      "metadata": {
        "colab": {
          "base_uri": "https://localhost:8080/"
        },
        "id": "aWk0BdZkiWtG",
        "outputId": "5615f226-ea76-4fb0-d2e9-6db7cb3f3e9b"
      },
      "outputs": [
        {
          "output_type": "stream",
          "name": "stdout",
          "text": [
            "SGD Predictions vs Your Manual Predictions:\n",
            "House\tActual\tSGD Pred\tSGD Error\tYour Pred\tYour Error\n",
            "-----------------------------------------------------------------\n",
            "50m²\t200k€\t189k€\t\t11k€\t\t250k€\t\t50k€\n",
            "80m²\t320k€\t300k€\t\t20k€\t\t340k€\t\t20k€\n",
            "100m²\t380k€\t374k€\t\t6k€\t\t400k€\t\t20k€\n",
            "120m²\t460k€\t448k€\t\t12k€\t\t460k€\t\t0k€\n",
            "150m²\t550k€\t559k€\t\t9k€\t\t550k€\t\t0k€\n",
            "180m²\t640k€\t670k€\t\t30k€\t\t640k€\t\t0k€\n",
            "200m²\t720k€\t744k€\t\t24k€\t\t700k€\t\t20k€\n",
            "40m²\t180k€\t152k€\t\t28k€\t\t220k€\t\t40k€\n",
            "90m²\t350k€\t337k€\t\t13k€\t\t370k€\t\t20k€\n",
            "110m²\t420k€\t411k€\t\t9k€\t\t430k€\t\t10k€\n",
            "\n",
            "Average Error (first 10 houses):\n",
            "SGD Model: 16.3k€\n",
            "Your Model: 18.0k€\n",
            "\n",
            "Final Error: 15.5\n",
            "Your Error: 18.0\n"
          ]
        }
      ],
      "source": [
        "print(\"SGD Predictions vs Your Manual Predictions:\")\n",
        "print(\"House\\tActual\\tSGD Pred\\tSGD Error\\tYour Pred\\tYour Error\")\n",
        "print(\"-\" * 65)\n",
        "\n",
        "total_sgd_error = 0\n",
        "total_your_error = 0\n",
        "\n",
        "for i, (area, actual) in enumerate(houses[:10]):  # Show first 10 houses\n",
        "    sgd_pred = predict(area, b, w)\n",
        "    your_pred = predict(area, my_b, my_w)\n",
        "\n",
        "    sgd_error = abs(sgd_pred - actual)\n",
        "    your_error = abs(your_pred - actual)\n",
        "\n",
        "    total_sgd_error += sgd_error\n",
        "    total_your_error += your_error\n",
        "\n",
        "    print(f\"{area}m²\\t{actual}k€\\t{sgd_pred:.0f}k€\\t\\t{sgd_error:.0f}k€\\t\\t{your_pred:.0f}k€\\t\\t{your_error:.0f}k€\")\n",
        "\n",
        "print(f\"\\nAverage Error (first 10 houses):\")\n",
        "print(f\"SGD Model: {total_sgd_error/10:.1f}k€\")\n",
        "print(f\"Your Model: {total_your_error/10:.1f}k€\")\n",
        "\n",
        "print(f\"\\nFinal Error: {compute_error(houses, b, w):.1f}\")\n",
        "print(f\"Your Error: {compute_error(houses, my_b, my_w):.1f}\")"
      ]
    },
    {
      "cell_type": "markdown",
      "metadata": {
        "id": "oz0dBV2qiWtG"
      },
      "source": [
        "## Key Takeaways\n",
        "\n",
        "🎯 **SGD automatically found good parameters** by learning from data\n",
        "\n",
        "⚡ **Each house teaches the algorithm** - errors guide parameter updates\n",
        "\n",
        "🔄 **Iterative improvement** - small steps lead to better predictions\n",
        "\n",
        "📊 **Lower MSE = Better model** - this is how we measure success\n",
        "\n",
        "This is the foundation of how neural networks, recommendation systems, and most AI learns from data!"
      ]
    }
  ],
  "metadata": {
    "kernelspec": {
      "display_name": "Python 3",
      "language": "python",
      "name": "python3"
    },
    "language_info": {
      "codemirror_mode": {
        "name": "ipython",
        "version": 3
      },
      "file_extension": ".py",
      "mimetype": "text/x-python",
      "name": "python",
      "nbconvert_exporter": "python",
      "pygments_lexer": "ipython3",
      "version": "3.8.5"
    },
    "colab": {
      "provenance": []
    }
  },
  "nbformat": 4,
  "nbformat_minor": 0
}