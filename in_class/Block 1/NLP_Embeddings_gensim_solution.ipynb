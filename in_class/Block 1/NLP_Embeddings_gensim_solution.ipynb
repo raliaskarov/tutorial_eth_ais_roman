{
 "cells": [
  {
   "cell_type": "markdown",
   "id": "Vwxks-AzPjid",
   "metadata": {
    "id": "Vwxks-AzPjid"
   },
   "source": [
    "# Embeddings using Gensim Pre-trained Models\n",
    "In this notebook, we will look at the embeddings that are made available through Gensim. Gensim provides access to a variety of pre-trained word embedding models that are useful for a range of NLP tasks such as text classification, clustering, semantic analysis, and more. These models are trained on large datasets and can be used out-of-the-box for various applications."
   ]
  },
  {
   "cell_type": "code",
   "execution_count": 1,
   "id": "YVMUYGGUQZ6O",
   "metadata": {
    "id": "YVMUYGGUQZ6O"
   },
   "outputs": [],
   "source": [
    "import gensim.downloader as api"
   ]
  },
  {
   "cell_type": "markdown",
   "id": "bjLuQlTGQb2Y",
   "metadata": {
    "id": "bjLuQlTGQb2Y"
   },
   "source": [
    "  First, we can have a look at all the models that are available through Gensim."
   ]
  },
  {
   "cell_type": "code",
   "execution_count": 2,
   "id": "lNvC83rgQba6",
   "metadata": {
    "id": "lNvC83rgQba6"
   },
   "outputs": [
    {
     "name": "stdout",
     "output_type": "stream",
     "text": [
      "dict_keys(['fasttext-wiki-news-subwords-300', 'conceptnet-numberbatch-17-06-300', 'word2vec-ruscorpora-300', 'word2vec-google-news-300', 'glove-wiki-gigaword-50', 'glove-wiki-gigaword-100', 'glove-wiki-gigaword-200', 'glove-wiki-gigaword-300', 'glove-twitter-25', 'glove-twitter-50', 'glove-twitter-100', 'glove-twitter-200', '__testing_word2vec-matrix-synopsis'])\n"
     ]
    }
   ],
   "source": [
    "models = api.info()['models'].keys()\n",
    "print(models)"
   ]
  },
  {
   "cell_type": "markdown",
   "id": "w6WcKhwogg7-",
   "metadata": {
    "id": "w6WcKhwogg7-"
   },
   "source": [
    "We will load the model `fasttext-wiki-news-subwords-300`."
   ]
  },
  {
   "cell_type": "code",
   "execution_count": 3,
   "id": "99T-eHhwgjP4",
   "metadata": {
    "id": "99T-eHhwgjP4"
   },
   "outputs": [
    {
     "name": "stdout",
     "output_type": "stream",
     "text": [
      "[=-------------------------------------------------] 2.4% 23.4/958.4MB downloaded"
     ]
    },
    {
     "name": "stderr",
     "output_type": "stream",
     "text": [
      "IOPub message rate exceeded.\n",
      "The Jupyter server will temporarily stop sending output\n",
      "to the client in order to avoid crashing it.\n",
      "To change this limit, set the config variable\n",
      "`--ServerApp.iopub_msg_rate_limit`.\n",
      "\n",
      "Current values:\n",
      "ServerApp.iopub_msg_rate_limit=1000.0 (msgs/sec)\n",
      "ServerApp.rate_limit_window=3.0 (secs)\n",
      "\n"
     ]
    },
    {
     "name": "stdout",
     "output_type": "stream",
     "text": [
      "[====----------------------------------------------] 8.9% 85.3/958.4MB downloaded"
     ]
    },
    {
     "name": "stderr",
     "output_type": "stream",
     "text": [
      "IOPub message rate exceeded.\n",
      "The Jupyter server will temporarily stop sending output\n",
      "to the client in order to avoid crashing it.\n",
      "To change this limit, set the config variable\n",
      "`--ServerApp.iopub_msg_rate_limit`.\n",
      "\n",
      "Current values:\n",
      "ServerApp.iopub_msg_rate_limit=1000.0 (msgs/sec)\n",
      "ServerApp.rate_limit_window=3.0 (secs)\n",
      "\n"
     ]
    },
    {
     "name": "stdout",
     "output_type": "stream",
     "text": [
      "[=======-------------------------------------------] 15.2% 145.5/958.4MB downloaded"
     ]
    },
    {
     "name": "stderr",
     "output_type": "stream",
     "text": [
      "IOPub message rate exceeded.\n",
      "The Jupyter server will temporarily stop sending output\n",
      "to the client in order to avoid crashing it.\n",
      "To change this limit, set the config variable\n",
      "`--ServerApp.iopub_msg_rate_limit`.\n",
      "\n",
      "Current values:\n",
      "ServerApp.iopub_msg_rate_limit=1000.0 (msgs/sec)\n",
      "ServerApp.rate_limit_window=3.0 (secs)\n",
      "\n"
     ]
    },
    {
     "name": "stdout",
     "output_type": "stream",
     "text": [
      "[==========----------------------------------------] 21.3% 204.4/958.4MB downloaded"
     ]
    },
    {
     "name": "stderr",
     "output_type": "stream",
     "text": [
      "IOPub message rate exceeded.\n",
      "The Jupyter server will temporarily stop sending output\n",
      "to the client in order to avoid crashing it.\n",
      "To change this limit, set the config variable\n",
      "`--ServerApp.iopub_msg_rate_limit`.\n",
      "\n",
      "Current values:\n",
      "ServerApp.iopub_msg_rate_limit=1000.0 (msgs/sec)\n",
      "ServerApp.rate_limit_window=3.0 (secs)\n",
      "\n"
     ]
    },
    {
     "name": "stdout",
     "output_type": "stream",
     "text": [
      "[=============-------------------------------------] 26.4% 253.1/958.4MB downloaded"
     ]
    },
    {
     "name": "stderr",
     "output_type": "stream",
     "text": [
      "IOPub message rate exceeded.\n",
      "The Jupyter server will temporarily stop sending output\n",
      "to the client in order to avoid crashing it.\n",
      "To change this limit, set the config variable\n",
      "`--ServerApp.iopub_msg_rate_limit`.\n",
      "\n",
      "Current values:\n",
      "ServerApp.iopub_msg_rate_limit=1000.0 (msgs/sec)\n",
      "ServerApp.rate_limit_window=3.0 (secs)\n",
      "\n"
     ]
    },
    {
     "name": "stdout",
     "output_type": "stream",
     "text": [
      "[================----------------------------------] 32.1% 307.9/958.4MB downloaded"
     ]
    },
    {
     "name": "stderr",
     "output_type": "stream",
     "text": [
      "IOPub message rate exceeded.\n",
      "The Jupyter server will temporarily stop sending output\n",
      "to the client in order to avoid crashing it.\n",
      "To change this limit, set the config variable\n",
      "`--ServerApp.iopub_msg_rate_limit`.\n",
      "\n",
      "Current values:\n",
      "ServerApp.iopub_msg_rate_limit=1000.0 (msgs/sec)\n",
      "ServerApp.rate_limit_window=3.0 (secs)\n",
      "\n"
     ]
    },
    {
     "name": "stdout",
     "output_type": "stream",
     "text": [
      "[==================--------------------------------] 37.9% 362.9/958.4MB downloaded"
     ]
    },
    {
     "name": "stderr",
     "output_type": "stream",
     "text": [
      "IOPub message rate exceeded.\n",
      "The Jupyter server will temporarily stop sending output\n",
      "to the client in order to avoid crashing it.\n",
      "To change this limit, set the config variable\n",
      "`--ServerApp.iopub_msg_rate_limit`.\n",
      "\n",
      "Current values:\n",
      "ServerApp.iopub_msg_rate_limit=1000.0 (msgs/sec)\n",
      "ServerApp.rate_limit_window=3.0 (secs)\n",
      "\n"
     ]
    },
    {
     "name": "stdout",
     "output_type": "stream",
     "text": [
      "[=====================-----------------------------] 43.6% 418.0/958.4MB downloaded"
     ]
    },
    {
     "name": "stderr",
     "output_type": "stream",
     "text": [
      "IOPub message rate exceeded.\n",
      "The Jupyter server will temporarily stop sending output\n",
      "to the client in order to avoid crashing it.\n",
      "To change this limit, set the config variable\n",
      "`--ServerApp.iopub_msg_rate_limit`.\n",
      "\n",
      "Current values:\n",
      "ServerApp.iopub_msg_rate_limit=1000.0 (msgs/sec)\n",
      "ServerApp.rate_limit_window=3.0 (secs)\n",
      "\n"
     ]
    },
    {
     "name": "stdout",
     "output_type": "stream",
     "text": [
      "[========================--------------------------] 49.2% 471.4/958.4MB downloaded"
     ]
    },
    {
     "name": "stderr",
     "output_type": "stream",
     "text": [
      "IOPub message rate exceeded.\n",
      "The Jupyter server will temporarily stop sending output\n",
      "to the client in order to avoid crashing it.\n",
      "To change this limit, set the config variable\n",
      "`--ServerApp.iopub_msg_rate_limit`.\n",
      "\n",
      "Current values:\n",
      "ServerApp.iopub_msg_rate_limit=1000.0 (msgs/sec)\n",
      "ServerApp.rate_limit_window=3.0 (secs)\n",
      "\n"
     ]
    },
    {
     "name": "stdout",
     "output_type": "stream",
     "text": [
      "[===========================-----------------------] 54.9% 525.9/958.4MB downloaded"
     ]
    },
    {
     "name": "stderr",
     "output_type": "stream",
     "text": [
      "IOPub message rate exceeded.\n",
      "The Jupyter server will temporarily stop sending output\n",
      "to the client in order to avoid crashing it.\n",
      "To change this limit, set the config variable\n",
      "`--ServerApp.iopub_msg_rate_limit`.\n",
      "\n",
      "Current values:\n",
      "ServerApp.iopub_msg_rate_limit=1000.0 (msgs/sec)\n",
      "ServerApp.rate_limit_window=3.0 (secs)\n",
      "\n"
     ]
    },
    {
     "name": "stdout",
     "output_type": "stream",
     "text": [
      "[==============================--------------------] 60.8% 582.6/958.4MB downloaded"
     ]
    },
    {
     "name": "stderr",
     "output_type": "stream",
     "text": [
      "IOPub message rate exceeded.\n",
      "The Jupyter server will temporarily stop sending output\n",
      "to the client in order to avoid crashing it.\n",
      "To change this limit, set the config variable\n",
      "`--ServerApp.iopub_msg_rate_limit`.\n",
      "\n",
      "Current values:\n",
      "ServerApp.iopub_msg_rate_limit=1000.0 (msgs/sec)\n",
      "ServerApp.rate_limit_window=3.0 (secs)\n",
      "\n"
     ]
    },
    {
     "name": "stdout",
     "output_type": "stream",
     "text": [
      "[=================================-----------------] 66.4% 636.6/958.4MB downloaded"
     ]
    },
    {
     "name": "stderr",
     "output_type": "stream",
     "text": [
      "IOPub message rate exceeded.\n",
      "The Jupyter server will temporarily stop sending output\n",
      "to the client in order to avoid crashing it.\n",
      "To change this limit, set the config variable\n",
      "`--ServerApp.iopub_msg_rate_limit`.\n",
      "\n",
      "Current values:\n",
      "ServerApp.iopub_msg_rate_limit=1000.0 (msgs/sec)\n",
      "ServerApp.rate_limit_window=3.0 (secs)\n",
      "\n"
     ]
    },
    {
     "name": "stdout",
     "output_type": "stream",
     "text": [
      "[====================================--------------] 72.1% 691.4/958.4MB downloaded"
     ]
    },
    {
     "name": "stderr",
     "output_type": "stream",
     "text": [
      "IOPub message rate exceeded.\n",
      "The Jupyter server will temporarily stop sending output\n",
      "to the client in order to avoid crashing it.\n",
      "To change this limit, set the config variable\n",
      "`--ServerApp.iopub_msg_rate_limit`.\n",
      "\n",
      "Current values:\n",
      "ServerApp.iopub_msg_rate_limit=1000.0 (msgs/sec)\n",
      "ServerApp.rate_limit_window=3.0 (secs)\n",
      "\n"
     ]
    },
    {
     "name": "stdout",
     "output_type": "stream",
     "text": [
      "[=======================================-----------] 78.5% 752.5/958.4MB downloaded"
     ]
    },
    {
     "name": "stderr",
     "output_type": "stream",
     "text": [
      "IOPub message rate exceeded.\n",
      "The Jupyter server will temporarily stop sending output\n",
      "to the client in order to avoid crashing it.\n",
      "To change this limit, set the config variable\n",
      "`--ServerApp.iopub_msg_rate_limit`.\n",
      "\n",
      "Current values:\n",
      "ServerApp.iopub_msg_rate_limit=1000.0 (msgs/sec)\n",
      "ServerApp.rate_limit_window=3.0 (secs)\n",
      "\n"
     ]
    },
    {
     "name": "stdout",
     "output_type": "stream",
     "text": [
      "[==========================================--------] 84.9% 813.4/958.4MB downloaded"
     ]
    },
    {
     "name": "stderr",
     "output_type": "stream",
     "text": [
      "IOPub message rate exceeded.\n",
      "The Jupyter server will temporarily stop sending output\n",
      "to the client in order to avoid crashing it.\n",
      "To change this limit, set the config variable\n",
      "`--ServerApp.iopub_msg_rate_limit`.\n",
      "\n",
      "Current values:\n",
      "ServerApp.iopub_msg_rate_limit=1000.0 (msgs/sec)\n",
      "ServerApp.rate_limit_window=3.0 (secs)\n",
      "\n"
     ]
    },
    {
     "name": "stdout",
     "output_type": "stream",
     "text": [
      "[=============================================-----] 90.9% 871.1/958.4MB downloaded"
     ]
    },
    {
     "name": "stderr",
     "output_type": "stream",
     "text": [
      "IOPub message rate exceeded.\n",
      "The Jupyter server will temporarily stop sending output\n",
      "to the client in order to avoid crashing it.\n",
      "To change this limit, set the config variable\n",
      "`--ServerApp.iopub_msg_rate_limit`.\n",
      "\n",
      "Current values:\n",
      "ServerApp.iopub_msg_rate_limit=1000.0 (msgs/sec)\n",
      "ServerApp.rate_limit_window=3.0 (secs)\n",
      "\n"
     ]
    },
    {
     "name": "stdout",
     "output_type": "stream",
     "text": [
      "[================================================--] 96.4% 924.1/958.4MB downloaded"
     ]
    },
    {
     "name": "stderr",
     "output_type": "stream",
     "text": [
      "IOPub message rate exceeded.\n",
      "The Jupyter server will temporarily stop sending output\n",
      "to the client in order to avoid crashing it.\n",
      "To change this limit, set the config variable\n",
      "`--ServerApp.iopub_msg_rate_limit`.\n",
      "\n",
      "Current values:\n",
      "ServerApp.iopub_msg_rate_limit=1000.0 (msgs/sec)\n",
      "ServerApp.rate_limit_window=3.0 (secs)\n",
      "\n"
     ]
    },
    {
     "name": "stdout",
     "output_type": "stream",
     "text": [
      "\n"
     ]
    }
   ],
   "source": [
    "ft_model = api.load('fasttext-wiki-news-subwords-300')"
   ]
  },
  {
   "cell_type": "markdown",
   "id": "muU1sPbegyEI",
   "metadata": {
    "id": "muU1sPbegyEI"
   },
   "source": [
    "This model provides different functions. For instance, we can get the embedding\n",
    "for a certain word."
   ]
  },
  {
   "cell_type": "code",
   "execution_count": 4,
   "id": "l-G0MeS7gtQU",
   "metadata": {
    "id": "l-G0MeS7gtQU"
   },
   "outputs": [
    {
     "name": "stdout",
     "output_type": "stream",
     "text": [
      "Vector for 'queen':\n",
      "[-0.064354   -0.016745    0.0055719   0.046697   -0.0034301  -0.0086722\n",
      "  0.066335   -0.096579    0.11012     0.070567    0.078118    0.0059208\n",
      "  0.031092    0.052525    0.001381    0.11743     0.10011    -0.043335\n",
      "  0.021653    0.02551    -0.053522    0.0019187   0.011458    0.049964\n",
      "  0.12089    -0.0091803   0.028716    0.069817    0.079304   -0.0032881\n",
      " -0.021254   -0.089495   -0.098984    0.048199   -0.033486    0.0016479\n",
      "  0.037872   -0.0037018  -0.021568    0.046374    0.024542   -0.12828\n",
      " -0.078246   -0.049814    0.019691    0.062418   -0.038425    0.0031981\n",
      " -0.037104    0.021476    0.063358   -0.052323    0.0053256  -0.038504\n",
      " -0.035866   -0.15581     0.0027045   0.063519   -0.118      -0.044584\n",
      " -0.048999   -0.066992    0.11157     0.013788   -0.025527    0.06349\n",
      "  0.018855    0.018128    0.047115   -0.077935   -0.023266   -0.0068285\n",
      "  0.080091   -0.050579    0.038512    0.096753   -0.010271    0.0078194\n",
      " -0.036165    0.059298    0.00605     0.066124   -0.0080974   0.070428\n",
      " -0.05337     0.01108     0.070306   -0.0093833   0.0017168  -0.068062\n",
      " -0.071284    0.0078358  -0.12763    -0.073157    0.018425    0.13801\n",
      "  0.013699    0.027085   -0.033374   -0.029158    0.034787    0.10511\n",
      "  0.11568    -0.0022213  -0.035202   -0.17562     0.059214   -0.02914\n",
      "  0.0087891   0.034826   -0.01584     0.12517     0.083622   -0.040665\n",
      "  0.018205    0.017028    0.065247   -0.0056508  -0.03463     0.044365\n",
      " -0.014538    0.08961    -0.088897   -0.03658     0.060486    0.034857\n",
      "  0.08935    -0.13605     0.060718    0.089091   -0.059207    0.030643\n",
      " -0.0049577  -0.047999   -0.030065   -0.03409    -0.1078      0.070311\n",
      "  0.0010633  -0.041182    0.043224   -0.037505    0.12257    -0.051172\n",
      "  0.017692    0.030407    0.053986   -0.04404    -0.0067477  -0.058847\n",
      "  0.02837     0.026377    0.040541   -0.049575   -0.026702   -0.082932\n",
      " -0.021553   -0.0012923  -0.075805   -0.019277    0.048822    0.042775\n",
      " -0.065193   -0.027282   -0.002586    0.020858   -0.069937    0.028012\n",
      " -0.078569    0.045672   -0.022797   -0.043843   -0.061746   -0.11441\n",
      "  0.049394    0.071756    0.037812    0.036399   -0.02265     0.091399\n",
      "  0.11145     0.031704   -0.073673   -0.074267   -0.056644   -0.071307\n",
      " -0.14645     0.098115    0.018139    0.0060759   0.074047    0.092537\n",
      " -0.083081   -0.018948   -0.078365    0.0015728  -0.027083   -0.012031\n",
      " -0.029616    0.037799   -0.17496     0.049496    0.014582    0.065903\n",
      " -0.030257    0.11635    -0.02985    -0.15554     0.0048894  -0.069523\n",
      "  0.12866    -0.060992   -0.0061457   0.18691    -0.026988    0.053818\n",
      "  0.013805    0.055493    0.077983    0.013257    0.02838     0.00085946\n",
      " -0.070623    0.12906     0.017967   -0.095485    0.087297    0.091118\n",
      " -0.027876   -0.022267   -0.016351   -0.03496    -0.075196   -0.046603\n",
      "  0.037658    0.021273   -0.0022044  -0.052356    0.10417    -0.075925\n",
      "  0.082034   -0.076912   -0.099421    0.039247    0.021771    0.078131\n",
      "  0.064974    0.030119    0.039035    0.03629     0.12099     0.01488\n",
      "  0.0052522   0.027201    0.093773    0.12111    -0.063275    0.043794\n",
      "  0.14759    -0.047878   -0.067855    0.10981     0.05618     0.016496\n",
      "  0.084143   -0.012887   -0.11952     0.059024   -0.06076    -0.024439\n",
      " -0.0049257   0.10149    -0.12833     0.0048073   0.035974   -0.054663\n",
      " -0.018673   -0.11643    -0.057776    0.027306    0.065554   -0.0049041\n",
      "  0.097843   -0.035342   -0.013509    0.14074     0.0058156  -0.072961\n",
      " -0.01491     0.058424   -0.055633    0.0002608  -0.062154   -0.051738\n",
      " -0.043163    0.0062134  -0.0028704   0.07313     0.062217    0.097829  ]\n"
     ]
    }
   ],
   "source": [
    "vector = ft_model['queen']\n",
    "print(f\"Vector for 'queen':\\n{vector}\")"
   ]
  },
  {
   "cell_type": "markdown",
   "id": "bxWuUXEyhODr",
   "metadata": {
    "id": "bxWuUXEyhODr"
   },
   "source": [
    "We can find the most similar words to a word we specify."
   ]
  },
  {
   "cell_type": "code",
   "execution_count": 5,
   "id": "zRadFiNxhM6w",
   "metadata": {
    "id": "zRadFiNxhM6w"
   },
   "outputs": [
    {
     "name": "stdout",
     "output_type": "stream",
     "text": [
      "Most similar words to 'queen':\n",
      "[('queens', 0.844092607498169), ('king', 0.7704245448112488), ('queendom', 0.7570821642875671), ('queen-', 0.7529805302619934), ('queening', 0.7524276375770569)]\n"
     ]
    }
   ],
   "source": [
    "similar_words = ft_model.most_similar('queen', topn=5)\n",
    "print(f\"Most similar words to 'queen':\\n{similar_words}\")"
   ]
  },
  {
   "cell_type": "markdown",
   "id": "0_EWr5MJh0BX",
   "metadata": {
    "id": "0_EWr5MJh0BX"
   },
   "source": [
    "We can calculate the similarity between two words."
   ]
  },
  {
   "cell_type": "code",
   "execution_count": 6,
   "id": "S2MlJuQ9hywq",
   "metadata": {
    "id": "S2MlJuQ9hywq"
   },
   "outputs": [
    {
     "name": "stdout",
     "output_type": "stream",
     "text": [
      "Similarity between 'woman' and 'man':\n",
      "0.8119807839393616\n"
     ]
    }
   ],
   "source": [
    "similarity = ft_model.similarity('woman', 'man')\n",
    "print(f\"Similarity between 'woman' and 'man':\\n{similarity}\")"
   ]
  },
  {
   "cell_type": "markdown",
   "id": "Z9_LSvsGh79K",
   "metadata": {
    "id": "Z9_LSvsGh79K"
   },
   "source": [
    "Or the distance (dissimliarity) between two words.\n",
    "\n",
    "\n"
   ]
  },
  {
   "cell_type": "code",
   "execution_count": 7,
   "id": "lLbR8Xquh4FU",
   "metadata": {
    "id": "lLbR8Xquh4FU"
   },
   "outputs": [
    {
     "name": "stdout",
     "output_type": "stream",
     "text": [
      "Distance between 'woman' and 'man':\n",
      "0.18801921606063843\n"
     ]
    }
   ],
   "source": [
    "distance = ft_model.distance('woman', 'man')\n",
    "print(f\"Distance between 'woman' and 'man':\\n{distance}\")"
   ]
  },
  {
   "cell_type": "markdown",
   "id": "T5ve6dFlhfNs",
   "metadata": {
    "id": "T5ve6dFlhfNs"
   },
   "source": [
    "We can specify a list and find the word that does not match the group."
   ]
  },
  {
   "cell_type": "code",
   "execution_count": 8,
   "id": "Zfa8Wbf2her6",
   "metadata": {
    "id": "Zfa8Wbf2her6"
   },
   "outputs": [
    {
     "name": "stdout",
     "output_type": "stream",
     "text": [
      "Odd word out: car\n"
     ]
    }
   ],
   "source": [
    "odd_word = ft_model.doesnt_match(['breakfast', 'lunch', 'dinner', 'car'])\n",
    "print(f\"Odd word out: {odd_word}\")"
   ]
  },
  {
   "cell_type": "markdown",
   "id": "RZSGBA3RjRXw",
   "metadata": {
    "id": "RZSGBA3RjRXw"
   },
   "source": [
    "We can also find words by analogy (e.g., \"man is to king as woman is to ___\"):"
   ]
  },
  {
   "cell_type": "code",
   "execution_count": 9,
   "id": "LxJlJVqajMM2",
   "metadata": {
    "id": "LxJlJVqajMM2"
   },
   "outputs": [
    {
     "name": "stdout",
     "output_type": "stream",
     "text": [
      "Man is to king as woman is to: [('queen', 0.7786749005317688)]\n"
     ]
    }
   ],
   "source": [
    "analogy = ft_model.most_similar(positive=['king', 'woman'], negative=['man'], topn=1)\n",
    "print(f\"Man is to king as woman is to: {analogy}\")"
   ]
  },
  {
   "cell_type": "markdown",
   "id": "4a599241-d46b-41f1-a15e-4cb714fe312c",
   "metadata": {},
   "source": [
    "To better understand what is going on, we do the math behind the above function call. The embedding of  `man` is subtracted from the embedding of `king` to give the \"royalty\" direction. If we add that the the embedding value of `woman`, we get the `queen_vector`, and expect this to be close to the embedding of `queen`. Let's see:"
   ]
  },
  {
   "cell_type": "code",
   "execution_count": 10,
   "id": "0ad42cf0-149c-41ae-919e-7111378c75ba",
   "metadata": {},
   "outputs": [
    {
     "data": {
      "text/plain": [
       "[('king', 0.8185327053070068),\n",
       " ('queen', 0.7570335865020752),\n",
       " ('queen-mother', 0.6896809339523315),\n",
       " ('king-', 0.6787333488464355),\n",
       " ('queen-consort', 0.6555202603340149)]"
      ]
     },
     "execution_count": 10,
     "metadata": {},
     "output_type": "execute_result"
    }
   ],
   "source": [
    "queen_vector = ft_model['king'] - ft_model['man'] + ft_model['woman']\n",
    "ft_model.most_similar(queen_vector, topn=5)"
   ]
  },
  {
   "cell_type": "markdown",
   "id": "tSpFTJZCiMpD",
   "metadata": {
    "id": "tSpFTJZCiMpD"
   },
   "source": [
    "**Exercise:**\n",
    "\n",
    "Now it is your turn. Complete the following tasks:\n",
    "1.  Find the 3 most similar words to the word 'university'.\n",
    "2.  Calculate the similarity between the words 'computer' and 'robot'. Compare it to the similarity between 'computer' and 'tablet'.\n",
    "3.  Calculate the distance between 'queen' and 'king. Compare it to the distance between 'prince' and 'princess'.\n",
    "4.  Find the odd word from the list `['Monday', 'Tuesday', 'March', 'Wednesday']`\n",
    "5.  Find the analogy for: \"man is to father as woman is to ___ \""
   ]
  },
  {
   "cell_type": "markdown",
   "id": "6b580f19",
   "metadata": {},
   "source": [
    "**Solutions:**"
   ]
  },
  {
   "cell_type": "code",
   "execution_count": 11,
   "id": "23ba1a4e",
   "metadata": {},
   "outputs": [
    {
     "name": "stdout",
     "output_type": "stream",
     "text": [
      "Most similar words to 'university':\n",
      "[('college', 0.8344717621803284), ('university-college', 0.7878896594047546), ('non-university', 0.772835910320282)]\n"
     ]
    }
   ],
   "source": [
    "# Task 1:\n",
    "similar_words = ft_model.most_similar('university', topn=3)\n",
    "print(f\"Most similar words to 'university':\\n{similar_words}\")"
   ]
  },
  {
   "cell_type": "code",
   "execution_count": 12,
   "id": "059eaa83",
   "metadata": {},
   "outputs": [
    {
     "name": "stdout",
     "output_type": "stream",
     "text": [
      "Similarity between 'compter' and 'robot': 0.5431315302848816\n",
      "Similarity between 'compter' and 'tablet': 0.5058401823043823\n"
     ]
    }
   ],
   "source": [
    "# Task 2:\n",
    "similarity1 = ft_model.similarity('computer', 'robot')\n",
    "print(f\"Similarity between 'compter' and 'robot': {similarity1}\")\n",
    "\n",
    "similarity2 = ft_model.similarity('computer', 'tablet')\n",
    "print(f\"Similarity between 'compter' and 'tablet': {similarity2}\")"
   ]
  },
  {
   "cell_type": "code",
   "execution_count": 13,
   "id": "b8pxnMt8i7tw",
   "metadata": {
    "id": "b8pxnMt8i7tw"
   },
   "outputs": [
    {
     "name": "stdout",
     "output_type": "stream",
     "text": [
      "Distance between 'queen' and 'king': 0.22957539558410645\n"
     ]
    }
   ],
   "source": [
    "# Task 3:\n",
    "distance = ft_model.distance('queen', 'king')\n",
    "print(f\"Distance between 'queen' and 'king': {distance}\")"
   ]
  },
  {
   "cell_type": "code",
   "execution_count": 14,
   "id": "4efde38a",
   "metadata": {},
   "outputs": [
    {
     "name": "stdout",
     "output_type": "stream",
     "text": [
      "Odd word out: March\n"
     ]
    }
   ],
   "source": [
    "# Task 4:\n",
    "odd_word = ft_model.doesnt_match(['Monday', 'Tuesday', 'March', 'Wednesday'])\n",
    "print(f\"Odd word out: {odd_word}\")"
   ]
  },
  {
   "cell_type": "code",
   "execution_count": 15,
   "id": "762b8917",
   "metadata": {},
   "outputs": [
    {
     "name": "stdout",
     "output_type": "stream",
     "text": [
      "Man is to father as woman is to ___ : [('mother', 0.8586793541908264)]\n"
     ]
    }
   ],
   "source": [
    "# Task 5:\n",
    "analogy = ft_model.most_similar(positive=['father', 'woman'], negative=['man'], topn=1)\n",
    "print(f\"Man is to father as woman is to ___ : {analogy}\")"
   ]
  },
  {
   "cell_type": "markdown",
   "id": "753fdeb4",
   "metadata": {},
   "source": [
    "**(End of Solution)**"
   ]
  },
  {
   "cell_type": "code",
   "execution_count": null,
   "id": "8ec69fec",
   "metadata": {},
   "outputs": [],
   "source": []
  }
 ],
 "metadata": {
  "accelerator": "GPU",
  "colab": {
   "gpuType": "T4",
   "provenance": []
  },
  "kernelspec": {
   "display_name": "Python 3 (ipykernel)",
   "language": "python",
   "name": "python3"
  },
  "language_info": {
   "codemirror_mode": {
    "name": "ipython",
    "version": 3
   },
   "file_extension": ".py",
   "mimetype": "text/x-python",
   "name": "python",
   "nbconvert_exporter": "python",
   "pygments_lexer": "ipython3",
   "version": "3.10.11"
  }
 },
 "nbformat": 4,
 "nbformat_minor": 5
}
