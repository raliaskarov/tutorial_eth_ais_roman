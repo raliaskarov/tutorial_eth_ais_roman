{
 "cells": [
  {
   "cell_type": "markdown",
   "metadata": {
    "id": "3qLvl1v98A4_"
   },
   "source": [
    "# Simple Sentiment Classification: Bag of Words\n",
    "\n",
    "In this notebook, we consider *sentiment classification*, a standard task in natural language processing. Based on a review of a movie (or a restaurant, hotel, etc.), we want to predict whether the person liked the movie or not. As an example, we use a data set provided by the International Movie Database website www.imdb.com. The provided reviews are labeled with a binary rating whether they are positive (label 1) or negative (label 0)."
   ]
  },
  {
   "cell_type": "markdown",
   "metadata": {
    "id": "X8DKB6tD88y-"
   },
   "source": [
    "## Set-up\n",
    "First of all, we need to load the libraries that we will need for this task. We will use keras and tensorflow for this code example, so we load the relevant parts of this framework:"
   ]
  },
  {
   "cell_type": "code",
   "execution_count": 1,
   "metadata": {},
   "outputs": [
    {
     "name": "stdout",
     "output_type": "stream",
     "text": [
      "Requirement already satisfied: tensorflow_datasets in /opt/conda/lib/python3.10/site-packages (4.9.9)\n",
      "Requirement already satisfied: absl-py in /opt/conda/lib/python3.10/site-packages (from tensorflow_datasets) (2.3.1)\n",
      "Requirement already satisfied: array_record>=0.5.0 in /opt/conda/lib/python3.10/site-packages (from tensorflow_datasets) (0.8.1)\n",
      "Requirement already satisfied: dm-tree in /opt/conda/lib/python3.10/site-packages (from tensorflow_datasets) (0.1.9)\n",
      "Requirement already satisfied: etils>=1.6.0 in /opt/conda/lib/python3.10/site-packages (from etils[edc,enp,epath,epy,etree]>=1.6.0; python_version < \"3.11\"->tensorflow_datasets) (1.13.0)\n",
      "Requirement already satisfied: immutabledict in /opt/conda/lib/python3.10/site-packages (from tensorflow_datasets) (4.2.1)\n",
      "Requirement already satisfied: numpy in /opt/conda/lib/python3.10/site-packages (from tensorflow_datasets) (1.26.4)\n",
      "Requirement already satisfied: promise in /opt/conda/lib/python3.10/site-packages (from tensorflow_datasets) (2.3)\n",
      "Requirement already satisfied: protobuf>=3.20 in /opt/conda/lib/python3.10/site-packages (from tensorflow_datasets) (4.21.12)\n",
      "Requirement already satisfied: psutil in /opt/conda/lib/python3.10/site-packages (from tensorflow_datasets) (5.9.5)\n",
      "Requirement already satisfied: pyarrow in /opt/conda/lib/python3.10/site-packages (from tensorflow_datasets) (19.0.1)\n",
      "Requirement already satisfied: requests>=2.19.0 in /opt/conda/lib/python3.10/site-packages (from tensorflow_datasets) (2.32.3)\n",
      "Requirement already satisfied: simple_parsing in /opt/conda/lib/python3.10/site-packages (from tensorflow_datasets) (0.1.7)\n",
      "Requirement already satisfied: tensorflow-metadata in /opt/conda/lib/python3.10/site-packages (from tensorflow_datasets) (1.17.2)\n",
      "Requirement already satisfied: termcolor in /opt/conda/lib/python3.10/site-packages (from tensorflow_datasets) (3.1.0)\n",
      "Requirement already satisfied: toml in /opt/conda/lib/python3.10/site-packages (from tensorflow_datasets) (0.10.2)\n",
      "Requirement already satisfied: tqdm in /opt/conda/lib/python3.10/site-packages (from tensorflow_datasets) (4.67.1)\n",
      "Requirement already satisfied: wrapt in /opt/conda/lib/python3.10/site-packages (from tensorflow_datasets) (1.17.2)\n",
      "Requirement already satisfied: typing_extensions in /opt/conda/lib/python3.10/site-packages (from etils[edc,enp,epath,epy,etree]>=1.6.0; python_version < \"3.11\"->tensorflow_datasets) (4.12.2)\n",
      "Requirement already satisfied: fsspec in /opt/conda/lib/python3.10/site-packages (from etils[edc,enp,epath,epy,etree]>=1.6.0; python_version < \"3.11\"->tensorflow_datasets) (2024.12.0)\n",
      "Requirement already satisfied: importlib_resources in /opt/conda/lib/python3.10/site-packages (from etils[edc,enp,epath,epy,etree]>=1.6.0; python_version < \"3.11\"->tensorflow_datasets) (5.12.0)\n",
      "Requirement already satisfied: zipp in /opt/conda/lib/python3.10/site-packages (from etils[edc,enp,epath,epy,etree]>=1.6.0; python_version < \"3.11\"->tensorflow_datasets) (3.15.0)\n",
      "Requirement already satisfied: einops in /opt/conda/lib/python3.10/site-packages (from etils[edc,enp,epath,epy,etree]>=1.6.0; python_version < \"3.11\"->tensorflow_datasets) (0.8.1)\n",
      "Requirement already satisfied: charset-normalizer<4,>=2 in /opt/conda/lib/python3.10/site-packages (from requests>=2.19.0->tensorflow_datasets) (3.1.0)\n",
      "Requirement already satisfied: idna<4,>=2.5 in /opt/conda/lib/python3.10/site-packages (from requests>=2.19.0->tensorflow_datasets) (3.4)\n",
      "Requirement already satisfied: urllib3<3,>=1.21.1 in /opt/conda/lib/python3.10/site-packages (from requests>=2.19.0->tensorflow_datasets) (2.0.2)\n",
      "Requirement already satisfied: certifi>=2017.4.17 in /opt/conda/lib/python3.10/site-packages (from requests>=2.19.0->tensorflow_datasets) (2024.8.30)\n",
      "Requirement already satisfied: attrs>=18.2.0 in /opt/conda/lib/python3.10/site-packages (from dm-tree->tensorflow_datasets) (23.1.0)\n",
      "Requirement already satisfied: six in /opt/conda/lib/python3.10/site-packages (from promise->tensorflow_datasets) (1.16.0)\n",
      "Requirement already satisfied: docstring-parser<1.0,>=0.15 in /opt/conda/lib/python3.10/site-packages (from simple_parsing->tensorflow_datasets) (0.17.0)\n"
     ]
    }
   ],
   "source": [
    "!pip install tensorflow_datasets"
   ]
  },
  {
   "cell_type": "code",
   "execution_count": 2,
   "metadata": {
    "id": "r2mlKlDL9Sqx"
   },
   "outputs": [
    {
     "name": "stderr",
     "output_type": "stream",
     "text": [
      "2025-09-15 14:58:06.085400: I tensorflow/core/util/port.cc:113] oneDNN custom operations are on. You may see slightly different numerical results due to floating-point round-off errors from different computation orders. To turn them off, set the environment variable `TF_ENABLE_ONEDNN_OPTS=0`.\n",
      "2025-09-15 14:58:06.119638: E external/local_xla/xla/stream_executor/cuda/cuda_dnn.cc:9261] Unable to register cuDNN factory: Attempting to register factory for plugin cuDNN when one has already been registered\n",
      "2025-09-15 14:58:06.119669: E external/local_xla/xla/stream_executor/cuda/cuda_fft.cc:607] Unable to register cuFFT factory: Attempting to register factory for plugin cuFFT when one has already been registered\n",
      "2025-09-15 14:58:06.120653: E external/local_xla/xla/stream_executor/cuda/cuda_blas.cc:1515] Unable to register cuBLAS factory: Attempting to register factory for plugin cuBLAS when one has already been registered\n",
      "2025-09-15 14:58:06.126744: I tensorflow/core/platform/cpu_feature_guard.cc:182] This TensorFlow binary is optimized to use available CPU instructions in performance-critical operations.\n",
      "To enable the following instructions: AVX2 AVX512F AVX512_VNNI FMA, in other operations, rebuild TensorFlow with the appropriate compiler flags.\n",
      "2025-09-15 14:58:06.764357: W tensorflow/compiler/tf2tensorrt/utils/py_utils.cc:38] TF-TRT Warning: Could not find TensorRT\n"
     ]
    }
   ],
   "source": [
    "import numpy as np\n",
    "import tensorflow as tf\n",
    "import tensorflow_datasets as tfds"
   ]
  },
  {
   "cell_type": "code",
   "execution_count": 3,
   "metadata": {
    "id": "Lmpc4ffC9tuz"
   },
   "outputs": [],
   "source": [
    "from tensorflow.keras.models import Sequential\n",
    "from tensorflow.keras.layers import Dense, Activation, Dropout\n",
    "from tensorflow.keras.layers import Input, TextVectorization, Embedding, Conv1D, Flatten, LSTM, Bidirectional, GlobalAveragePooling1D, GlobalMaxPooling1D\n",
    "from tensorflow.keras.losses import BinaryCrossentropy\n",
    "from tensorflow.keras.optimizers import Adam, RMSprop\n",
    "from tensorflow.keras.utils import to_categorical\n",
    "from tensorflow.keras.callbacks import EarlyStopping\n",
    "from tensorflow.keras.initializers import Constant"
   ]
  },
  {
   "cell_type": "code",
   "execution_count": 4,
   "metadata": {
    "id": "yjdwz9uU9vZM"
   },
   "outputs": [],
   "source": [
    "# initialize random number generators to ensure reproducibility:\n",
    "tf.random.set_seed(123)\n",
    "np.random.seed(123)"
   ]
  },
  {
   "cell_type": "code",
   "execution_count": 5,
   "metadata": {
    "id": "k9CKWApuMOFW"
   },
   "outputs": [],
   "source": [
    "# some more general libraries for evaluation purposes:\n",
    "import matplotlib.pyplot as plt\n",
    "import datetime"
   ]
  },
  {
   "cell_type": "code",
   "execution_count": 6,
   "metadata": {
    "id": "lDEXL2hrf20K"
   },
   "outputs": [],
   "source": [
    "# set some model parameters\n",
    "VOCAB_SIZE = 5000\n",
    "NUM_EPOCHS = 50 # set lower for fast results - set higher for good results\n",
    "BUFFER_SIZE = 500\n",
    "BATCH_SIZE = 500\n",
    "EMBED_DIM = 100\n",
    "MAX_LEN = 200"
   ]
  },
  {
   "cell_type": "code",
   "execution_count": 7,
   "metadata": {
    "id": "g78CtSlGIuT3"
   },
   "outputs": [],
   "source": [
    "# Configurations\n",
    "tf.config.run_functions_eagerly(True)\n",
    "\n",
    "import os\n",
    "os.environ[\"KMP_DUPLICATE_LIB_OK\"]=\"TRUE\""
   ]
  },
  {
   "cell_type": "markdown",
   "metadata": {
    "id": "zkIem1L292T5"
   },
   "source": [
    "## Loading the Data\n",
    "The IMDb data set is available via the library `tensorflow_datasets`, which allows for easy access. The data is already split into a TRAIN and TEST set, each containing 25'000 labeled reviews. In order to obtain also a validation set, we further divide the TRAIN data set into 80% training and 20% validation data. The labels come directly with the respective texts:"
   ]
  },
  {
   "cell_type": "code",
   "execution_count": 8,
   "metadata": {
    "colab": {
     "base_uri": "https://localhost:8080/",
     "height": 172,
     "referenced_widgets": [
      "f0e1fde3be4143c0a1358cab69cdecf9",
      "bde57028334a42d18e8a1d1133dd434b",
      "cc7d1da697064bf1963a5808fc9157cb",
      "fd2b4e1eee844cada10fbe4a3067922a",
      "950aba0b427f4f91b533d78cbda77ad9",
      "5f71f10b3a89403b9cae37ede4fd85d8",
      "7459ecda568e4481a7d0228cbf7a7c2e",
      "413b883eb992445a88cbfb06d8849d6d",
      "bd23673e3e1846299277a00abcf5a099",
      "69aee8634a654129b360f6d664806199",
      "8138bbda8b8f4e32bb5d9c6d04b3ef73",
      "fcdbf478a2694582929e4bd82958319f",
      "e112516791294d7b897970ccfd0dd93d",
      "99f61437003343d7ada5afd6482ec2e6",
      "a06372fa99324ed4b00ece724bd699d6",
      "111768dee2ee45c2b26a955ece0d411d",
      "d43158a8bda148b3a4a85a3a6c5d818b",
      "3e873fa7e47e40358d52dafb0757d926",
      "f2fd6186764f410fa2497363384aad91",
      "08c4e2d4934144adaf32c6fedcd009b7",
      "fc54b0f61a8f4088bb0ee2b26bc871c8",
      "a51b623080d84f3b912561a7757fa212",
      "9b63c88275ec46b9b1acde5acca49930",
      "dec09525296744558d98c0ee10b7159a",
      "003bbed8be7b4be3b78048d82cfe5273",
      "227daecf854c46308b3760a7eea98c20",
      "b0e7943b125c43fdae587fb3bacf1a96",
      "583f9006b5064d129709941b10b73c37",
      "fca2811546b34579b4ae039db8c3ef30",
      "b5daae736b6241028e8501ab72df5ffb",
      "75d3f32b687744a390051e4bda823309",
      "1800b1bbeadf4fe0994c01af1f4385f7",
      "a91108844b8545eeabc1758c04e10ec4",
      "3b86735de8c94fc299e0c7ff5c70a651",
      "5650782d482b4c39a559dd4da4988285",
      "1fc1a9d23d6b445fbd619443001b80f5",
      "c1928bbac220418da48c7e107ed6cee4",
      "1f4c953b7cfe416daa61669d19c6e677",
      "5f1da7e5a9954a17bd5d2d6521b01fe3",
      "c12e3971f2044fc98f08c3bf91b24350",
      "f06871f44acd43ec863d89797fb5df17",
      "7f1ac566f50f4e72814757fffbc2d622",
      "591f98a6a5504b9ebf7f76c2f05f48dc",
      "183e93aef1de4037be5ac81aa33c4561",
      "a389c10540b94f30a21a311fdc3f27b8",
      "17db27273e6a4e118c652f9ea27caf99",
      "9e1b1bc067a4483fa3c6b5127b0b3e6b",
      "627298b5f7a2488ea6261bf9b35c10ec",
      "5a669e28128b459087895207239fa4d6",
      "1b663f21146142a2adaa72a5f8029c5d",
      "1e15e53e1c654ec39c047252742ed50e",
      "f69cb95537604b548f78a6c1d795d5ab",
      "6b49d737cd1447158462a72641890f19",
      "03c68505170347408993a6c3840e8285",
      "d5551ed11b654003994a7fa3b25647e6",
      "3a311947c61d4d1d922c28b7717ea8b9",
      "b6a63924e2894f9ab70fb8710e71d0f2",
      "e1b36e1e47954770a949f5edeff35ca3",
      "eeb3b7e1dccb4a3881940def10950c3b",
      "6c2f46d680ca4b62a67822403ac67992",
      "47b9bf66f45c4907af105c13c108d66a",
      "378a80e8af184a0897a06105015c94c3",
      "8f1c53d44cf845bbadd759811bf9f5e0",
      "6e6a2aa1f5314545b8810e9bf6e9ea4b",
      "e9dd4d114d82419d90088a9c4148c0af",
      "ba9d70f66fd1492f9c55d6566f86fed9",
      "47733c7133d743d78b12c1a1c8bcab5c",
      "f027466f32464f72a1aba3e6ed45e73e",
      "96c1eab3136c4a77a1b93b9b0178982d",
      "57104e008cda49a09573f0fcb0a25d8d",
      "6df7e79f3afe453988f1af7347734039",
      "bc2a1b1e585d45458cfafb8493f392c3",
      "3c2a23c6d64d4d58b7caad3e69b36e4c",
      "0dd8e5151fe84792b6c662bb2fa452cb",
      "d8329906ee84498c9c02ffe27b562989",
      "951f0d6934324091b9e05e42d93df98c",
      "9f5067e77c8f4346b4ed08116be66729",
      "002ada4bdb3b492d8d92b83b3c194390",
      "411ec8eb7b1a4ef382ccb87784c4efea",
      "6ae51f436e1545739066db8087f001ff",
      "a2a2046d50df4cc9be1b6de70616e2df",
      "ea210267756b4729922be9710210d561",
      "8e3a369d339147979ae6be8179e5b5ce",
      "8f6a94e7a1094df2b7b5eebc45e18805",
      "cf99d29eca5e4d338eede8d890b4e1b2",
      "1031a50e8c9147ebb2ba4505facb5643",
      "e0be0b54027844afbbe2a0f71ff72985",
      "a5ac61c7b87340088d3ff2d9ec69d488",
      "be1746ec51d949d696d1b25cc62a0d74",
      "7e68092dadfb4fa3af7d81bc432b4b3c",
      "009a5328fb3a4b8aaa0ff92b33f13ea5",
      "77e2275c63fd47189d722e7296c8ff49",
      "d5bf802fb9ca48e28697af24869e9ab8",
      "fd2601d8194b4e2c9566293d22725f26",
      "f49a848a17c24886a0c5070ce68d6ee5",
      "89e009419f2b4a59b1886e308b79e7c4",
      "1b6071a8a2e042458c98e0e7a5ee8866",
      "de2c061770ee4a71bd2b93df5e9e9d7e",
      "1284e4b717b84b7882872dbf58dc9177"
     ]
    },
    "id": "b2aEUYnT_uTm",
    "outputId": "6e2ef384-f596-4657-f94e-e3ab93e5b56e"
   },
   "outputs": [
    {
     "name": "stderr",
     "output_type": "stream",
     "text": [
      "WARNING:absl:Variant folder /home/jovyan/tensorflow_datasets/imdb_reviews/plain_text/1.0.0 has no dataset_info.json\n"
     ]
    },
    {
     "name": "stdout",
     "output_type": "stream",
     "text": [
      "\u001b[1mDownloading and preparing dataset Unknown size (download: Unknown size, generated: Unknown size, total: Unknown size) to /home/jovyan/tensorflow_datasets/imdb_reviews/plain_text/1.0.0...\u001b[0m\n"
     ]
    },
    {
     "data": {
      "application/vnd.jupyter.widget-view+json": {
       "model_id": "91ba7af2c98f44c68ddd4391e463f818",
       "version_major": 2,
       "version_minor": 0
      },
      "text/plain": [
       "Dl Completed...: 0 url [00:00, ? url/s]"
      ]
     },
     "metadata": {},
     "output_type": "display_data"
    },
    {
     "data": {
      "application/vnd.jupyter.widget-view+json": {
       "model_id": "4a92ae2e3a6d44988800a68ae3b17b2f",
       "version_major": 2,
       "version_minor": 0
      },
      "text/plain": [
       "Dl Size...: 0 MiB [00:00, ? MiB/s]"
      ]
     },
     "metadata": {},
     "output_type": "display_data"
    },
    {
     "data": {
      "application/vnd.jupyter.widget-view+json": {
       "model_id": "35de67598dcd4b59814fa26ec679969c",
       "version_major": 2,
       "version_minor": 0
      },
      "text/plain": [
       "Generating splits...:   0%|          | 0/3 [00:00<?, ? splits/s]"
      ]
     },
     "metadata": {},
     "output_type": "display_data"
    },
    {
     "data": {
      "application/vnd.jupyter.widget-view+json": {
       "model_id": "ac669306f7884505a284508d9a3e4ba4",
       "version_major": 2,
       "version_minor": 0
      },
      "text/plain": [
       "Generating train examples...: 0 examples [00:00, ? examples/s]"
      ]
     },
     "metadata": {},
     "output_type": "display_data"
    },
    {
     "data": {
      "application/vnd.jupyter.widget-view+json": {
       "model_id": "c032386e77ea478a9f55224b9f4c83d5",
       "version_major": 2,
       "version_minor": 0
      },
      "text/plain": [
       "Shuffling /home/jovyan/tensorflow_datasets/imdb_reviews/plain_text/incomplete.IJW0AC_1.0.0/imdb_reviews-train.…"
      ]
     },
     "metadata": {},
     "output_type": "display_data"
    },
    {
     "data": {
      "application/vnd.jupyter.widget-view+json": {
       "model_id": "4949568c116c4c238ea3ec6d0d445ba0",
       "version_major": 2,
       "version_minor": 0
      },
      "text/plain": [
       "Generating test examples...: 0 examples [00:00, ? examples/s]"
      ]
     },
     "metadata": {},
     "output_type": "display_data"
    },
    {
     "data": {
      "application/vnd.jupyter.widget-view+json": {
       "model_id": "b499ac80bf1c442885433a107636a490",
       "version_major": 2,
       "version_minor": 0
      },
      "text/plain": [
       "Shuffling /home/jovyan/tensorflow_datasets/imdb_reviews/plain_text/incomplete.IJW0AC_1.0.0/imdb_reviews-test.t…"
      ]
     },
     "metadata": {},
     "output_type": "display_data"
    },
    {
     "data": {
      "application/vnd.jupyter.widget-view+json": {
       "model_id": "628496548ec247368442b41adf0afdb9",
       "version_major": 2,
       "version_minor": 0
      },
      "text/plain": [
       "Generating unsupervised examples...: 0 examples [00:00, ? examples/s]"
      ]
     },
     "metadata": {},
     "output_type": "display_data"
    },
    {
     "data": {
      "application/vnd.jupyter.widget-view+json": {
       "model_id": "07def068ad234230a15a1fefeb48ddb6",
       "version_major": 2,
       "version_minor": 0
      },
      "text/plain": [
       "Shuffling /home/jovyan/tensorflow_datasets/imdb_reviews/plain_text/incomplete.IJW0AC_1.0.0/imdb_reviews-unsupe…"
      ]
     },
     "metadata": {},
     "output_type": "display_data"
    },
    {
     "name": "stdout",
     "output_type": "stream",
     "text": [
      "\u001b[1mDataset imdb_reviews downloaded and prepared to /home/jovyan/tensorflow_datasets/imdb_reviews/plain_text/1.0.0. Subsequent calls will reuse this data.\u001b[0m\n"
     ]
    },
    {
     "name": "stderr",
     "output_type": "stream",
     "text": [
      "/home/jovyan/tensorflow-venv/lib/python3.10/site-packages/tensorflow/python/data/ops/structured_function.py:258: UserWarning: Even though the `tf.config.experimental_run_functions_eagerly` option is set, this option does not apply to tf.data functions. To force eager execution of tf.data functions, please use `tf.data.experimental.enable_debug_mode()`.\n",
      "  warnings.warn(\n"
     ]
    }
   ],
   "source": [
    "train_ds, val_ds, test_ds = tfds.load(\n",
    "    name = \"imdb_reviews\",\n",
    "    split = [ 'train[:80%]', 'train[80%:]', 'test' ],\n",
    "    as_supervised = True)"
   ]
  },
  {
   "cell_type": "markdown",
   "metadata": {
    "id": "rK8P_crGBJYe"
   },
   "source": [
    "The data sets are of a special data type which is optimized for handling large amounts of data and processing them on mulitple machines in parallel. We can get the number of samples as follows:"
   ]
  },
  {
   "cell_type": "code",
   "execution_count": 9,
   "metadata": {
    "colab": {
     "base_uri": "https://localhost:8080/"
    },
    "id": "PJH762iE_0Sn",
    "outputId": "ef0ef750-8c39-4884-c5d5-d23218de6f42"
   },
   "outputs": [
    {
     "data": {
      "text/plain": [
       "<tf.Tensor: shape=(), dtype=int64, numpy=20000>"
      ]
     },
     "execution_count": 9,
     "metadata": {},
     "output_type": "execute_result"
    }
   ],
   "source": [
    "train_ds.cardinality()"
   ]
  },
  {
   "cell_type": "markdown",
   "metadata": {
    "id": "X8MNlsBUA9Kr"
   },
   "source": [
    "First we look at some examples from the training data set:"
   ]
  },
  {
   "cell_type": "code",
   "execution_count": 10,
   "metadata": {
    "colab": {
     "base_uri": "https://localhost:8080/"
    },
    "id": "Cd5o9P7gBaqe",
    "outputId": "b994d857-a70e-42f8-d046-890bcb6b07c5"
   },
   "outputs": [
    {
     "name": "stdout",
     "output_type": "stream",
     "text": [
      "Input:  tf.Tensor(b\"This was an absolutely terrible movie. Don't be lured in by Christopher Walken or Michael Ironside. Both are great actors, but this must simply be their worst role in history. Even their great acting could not redeem this movie's ridiculous storyline. This movie is an early nineties US propaganda piece. The most pathetic scenes were those when the Columbian rebels were making their cases for revolutions. Maria Conchita Alonso appeared phony, and her pseudo-love affair with Walken was nothing but a pathetic emotional plug in a movie that was devoid of any real meaning. I am disappointed that there are movies like this, ruining actor's like Christopher Walken's good name. I could barely sit through it.\", shape=(), dtype=string)\n",
      "..........\n",
      "Target labels:  tf.Tensor(0, shape=(), dtype=int64)\n",
      "--------------------------------------------------\n",
      "Input:  tf.Tensor(b'I have been known to fall asleep during films, but this is usually due to a combination of things including, really tired, being warm and comfortable on the sette and having just eaten a lot. However on this occasion I fell asleep because the film was rubbish. The plot development was constant. Constantly slow and boring. Things seemed to happen, but with no explanation of what was causing them or why. I admit, I may have missed part of the film, but i watched the majority of it and everything just seemed to happen of its own accord without any real concern for anything else. I cant recommend this film at all.', shape=(), dtype=string)\n",
      "..........\n",
      "Target labels:  tf.Tensor(0, shape=(), dtype=int64)\n",
      "--------------------------------------------------\n",
      "Input:  tf.Tensor(b'Mann photographs the Alberta Rocky Mountains in a superb fashion, and Jimmy Stewart and Walter Brennan give enjoyable performances as they always seem to do. <br /><br />But come on Hollywood - a Mountie telling the people of Dawson City, Yukon to elect themselves a marshal (yes a marshal!) and to enforce the law themselves, then gunfighters battling it out on the streets for control of the town? <br /><br />Nothing even remotely resembling that happened on the Canadian side of the border during the Klondike gold rush. Mr. Mann and company appear to have mistaken Dawson City for Deadwood, the Canadian North for the American Wild West.<br /><br />Canadian viewers be prepared for a Reefer Madness type of enjoyable howl with this ludicrous plot, or, to shake your head in disgust.', shape=(), dtype=string)\n",
      "..........\n",
      "Target labels:  tf.Tensor(0, shape=(), dtype=int64)\n",
      "--------------------------------------------------\n",
      "Input:  tf.Tensor(b'This is the kind of film for a snowy Sunday afternoon when the rest of the world can go ahead with its own business as you descend into a big arm-chair and mellow for a couple of hours. Wonderful performances from Cher and Nicolas Cage (as always) gently row the plot along. There are no rapids to cross, no dangerous waters, just a warm and witty paddle through New York life at its best. A family film in every sense and one that deserves the praise it received.', shape=(), dtype=string)\n",
      "..........\n",
      "Target labels:  tf.Tensor(1, shape=(), dtype=int64)\n",
      "--------------------------------------------------\n",
      "Input:  tf.Tensor(b'As others have mentioned, all the women that go nude in this film are mostly absolutely gorgeous. The plot very ably shows the hypocrisy of the female libido. When men are around they want to be pursued, but when no \"men\" are around, they become the pursuers of a 14 year old boy. And the boy becomes a man really fast (we should all be so lucky at this age!). He then gets up the courage to pursue his true love.', shape=(), dtype=string)\n",
      "..........\n",
      "Target labels:  tf.Tensor(1, shape=(), dtype=int64)\n",
      "--------------------------------------------------\n"
     ]
    },
    {
     "name": "stderr",
     "output_type": "stream",
     "text": [
      "2025-09-15 14:58:41.129287: W tensorflow/core/kernels/data/cache_dataset_ops.cc:858] The calling iterator did not fully read the dataset being cached. In order to avoid unexpected truncation of the dataset, the partially cached contents of the dataset  will be discarded. This can happen if you have an input pipeline similar to `dataset.cache().take(k).repeat()`. You should use `dataset.take(k).cache().repeat()` instead.\n"
     ]
    }
   ],
   "source": [
    "for example, label in train_ds.take(5):\n",
    "  print(\"Input: \", example)\n",
    "  print(10*\".\")\n",
    "  print('Target labels: ', label)\n",
    "  print(50*\"-\")"
   ]
  },
  {
   "cell_type": "markdown",
   "metadata": {
    "id": "vBbodQjwBdLj"
   },
   "source": [
    "## Text Representation: Bag of Words\n",
    "The text is raw text, without a lot of formatting, but it also includes some html tags. For a first try, we will start with a simple `TextVectorization` layer, that is similar to a bag of word. We will use a vocabulary size of 5000 words:"
   ]
  },
  {
   "cell_type": "code",
   "execution_count": 11,
   "metadata": {
    "id": "gOvI4kvACq6_"
   },
   "outputs": [],
   "source": [
    "encoderBoW = TextVectorization(output_mode = \"count\", max_tokens=VOCAB_SIZE)\n",
    "encoderBoW.adapt(train_ds.map(lambda text, label: text))"
   ]
  },
  {
   "cell_type": "markdown",
   "metadata": {
    "id": "yIBS_Oh2Cxnm"
   },
   "source": [
    "The `.adapt()` method chooses the vocabulary of the layer based on the training data - this corresponds to a kind of training, but is done in an explicit step (essentially counting and sorting). The function `map(lambda text, label: text)` ensures that we only use the texts from the `train_ds` data set (and leave out the labels for the moment).\n",
    "\n",
    "As we work with a `VOCAB_SIZE` of 5000, chances are high that some of the words will not be represented in the vocabulary. The `.adapt()` will return the most common 4999 words, and all  other words are represented as `[UNK]` (for *unknown*). The tokens are sorted in descending order of frequency. Here are the first 20 tokens (i.e., the most frequent ones):"
   ]
  },
  {
   "cell_type": "code",
   "execution_count": 12,
   "metadata": {
    "colab": {
     "base_uri": "https://localhost:8080/"
    },
    "id": "F4LculaADwBc",
    "outputId": "e838299e-ca11-4a2f-ac82-2bbbd5098b59"
   },
   "outputs": [
    {
     "data": {
      "text/plain": [
       "array(['[UNK]', 'the', 'and', 'a', 'of', 'to', 'is', 'in', 'it', 'i',\n",
       "       'this', 'that', 'br', 'was', 'as', 'for', 'with', 'movie', 'but',\n",
       "       'film'], dtype='<U16')"
      ]
     },
     "execution_count": 12,
     "metadata": {},
     "output_type": "execute_result"
    }
   ],
   "source": [
    "vocab = np.array(encoderBoW.get_vocabulary())\n",
    "vocab[:20]"
   ]
  },
  {
   "cell_type": "markdown",
   "metadata": {
    "id": "8LgJ-Jg2Dyl3"
   },
   "source": [
    "The first word in the vocabulary is `[UNK]`, the token for the unknown words. Afterwards, we have a number of token for very common words, the so-called **stop words**. The first one being 'the'. So, in the numerical vector that we get after coding, the first column corresponds to all unknown words (i.e. all words that do not appear in the vocabulary), and the second column corresponds to the word 'the'. Also some *domain-specific* words occur frequenty: `movie` and `film` indicate that the vocabulary was built on movie reviews."
   ]
  },
  {
   "cell_type": "markdown",
   "metadata": {
    "id": "PUyQrMr8El0_"
   },
   "source": [
    "We can now get an example encoding:"
   ]
  },
  {
   "cell_type": "code",
   "execution_count": 13,
   "metadata": {
    "colab": {
     "base_uri": "https://localhost:8080/"
    },
    "id": "9Acqpkfrp3NW",
    "outputId": "281dfda6-6f27-4b4d-96a3-c4bcd5dc8168"
   },
   "outputs": [
    {
     "data": {
      "text/plain": [
       "<tf.Tensor: shape=(5000,), dtype=float32, numpy=array([0., 1., 0., ..., 0., 0., 0.], dtype=float32)>"
      ]
     },
     "execution_count": 13,
     "metadata": {},
     "output_type": "execute_result"
    }
   ],
   "source": [
    "encoderBoW(\"the\")"
   ]
  },
  {
   "cell_type": "code",
   "execution_count": 14,
   "metadata": {
    "colab": {
     "base_uri": "https://localhost:8080/"
    },
    "id": "woR9ozFtob_P",
    "outputId": "efbb1248-afcc-4bf9-9b2d-ec6bc5b31819"
   },
   "outputs": [
    {
     "name": "stdout",
     "output_type": "stream",
     "text": [
      "tf.Tensor(b'As others have mentioned, all the women that go nude in this film are mostly absolutely gorgeous. The plot very ably shows the hypocrisy of the female libido. When men are around they want to be pursued, but when no \"men\" are around, they become the pursuers of a 14 year old boy. And the boy becomes a man really fast (we should all be so lucky at this age!). He then gets up the courage to pursue his true love.', shape=(), dtype=string)\n"
     ]
    }
   ],
   "source": [
    "print(example)"
   ]
  },
  {
   "cell_type": "code",
   "execution_count": 15,
   "metadata": {
    "colab": {
     "base_uri": "https://localhost:8080/"
    },
    "id": "EqQyaqPaoYRe",
    "outputId": "ebbfa351-ef0a-4d4c-a3a1-bf878252da55"
   },
   "outputs": [
    {
     "data": {
      "text/plain": [
       "array([6., 7., 1., ..., 0., 0., 0.], dtype=float32)"
      ]
     },
     "execution_count": 15,
     "metadata": {},
     "output_type": "execute_result"
    }
   ],
   "source": [
    "encoderBoW(example).numpy()"
   ]
  },
  {
   "cell_type": "markdown",
   "metadata": {
    "id": "VZLxA5u-E1Z9"
   },
   "source": [
    "# A first Model: Linear Regression\n",
    "We start with a first, very simple model. It corresponds to a multiple linear regression model, with the 5000-dimensional vector representation of the sentence as input (independent variables, predictors), and the rating (0 or 1) as output (dependent variable, target variable). While this could also be done with a classical regression, we start right away with a neural network, and will extend it gradually as we add more advanced concepts.\n",
    "\n",
    "## Model Definition"
   ]
  },
  {
   "cell_type": "code",
   "execution_count": 16,
   "metadata": {
    "id": "S4-cV8-VHI-w"
   },
   "outputs": [],
   "source": [
    "model_BoW_1L_lin = Sequential()\n",
    "model_BoW_1L_lin.add(Input(shape=(1,), dtype='string'))\n",
    "model_BoW_1L_lin.add(encoderBoW)\n",
    "model_BoW_1L_lin.add(Dense(1))"
   ]
  },
  {
   "cell_type": "code",
   "execution_count": 17,
   "metadata": {
    "id": "0mO6Ur_SHLHJ"
   },
   "outputs": [],
   "source": [
    "model_BoW_1L_lin.compile(loss = 'binary_crossentropy', metrics = ['accuracy'])"
   ]
  },
  {
   "cell_type": "code",
   "execution_count": 18,
   "metadata": {
    "colab": {
     "base_uri": "https://localhost:8080/"
    },
    "id": "z65ZQi7kHMw2",
    "outputId": "381af16a-592b-433d-a3a2-8b04f0dd2251"
   },
   "outputs": [
    {
     "name": "stdout",
     "output_type": "stream",
     "text": [
      "Model: \"sequential\"\n",
      "_________________________________________________________________\n",
      " Layer (type)                Output Shape              Param #   \n",
      "=================================================================\n",
      " text_vectorization (TextVe  (None, 5000)              0         \n",
      " ctorization)                                                    \n",
      "                                                                 \n",
      " dense (Dense)               (None, 1)                 5001      \n",
      "                                                                 \n",
      "=================================================================\n",
      "Total params: 5001 (19.54 KB)\n",
      "Trainable params: 5001 (19.54 KB)\n",
      "Non-trainable params: 0 (0.00 Byte)\n",
      "_________________________________________________________________\n"
     ]
    }
   ],
   "source": [
    "model_BoW_1L_lin.summary()"
   ]
  },
  {
   "cell_type": "markdown",
   "metadata": {
    "id": "5Dbxn_f4HQ7l"
   },
   "source": [
    "## Training\n",
    "Now, let's train the model. We do only a rather small number of epochs and include early stopping in order not to spend too much time on training."
   ]
  },
  {
   "cell_type": "code",
   "execution_count": 19,
   "metadata": {
    "id": "8EVTgfEOgYxl"
   },
   "outputs": [],
   "source": [
    "# initialize random number generators to ensure reproducibility:\n",
    "tf.random.set_seed(123)\n",
    "np.random.seed(123)"
   ]
  },
  {
   "cell_type": "code",
   "execution_count": 20,
   "metadata": {
    "colab": {
     "base_uri": "https://localhost:8080/"
    },
    "id": "CGtLYKBeHev0",
    "outputId": "ba5c6934-6b10-487e-83c7-fb74f77fa420"
   },
   "outputs": [
    {
     "name": "stdout",
     "output_type": "stream",
     "text": [
      "Epoch 1/50\n",
      "40/40 [==============================] - 2s 38ms/step - loss: 2.1423 - accuracy: 0.5920 - val_loss: 1.4577 - val_accuracy: 0.6434\n",
      "Epoch 2/50\n",
      "40/40 [==============================] - 1s 36ms/step - loss: 1.0328 - accuracy: 0.7153 - val_loss: 0.8465 - val_accuracy: 0.7370\n",
      "Epoch 3/50\n",
      "40/40 [==============================] - 1s 36ms/step - loss: 0.6974 - accuracy: 0.7842 - val_loss: 0.6930 - val_accuracy: 0.7852\n",
      "Epoch 4/50\n",
      "40/40 [==============================] - 1s 36ms/step - loss: 0.5654 - accuracy: 0.8246 - val_loss: 0.6508 - val_accuracy: 0.8164\n",
      "Epoch 5/50\n",
      "40/40 [==============================] - 1s 36ms/step - loss: 0.4654 - accuracy: 0.8528 - val_loss: 0.6272 - val_accuracy: 0.8340\n",
      "Epoch 6/50\n",
      "40/40 [==============================] - 1s 36ms/step - loss: 0.4253 - accuracy: 0.8712 - val_loss: 0.6061 - val_accuracy: 0.8414\n",
      "Epoch 7/50\n",
      "40/40 [==============================] - 1s 36ms/step - loss: 0.3820 - accuracy: 0.8832 - val_loss: 0.5802 - val_accuracy: 0.8508\n",
      "Epoch 8/50\n",
      "40/40 [==============================] - 1s 36ms/step - loss: 0.3666 - accuracy: 0.8947 - val_loss: 0.5827 - val_accuracy: 0.8620\n",
      "Epoch 9/50\n",
      "40/40 [==============================] - 1s 37ms/step - loss: 0.3356 - accuracy: 0.9040 - val_loss: 0.5695 - val_accuracy: 0.8632\n",
      "Epoch 10/50\n",
      "40/40 [==============================] - 2s 38ms/step - loss: 0.3162 - accuracy: 0.9107 - val_loss: 0.5990 - val_accuracy: 0.8680\n",
      "Epoch 11/50\n",
      "40/40 [==============================] - 2s 39ms/step - loss: 0.3046 - accuracy: 0.9165 - val_loss: 0.6355 - val_accuracy: 0.8690\n",
      "Epoch 12/50\n",
      "40/40 [==============================] - 1s 37ms/step - loss: 0.2907 - accuracy: 0.9214 - val_loss: 0.6245 - val_accuracy: 0.8728\n",
      "Epoch 13/50\n",
      "40/40 [==============================] - 1s 36ms/step - loss: 0.2877 - accuracy: 0.9233 - val_loss: 0.6273 - val_accuracy: 0.8732\n",
      "Epoch 14/50\n",
      "40/40 [==============================] - 1s 36ms/step - loss: 0.2786 - accuracy: 0.9280 - val_loss: 0.6792 - val_accuracy: 0.8730\n",
      "Epoch 15/50\n",
      "40/40 [==============================] - 1s 36ms/step - loss: 0.2545 - accuracy: 0.9318 - val_loss: 0.6824 - val_accuracy: 0.8750\n",
      "Epoch 16/50\n",
      "40/40 [==============================] - 1s 36ms/step - loss: 0.2596 - accuracy: 0.9323 - val_loss: 0.7016 - val_accuracy: 0.8762\n",
      "Epoch 17/50\n",
      "40/40 [==============================] - 1s 36ms/step - loss: 0.2429 - accuracy: 0.9363 - val_loss: 0.6987 - val_accuracy: 0.8762\n",
      "Epoch 18/50\n",
      "40/40 [==============================] - 1s 36ms/step - loss: 0.2434 - accuracy: 0.9373 - val_loss: 0.7323 - val_accuracy: 0.8732\n",
      "Epoch 19/50\n",
      "40/40 [==============================] - 2s 38ms/step - loss: 0.2377 - accuracy: 0.9390 - val_loss: 0.7469 - val_accuracy: 0.8784\n",
      "Epoch 20/50\n",
      "40/40 [==============================] - 1s 37ms/step - loss: 0.2332 - accuracy: 0.9423 - val_loss: 0.7479 - val_accuracy: 0.8746\n",
      "Epoch 21/50\n",
      "40/40 [==============================] - 1s 37ms/step - loss: 0.2290 - accuracy: 0.9416 - val_loss: 0.7673 - val_accuracy: 0.8764\n",
      "Epoch 22/50\n",
      "40/40 [==============================] - 1s 36ms/step - loss: 0.2313 - accuracy: 0.9425 - val_loss: 0.7841 - val_accuracy: 0.8706\n",
      "Epoch 23/50\n",
      "40/40 [==============================] - 1s 36ms/step - loss: 0.2157 - accuracy: 0.9460 - val_loss: 0.7987 - val_accuracy: 0.8726\n",
      "Epoch 24/50\n",
      "40/40 [==============================] - 1s 36ms/step - loss: 0.2140 - accuracy: 0.9469 - val_loss: 0.8143 - val_accuracy: 0.8730\n"
     ]
    },
    {
     "name": "stdout",
     "output_type": "stream",
     "text": [
      "40/40 [==============================] - 2s 38ms/step - loss: 1.6614 - accuracy: 0.6071 - val_loss: 1.1046 - val_accuracy: 0.6556\n",
      "Epoch 2/50\n",
      "40/40 [==============================] - 1s 36ms/step - loss: 0.9100 - accuracy: 0.7182 - val_loss: 1.0420 - val_accuracy: 0.7398\n",
      "Epoch 3/50\n",
      "40/40 [==============================] - 1s 36ms/step - loss: 0.7155 - accuracy: 0.7756 - val_loss: 0.7133 - val_accuracy: 0.7842\n",
      "Epoch 4/50\n",
      "40/40 [==============================] - 1s 37ms/step - loss: 0.5532 - accuracy: 0.8193 - val_loss: 0.6739 - val_accuracy: 0.8138\n",
      "Epoch 5/50\n",
      "40/40 [==============================] - 1s 36ms/step - loss: 0.5040 - accuracy: 0.8448 - val_loss: 0.8102 - val_accuracy: 0.8216\n",
      "Epoch 6/50\n",
      "40/40 [==============================] - 1s 37ms/step - loss: 0.4375 - accuracy: 0.8683 - val_loss: 0.5819 - val_accuracy: 0.8464\n",
      "Epoch 7/50\n",
      "40/40 [==============================] - 1s 36ms/step - loss: 0.4086 - accuracy: 0.8763 - val_loss: 0.5807 - val_accuracy: 0.8526\n",
      "Epoch 8/50\n",
      "40/40 [==============================] - 1s 36ms/step - loss: 0.3601 - accuracy: 0.8927 - val_loss: 0.6387 - val_accuracy: 0.8570\n",
      "Epoch 9/50\n",
      "40/40 [==============================] - 1s 37ms/step - loss: 0.3462 - accuracy: 0.8993 - val_loss: 0.5986 - val_accuracy: 0.8630\n",
      "Epoch 10/50\n",
      "40/40 [==============================] - 1s 36ms/step - loss: 0.3329 - accuracy: 0.9095 - val_loss: 0.6014 - val_accuracy: 0.8704\n",
      "Epoch 11/50\n",
      "40/40 [==============================] - 1s 36ms/step - loss: 0.2973 - accuracy: 0.9162 - val_loss: 0.6535 - val_accuracy: 0.8630\n",
      "Epoch 12/50\n",
      "40/40 [==============================] - 1s 37ms/step - loss: 0.2959 - accuracy: 0.9157 - val_loss: 0.6253 - val_accuracy: 0.8706\n",
      "Epoch 13/50\n",
      "40/40 [==============================] - 2s 37ms/step - loss: 0.2775 - accuracy: 0.9242 - val_loss: 0.6440 - val_accuracy: 0.8736\n",
      "Epoch 14/50\n",
      "40/40 [==============================] - 1s 36ms/step - loss: 0.2630 - accuracy: 0.9280 - val_loss: 0.6818 - val_accuracy: 0.8710\n",
      "Epoch 15/50\n",
      "40/40 [==============================] - 1s 36ms/step - loss: 0.2587 - accuracy: 0.9289 - val_loss: 0.7016 - val_accuracy: 0.8742\n",
      "Epoch 16/50\n",
      "40/40 [==============================] - 1s 36ms/step - loss: 0.2545 - accuracy: 0.9331 - val_loss: 0.7178 - val_accuracy: 0.8746\n",
      "Epoch 17/50\n",
      "40/40 [==============================] - 1s 36ms/step - loss: 0.2482 - accuracy: 0.9349 - val_loss: 0.7348 - val_accuracy: 0.8704\n",
      "Epoch 18/50\n",
      "40/40 [==============================] - 1s 37ms/step - loss: 0.2481 - accuracy: 0.9352 - val_loss: 0.7538 - val_accuracy: 0.8738\n",
      "Epoch 19/50\n",
      "40/40 [==============================] - 1s 36ms/step - loss: 0.2528 - accuracy: 0.9342 - val_loss: 0.7708 - val_accuracy: 0.8702\n",
      "Epoch 20/50\n",
      "40/40 [==============================] - 1s 37ms/step - loss: 0.2292 - accuracy: 0.9411 - val_loss: 0.7973 - val_accuracy: 0.8650\n",
      "Epoch 21/50\n",
      "40/40 [==============================] - 1s 36ms/step - loss: 0.2342 - accuracy: 0.9409 - val_loss: 0.8073 - val_accuracy: 0.8702\n"
     ]
    }
   ],
   "source": [
    "history_BoW_1L_lin = model_BoW_1L_lin.fit(\n",
    "    train_ds.shuffle(buffer_size=BUFFER_SIZE).batch(BATCH_SIZE),\n",
    "    validation_data = val_ds.batch(BATCH_SIZE),\n",
    "    epochs = NUM_EPOCHS, verbose = 1,\n",
    "    callbacks = [ EarlyStopping(monitor='val_accuracy', patience=5,\n",
    "                                verbose=False, restore_best_weights=True)])"
   ]
  },
  {
   "cell_type": "markdown",
   "metadata": {
    "id": "Z3k76VNhLB7G"
   },
   "source": [
    "## Evaluation\n",
    "Our simple model already has an accuracy of some 84% on the validation data. Let's check the performance on the test data:"
   ]
  },
  {
   "cell_type": "code",
   "execution_count": 21,
   "metadata": {
    "colab": {
     "base_uri": "https://localhost:8080/"
    },
    "id": "XgBK0v20LECJ",
    "outputId": "d4b3054f-7933-4a60-e23b-edf01f249cfd"
   },
   "outputs": [
    {
     "name": "stdout",
     "output_type": "stream",
     "text": [
      "50/50 - 1s - loss: 0.7195 - accuracy: 0.8678 - 1s/epoch - 27ms/step\n",
      "loss: 0.720\n",
      "accuracy: 0.868\n"
     ]
    }
   ],
   "source": [
    "results1 = model_BoW_1L_lin.evaluate(test_ds.batch(BATCH_SIZE), verbose=2)\n",
    "\n",
    "for name, value in zip(model_BoW_1L_lin.metrics_names, results1):\n",
    "    print(\"%s: %.3f\" % (name, value))"
   ]
  },
  {
   "cell_type": "markdown",
   "metadata": {
    "id": "wq1CL2aeLOYU"
   },
   "source": [
    "We get similar performance on the novel test data."
   ]
  },
  {
   "cell_type": "markdown",
   "metadata": {
    "id": "ihSm4CvVHqHI"
   },
   "source": [
    "## Interpretation\n",
    "We want to try to interpret what the model has learned. To do so, we look at the weights that have been inferred."
   ]
  },
  {
   "cell_type": "code",
   "execution_count": 22,
   "metadata": {
    "colab": {
     "base_uri": "https://localhost:8080/"
    },
    "id": "zvXOc-KyJdVf",
    "outputId": "2bb1d3f4-fd99-4dd3-e1e4-fdce2c4449cf"
   },
   "outputs": [
    {
     "data": {
      "text/plain": [
       "array([[0.00057553],\n",
       "       [0.00439007],\n",
       "       [0.00147723],\n",
       "       ...,\n",
       "       [0.03862139],\n",
       "       [0.06510265],\n",
       "       [0.02934233]], dtype=float32)"
      ]
     },
     "execution_count": 22,
     "metadata": {},
     "output_type": "execute_result"
    }
   ],
   "source": [
    "model_BoW_1L_lin_weights = model_BoW_1L_lin.layers[1].get_weights()[0]\n",
    "model_BoW_1L_lin_weights"
   ]
  },
  {
   "cell_type": "markdown",
   "metadata": {
    "id": "3_H0DfftJ7VV"
   },
   "source": [
    "`model1_BoW_weights[0]` contains the 5000 weights for the words in the dictionary, while `model1_BoW_weights[1]` is the bias or intercept of the linear regression. We look at the weights and search the indices with the largest values -- these will be the words that are the most positive:\n"
   ]
  },
  {
   "cell_type": "code",
   "execution_count": 23,
   "metadata": {
    "colab": {
     "base_uri": "https://localhost:8080/"
    },
    "id": "P3RQKlqOJmhu",
    "outputId": "bdb90245-7cb7-4587-916a-56f102aea518"
   },
   "outputs": [
    {
     "data": {
      "text/plain": [
       "array([['1010'],\n",
       "       ['refreshing'],\n",
       "       ['910'],\n",
       "       ['810'],\n",
       "       ['710']], dtype='<U16')"
      ]
     },
     "execution_count": 23,
     "metadata": {},
     "output_type": "execute_result"
    }
   ],
   "source": [
    "model_BoW_1L_lin_sortOrder = np.argsort(model_BoW_1L_lin_weights, axis=0)\n",
    "vocab[model_BoW_1L_lin_sortOrder[-5:]]"
   ]
  },
  {
   "cell_type": "markdown",
   "metadata": {
    "id": "2nynz2lrJz7G"
   },
   "source": [
    "That seems plausible! \n",
    "\n",
    "**Exercise:** Find the 5 most negative words that may come from a negative review."
   ]
  },
  {
   "cell_type": "markdown",
   "metadata": {},
   "source": [
    "**Solution:**"
   ]
  },
  {
   "cell_type": "code",
   "execution_count": 24,
   "metadata": {
    "colab": {
     "base_uri": "https://localhost:8080/"
    },
    "id": "WHG7MoCoKqK4",
    "outputId": "36590623-6956-4684-ba46-d194268a0dea"
   },
   "outputs": [
    {
     "data": {
      "text/plain": [
       "array([['310'],\n",
       "       ['410'],\n",
       "       ['forgettable'],\n",
       "       ['210'],\n",
       "       ['disappointment']], dtype='<U16')"
      ]
     },
     "execution_count": 24,
     "metadata": {},
     "output_type": "execute_result"
    }
   ],
   "source": [
    "vocab[model_BoW_1L_lin_sortOrder[:5]]"
   ]
  },
  {
   "cell_type": "markdown",
   "metadata": {},
   "source": [
    "**(End of Solution)**"
   ]
  },
  {
   "cell_type": "markdown",
   "metadata": {
    "id": "6RmSWdR2L98d"
   },
   "source": [
    "## Evaluate Performance Development\n",
    "Using the history (which we got from the fit() function), we can also check the evolution of the performance over the training epochs:"
   ]
  },
  {
   "cell_type": "code",
   "execution_count": 25,
   "metadata": {
    "id": "Hn6aBttNLcBh"
   },
   "outputs": [],
   "source": [
    "history_BoW_1L_lin_dict = history_BoW_1L_lin.history\n",
    "\n",
    "train_acc_BoW_1L_lin = history_BoW_1L_lin_dict['accuracy']\n",
    "val_acc_BoW_1L_lin   = history_BoW_1L_lin_dict['val_accuracy']\n",
    "\n",
    "train_loss_BoW_1L_lin = history_BoW_1L_lin_dict['loss']\n",
    "val_loss_BoW_1L_lin   = history_BoW_1L_lin_dict['val_loss']\n",
    "\n",
    "epochs_BoW_1L_lin    = range(1, len(train_acc_BoW_1L_lin) + 1)"
   ]
  },
  {
   "cell_type": "code",
   "execution_count": 26,
   "metadata": {
    "colab": {
     "base_uri": "https://localhost:8080/",
     "height": 472
    },
    "id": "w0cbUF6YLW13",
    "outputId": "b65e97ec-0bad-449b-fcb9-2821d48a0e82"
   },
   "outputs": [
    {
     "data": {
      "image/png": "[encoded data removed]",
      "text/plain": [
       "<Figure size 640x480 with 2 Axes>"
      ]
     },
     "metadata": {},
     "output_type": "display_data"
    }
   ],
   "source": [
    "plt.subplot(2, 1, 1)\n",
    "plt.plot(epochs_BoW_1L_lin, train_loss_BoW_1L_lin, 'b:', label='model_BoW_1L_lin, Training')\n",
    "plt.plot(epochs_BoW_1L_lin, val_loss_BoW_1L_lin,   'b',  label='model_BoW_1L_lin, Validation')\n",
    "plt.ylabel('loss')\n",
    "plt.grid(True)\n",
    "plt.legend()\n",
    "\n",
    "plt.subplot(2, 1, 2)\n",
    "plt.plot(epochs_BoW_1L_lin, train_acc_BoW_1L_lin, 'r:', label='model_BoW_1L_lin, Training')\n",
    "plt.plot(epochs_BoW_1L_lin, val_acc_BoW_1L_lin,   'r',  label='model_BoW_1L_lin, Validation')\n",
    "plt.xlabel('Epochs')\n",
    "plt.ylabel('Accuracy')\n",
    "plt.grid(True)\n",
    "plt.legend()\n",
    "plt.show()"
   ]
  },
  {
   "cell_type": "markdown",
   "metadata": {
    "id": "0fzAjNI-Ls9T"
   },
   "source": [
    "# A slightly more advanced Model: Logistic Regression\n",
    "As the output is binary, we might also see the task as binary classification, and logistic regression seems a natural choice. In the model above, we only need to change the activation function to `sigmoid`, and we already have a neural network doing logistic regression:"
   ]
  },
  {
   "cell_type": "code",
   "execution_count": 27,
   "metadata": {
    "id": "_5TT6Vc_gbcQ"
   },
   "outputs": [],
   "source": [
    "# initialize random number generators to ensure reproducibility:\n",
    "tf.random.set_seed(123)\n",
    "np.random.seed(123)"
   ]
  },
  {
   "cell_type": "code",
   "execution_count": 28,
   "metadata": {
    "id": "rIfedTzSMse5"
   },
   "outputs": [],
   "source": [
    "model_BoW_1L_sig = Sequential()\n",
    "model_BoW_1L_sig.add(Input(shape=(1,), dtype='string'))\n",
    "model_BoW_1L_sig.add(encoderBoW)\n",
    "model_BoW_1L_sig.add(Dense(1, activation=\"sigmoid\"))"
   ]
  },
  {
   "cell_type": "code",
   "execution_count": 29,
   "metadata": {
    "id": "ljD-hQwnNzO0"
   },
   "outputs": [],
   "source": [
    "model_BoW_1L_sig.compile(loss = 'binary_crossentropy', metrics = ['accuracy'])"
   ]
  },
  {
   "cell_type": "code",
   "execution_count": 30,
   "metadata": {
    "colab": {
     "base_uri": "https://localhost:8080/"
    },
    "id": "o-xsEJR1LI09",
    "outputId": "16e48393-556f-4f2c-ccd0-77f8b700e9a7"
   },
   "outputs": [
    {
     "name": "stdout",
     "output_type": "stream",
     "text": [
      "Epoch 1/50\n",
      "40/40 [==============================] - 2s 36ms/step - loss: 0.6055 - accuracy: 0.7027 - val_loss: 0.5336 - val_accuracy: 0.8002\n",
      "Epoch 2/50\n",
      "40/40 [==============================] - 1s 36ms/step - loss: 0.4845 - accuracy: 0.8385 - val_loss: 0.4600 - val_accuracy: 0.8494\n",
      "Epoch 3/50\n",
      "40/40 [==============================] - 1s 37ms/step - loss: 0.4211 - accuracy: 0.8651 - val_loss: 0.4146 - val_accuracy: 0.8658\n",
      "Epoch 4/50\n",
      "40/40 [==============================] - 1s 37ms/step - loss: 0.3799 - accuracy: 0.8766 - val_loss: 0.3858 - val_accuracy: 0.8742\n",
      "Epoch 5/50\n",
      "40/40 [==============================] - 1s 36ms/step - loss: 0.3490 - accuracy: 0.8860 - val_loss: 0.3635 - val_accuracy: 0.8780\n",
      "Epoch 6/50\n",
      "40/40 [==============================] - 1s 36ms/step - loss: 0.3267 - accuracy: 0.8922 - val_loss: 0.3487 - val_accuracy: 0.8806\n",
      "Epoch 7/50\n",
      "40/40 [==============================] - 1s 36ms/step - loss: 0.3085 - accuracy: 0.8974 - val_loss: 0.3370 - val_accuracy: 0.8838\n",
      "Epoch 8/50\n",
      "40/40 [==============================] - 1s 36ms/step - loss: 0.2941 - accuracy: 0.9030 - val_loss: 0.3289 - val_accuracy: 0.8860\n",
      "Epoch 9/50\n",
      "40/40 [==============================] - 1s 36ms/step - loss: 0.2816 - accuracy: 0.9062 - val_loss: 0.3213 - val_accuracy: 0.8874\n",
      "Epoch 10/50\n",
      "40/40 [==============================] - 1s 35ms/step - loss: 0.2711 - accuracy: 0.9092 - val_loss: 0.3159 - val_accuracy: 0.8868\n",
      "Epoch 11/50\n",
      "40/40 [==============================] - 1s 35ms/step - loss: 0.2623 - accuracy: 0.9118 - val_loss: 0.3140 - val_accuracy: 0.8866\n",
      "Epoch 12/50\n",
      "40/40 [==============================] - 1s 36ms/step - loss: 0.2544 - accuracy: 0.9145 - val_loss: 0.3073 - val_accuracy: 0.8872\n",
      "Epoch 13/50\n",
      "40/40 [==============================] - 1s 35ms/step - loss: 0.2477 - accuracy: 0.9154 - val_loss: 0.3039 - val_accuracy: 0.8874\n",
      "Epoch 14/50\n",
      "40/40 [==============================] - 1s 36ms/step - loss: 0.2410 - accuracy: 0.9180 - val_loss: 0.3016 - val_accuracy: 0.8866\n"
     ]
    },
    {
     "name": "stdout",
     "output_type": "stream",
     "text": [
      "40/40 [==============================] - 2s 38ms/step - loss: 0.5965 - accuracy: 0.7107 - val_loss: 0.5337 - val_accuracy: 0.7962\n",
      "Epoch 2/50\n",
      "40/40 [==============================] - 1s 37ms/step - loss: 0.4826 - accuracy: 0.8332 - val_loss: 0.4619 - val_accuracy: 0.8446\n",
      "Epoch 3/50\n",
      "40/40 [==============================] - 2s 37ms/step - loss: 0.4203 - accuracy: 0.8622 - val_loss: 0.4153 - val_accuracy: 0.8628\n",
      "Epoch 4/50\n",
      "40/40 [==============================] - 1s 37ms/step - loss: 0.3794 - accuracy: 0.8775 - val_loss: 0.3866 - val_accuracy: 0.8716\n",
      "Epoch 5/50\n",
      "40/40 [==============================] - 1s 37ms/step - loss: 0.3486 - accuracy: 0.8856 - val_loss: 0.3636 - val_accuracy: 0.8786\n",
      "Epoch 6/50\n",
      "40/40 [==============================] - 1s 37ms/step - loss: 0.3264 - accuracy: 0.8921 - val_loss: 0.3488 - val_accuracy: 0.8800\n",
      "Epoch 7/50\n",
      "40/40 [==============================] - 1s 37ms/step - loss: 0.3083 - accuracy: 0.8973 - val_loss: 0.3369 - val_accuracy: 0.8844\n",
      "Epoch 8/50\n",
      "40/40 [==============================] - 1s 36ms/step - loss: 0.2939 - accuracy: 0.9012 - val_loss: 0.3291 - val_accuracy: 0.8816\n",
      "Epoch 9/50\n",
      "40/40 [==============================] - 1s 36ms/step - loss: 0.2814 - accuracy: 0.9042 - val_loss: 0.3212 - val_accuracy: 0.8858\n",
      "Epoch 10/50\n",
      "40/40 [==============================] - 1s 36ms/step - loss: 0.2710 - accuracy: 0.9082 - val_loss: 0.3159 - val_accuracy: 0.8848\n",
      "Epoch 11/50\n",
      "40/40 [==============================] - 1s 37ms/step - loss: 0.2623 - accuracy: 0.9105 - val_loss: 0.3140 - val_accuracy: 0.8868\n",
      "Epoch 12/50\n",
      "40/40 [==============================] - 1s 36ms/step - loss: 0.2543 - accuracy: 0.9125 - val_loss: 0.3072 - val_accuracy: 0.8878\n",
      "Epoch 13/50\n",
      "40/40 [==============================] - 1s 36ms/step - loss: 0.2477 - accuracy: 0.9141 - val_loss: 0.3037 - val_accuracy: 0.8868\n",
      "Epoch 14/50\n",
      "40/40 [==============================] - 1s 36ms/step - loss: 0.2409 - accuracy: 0.9172 - val_loss: 0.3014 - val_accuracy: 0.8878\n",
      "Epoch 15/50\n",
      "40/40 [==============================] - 2s 37ms/step - loss: 0.2353 - accuracy: 0.9207 - val_loss: 0.3000 - val_accuracy: 0.8890\n",
      "Epoch 16/50\n",
      "40/40 [==============================] - 2s 39ms/step - loss: 0.2304 - accuracy: 0.9210 - val_loss: 0.2976 - val_accuracy: 0.8876\n",
      "Epoch 17/50\n",
      "40/40 [==============================] - 1s 37ms/step - loss: 0.2255 - accuracy: 0.9229 - val_loss: 0.2977 - val_accuracy: 0.8880\n",
      "Epoch 18/50\n",
      "40/40 [==============================] - 1s 37ms/step - loss: 0.2213 - accuracy: 0.9246 - val_loss: 0.2951 - val_accuracy: 0.8882\n",
      "Epoch 19/50\n",
      "40/40 [==============================] - 1s 36ms/step - loss: 0.2173 - accuracy: 0.9265 - val_loss: 0.2948 - val_accuracy: 0.8870\n",
      "Epoch 20/50\n",
      "40/40 [==============================] - 1s 37ms/step - loss: 0.2136 - accuracy: 0.9280 - val_loss: 0.2946 - val_accuracy: 0.8882\n"
     ]
    }
   ],
   "source": [
    "history_BoW_1L_sig = model_BoW_1L_sig.fit(\n",
    "    train_ds.shuffle(buffer_size=BUFFER_SIZE).batch(BATCH_SIZE),\n",
    "    validation_data = val_ds.batch(BATCH_SIZE),\n",
    "    epochs = NUM_EPOCHS, verbose = 1,\n",
    "    callbacks = [ EarlyStopping(monitor='val_accuracy', patience=5,\n",
    "                                verbose=False, restore_best_weights=True)])\n",
    "\n",
    "# Evaluate Training Progress\n",
    "history_BoW_1L_sig_dict = history_BoW_1L_sig.history\n",
    "\n",
    "train_acc_BoW_1L_sig = history_BoW_1L_sig_dict['accuracy']\n",
    "val_acc_BoW_1L_sig   = history_BoW_1L_sig_dict['val_accuracy']\n",
    "epochs_BoW_1L_sig    = range(1, len(train_acc_BoW_1L_sig) + 1)"
   ]
  },
  {
   "cell_type": "code",
   "execution_count": 31,
   "metadata": {
    "colab": {
     "base_uri": "https://localhost:8080/",
     "height": 472
    },
    "id": "zGLBdWEgMud2",
    "outputId": "30f5aafa-7a3e-4d32-9337-6c0124572ecb"
   },
   "outputs": [
    {
     "data": {
      "image/png": "[encoded data removed]",
      "text/plain": [
       "<Figure size 640x480 with 1 Axes>"
      ]
     },
     "metadata": {},
     "output_type": "display_data"
    }
   ],
   "source": [
    "plt.plot(epochs_BoW_1L_lin, train_acc_BoW_1L_lin, 'r:', label='model_BoW_1L_lin, Training acc')\n",
    "plt.plot(epochs_BoW_1L_lin, val_acc_BoW_1L_lin,   'r',  label='model_BoW_1L_lin, Validation acc')\n",
    "plt.plot(epochs_BoW_1L_sig, train_acc_BoW_1L_sig, 'g:', label='model_BoW_1L_sig, Training acc')\n",
    "plt.plot(epochs_BoW_1L_sig, val_acc_BoW_1L_sig,   'g',  label='model_BoW_1L_sig, Validation acc')\n",
    "\n",
    "plt.xlabel('Epochs')\n",
    "plt.ylabel('Accuracy')\n",
    "plt.legend(loc='lower right')\n",
    "plt.grid(True)\n",
    "plt.show()"
   ]
  },
  {
   "cell_type": "markdown",
   "metadata": {
    "id": "tY706ZsMb50B"
   },
   "source": [
    "# Word Embeddings\n",
    "Until now, we have represented all words as an index (represented as an integer number or as one-hot encoding). This representation does not take similarities in the meaning of words into acocunt - two words are either the same or different.\n",
    "\n",
    "Using a word embedding, we get a more detailed notion of word similarity. In a high-dimensional representation, the distance between two words will be defined by how similar they are (as infered from the training data). While word embeddings are usually used in connection with more complex models, we start here with a simple network. We just need to add an embedding layer between the encoding and the dense layer:"
   ]
  },
  {
   "cell_type": "code",
   "execution_count": 32,
   "metadata": {
    "id": "dCSO6NDvged3"
   },
   "outputs": [],
   "source": [
    "# initialize random number generators to ensure reproducibility:\n",
    "tf.random.set_seed(123)\n",
    "np.random.seed(123)"
   ]
  },
  {
   "cell_type": "code",
   "execution_count": 33,
   "metadata": {},
   "outputs": [],
   "source": [
    "# Sequence vectorizer for the embedding model\n",
    "encoderSeq = TextVectorization(\n",
    "    max_tokens=VOCAB_SIZE,\n",
    "    output_mode=\"int\",\n",
    "    output_sequence_length=MAX_LEN,  # fixed length for batching\n",
    ")\n",
    "encoderSeq.adapt(train_ds.map(lambda text, label: text))\n",
    "vocab_size = len(encoderSeq.get_vocabulary())"
   ]
  },
  {
   "cell_type": "markdown",
   "metadata": {},
   "source": [
    "**Exercise:** Complete the network below:"
   ]
  },
  {
   "cell_type": "code",
   "execution_count": 34,
   "metadata": {},
   "outputs": [],
   "source": [
    "# model_embed_seq_1L_sig = Sequential()\n",
    "# model_embed_seq_1L_sig.add(...)\n",
    "# model_embed_seq_1L_sig.add(encoderSeq)\n",
    "# model_embed_seq_1L_sig.add(Embedding(vocab_size, EMBED_DIM, mask_zero=True))\n",
    "# model_embed_seq_1L_sig.add(GlobalMaxPooling1D())\n",
    "# model_embed_seq_1L_sig.add(...)"
   ]
  },
  {
   "cell_type": "markdown",
   "metadata": {},
   "source": [
    "**Solution:**"
   ]
  },
  {
   "cell_type": "code",
   "execution_count": 35,
   "metadata": {
    "id": "4w8UPk4Qb5Sm"
   },
   "outputs": [],
   "source": [
    "model_embed_seq_1L_sig = Sequential()\n",
    "model_embed_seq_1L_sig.add(Input(shape=(1,), dtype='string'))\n",
    "model_embed_seq_1L_sig.add(encoderSeq)\n",
    "model_embed_seq_1L_sig.add(Embedding(vocab_size, EMBED_DIM, mask_zero=True))\n",
    "model_embed_seq_1L_sig.add(Dropout(0.5))\n",
    "model_embed_seq_1L_sig.add(GlobalMaxPooling1D())\n",
    "model_embed_seq_1L_sig.add(Dense(1, activation=\"sigmoid\"))"
   ]
  },
  {
   "cell_type": "markdown",
   "metadata": {},
   "source": [
    "**(End of Solution)**"
   ]
  },
  {
   "cell_type": "markdown",
   "metadata": {},
   "source": [
    "Note that the model will now learn word embeddings that are optimal for the given task. It's also possible to re-use pretrained word embeddings - see e.g., here fore an example: https://keras.io/examples/nlp/pretrained_word_embeddings/"
   ]
  },
  {
   "cell_type": "code",
   "execution_count": 36,
   "metadata": {
    "id": "jGRy-p8Gd0J8"
   },
   "outputs": [],
   "source": [
    "model_embed_seq_1L_sig.compile(loss = 'binary_crossentropy', metrics = ['accuracy'], optimizer=Adam(learning_rate=5e-4),)"
   ]
  },
  {
   "cell_type": "code",
   "execution_count": 37,
   "metadata": {
    "colab": {
     "base_uri": "https://localhost:8080/"
    },
    "id": "Ox-RZkEud0MT",
    "outputId": "29248e4c-283a-4e39-d762-d95ba9cbb86c"
   },
   "outputs": [
    {
     "name": "stdout",
     "output_type": "stream",
     "text": [
      "Model: \"sequential_2\"\n",
      "_________________________________________________________________\n",
      " Layer (type)                Output Shape              Param #   \n",
      "=================================================================\n",
      " text_vectorization_1 (Text  (None, 200)               0         \n",
      " Vectorization)                                                  \n",
      "                                                                 \n",
      " embedding (Embedding)       (None, 200, 100)          500000    \n",
      "                                                                 \n",
      " dropout (Dropout)           (None, 200, 100)          0         \n",
      "                                                                 \n",
      " global_max_pooling1d (Glob  (None, 100)               0         \n",
      " alMaxPooling1D)                                                 \n",
      "                                                                 \n",
      " dense_2 (Dense)             (None, 1)                 101       \n",
      "                                                                 \n",
      "=================================================================\n",
      "Total params: 500101 (1.91 MB)\n",
      "Trainable params: 500101 (1.91 MB)\n",
      "Non-trainable params: 0 (0.00 Byte)\n",
      "_________________________________________________________________\n"
     ]
    }
   ],
   "source": [
    "model_embed_seq_1L_sig.summary()"
   ]
  },
  {
   "cell_type": "code",
   "execution_count": 38,
   "metadata": {
    "colab": {
     "base_uri": "https://localhost:8080/"
    },
    "id": "u3XpKgr1d0O2",
    "outputId": "15d05020-38e2-4ba8-c19a-f9db9355565d"
   },
   "outputs": [
    {
     "name": "stdout",
     "output_type": "stream",
     "text": [
      "Epoch 1/50\n",
      "40/40 [==============================] - 3s 83ms/step - loss: 0.6867 - accuracy: 0.6551 - val_loss: 0.6841 - val_accuracy: 0.7408\n",
      "Epoch 2/50\n",
      "40/40 [==============================] - 3s 83ms/step - loss: 0.6667 - accuracy: 0.7990 - val_loss: 0.6691 - val_accuracy: 0.8114\n",
      "Epoch 3/50\n",
      "40/40 [==============================] - 3s 83ms/step - loss: 0.6362 - accuracy: 0.8292 - val_loss: 0.6469 - val_accuracy: 0.8278\n",
      "Epoch 4/50\n",
      "40/40 [==============================] - 3s 82ms/step - loss: 0.5953 - accuracy: 0.8363 - val_loss: 0.6175 - val_accuracy: 0.8296\n",
      "Epoch 5/50\n",
      "40/40 [==============================] - 3s 82ms/step - loss: 0.5480 - accuracy: 0.8404 - val_loss: 0.5835 - val_accuracy: 0.8332\n",
      "Epoch 6/50\n",
      "40/40 [==============================] - 3s 82ms/step - loss: 0.4992 - accuracy: 0.8501 - val_loss: 0.5488 - val_accuracy: 0.8360\n",
      "Epoch 7/50\n",
      "40/40 [==============================] - 3s 84ms/step - loss: 0.4556 - accuracy: 0.8522 - val_loss: 0.5169 - val_accuracy: 0.8380\n",
      "Epoch 8/50\n",
      "40/40 [==============================] - 3s 87ms/step - loss: 0.4197 - accuracy: 0.8571 - val_loss: 0.4895 - val_accuracy: 0.8398\n",
      "Epoch 9/50\n",
      "40/40 [==============================] - 3s 86ms/step - loss: 0.3912 - accuracy: 0.8617 - val_loss: 0.4667 - val_accuracy: 0.8416\n",
      "Epoch 10/50\n",
      "40/40 [==============================] - 3s 85ms/step - loss: 0.3686 - accuracy: 0.8642 - val_loss: 0.4482 - val_accuracy: 0.8416\n",
      "Epoch 11/50\n",
      "40/40 [==============================] - 3s 83ms/step - loss: 0.3515 - accuracy: 0.8684 - val_loss: 0.4333 - val_accuracy: 0.8432\n",
      "Epoch 12/50\n",
      "40/40 [==============================] - 3s 84ms/step - loss: 0.3365 - accuracy: 0.8720 - val_loss: 0.4213 - val_accuracy: 0.8436\n",
      "Epoch 13/50\n",
      "40/40 [==============================] - 3s 83ms/step - loss: 0.3248 - accuracy: 0.8729 - val_loss: 0.4115 - val_accuracy: 0.8466\n",
      "Epoch 14/50\n",
      "40/40 [==============================] - 3s 82ms/step - loss: 0.3138 - accuracy: 0.8773 - val_loss: 0.4031 - val_accuracy: 0.8468\n",
      "Epoch 15/50\n",
      "40/40 [==============================] - 3s 82ms/step - loss: 0.3032 - accuracy: 0.8837 - val_loss: 0.3961 - val_accuracy: 0.8492\n",
      "Epoch 16/50\n",
      "40/40 [==============================] - 3s 83ms/step - loss: 0.2969 - accuracy: 0.8850 - val_loss: 0.3900 - val_accuracy: 0.8500\n",
      "Epoch 17/50\n",
      "40/40 [==============================] - 3s 83ms/step - loss: 0.2896 - accuracy: 0.8870 - val_loss: 0.3848 - val_accuracy: 0.8510\n",
      "Epoch 18/50\n",
      "40/40 [==============================] - 3s 83ms/step - loss: 0.2812 - accuracy: 0.8909 - val_loss: 0.3804 - val_accuracy: 0.8526\n",
      "Epoch 19/50\n",
      "40/40 [==============================] - 3s 82ms/step - loss: 0.2753 - accuracy: 0.8935 - val_loss: 0.3763 - val_accuracy: 0.8526\n",
      "Epoch 20/50\n",
      "40/40 [==============================] - 3s 85ms/step - loss: 0.2703 - accuracy: 0.8947 - val_loss: 0.3728 - val_accuracy: 0.8546\n",
      "Epoch 21/50\n",
      "40/40 [==============================] - 3s 83ms/step - loss: 0.2652 - accuracy: 0.8960 - val_loss: 0.3697 - val_accuracy: 0.8548\n",
      "Epoch 22/50\n",
      "40/40 [==============================] - 3s 82ms/step - loss: 0.2603 - accuracy: 0.8992 - val_loss: 0.3671 - val_accuracy: 0.8550\n",
      "Epoch 23/50\n",
      "40/40 [==============================] - 3s 83ms/step - loss: 0.2562 - accuracy: 0.9007 - val_loss: 0.3647 - val_accuracy: 0.8568\n",
      "Epoch 24/50\n",
      "40/40 [==============================] - 3s 83ms/step - loss: 0.2503 - accuracy: 0.9015 - val_loss: 0.3624 - val_accuracy: 0.8590\n",
      "Epoch 25/50\n",
      "40/40 [==============================] - 3s 83ms/step - loss: 0.2467 - accuracy: 0.9051 - val_loss: 0.3603 - val_accuracy: 0.8586\n",
      "Epoch 26/50\n",
      "40/40 [==============================] - 3s 84ms/step - loss: 0.2433 - accuracy: 0.9039 - val_loss: 0.3586 - val_accuracy: 0.8600\n",
      "Epoch 27/50\n",
      "40/40 [==============================] - 3s 83ms/step - loss: 0.2388 - accuracy: 0.9064 - val_loss: 0.3570 - val_accuracy: 0.8604\n",
      "Epoch 28/50\n",
      "40/40 [==============================] - 3s 82ms/step - loss: 0.2331 - accuracy: 0.9108 - val_loss: 0.3554 - val_accuracy: 0.8612\n",
      "Epoch 29/50\n",
      "40/40 [==============================] - 3s 83ms/step - loss: 0.2323 - accuracy: 0.9112 - val_loss: 0.3541 - val_accuracy: 0.8616\n",
      "Epoch 30/50\n",
      "40/40 [==============================] - 3s 84ms/step - loss: 0.2268 - accuracy: 0.9121 - val_loss: 0.3528 - val_accuracy: 0.8612\n",
      "Epoch 31/50\n",
      "40/40 [==============================] - 3s 82ms/step - loss: 0.2247 - accuracy: 0.9145 - val_loss: 0.3516 - val_accuracy: 0.8606\n",
      "Epoch 32/50\n",
      "40/40 [==============================] - 3s 82ms/step - loss: 0.2220 - accuracy: 0.9166 - val_loss: 0.3505 - val_accuracy: 0.8612\n",
      "Epoch 33/50\n",
      "40/40 [==============================] - 3s 82ms/step - loss: 0.2185 - accuracy: 0.9174 - val_loss: 0.3500 - val_accuracy: 0.8614\n",
      "Epoch 34/50\n",
      "40/40 [==============================] - 3s 83ms/step - loss: 0.2176 - accuracy: 0.9170 - val_loss: 0.3490 - val_accuracy: 0.8620\n",
      "Epoch 35/50\n",
      "40/40 [==============================] - 3s 83ms/step - loss: 0.2114 - accuracy: 0.9209 - val_loss: 0.3483 - val_accuracy: 0.8616\n",
      "Epoch 36/50\n",
      "40/40 [==============================] - 3s 83ms/step - loss: 0.2110 - accuracy: 0.9184 - val_loss: 0.3475 - val_accuracy: 0.8612\n",
      "Epoch 37/50\n",
      "40/40 [==============================] - 3s 82ms/step - loss: 0.2092 - accuracy: 0.9204 - val_loss: 0.3467 - val_accuracy: 0.8608\n",
      "Epoch 38/50\n",
      "40/40 [==============================] - 3s 82ms/step - loss: 0.2062 - accuracy: 0.9232 - val_loss: 0.3462 - val_accuracy: 0.8612\n",
      "Epoch 39/50\n",
      "40/40 [==============================] - 3s 83ms/step - loss: 0.2046 - accuracy: 0.9200 - val_loss: 0.3456 - val_accuracy: 0.8612\n"
     ]
    },
    {
     "name": "stdout",
     "output_type": "stream",
     "text": [
      "40/40 [==============================] - 3s 84ms/step - loss: 0.6892 - accuracy: 0.5617 - val_loss: 0.6862 - val_accuracy: 0.7390\n",
      "Epoch 2/50\n",
      "40/40 [==============================] - 3s 84ms/step - loss: 0.6723 - accuracy: 0.7819 - val_loss: 0.6735 - val_accuracy: 0.7830\n",
      "Epoch 3/50\n",
      "40/40 [==============================] - 3s 84ms/step - loss: 0.6465 - accuracy: 0.8152 - val_loss: 0.6537 - val_accuracy: 0.8156\n",
      "Epoch 4/50\n",
      "40/40 [==============================] - 3s 83ms/step - loss: 0.6100 - accuracy: 0.8343 - val_loss: 0.6272 - val_accuracy: 0.8270\n",
      "Epoch 5/50\n",
      "40/40 [==============================] - 3s 82ms/step - loss: 0.5667 - accuracy: 0.8436 - val_loss: 0.5966 - val_accuracy: 0.8302\n",
      "Epoch 6/50\n",
      "40/40 [==============================] - 3s 83ms/step - loss: 0.5220 - accuracy: 0.8481 - val_loss: 0.5655 - val_accuracy: 0.8336\n",
      "Epoch 7/50\n",
      "40/40 [==============================] - 3s 83ms/step - loss: 0.4825 - accuracy: 0.8554 - val_loss: 0.5367 - val_accuracy: 0.8368\n",
      "Epoch 8/50\n",
      "40/40 [==============================] - 3s 83ms/step - loss: 0.4506 - accuracy: 0.8558 - val_loss: 0.5123 - val_accuracy: 0.8388\n",
      "Epoch 9/50\n",
      "40/40 [==============================] - 3s 83ms/step - loss: 0.4247 - accuracy: 0.8600 - val_loss: 0.4926 - val_accuracy: 0.8418\n",
      "Epoch 10/50\n",
      "40/40 [==============================] - 3s 84ms/step - loss: 0.4060 - accuracy: 0.8645 - val_loss: 0.4768 - val_accuracy: 0.8414\n",
      "Epoch 11/50\n",
      "40/40 [==============================] - 3s 84ms/step - loss: 0.3910 - accuracy: 0.8691 - val_loss: 0.4643 - val_accuracy: 0.8440\n",
      "Epoch 12/50\n",
      "40/40 [==============================] - 3s 84ms/step - loss: 0.3792 - accuracy: 0.8733 - val_loss: 0.4544 - val_accuracy: 0.8466\n",
      "Epoch 13/50\n",
      "40/40 [==============================] - 3s 84ms/step - loss: 0.3703 - accuracy: 0.8734 - val_loss: 0.4462 - val_accuracy: 0.8492\n",
      "Epoch 14/50\n",
      "40/40 [==============================] - 3s 84ms/step - loss: 0.3600 - accuracy: 0.8779 - val_loss: 0.4394 - val_accuracy: 0.8510\n",
      "Epoch 15/50\n",
      "40/40 [==============================] - 3s 84ms/step - loss: 0.3536 - accuracy: 0.8814 - val_loss: 0.4341 - val_accuracy: 0.8516\n",
      "Epoch 16/50\n",
      "40/40 [==============================] - 3s 84ms/step - loss: 0.3461 - accuracy: 0.8854 - val_loss: 0.4293 - val_accuracy: 0.8530\n",
      "Epoch 17/50\n",
      "40/40 [==============================] - 3s 84ms/step - loss: 0.3414 - accuracy: 0.8868 - val_loss: 0.4253 - val_accuracy: 0.8548\n",
      "Epoch 18/50\n",
      "40/40 [==============================] - 3s 84ms/step - loss: 0.3351 - accuracy: 0.8916 - val_loss: 0.4219 - val_accuracy: 0.8560\n",
      "Epoch 19/50\n",
      "40/40 [==============================] - 3s 83ms/step - loss: 0.3303 - accuracy: 0.8928 - val_loss: 0.4192 - val_accuracy: 0.8546\n",
      "Epoch 20/50\n",
      "40/40 [==============================] - 3s 84ms/step - loss: 0.3257 - accuracy: 0.8959 - val_loss: 0.4166 - val_accuracy: 0.8544\n",
      "Epoch 21/50\n",
      "40/40 [==============================] - 3s 85ms/step - loss: 0.3238 - accuracy: 0.8971 - val_loss: 0.4146 - val_accuracy: 0.8554\n",
      "Epoch 22/50\n",
      "40/40 [==============================] - 3s 84ms/step - loss: 0.3186 - accuracy: 0.8988 - val_loss: 0.4127 - val_accuracy: 0.8564\n",
      "Epoch 23/50\n",
      "40/40 [==============================] - 3s 84ms/step - loss: 0.3151 - accuracy: 0.9011 - val_loss: 0.4110 - val_accuracy: 0.8580\n",
      "Epoch 24/50\n",
      "40/40 [==============================] - 3s 83ms/step - loss: 0.3113 - accuracy: 0.9044 - val_loss: 0.4096 - val_accuracy: 0.8584\n",
      "Epoch 25/50\n",
      "40/40 [==============================] - 3s 84ms/step - loss: 0.3078 - accuracy: 0.9079 - val_loss: 0.4082 - val_accuracy: 0.8594\n",
      "Epoch 26/50\n",
      "40/40 [==============================] - 3s 83ms/step - loss: 0.3040 - accuracy: 0.9079 - val_loss: 0.4072 - val_accuracy: 0.8586\n",
      "Epoch 27/50\n",
      "40/40 [==============================] - 3s 85ms/step - loss: 0.3015 - accuracy: 0.9104 - val_loss: 0.4061 - val_accuracy: 0.8584\n",
      "Epoch 28/50\n",
      "40/40 [==============================] - 3s 84ms/step - loss: 0.2984 - accuracy: 0.9129 - val_loss: 0.4052 - val_accuracy: 0.8572\n",
      "Epoch 29/50\n",
      "40/40 [==============================] - 3s 84ms/step - loss: 0.2962 - accuracy: 0.9133 - val_loss: 0.4044 - val_accuracy: 0.8586\n",
      "Epoch 30/50\n",
      "40/40 [==============================] - 3s 85ms/step - loss: 0.2927 - accuracy: 0.9164 - val_loss: 0.4038 - val_accuracy: 0.8586\n"
     ]
    }
   ],
   "source": [
    "history_embed_seq_1L_sig = model_embed_seq_1L_sig.fit(\n",
    "    train_ds.shuffle(buffer_size=BUFFER_SIZE).batch(BATCH_SIZE),\n",
    "    validation_data = val_ds.batch(BATCH_SIZE),\n",
    "    epochs = NUM_EPOCHS, verbose = 1,\n",
    "    callbacks = [ EarlyStopping(monitor='val_accuracy', patience=5,\n",
    "                                verbose=False, restore_best_weights=True)])"
   ]
  },
  {
   "cell_type": "code",
   "execution_count": 39,
   "metadata": {
    "id": "TZx2GtOvfJyD"
   },
   "outputs": [],
   "source": [
    "# Evaluate Training Progress\n",
    "history_embed_seq_1L_sig_dict = history_embed_seq_1L_sig.history\n",
    "\n",
    "train_acc_embed_seq_1L_sig_dict = history_embed_seq_1L_sig_dict['accuracy']\n",
    "val_acc_embed_seq_1L_sig_dict   = history_embed_seq_1L_sig_dict['val_accuracy']\n",
    "epochs_embed_seq_1L_sig_dict    = range(1, len(train_acc_embed_seq_1L_sig_dict) + 1)"
   ]
  },
  {
   "cell_type": "code",
   "execution_count": 40,
   "metadata": {
    "colab": {
     "base_uri": "https://localhost:8080/",
     "height": 472
    },
    "id": "TqMlyFR3hm89",
    "outputId": "f8fb6642-aab6-4002-97bc-2bbe410c9cae"
   },
   "outputs": [
    {
     "data": {
      "image/png": "[encoded data removed]",
      "text/plain": [
       "<Figure size 640x480 with 1 Axes>"
      ]
     },
     "metadata": {},
     "output_type": "display_data"
    }
   ],
   "source": [
    "plt.plot(epochs_BoW_1L_lin, train_acc_BoW_1L_lin, 'r:', label='model_BoW_1L_lin, Training')\n",
    "plt.plot(epochs_BoW_1L_lin, val_acc_BoW_1L_lin,   'r',  label='model_BoW_1L_lin, Validation')\n",
    "\n",
    "plt.plot(epochs_BoW_1L_sig, train_acc_BoW_1L_sig, 'g:', label='model_BoW_1L_sig, Training')\n",
    "plt.plot(epochs_BoW_1L_sig, val_acc_BoW_1L_sig,   'g',  label='model_BoW_1L_sig, Validation')\n",
    "\n",
    "plt.plot(epochs_embed_seq_1L_sig_dict, train_acc_embed_seq_1L_sig_dict, 'b:', label='model_embed_seq_1L_sig, Training')\n",
    "plt.plot(epochs_embed_seq_1L_sig_dict, val_acc_embed_seq_1L_sig_dict,   'b',  label='model_embed_seq_1L_sig, Validation')\n",
    "\n",
    "plt.xlabel('Epochs')\n",
    "plt.ylabel('Accuracy')\n",
    "plt.legend(loc='lower right')\n",
    "plt.grid(True)\n",
    "plt.show()"
   ]
  },
  {
   "cell_type": "markdown",
   "metadata": {
    "id": "1FU8MSsujmeb"
   },
   "source": [
    "The plot shows us several things:\n",
    "* Using Embeddings, we achieve good results with less training epochs. However, each epoch takes longer (as we also have to train the embeddings!)\n",
    "\n",
    "The `GlobalMaxPooling1D` layer largely reduces the number of parameters, and thus avoids too much overfitting, while still improving the performance of the model. If you are interested, experiment with the network architecture, e.g. by omitting the `GlobalMaxPooling1D`, and see how the model performance is changing.\n",
    "\n",
    "The next step will be to take into account the order of the words, which we currently still ignore."
   ]
  },
  {
   "cell_type": "code",
   "execution_count": null,
   "metadata": {},
   "outputs": [],
   "source": []
  }
 ],
 "metadata": {
  "accelerator": "GPU",
  "colab": {
   "gpuType": "T4",
   "provenance": [],
   "toc_visible": true
  },
  "kernelspec": {
   "display_name": "Tensorflow",
   "language": "python",
   "name": "tensorflow"
  },
  "language_info": {
   "codemirror_mode": {
    "name": "ipython",
    "version": 3
   },
   "file_extension": ".py",
   "mimetype": "text/x-python",
   "name": "python",
   "nbconvert_exporter": "python",
   "pygments_lexer": "ipython3",
   "version": "3.10.11"
  },
  "widgets": {
   "application/vnd.jupyter.widget-state+json": {
    "002ada4bdb3b492d8d92b83b3c194390": {
     "model_module": "@jupyter-widgets/controls",
     "model_module_version": "1.5.0",
     "model_name": "HBoxModel",
     "state": {
      "_dom_classes": [],
      "_model_module": "@jupyter-widgets/controls",
      "_model_module_version": "1.5.0",
      "_model_name": "HBoxModel",
      "_view_count": null,
      "_view_module": "@jupyter-widgets/controls",
      "_view_module_version": "1.5.0",
      "_view_name": "HBoxView",
      "box_style": "",
      "children": [
       "IPY_MODEL_411ec8eb7b1a4ef382ccb87784c4efea",
       "IPY_MODEL_6ae51f436e1545739066db8087f001ff",
       "IPY_MODEL_a2a2046d50df4cc9be1b6de70616e2df"
      ],
      "layout": "IPY_MODEL_ea210267756b4729922be9710210d561"
     }
    },
    "003bbed8be7b4be3b78048d82cfe5273": {
     "model_module": "@jupyter-widgets/controls",
     "model_module_version": "1.5.0",
     "model_name": "FloatProgressModel",
     "state": {
      "_dom_classes": [],
      "_model_module": "@jupyter-widgets/controls",
      "_model_module_version": "1.5.0",
      "_model_name": "FloatProgressModel",
      "_view_count": null,
      "_view_module": "@jupyter-widgets/controls",
      "_view_module_version": "1.5.0",
      "_view_name": "ProgressView",
      "bar_style": "",
      "description": "",
      "description_tooltip": null,
      "layout": "IPY_MODEL_b5daae736b6241028e8501ab72df5ffb",
      "max": 3,
      "min": 0,
      "orientation": "horizontal",
      "style": "IPY_MODEL_75d3f32b687744a390051e4bda823309",
      "value": 3
     }
    },
    "009a5328fb3a4b8aaa0ff92b33f13ea5": {
     "model_module": "@jupyter-widgets/controls",
     "model_module_version": "1.5.0",
     "model_name": "FloatProgressModel",
     "state": {
      "_dom_classes": [],
      "_model_module": "@jupyter-widgets/controls",
      "_model_module_version": "1.5.0",
      "_model_name": "FloatProgressModel",
      "_view_count": null,
      "_view_module": "@jupyter-widgets/controls",
      "_view_module_version": "1.5.0",
      "_view_name": "ProgressView",
      "bar_style": "",
      "description": "",
      "description_tooltip": null,
      "layout": "IPY_MODEL_89e009419f2b4a59b1886e308b79e7c4",
      "max": 50000,
      "min": 0,
      "orientation": "horizontal",
      "style": "IPY_MODEL_1b6071a8a2e042458c98e0e7a5ee8866",
      "value": 50000
     }
    },
    "03c68505170347408993a6c3840e8285": {
     "model_module": "@jupyter-widgets/base",
     "model_module_version": "1.2.0",
     "model_name": "LayoutModel",
     "state": {
      "_model_module": "@jupyter-widgets/base",
      "_model_module_version": "1.2.0",
      "_model_name": "LayoutModel",
      "_view_count": null,
      "_view_module": "@jupyter-widgets/base",
      "_view_module_version": "1.2.0",
      "_view_name": "LayoutView",
      "align_content": null,
      "align_items": null,
      "align_self": null,
      "border": null,
      "bottom": null,
      "display": null,
      "flex": null,
      "flex_flow": null,
      "grid_area": null,
      "grid_auto_columns": null,
      "grid_auto_flow": null,
      "grid_auto_rows": null,
      "grid_column": null,
      "grid_gap": null,
      "grid_row": null,
      "grid_template_areas": null,
      "grid_template_columns": null,
      "grid_template_rows": null,
      "height": null,
      "justify_content": null,
      "justify_items": null,
      "left": null,
      "margin": null,
      "max_height": null,
      "max_width": null,
      "min_height": null,
      "min_width": null,
      "object_fit": null,
      "object_position": null,
      "order": null,
      "overflow": null,
      "overflow_x": null,
      "overflow_y": null,
      "padding": null,
      "right": null,
      "top": null,
      "visibility": null,
      "width": null
     }
    },
    "08c4e2d4934144adaf32c6fedcd009b7": {
     "model_module": "@jupyter-widgets/controls",
     "model_module_version": "1.5.0",
     "model_name": "ProgressStyleModel",
     "state": {
      "_model_module": "@jupyter-widgets/controls",
      "_model_module_version": "1.5.0",
      "_model_name": "ProgressStyleModel",
      "_view_count": null,
      "_view_module": "@jupyter-widgets/base",
      "_view_module_version": "1.2.0",
      "_view_name": "StyleView",
      "bar_color": null,
      "description_width": ""
     }
    },
    "0dd8e5151fe84792b6c662bb2fa452cb": {
     "model_module": "@jupyter-widgets/base",
     "model_module_version": "1.2.0",
     "model_name": "LayoutModel",
     "state": {
      "_model_module": "@jupyter-widgets/base",
      "_model_module_version": "1.2.0",
      "_model_name": "LayoutModel",
      "_view_count": null,
      "_view_module": "@jupyter-widgets/base",
      "_view_module_version": "1.2.0",
      "_view_name": "LayoutView",
      "align_content": null,
      "align_items": null,
      "align_self": null,
      "border": null,
      "bottom": null,
      "display": null,
      "flex": null,
      "flex_flow": null,
      "grid_area": null,
      "grid_auto_columns": null,
      "grid_auto_flow": null,
      "grid_auto_rows": null,
      "grid_column": null,
      "grid_gap": null,
      "grid_row": null,
      "grid_template_areas": null,
      "grid_template_columns": null,
      "grid_template_rows": null,
      "height": null,
      "justify_content": null,
      "justify_items": null,
      "left": null,
      "margin": null,
      "max_height": null,
      "max_width": null,
      "min_height": null,
      "min_width": null,
      "object_fit": null,
      "object_position": null,
      "order": null,
      "overflow": null,
      "overflow_x": null,
      "overflow_y": null,
      "padding": null,
      "right": null,
      "top": null,
      "visibility": null,
      "width": null
     }
    },
    "1031a50e8c9147ebb2ba4505facb5643": {
     "model_module": "@jupyter-widgets/controls",
     "model_module_version": "1.5.0",
     "model_name": "ProgressStyleModel",
     "state": {
      "_model_module": "@jupyter-widgets/controls",
      "_model_module_version": "1.5.0",
      "_model_name": "ProgressStyleModel",
      "_view_count": null,
      "_view_module": "@jupyter-widgets/base",
      "_view_module_version": "1.2.0",
      "_view_name": "StyleView",
      "bar_color": null,
      "description_width": ""
     }
    },
    "111768dee2ee45c2b26a955ece0d411d": {
     "model_module": "@jupyter-widgets/base",
     "model_module_version": "1.2.0",
     "model_name": "LayoutModel",
     "state": {
      "_model_module": "@jupyter-widgets/base",
      "_model_module_version": "1.2.0",
      "_model_name": "LayoutModel",
      "_view_count": null,
      "_view_module": "@jupyter-widgets/base",
      "_view_module_version": "1.2.0",
      "_view_name": "LayoutView",
      "align_content": null,
      "align_items": null,
      "align_self": null,
      "border": null,
      "bottom": null,
      "display": null,
      "flex": null,
      "flex_flow": null,
      "grid_area": null,
      "grid_auto_columns": null,
      "grid_auto_flow": null,
      "grid_auto_rows": null,
      "grid_column": null,
      "grid_gap": null,
      "grid_row": null,
      "grid_template_areas": null,
      "grid_template_columns": null,
      "grid_template_rows": null,
      "height": null,
      "justify_content": null,
      "justify_items": null,
      "left": null,
      "margin": null,
      "max_height": null,
      "max_width": null,
      "min_height": null,
      "min_width": null,
      "object_fit": null,
      "object_position": null,
      "order": null,
      "overflow": null,
      "overflow_x": null,
      "overflow_y": null,
      "padding": null,
      "right": null,
      "top": null,
      "visibility": null,
      "width": null
     }
    },
    "1284e4b717b84b7882872dbf58dc9177": {
     "model_module": "@jupyter-widgets/controls",
     "model_module_version": "1.5.0",
     "model_name": "DescriptionStyleModel",
     "state": {
      "_model_module": "@jupyter-widgets/controls",
      "_model_module_version": "1.5.0",
      "_model_name": "DescriptionStyleModel",
      "_view_count": null,
      "_view_module": "@jupyter-widgets/base",
      "_view_module_version": "1.2.0",
      "_view_name": "StyleView",
      "description_width": ""
     }
    },
    "17db27273e6a4e118c652f9ea27caf99": {
     "model_module": "@jupyter-widgets/controls",
     "model_module_version": "1.5.0",
     "model_name": "HTMLModel",
     "state": {
      "_dom_classes": [],
      "_model_module": "@jupyter-widgets/controls",
      "_model_module_version": "1.5.0",
      "_model_name": "HTMLModel",
      "_view_count": null,
      "_view_module": "@jupyter-widgets/controls",
      "_view_module_version": "1.5.0",
      "_view_name": "HTMLView",
      "description": "",
      "description_tooltip": null,
      "layout": "IPY_MODEL_1b663f21146142a2adaa72a5f8029c5d",
      "placeholder": "​",
      "style": "IPY_MODEL_1e15e53e1c654ec39c047252742ed50e",
      "value": "Shuffling /root/tensorflow_datasets/imdb_reviews/plain_text/1.0.0.incompleteM9RXNO/imdb_reviews-train.tfrecord*...:  40%"
     }
    },
    "1800b1bbeadf4fe0994c01af1f4385f7": {
     "model_module": "@jupyter-widgets/base",
     "model_module_version": "1.2.0",
     "model_name": "LayoutModel",
     "state": {
      "_model_module": "@jupyter-widgets/base",
      "_model_module_version": "1.2.0",
      "_model_name": "LayoutModel",
      "_view_count": null,
      "_view_module": "@jupyter-widgets/base",
      "_view_module_version": "1.2.0",
      "_view_name": "LayoutView",
      "align_content": null,
      "align_items": null,
      "align_self": null,
      "border": null,
      "bottom": null,
      "display": null,
      "flex": null,
      "flex_flow": null,
      "grid_area": null,
      "grid_auto_columns": null,
      "grid_auto_flow": null,
      "grid_auto_rows": null,
      "grid_column": null,
      "grid_gap": null,
      "grid_row": null,
      "grid_template_areas": null,
      "grid_template_columns": null,
      "grid_template_rows": null,
      "height": null,
      "justify_content": null,
      "justify_items": null,
      "left": null,
      "margin": null,
      "max_height": null,
      "max_width": null,
      "min_height": null,
      "min_width": null,
      "object_fit": null,
      "object_position": null,
      "order": null,
      "overflow": null,
      "overflow_x": null,
      "overflow_y": null,
      "padding": null,
      "right": null,
      "top": null,
      "visibility": null,
      "width": null
     }
    },
    "183e93aef1de4037be5ac81aa33c4561": {
     "model_module": "@jupyter-widgets/controls",
     "model_module_version": "1.5.0",
     "model_name": "DescriptionStyleModel",
     "state": {
      "_model_module": "@jupyter-widgets/controls",
      "_model_module_version": "1.5.0",
      "_model_name": "DescriptionStyleModel",
      "_view_count": null,
      "_view_module": "@jupyter-widgets/base",
      "_view_module_version": "1.2.0",
      "_view_name": "StyleView",
      "description_width": ""
     }
    },
    "1b6071a8a2e042458c98e0e7a5ee8866": {
     "model_module": "@jupyter-widgets/controls",
     "model_module_version": "1.5.0",
     "model_name": "ProgressStyleModel",
     "state": {
      "_model_module": "@jupyter-widgets/controls",
      "_model_module_version": "1.5.0",
      "_model_name": "ProgressStyleModel",
      "_view_count": null,
      "_view_module": "@jupyter-widgets/base",
      "_view_module_version": "1.2.0",
      "_view_name": "StyleView",
      "bar_color": null,
      "description_width": ""
     }
    },
    "1b663f21146142a2adaa72a5f8029c5d": {
     "model_module": "@jupyter-widgets/base",
     "model_module_version": "1.2.0",
     "model_name": "LayoutModel",
     "state": {
      "_model_module": "@jupyter-widgets/base",
      "_model_module_version": "1.2.0",
      "_model_name": "LayoutModel",
      "_view_count": null,
      "_view_module": "@jupyter-widgets/base",
      "_view_module_version": "1.2.0",
      "_view_name": "LayoutView",
      "align_content": null,
      "align_items": null,
      "align_self": null,
      "border": null,
      "bottom": null,
      "display": null,
      "flex": null,
      "flex_flow": null,
      "grid_area": null,
      "grid_auto_columns": null,
      "grid_auto_flow": null,
      "grid_auto_rows": null,
      "grid_column": null,
      "grid_gap": null,
      "grid_row": null,
      "grid_template_areas": null,
      "grid_template_columns": null,
      "grid_template_rows": null,
      "height": null,
      "justify_content": null,
      "justify_items": null,
      "left": null,
      "margin": null,
      "max_height": null,
      "max_width": null,
      "min_height": null,
      "min_width": null,
      "object_fit": null,
      "object_position": null,
      "order": null,
      "overflow": null,
      "overflow_x": null,
      "overflow_y": null,
      "padding": null,
      "right": null,
      "top": null,
      "visibility": null,
      "width": null
     }
    },
    "1e15e53e1c654ec39c047252742ed50e": {
     "model_module": "@jupyter-widgets/controls",
     "model_module_version": "1.5.0",
     "model_name": "DescriptionStyleModel",
     "state": {
      "_model_module": "@jupyter-widgets/controls",
      "_model_module_version": "1.5.0",
      "_model_name": "DescriptionStyleModel",
      "_view_count": null,
      "_view_module": "@jupyter-widgets/base",
      "_view_module_version": "1.2.0",
      "_view_name": "StyleView",
      "description_width": ""
     }
    },
    "1f4c953b7cfe416daa61669d19c6e677": {
     "model_module": "@jupyter-widgets/base",
     "model_module_version": "1.2.0",
     "model_name": "LayoutModel",
     "state": {
      "_model_module": "@jupyter-widgets/base",
      "_model_module_version": "1.2.0",
      "_model_name": "LayoutModel",
      "_view_count": null,
      "_view_module": "@jupyter-widgets/base",
      "_view_module_version": "1.2.0",
      "_view_name": "LayoutView",
      "align_content": null,
      "align_items": null,
      "align_self": null,
      "border": null,
      "bottom": null,
      "display": null,
      "flex": null,
      "flex_flow": null,
      "grid_area": null,
      "grid_auto_columns": null,
      "grid_auto_flow": null,
      "grid_auto_rows": null,
      "grid_column": null,
      "grid_gap": null,
      "grid_row": null,
      "grid_template_areas": null,
      "grid_template_columns": null,
      "grid_template_rows": null,
      "height": null,
      "justify_content": null,
      "justify_items": null,
      "left": null,
      "margin": null,
      "max_height": null,
      "max_width": null,
      "min_height": null,
      "min_width": null,
      "object_fit": null,
      "object_position": null,
      "order": null,
      "overflow": null,
      "overflow_x": null,
      "overflow_y": null,
      "padding": null,
      "right": null,
      "top": null,
      "visibility": "hidden",
      "width": null
     }
    },
    "1fc1a9d23d6b445fbd619443001b80f5": {
     "model_module": "@jupyter-widgets/controls",
     "model_module_version": "1.5.0",
     "model_name": "FloatProgressModel",
     "state": {
      "_dom_classes": [],
      "_model_module": "@jupyter-widgets/controls",
      "_model_module_version": "1.5.0",
      "_model_name": "FloatProgressModel",
      "_view_count": null,
      "_view_module": "@jupyter-widgets/controls",
      "_view_module_version": "1.5.0",
      "_view_name": "ProgressView",
      "bar_style": "",
      "description": "",
      "description_tooltip": null,
      "layout": "IPY_MODEL_f06871f44acd43ec863d89797fb5df17",
      "max": 25000,
      "min": 0,
      "orientation": "horizontal",
      "style": "IPY_MODEL_7f1ac566f50f4e72814757fffbc2d622",
      "value": 25000
     }
    },
    "227daecf854c46308b3760a7eea98c20": {
     "model_module": "@jupyter-widgets/controls",
     "model_module_version": "1.5.0",
     "model_name": "HTMLModel",
     "state": {
      "_dom_classes": [],
      "_model_module": "@jupyter-widgets/controls",
      "_model_module_version": "1.5.0",
      "_model_name": "HTMLModel",
      "_view_count": null,
      "_view_module": "@jupyter-widgets/controls",
      "_view_module_version": "1.5.0",
      "_view_name": "HTMLView",
      "description": "",
      "description_tooltip": null,
      "layout": "IPY_MODEL_1800b1bbeadf4fe0994c01af1f4385f7",
      "placeholder": "​",
      "style": "IPY_MODEL_a91108844b8545eeabc1758c04e10ec4",
      "value": " 3/3 [00:35&lt;00:00, 12.31s/ splits]"
     }
    },
    "378a80e8af184a0897a06105015c94c3": {
     "model_module": "@jupyter-widgets/controls",
     "model_module_version": "1.5.0",
     "model_name": "DescriptionStyleModel",
     "state": {
      "_model_module": "@jupyter-widgets/controls",
      "_model_module_version": "1.5.0",
      "_model_name": "DescriptionStyleModel",
      "_view_count": null,
      "_view_module": "@jupyter-widgets/base",
      "_view_module_version": "1.2.0",
      "_view_name": "StyleView",
      "description_width": ""
     }
    },
    "3a311947c61d4d1d922c28b7717ea8b9": {
     "model_module": "@jupyter-widgets/controls",
     "model_module_version": "1.5.0",
     "model_name": "HBoxModel",
     "state": {
      "_dom_classes": [],
      "_model_module": "@jupyter-widgets/controls",
      "_model_module_version": "1.5.0",
      "_model_name": "HBoxModel",
      "_view_count": null,
      "_view_module": "@jupyter-widgets/controls",
      "_view_module_version": "1.5.0",
      "_view_name": "HBoxView",
      "box_style": "",
      "children": [
       "IPY_MODEL_b6a63924e2894f9ab70fb8710e71d0f2",
       "IPY_MODEL_e1b36e1e47954770a949f5edeff35ca3",
       "IPY_MODEL_eeb3b7e1dccb4a3881940def10950c3b"
      ],
      "layout": "IPY_MODEL_6c2f46d680ca4b62a67822403ac67992"
     }
    },
    "3b86735de8c94fc299e0c7ff5c70a651": {
     "model_module": "@jupyter-widgets/controls",
     "model_module_version": "1.5.0",
     "model_name": "HBoxModel",
     "state": {
      "_dom_classes": [],
      "_model_module": "@jupyter-widgets/controls",
      "_model_module_version": "1.5.0",
      "_model_name": "HBoxModel",
      "_view_count": null,
      "_view_module": "@jupyter-widgets/controls",
      "_view_module_version": "1.5.0",
      "_view_name": "HBoxView",
      "box_style": "",
      "children": [
       "IPY_MODEL_5650782d482b4c39a559dd4da4988285",
       "IPY_MODEL_1fc1a9d23d6b445fbd619443001b80f5",
       "IPY_MODEL_c1928bbac220418da48c7e107ed6cee4"
      ],
      "layout": "IPY_MODEL_1f4c953b7cfe416daa61669d19c6e677"
     }
    },
    "3c2a23c6d64d4d58b7caad3e69b36e4c": {
     "model_module": "@jupyter-widgets/controls",
     "model_module_version": "1.5.0",
     "model_name": "DescriptionStyleModel",
     "state": {
      "_model_module": "@jupyter-widgets/controls",
      "_model_module_version": "1.5.0",
      "_model_name": "DescriptionStyleModel",
      "_view_count": null,
      "_view_module": "@jupyter-widgets/base",
      "_view_module_version": "1.2.0",
      "_view_name": "StyleView",
      "description_width": ""
     }
    },
    "3e873fa7e47e40358d52dafb0757d926": {
     "model_module": "@jupyter-widgets/controls",
     "model_module_version": "1.5.0",
     "model_name": "DescriptionStyleModel",
     "state": {
      "_model_module": "@jupyter-widgets/controls",
      "_model_module_version": "1.5.0",
      "_model_name": "DescriptionStyleModel",
      "_view_count": null,
      "_view_module": "@jupyter-widgets/base",
      "_view_module_version": "1.2.0",
      "_view_name": "StyleView",
      "description_width": ""
     }
    },
    "411ec8eb7b1a4ef382ccb87784c4efea": {
     "model_module": "@jupyter-widgets/controls",
     "model_module_version": "1.5.0",
     "model_name": "HTMLModel",
     "state": {
      "_dom_classes": [],
      "_model_module": "@jupyter-widgets/controls",
      "_model_module_version": "1.5.0",
      "_model_name": "HTMLModel",
      "_view_count": null,
      "_view_module": "@jupyter-widgets/controls",
      "_view_module_version": "1.5.0",
      "_view_name": "HTMLView",
      "description": "",
      "description_tooltip": null,
      "layout": "IPY_MODEL_8e3a369d339147979ae6be8179e5b5ce",
      "placeholder": "​",
      "style": "IPY_MODEL_8f6a94e7a1094df2b7b5eebc45e18805",
      "value": "Generating unsupervised examples...: 100%"
     }
    },
    "413b883eb992445a88cbfb06d8849d6d": {
     "model_module": "@jupyter-widgets/base",
     "model_module_version": "1.2.0",
     "model_name": "LayoutModel",
     "state": {
      "_model_module": "@jupyter-widgets/base",
      "_model_module_version": "1.2.0",
      "_model_name": "LayoutModel",
      "_view_count": null,
      "_view_module": "@jupyter-widgets/base",
      "_view_module_version": "1.2.0",
      "_view_name": "LayoutView",
      "align_content": null,
      "align_items": null,
      "align_self": null,
      "border": null,
      "bottom": null,
      "display": null,
      "flex": null,
      "flex_flow": null,
      "grid_area": null,
      "grid_auto_columns": null,
      "grid_auto_flow": null,
      "grid_auto_rows": null,
      "grid_column": null,
      "grid_gap": null,
      "grid_row": null,
      "grid_template_areas": null,
      "grid_template_columns": null,
      "grid_template_rows": null,
      "height": null,
      "justify_content": null,
      "justify_items": null,
      "left": null,
      "margin": null,
      "max_height": null,
      "max_width": null,
      "min_height": null,
      "min_width": null,
      "object_fit": null,
      "object_position": null,
      "order": null,
      "overflow": null,
      "overflow_x": null,
      "overflow_y": null,
      "padding": null,
      "right": null,
      "top": null,
      "visibility": null,
      "width": "20px"
     }
    },
    "47733c7133d743d78b12c1a1c8bcab5c": {
     "model_module": "@jupyter-widgets/controls",
     "model_module_version": "1.5.0",
     "model_name": "HBoxModel",
     "state": {
      "_dom_classes": [],
      "_model_module": "@jupyter-widgets/controls",
      "_model_module_version": "1.5.0",
      "_model_name": "HBoxModel",
      "_view_count": null,
      "_view_module": "@jupyter-widgets/controls",
      "_view_module_version": "1.5.0",
      "_view_name": "HBoxView",
      "box_style": "",
      "children": [
       "IPY_MODEL_f027466f32464f72a1aba3e6ed45e73e",
       "IPY_MODEL_96c1eab3136c4a77a1b93b9b0178982d",
       "IPY_MODEL_57104e008cda49a09573f0fcb0a25d8d"
      ],
      "layout": "IPY_MODEL_6df7e79f3afe453988f1af7347734039"
     }
    },
    "47b9bf66f45c4907af105c13c108d66a": {
     "model_module": "@jupyter-widgets/base",
     "model_module_version": "1.2.0",
     "model_name": "LayoutModel",
     "state": {
      "_model_module": "@jupyter-widgets/base",
      "_model_module_version": "1.2.0",
      "_model_name": "LayoutModel",
      "_view_count": null,
      "_view_module": "@jupyter-widgets/base",
      "_view_module_version": "1.2.0",
      "_view_name": "LayoutView",
      "align_content": null,
      "align_items": null,
      "align_self": null,
      "border": null,
      "bottom": null,
      "display": null,
      "flex": null,
      "flex_flow": null,
      "grid_area": null,
      "grid_auto_columns": null,
      "grid_auto_flow": null,
      "grid_auto_rows": null,
      "grid_column": null,
      "grid_gap": null,
      "grid_row": null,
      "grid_template_areas": null,
      "grid_template_columns": null,
      "grid_template_rows": null,
      "height": null,
      "justify_content": null,
      "justify_items": null,
      "left": null,
      "margin": null,
      "max_height": null,
      "max_width": null,
      "min_height": null,
      "min_width": null,
      "object_fit": null,
      "object_position": null,
      "order": null,
      "overflow": null,
      "overflow_x": null,
      "overflow_y": null,
      "padding": null,
      "right": null,
      "top": null,
      "visibility": null,
      "width": null
     }
    },
    "5650782d482b4c39a559dd4da4988285": {
     "model_module": "@jupyter-widgets/controls",
     "model_module_version": "1.5.0",
     "model_name": "HTMLModel",
     "state": {
      "_dom_classes": [],
      "_model_module": "@jupyter-widgets/controls",
      "_model_module_version": "1.5.0",
      "_model_name": "HTMLModel",
      "_view_count": null,
      "_view_module": "@jupyter-widgets/controls",
      "_view_module_version": "1.5.0",
      "_view_name": "HTMLView",
      "description": "",
      "description_tooltip": null,
      "layout": "IPY_MODEL_5f1da7e5a9954a17bd5d2d6521b01fe3",
      "placeholder": "​",
      "style": "IPY_MODEL_c12e3971f2044fc98f08c3bf91b24350",
      "value": "Generating train examples...:  86%"
     }
    },
    "57104e008cda49a09573f0fcb0a25d8d": {
     "model_module": "@jupyter-widgets/controls",
     "model_module_version": "1.5.0",
     "model_name": "HTMLModel",
     "state": {
      "_dom_classes": [],
      "_model_module": "@jupyter-widgets/controls",
      "_model_module_version": "1.5.0",
      "_model_name": "HTMLModel",
      "_view_count": null,
      "_view_module": "@jupyter-widgets/controls",
      "_view_module_version": "1.5.0",
      "_view_name": "HTMLView",
      "description": "",
      "description_tooltip": null,
      "layout": "IPY_MODEL_951f0d6934324091b9e05e42d93df98c",
      "placeholder": "​",
      "style": "IPY_MODEL_9f5067e77c8f4346b4ed08116be66729",
      "value": " 12609/25000 [00:00&lt;00:00, 126071.78 examples/s]"
     }
    },
    "583f9006b5064d129709941b10b73c37": {
     "model_module": "@jupyter-widgets/base",
     "model_module_version": "1.2.0",
     "model_name": "LayoutModel",
     "state": {
      "_model_module": "@jupyter-widgets/base",
      "_model_module_version": "1.2.0",
      "_model_name": "LayoutModel",
      "_view_count": null,
      "_view_module": "@jupyter-widgets/base",
      "_view_module_version": "1.2.0",
      "_view_name": "LayoutView",
      "align_content": null,
      "align_items": null,
      "align_self": null,
      "border": null,
      "bottom": null,
      "display": null,
      "flex": null,
      "flex_flow": null,
      "grid_area": null,
      "grid_auto_columns": null,
      "grid_auto_flow": null,
      "grid_auto_rows": null,
      "grid_column": null,
      "grid_gap": null,
      "grid_row": null,
      "grid_template_areas": null,
      "grid_template_columns": null,
      "grid_template_rows": null,
      "height": null,
      "justify_content": null,
      "justify_items": null,
      "left": null,
      "margin": null,
      "max_height": null,
      "max_width": null,
      "min_height": null,
      "min_width": null,
      "object_fit": null,
      "object_position": null,
      "order": null,
      "overflow": null,
      "overflow_x": null,
      "overflow_y": null,
      "padding": null,
      "right": null,
      "top": null,
      "visibility": null,
      "width": null
     }
    },
    "591f98a6a5504b9ebf7f76c2f05f48dc": {
     "model_module": "@jupyter-widgets/base",
     "model_module_version": "1.2.0",
     "model_name": "LayoutModel",
     "state": {
      "_model_module": "@jupyter-widgets/base",
      "_model_module_version": "1.2.0",
      "_model_name": "LayoutModel",
      "_view_count": null,
      "_view_module": "@jupyter-widgets/base",
      "_view_module_version": "1.2.0",
      "_view_name": "LayoutView",
      "align_content": null,
      "align_items": null,
      "align_self": null,
      "border": null,
      "bottom": null,
      "display": null,
      "flex": null,
      "flex_flow": null,
      "grid_area": null,
      "grid_auto_columns": null,
      "grid_auto_flow": null,
      "grid_auto_rows": null,
      "grid_column": null,
      "grid_gap": null,
      "grid_row": null,
      "grid_template_areas": null,
      "grid_template_columns": null,
      "grid_template_rows": null,
      "height": null,
      "justify_content": null,
      "justify_items": null,
      "left": null,
      "margin": null,
      "max_height": null,
      "max_width": null,
      "min_height": null,
      "min_width": null,
      "object_fit": null,
      "object_position": null,
      "order": null,
      "overflow": null,
      "overflow_x": null,
      "overflow_y": null,
      "padding": null,
      "right": null,
      "top": null,
      "visibility": null,
      "width": null
     }
    },
    "5a669e28128b459087895207239fa4d6": {
     "model_module": "@jupyter-widgets/base",
     "model_module_version": "1.2.0",
     "model_name": "LayoutModel",
     "state": {
      "_model_module": "@jupyter-widgets/base",
      "_model_module_version": "1.2.0",
      "_model_name": "LayoutModel",
      "_view_count": null,
      "_view_module": "@jupyter-widgets/base",
      "_view_module_version": "1.2.0",
      "_view_name": "LayoutView",
      "align_content": null,
      "align_items": null,
      "align_self": null,
      "border": null,
      "bottom": null,
      "display": null,
      "flex": null,
      "flex_flow": null,
      "grid_area": null,
      "grid_auto_columns": null,
      "grid_auto_flow": null,
      "grid_auto_rows": null,
      "grid_column": null,
      "grid_gap": null,
      "grid_row": null,
      "grid_template_areas": null,
      "grid_template_columns": null,
      "grid_template_rows": null,
      "height": null,
      "justify_content": null,
      "justify_items": null,
      "left": null,
      "margin": null,
      "max_height": null,
      "max_width": null,
      "min_height": null,
      "min_width": null,
      "object_fit": null,
      "object_position": null,
      "order": null,
      "overflow": null,
      "overflow_x": null,
      "overflow_y": null,
      "padding": null,
      "right": null,
      "top": null,
      "visibility": "hidden",
      "width": null
     }
    },
    "5f1da7e5a9954a17bd5d2d6521b01fe3": {
     "model_module": "@jupyter-widgets/base",
     "model_module_version": "1.2.0",
     "model_name": "LayoutModel",
     "state": {
      "_model_module": "@jupyter-widgets/base",
      "_model_module_version": "1.2.0",
      "_model_name": "LayoutModel",
      "_view_count": null,
      "_view_module": "@jupyter-widgets/base",
      "_view_module_version": "1.2.0",
      "_view_name": "LayoutView",
      "align_content": null,
      "align_items": null,
      "align_self": null,
      "border": null,
      "bottom": null,
      "display": null,
      "flex": null,
      "flex_flow": null,
      "grid_area": null,
      "grid_auto_columns": null,
      "grid_auto_flow": null,
      "grid_auto_rows": null,
      "grid_column": null,
      "grid_gap": null,
      "grid_row": null,
      "grid_template_areas": null,
      "grid_template_columns": null,
      "grid_template_rows": null,
      "height": null,
      "justify_content": null,
      "justify_items": null,
      "left": null,
      "margin": null,
      "max_height": null,
      "max_width": null,
      "min_height": null,
      "min_width": null,
      "object_fit": null,
      "object_position": null,
      "order": null,
      "overflow": null,
      "overflow_x": null,
      "overflow_y": null,
      "padding": null,
      "right": null,
      "top": null,
      "visibility": null,
      "width": null
     }
    },
    "5f71f10b3a89403b9cae37ede4fd85d8": {
     "model_module": "@jupyter-widgets/base",
     "model_module_version": "1.2.0",
     "model_name": "LayoutModel",
     "state": {
      "_model_module": "@jupyter-widgets/base",
      "_model_module_version": "1.2.0",
      "_model_name": "LayoutModel",
      "_view_count": null,
      "_view_module": "@jupyter-widgets/base",
      "_view_module_version": "1.2.0",
      "_view_name": "LayoutView",
      "align_content": null,
      "align_items": null,
      "align_self": null,
      "border": null,
      "bottom": null,
      "display": null,
      "flex": null,
      "flex_flow": null,
      "grid_area": null,
      "grid_auto_columns": null,
      "grid_auto_flow": null,
      "grid_auto_rows": null,
      "grid_column": null,
      "grid_gap": null,
      "grid_row": null,
      "grid_template_areas": null,
      "grid_template_columns": null,
      "grid_template_rows": null,
      "height": null,
      "justify_content": null,
      "justify_items": null,
      "left": null,
      "margin": null,
      "max_height": null,
      "max_width": null,
      "min_height": null,
      "min_width": null,
      "object_fit": null,
      "object_position": null,
      "order": null,
      "overflow": null,
      "overflow_x": null,
      "overflow_y": null,
      "padding": null,
      "right": null,
      "top": null,
      "visibility": null,
      "width": null
     }
    },
    "627298b5f7a2488ea6261bf9b35c10ec": {
     "model_module": "@jupyter-widgets/controls",
     "model_module_version": "1.5.0",
     "model_name": "HTMLModel",
     "state": {
      "_dom_classes": [],
      "_model_module": "@jupyter-widgets/controls",
      "_model_module_version": "1.5.0",
      "_model_name": "HTMLModel",
      "_view_count": null,
      "_view_module": "@jupyter-widgets/controls",
      "_view_module_version": "1.5.0",
      "_view_name": "HTMLView",
      "description": "",
      "description_tooltip": null,
      "layout": "IPY_MODEL_03c68505170347408993a6c3840e8285",
      "placeholder": "​",
      "style": "IPY_MODEL_d5551ed11b654003994a7fa3b25647e6",
      "value": " 10021/25000 [00:00&lt;00:00, 100192.18 examples/s]"
     }
    },
    "69aee8634a654129b360f6d664806199": {
     "model_module": "@jupyter-widgets/base",
     "model_module_version": "1.2.0",
     "model_name": "LayoutModel",
     "state": {
      "_model_module": "@jupyter-widgets/base",
      "_model_module_version": "1.2.0",
      "_model_name": "LayoutModel",
      "_view_count": null,
      "_view_module": "@jupyter-widgets/base",
      "_view_module_version": "1.2.0",
      "_view_name": "LayoutView",
      "align_content": null,
      "align_items": null,
      "align_self": null,
      "border": null,
      "bottom": null,
      "display": null,
      "flex": null,
      "flex_flow": null,
      "grid_area": null,
      "grid_auto_columns": null,
      "grid_auto_flow": null,
      "grid_auto_rows": null,
      "grid_column": null,
      "grid_gap": null,
      "grid_row": null,
      "grid_template_areas": null,
      "grid_template_columns": null,
      "grid_template_rows": null,
      "height": null,
      "justify_content": null,
      "justify_items": null,
      "left": null,
      "margin": null,
      "max_height": null,
      "max_width": null,
      "min_height": null,
      "min_width": null,
      "object_fit": null,
      "object_position": null,
      "order": null,
      "overflow": null,
      "overflow_x": null,
      "overflow_y": null,
      "padding": null,
      "right": null,
      "top": null,
      "visibility": null,
      "width": null
     }
    },
    "6ae51f436e1545739066db8087f001ff": {
     "model_module": "@jupyter-widgets/controls",
     "model_module_version": "1.5.0",
     "model_name": "FloatProgressModel",
     "state": {
      "_dom_classes": [],
      "_model_module": "@jupyter-widgets/controls",
      "_model_module_version": "1.5.0",
      "_model_name": "FloatProgressModel",
      "_view_count": null,
      "_view_module": "@jupyter-widgets/controls",
      "_view_module_version": "1.5.0",
      "_view_name": "ProgressView",
      "bar_style": "",
      "description": "",
      "description_tooltip": null,
      "layout": "IPY_MODEL_cf99d29eca5e4d338eede8d890b4e1b2",
      "max": 50000,
      "min": 0,
      "orientation": "horizontal",
      "style": "IPY_MODEL_1031a50e8c9147ebb2ba4505facb5643",
      "value": 50000
     }
    },
    "6b49d737cd1447158462a72641890f19": {
     "model_module": "@jupyter-widgets/controls",
     "model_module_version": "1.5.0",
     "model_name": "ProgressStyleModel",
     "state": {
      "_model_module": "@jupyter-widgets/controls",
      "_model_module_version": "1.5.0",
      "_model_name": "ProgressStyleModel",
      "_view_count": null,
      "_view_module": "@jupyter-widgets/base",
      "_view_module_version": "1.2.0",
      "_view_name": "StyleView",
      "bar_color": null,
      "description_width": ""
     }
    },
    "6c2f46d680ca4b62a67822403ac67992": {
     "model_module": "@jupyter-widgets/base",
     "model_module_version": "1.2.0",
     "model_name": "LayoutModel",
     "state": {
      "_model_module": "@jupyter-widgets/base",
      "_model_module_version": "1.2.0",
      "_model_name": "LayoutModel",
      "_view_count": null,
      "_view_module": "@jupyter-widgets/base",
      "_view_module_version": "1.2.0",
      "_view_name": "LayoutView",
      "align_content": null,
      "align_items": null,
      "align_self": null,
      "border": null,
      "bottom": null,
      "display": null,
      "flex": null,
      "flex_flow": null,
      "grid_area": null,
      "grid_auto_columns": null,
      "grid_auto_flow": null,
      "grid_auto_rows": null,
      "grid_column": null,
      "grid_gap": null,
      "grid_row": null,
      "grid_template_areas": null,
      "grid_template_columns": null,
      "grid_template_rows": null,
      "height": null,
      "justify_content": null,
      "justify_items": null,
      "left": null,
      "margin": null,
      "max_height": null,
      "max_width": null,
      "min_height": null,
      "min_width": null,
      "object_fit": null,
      "object_position": null,
      "order": null,
      "overflow": null,
      "overflow_x": null,
      "overflow_y": null,
      "padding": null,
      "right": null,
      "top": null,
      "visibility": "hidden",
      "width": null
     }
    },
    "6df7e79f3afe453988f1af7347734039": {
     "model_module": "@jupyter-widgets/base",
     "model_module_version": "1.2.0",
     "model_name": "LayoutModel",
     "state": {
      "_model_module": "@jupyter-widgets/base",
      "_model_module_version": "1.2.0",
      "_model_name": "LayoutModel",
      "_view_count": null,
      "_view_module": "@jupyter-widgets/base",
      "_view_module_version": "1.2.0",
      "_view_name": "LayoutView",
      "align_content": null,
      "align_items": null,
      "align_self": null,
      "border": null,
      "bottom": null,
      "display": null,
      "flex": null,
      "flex_flow": null,
      "grid_area": null,
      "grid_auto_columns": null,
      "grid_auto_flow": null,
      "grid_auto_rows": null,
      "grid_column": null,
      "grid_gap": null,
      "grid_row": null,
      "grid_template_areas": null,
      "grid_template_columns": null,
      "grid_template_rows": null,
      "height": null,
      "justify_content": null,
      "justify_items": null,
      "left": null,
      "margin": null,
      "max_height": null,
      "max_width": null,
      "min_height": null,
      "min_width": null,
      "object_fit": null,
      "object_position": null,
      "order": null,
      "overflow": null,
      "overflow_x": null,
      "overflow_y": null,
      "padding": null,
      "right": null,
      "top": null,
      "visibility": "hidden",
      "width": null
     }
    },
    "6e6a2aa1f5314545b8810e9bf6e9ea4b": {
     "model_module": "@jupyter-widgets/controls",
     "model_module_version": "1.5.0",
     "model_name": "ProgressStyleModel",
     "state": {
      "_model_module": "@jupyter-widgets/controls",
      "_model_module_version": "1.5.0",
      "_model_name": "ProgressStyleModel",
      "_view_count": null,
      "_view_module": "@jupyter-widgets/base",
      "_view_module_version": "1.2.0",
      "_view_name": "StyleView",
      "bar_color": null,
      "description_width": ""
     }
    },
    "7459ecda568e4481a7d0228cbf7a7c2e": {
     "model_module": "@jupyter-widgets/controls",
     "model_module_version": "1.5.0",
     "model_name": "DescriptionStyleModel",
     "state": {
      "_model_module": "@jupyter-widgets/controls",
      "_model_module_version": "1.5.0",
      "_model_name": "DescriptionStyleModel",
      "_view_count": null,
      "_view_module": "@jupyter-widgets/base",
      "_view_module_version": "1.2.0",
      "_view_name": "StyleView",
      "description_width": ""
     }
    },
    "75d3f32b687744a390051e4bda823309": {
     "model_module": "@jupyter-widgets/controls",
     "model_module_version": "1.5.0",
     "model_name": "ProgressStyleModel",
     "state": {
      "_model_module": "@jupyter-widgets/controls",
      "_model_module_version": "1.5.0",
      "_model_name": "ProgressStyleModel",
      "_view_count": null,
      "_view_module": "@jupyter-widgets/base",
      "_view_module_version": "1.2.0",
      "_view_name": "StyleView",
      "bar_color": null,
      "description_width": ""
     }
    },
    "77e2275c63fd47189d722e7296c8ff49": {
     "model_module": "@jupyter-widgets/controls",
     "model_module_version": "1.5.0",
     "model_name": "HTMLModel",
     "state": {
      "_dom_classes": [],
      "_model_module": "@jupyter-widgets/controls",
      "_model_module_version": "1.5.0",
      "_model_name": "HTMLModel",
      "_view_count": null,
      "_view_module": "@jupyter-widgets/controls",
      "_view_module_version": "1.5.0",
      "_view_name": "HTMLView",
      "description": "",
      "description_tooltip": null,
      "layout": "IPY_MODEL_de2c061770ee4a71bd2b93df5e9e9d7e",
      "placeholder": "​",
      "style": "IPY_MODEL_1284e4b717b84b7882872dbf58dc9177",
      "value": " 49566/50000 [00:00&lt;00:00, 178070.95 examples/s]"
     }
    },
    "7e68092dadfb4fa3af7d81bc432b4b3c": {
     "model_module": "@jupyter-widgets/controls",
     "model_module_version": "1.5.0",
     "model_name": "HTMLModel",
     "state": {
      "_dom_classes": [],
      "_model_module": "@jupyter-widgets/controls",
      "_model_module_version": "1.5.0",
      "_model_name": "HTMLModel",
      "_view_count": null,
      "_view_module": "@jupyter-widgets/controls",
      "_view_module_version": "1.5.0",
      "_view_name": "HTMLView",
      "description": "",
      "description_tooltip": null,
      "layout": "IPY_MODEL_fd2601d8194b4e2c9566293d22725f26",
      "placeholder": "​",
      "style": "IPY_MODEL_f49a848a17c24886a0c5070ce68d6ee5",
      "value": "Shuffling /root/tensorflow_datasets/imdb_reviews/plain_text/1.0.0.incompleteM9RXNO/imdb_reviews-unsupervised.tfrecord*...:  99%"
     }
    },
    "7f1ac566f50f4e72814757fffbc2d622": {
     "model_module": "@jupyter-widgets/controls",
     "model_module_version": "1.5.0",
     "model_name": "ProgressStyleModel",
     "state": {
      "_model_module": "@jupyter-widgets/controls",
      "_model_module_version": "1.5.0",
      "_model_name": "ProgressStyleModel",
      "_view_count": null,
      "_view_module": "@jupyter-widgets/base",
      "_view_module_version": "1.2.0",
      "_view_name": "StyleView",
      "bar_color": null,
      "description_width": ""
     }
    },
    "8138bbda8b8f4e32bb5d9c6d04b3ef73": {
     "model_module": "@jupyter-widgets/controls",
     "model_module_version": "1.5.0",
     "model_name": "DescriptionStyleModel",
     "state": {
      "_model_module": "@jupyter-widgets/controls",
      "_model_module_version": "1.5.0",
      "_model_name": "DescriptionStyleModel",
      "_view_count": null,
      "_view_module": "@jupyter-widgets/base",
      "_view_module_version": "1.2.0",
      "_view_name": "StyleView",
      "description_width": ""
     }
    },
    "89e009419f2b4a59b1886e308b79e7c4": {
     "model_module": "@jupyter-widgets/base",
     "model_module_version": "1.2.0",
     "model_name": "LayoutModel",
     "state": {
      "_model_module": "@jupyter-widgets/base",
      "_model_module_version": "1.2.0",
      "_model_name": "LayoutModel",
      "_view_count": null,
      "_view_module": "@jupyter-widgets/base",
      "_view_module_version": "1.2.0",
      "_view_name": "LayoutView",
      "align_content": null,
      "align_items": null,
      "align_self": null,
      "border": null,
      "bottom": null,
      "display": null,
      "flex": null,
      "flex_flow": null,
      "grid_area": null,
      "grid_auto_columns": null,
      "grid_auto_flow": null,
      "grid_auto_rows": null,
      "grid_column": null,
      "grid_gap": null,
      "grid_row": null,
      "grid_template_areas": null,
      "grid_template_columns": null,
      "grid_template_rows": null,
      "height": null,
      "justify_content": null,
      "justify_items": null,
      "left": null,
      "margin": null,
      "max_height": null,
      "max_width": null,
      "min_height": null,
      "min_width": null,
      "object_fit": null,
      "object_position": null,
      "order": null,
      "overflow": null,
      "overflow_x": null,
      "overflow_y": null,
      "padding": null,
      "right": null,
      "top": null,
      "visibility": null,
      "width": null
     }
    },
    "8e3a369d339147979ae6be8179e5b5ce": {
     "model_module": "@jupyter-widgets/base",
     "model_module_version": "1.2.0",
     "model_name": "LayoutModel",
     "state": {
      "_model_module": "@jupyter-widgets/base",
      "_model_module_version": "1.2.0",
      "_model_name": "LayoutModel",
      "_view_count": null,
      "_view_module": "@jupyter-widgets/base",
      "_view_module_version": "1.2.0",
      "_view_name": "LayoutView",
      "align_content": null,
      "align_items": null,
      "align_self": null,
      "border": null,
      "bottom": null,
      "display": null,
      "flex": null,
      "flex_flow": null,
      "grid_area": null,
      "grid_auto_columns": null,
      "grid_auto_flow": null,
      "grid_auto_rows": null,
      "grid_column": null,
      "grid_gap": null,
      "grid_row": null,
      "grid_template_areas": null,
      "grid_template_columns": null,
      "grid_template_rows": null,
      "height": null,
      "justify_content": null,
      "justify_items": null,
      "left": null,
      "margin": null,
      "max_height": null,
      "max_width": null,
      "min_height": null,
      "min_width": null,
      "object_fit": null,
      "object_position": null,
      "order": null,
      "overflow": null,
      "overflow_x": null,
      "overflow_y": null,
      "padding": null,
      "right": null,
      "top": null,
      "visibility": null,
      "width": null
     }
    },
    "8f1c53d44cf845bbadd759811bf9f5e0": {
     "model_module": "@jupyter-widgets/base",
     "model_module_version": "1.2.0",
     "model_name": "LayoutModel",
     "state": {
      "_model_module": "@jupyter-widgets/base",
      "_model_module_version": "1.2.0",
      "_model_name": "LayoutModel",
      "_view_count": null,
      "_view_module": "@jupyter-widgets/base",
      "_view_module_version": "1.2.0",
      "_view_name": "LayoutView",
      "align_content": null,
      "align_items": null,
      "align_self": null,
      "border": null,
      "bottom": null,
      "display": null,
      "flex": null,
      "flex_flow": null,
      "grid_area": null,
      "grid_auto_columns": null,
      "grid_auto_flow": null,
      "grid_auto_rows": null,
      "grid_column": null,
      "grid_gap": null,
      "grid_row": null,
      "grid_template_areas": null,
      "grid_template_columns": null,
      "grid_template_rows": null,
      "height": null,
      "justify_content": null,
      "justify_items": null,
      "left": null,
      "margin": null,
      "max_height": null,
      "max_width": null,
      "min_height": null,
      "min_width": null,
      "object_fit": null,
      "object_position": null,
      "order": null,
      "overflow": null,
      "overflow_x": null,
      "overflow_y": null,
      "padding": null,
      "right": null,
      "top": null,
      "visibility": null,
      "width": null
     }
    },
    "8f6a94e7a1094df2b7b5eebc45e18805": {
     "model_module": "@jupyter-widgets/controls",
     "model_module_version": "1.5.0",
     "model_name": "DescriptionStyleModel",
     "state": {
      "_model_module": "@jupyter-widgets/controls",
      "_model_module_version": "1.5.0",
      "_model_name": "DescriptionStyleModel",
      "_view_count": null,
      "_view_module": "@jupyter-widgets/base",
      "_view_module_version": "1.2.0",
      "_view_name": "StyleView",
      "description_width": ""
     }
    },
    "950aba0b427f4f91b533d78cbda77ad9": {
     "model_module": "@jupyter-widgets/base",
     "model_module_version": "1.2.0",
     "model_name": "LayoutModel",
     "state": {
      "_model_module": "@jupyter-widgets/base",
      "_model_module_version": "1.2.0",
      "_model_name": "LayoutModel",
      "_view_count": null,
      "_view_module": "@jupyter-widgets/base",
      "_view_module_version": "1.2.0",
      "_view_name": "LayoutView",
      "align_content": null,
      "align_items": null,
      "align_self": null,
      "border": null,
      "bottom": null,
      "display": null,
      "flex": null,
      "flex_flow": null,
      "grid_area": null,
      "grid_auto_columns": null,
      "grid_auto_flow": null,
      "grid_auto_rows": null,
      "grid_column": null,
      "grid_gap": null,
      "grid_row": null,
      "grid_template_areas": null,
      "grid_template_columns": null,
      "grid_template_rows": null,
      "height": null,
      "justify_content": null,
      "justify_items": null,
      "left": null,
      "margin": null,
      "max_height": null,
      "max_width": null,
      "min_height": null,
      "min_width": null,
      "object_fit": null,
      "object_position": null,
      "order": null,
      "overflow": null,
      "overflow_x": null,
      "overflow_y": null,
      "padding": null,
      "right": null,
      "top": null,
      "visibility": null,
      "width": null
     }
    },
    "951f0d6934324091b9e05e42d93df98c": {
     "model_module": "@jupyter-widgets/base",
     "model_module_version": "1.2.0",
     "model_name": "LayoutModel",
     "state": {
      "_model_module": "@jupyter-widgets/base",
      "_model_module_version": "1.2.0",
      "_model_name": "LayoutModel",
      "_view_count": null,
      "_view_module": "@jupyter-widgets/base",
      "_view_module_version": "1.2.0",
      "_view_name": "LayoutView",
      "align_content": null,
      "align_items": null,
      "align_self": null,
      "border": null,
      "bottom": null,
      "display": null,
      "flex": null,
      "flex_flow": null,
      "grid_area": null,
      "grid_auto_columns": null,
      "grid_auto_flow": null,
      "grid_auto_rows": null,
      "grid_column": null,
      "grid_gap": null,
      "grid_row": null,
      "grid_template_areas": null,
      "grid_template_columns": null,
      "grid_template_rows": null,
      "height": null,
      "justify_content": null,
      "justify_items": null,
      "left": null,
      "margin": null,
      "max_height": null,
      "max_width": null,
      "min_height": null,
      "min_width": null,
      "object_fit": null,
      "object_position": null,
      "order": null,
      "overflow": null,
      "overflow_x": null,
      "overflow_y": null,
      "padding": null,
      "right": null,
      "top": null,
      "visibility": null,
      "width": null
     }
    },
    "96c1eab3136c4a77a1b93b9b0178982d": {
     "model_module": "@jupyter-widgets/controls",
     "model_module_version": "1.5.0",
     "model_name": "FloatProgressModel",
     "state": {
      "_dom_classes": [],
      "_model_module": "@jupyter-widgets/controls",
      "_model_module_version": "1.5.0",
      "_model_name": "FloatProgressModel",
      "_view_count": null,
      "_view_module": "@jupyter-widgets/controls",
      "_view_module_version": "1.5.0",
      "_view_name": "ProgressView",
      "bar_style": "",
      "description": "",
      "description_tooltip": null,
      "layout": "IPY_MODEL_0dd8e5151fe84792b6c662bb2fa452cb",
      "max": 25000,
      "min": 0,
      "orientation": "horizontal",
      "style": "IPY_MODEL_d8329906ee84498c9c02ffe27b562989",
      "value": 25000
     }
    },
    "99f61437003343d7ada5afd6482ec2e6": {
     "model_module": "@jupyter-widgets/controls",
     "model_module_version": "1.5.0",
     "model_name": "FloatProgressModel",
     "state": {
      "_dom_classes": [],
      "_model_module": "@jupyter-widgets/controls",
      "_model_module_version": "1.5.0",
      "_model_name": "FloatProgressModel",
      "_view_count": null,
      "_view_module": "@jupyter-widgets/controls",
      "_view_module_version": "1.5.0",
      "_view_name": "ProgressView",
      "bar_style": "success",
      "description": "",
      "description_tooltip": null,
      "layout": "IPY_MODEL_f2fd6186764f410fa2497363384aad91",
      "max": 1,
      "min": 0,
      "orientation": "horizontal",
      "style": "IPY_MODEL_08c4e2d4934144adaf32c6fedcd009b7",
      "value": 1
     }
    },
    "9b63c88275ec46b9b1acde5acca49930": {
     "model_module": "@jupyter-widgets/controls",
     "model_module_version": "1.5.0",
     "model_name": "HBoxModel",
     "state": {
      "_dom_classes": [],
      "_model_module": "@jupyter-widgets/controls",
      "_model_module_version": "1.5.0",
      "_model_name": "HBoxModel",
      "_view_count": null,
      "_view_module": "@jupyter-widgets/controls",
      "_view_module_version": "1.5.0",
      "_view_name": "HBoxView",
      "box_style": "",
      "children": [
       "IPY_MODEL_dec09525296744558d98c0ee10b7159a",
       "IPY_MODEL_003bbed8be7b4be3b78048d82cfe5273",
       "IPY_MODEL_227daecf854c46308b3760a7eea98c20"
      ],
      "layout": "IPY_MODEL_b0e7943b125c43fdae587fb3bacf1a96"
     }
    },
    "9e1b1bc067a4483fa3c6b5127b0b3e6b": {
     "model_module": "@jupyter-widgets/controls",
     "model_module_version": "1.5.0",
     "model_name": "FloatProgressModel",
     "state": {
      "_dom_classes": [],
      "_model_module": "@jupyter-widgets/controls",
      "_model_module_version": "1.5.0",
      "_model_name": "FloatProgressModel",
      "_view_count": null,
      "_view_module": "@jupyter-widgets/controls",
      "_view_module_version": "1.5.0",
      "_view_name": "ProgressView",
      "bar_style": "",
      "description": "",
      "description_tooltip": null,
      "layout": "IPY_MODEL_f69cb95537604b548f78a6c1d795d5ab",
      "max": 25000,
      "min": 0,
      "orientation": "horizontal",
      "style": "IPY_MODEL_6b49d737cd1447158462a72641890f19",
      "value": 25000
     }
    },
    "9f5067e77c8f4346b4ed08116be66729": {
     "model_module": "@jupyter-widgets/controls",
     "model_module_version": "1.5.0",
     "model_name": "DescriptionStyleModel",
     "state": {
      "_model_module": "@jupyter-widgets/controls",
      "_model_module_version": "1.5.0",
      "_model_name": "DescriptionStyleModel",
      "_view_count": null,
      "_view_module": "@jupyter-widgets/base",
      "_view_module_version": "1.2.0",
      "_view_name": "StyleView",
      "description_width": ""
     }
    },
    "a06372fa99324ed4b00ece724bd699d6": {
     "model_module": "@jupyter-widgets/controls",
     "model_module_version": "1.5.0",
     "model_name": "HTMLModel",
     "state": {
      "_dom_classes": [],
      "_model_module": "@jupyter-widgets/controls",
      "_model_module_version": "1.5.0",
      "_model_name": "HTMLModel",
      "_view_count": null,
      "_view_module": "@jupyter-widgets/controls",
      "_view_module_version": "1.5.0",
      "_view_name": "HTMLView",
      "description": "",
      "description_tooltip": null,
      "layout": "IPY_MODEL_fc54b0f61a8f4088bb0ee2b26bc871c8",
      "placeholder": "​",
      "style": "IPY_MODEL_a51b623080d84f3b912561a7757fa212",
      "value": " 80/80 [00:05&lt;00:00, 16.11 MiB/s]"
     }
    },
    "a2a2046d50df4cc9be1b6de70616e2df": {
     "model_module": "@jupyter-widgets/controls",
     "model_module_version": "1.5.0",
     "model_name": "HTMLModel",
     "state": {
      "_dom_classes": [],
      "_model_module": "@jupyter-widgets/controls",
      "_model_module_version": "1.5.0",
      "_model_name": "HTMLModel",
      "_view_count": null,
      "_view_module": "@jupyter-widgets/controls",
      "_view_module_version": "1.5.0",
      "_view_name": "HTMLView",
      "description": "",
      "description_tooltip": null,
      "layout": "IPY_MODEL_e0be0b54027844afbbe2a0f71ff72985",
      "placeholder": "​",
      "style": "IPY_MODEL_a5ac61c7b87340088d3ff2d9ec69d488",
      "value": " 49951/50000 [00:13&lt;00:00, 4905.40 examples/s]"
     }
    },
    "a389c10540b94f30a21a311fdc3f27b8": {
     "model_module": "@jupyter-widgets/controls",
     "model_module_version": "1.5.0",
     "model_name": "HBoxModel",
     "state": {
      "_dom_classes": [],
      "_model_module": "@jupyter-widgets/controls",
      "_model_module_version": "1.5.0",
      "_model_name": "HBoxModel",
      "_view_count": null,
      "_view_module": "@jupyter-widgets/controls",
      "_view_module_version": "1.5.0",
      "_view_name": "HBoxView",
      "box_style": "",
      "children": [
       "IPY_MODEL_17db27273e6a4e118c652f9ea27caf99",
       "IPY_MODEL_9e1b1bc067a4483fa3c6b5127b0b3e6b",
       "IPY_MODEL_627298b5f7a2488ea6261bf9b35c10ec"
      ],
      "layout": "IPY_MODEL_5a669e28128b459087895207239fa4d6"
     }
    },
    "a51b623080d84f3b912561a7757fa212": {
     "model_module": "@jupyter-widgets/controls",
     "model_module_version": "1.5.0",
     "model_name": "DescriptionStyleModel",
     "state": {
      "_model_module": "@jupyter-widgets/controls",
      "_model_module_version": "1.5.0",
      "_model_name": "DescriptionStyleModel",
      "_view_count": null,
      "_view_module": "@jupyter-widgets/base",
      "_view_module_version": "1.2.0",
      "_view_name": "StyleView",
      "description_width": ""
     }
    },
    "a5ac61c7b87340088d3ff2d9ec69d488": {
     "model_module": "@jupyter-widgets/controls",
     "model_module_version": "1.5.0",
     "model_name": "DescriptionStyleModel",
     "state": {
      "_model_module": "@jupyter-widgets/controls",
      "_model_module_version": "1.5.0",
      "_model_name": "DescriptionStyleModel",
      "_view_count": null,
      "_view_module": "@jupyter-widgets/base",
      "_view_module_version": "1.2.0",
      "_view_name": "StyleView",
      "description_width": ""
     }
    },
    "a91108844b8545eeabc1758c04e10ec4": {
     "model_module": "@jupyter-widgets/controls",
     "model_module_version": "1.5.0",
     "model_name": "DescriptionStyleModel",
     "state": {
      "_model_module": "@jupyter-widgets/controls",
      "_model_module_version": "1.5.0",
      "_model_name": "DescriptionStyleModel",
      "_view_count": null,
      "_view_module": "@jupyter-widgets/base",
      "_view_module_version": "1.2.0",
      "_view_name": "StyleView",
      "description_width": ""
     }
    },
    "b0e7943b125c43fdae587fb3bacf1a96": {
     "model_module": "@jupyter-widgets/base",
     "model_module_version": "1.2.0",
     "model_name": "LayoutModel",
     "state": {
      "_model_module": "@jupyter-widgets/base",
      "_model_module_version": "1.2.0",
      "_model_name": "LayoutModel",
      "_view_count": null,
      "_view_module": "@jupyter-widgets/base",
      "_view_module_version": "1.2.0",
      "_view_name": "LayoutView",
      "align_content": null,
      "align_items": null,
      "align_self": null,
      "border": null,
      "bottom": null,
      "display": null,
      "flex": null,
      "flex_flow": null,
      "grid_area": null,
      "grid_auto_columns": null,
      "grid_auto_flow": null,
      "grid_auto_rows": null,
      "grid_column": null,
      "grid_gap": null,
      "grid_row": null,
      "grid_template_areas": null,
      "grid_template_columns": null,
      "grid_template_rows": null,
      "height": null,
      "justify_content": null,
      "justify_items": null,
      "left": null,
      "margin": null,
      "max_height": null,
      "max_width": null,
      "min_height": null,
      "min_width": null,
      "object_fit": null,
      "object_position": null,
      "order": null,
      "overflow": null,
      "overflow_x": null,
      "overflow_y": null,
      "padding": null,
      "right": null,
      "top": null,
      "visibility": "hidden",
      "width": null
     }
    },
    "b5daae736b6241028e8501ab72df5ffb": {
     "model_module": "@jupyter-widgets/base",
     "model_module_version": "1.2.0",
     "model_name": "LayoutModel",
     "state": {
      "_model_module": "@jupyter-widgets/base",
      "_model_module_version": "1.2.0",
      "_model_name": "LayoutModel",
      "_view_count": null,
      "_view_module": "@jupyter-widgets/base",
      "_view_module_version": "1.2.0",
      "_view_name": "LayoutView",
      "align_content": null,
      "align_items": null,
      "align_self": null,
      "border": null,
      "bottom": null,
      "display": null,
      "flex": null,
      "flex_flow": null,
      "grid_area": null,
      "grid_auto_columns": null,
      "grid_auto_flow": null,
      "grid_auto_rows": null,
      "grid_column": null,
      "grid_gap": null,
      "grid_row": null,
      "grid_template_areas": null,
      "grid_template_columns": null,
      "grid_template_rows": null,
      "height": null,
      "justify_content": null,
      "justify_items": null,
      "left": null,
      "margin": null,
      "max_height": null,
      "max_width": null,
      "min_height": null,
      "min_width": null,
      "object_fit": null,
      "object_position": null,
      "order": null,
      "overflow": null,
      "overflow_x": null,
      "overflow_y": null,
      "padding": null,
      "right": null,
      "top": null,
      "visibility": null,
      "width": null
     }
    },
    "b6a63924e2894f9ab70fb8710e71d0f2": {
     "model_module": "@jupyter-widgets/controls",
     "model_module_version": "1.5.0",
     "model_name": "HTMLModel",
     "state": {
      "_dom_classes": [],
      "_model_module": "@jupyter-widgets/controls",
      "_model_module_version": "1.5.0",
      "_model_name": "HTMLModel",
      "_view_count": null,
      "_view_module": "@jupyter-widgets/controls",
      "_view_module_version": "1.5.0",
      "_view_name": "HTMLView",
      "description": "",
      "description_tooltip": null,
      "layout": "IPY_MODEL_47b9bf66f45c4907af105c13c108d66a",
      "placeholder": "​",
      "style": "IPY_MODEL_378a80e8af184a0897a06105015c94c3",
      "value": "Generating test examples...:  99%"
     }
    },
    "ba9d70f66fd1492f9c55d6566f86fed9": {
     "model_module": "@jupyter-widgets/controls",
     "model_module_version": "1.5.0",
     "model_name": "DescriptionStyleModel",
     "state": {
      "_model_module": "@jupyter-widgets/controls",
      "_model_module_version": "1.5.0",
      "_model_name": "DescriptionStyleModel",
      "_view_count": null,
      "_view_module": "@jupyter-widgets/base",
      "_view_module_version": "1.2.0",
      "_view_name": "StyleView",
      "description_width": ""
     }
    },
    "bc2a1b1e585d45458cfafb8493f392c3": {
     "model_module": "@jupyter-widgets/base",
     "model_module_version": "1.2.0",
     "model_name": "LayoutModel",
     "state": {
      "_model_module": "@jupyter-widgets/base",
      "_model_module_version": "1.2.0",
      "_model_name": "LayoutModel",
      "_view_count": null,
      "_view_module": "@jupyter-widgets/base",
      "_view_module_version": "1.2.0",
      "_view_name": "LayoutView",
      "align_content": null,
      "align_items": null,
      "align_self": null,
      "border": null,
      "bottom": null,
      "display": null,
      "flex": null,
      "flex_flow": null,
      "grid_area": null,
      "grid_auto_columns": null,
      "grid_auto_flow": null,
      "grid_auto_rows": null,
      "grid_column": null,
      "grid_gap": null,
      "grid_row": null,
      "grid_template_areas": null,
      "grid_template_columns": null,
      "grid_template_rows": null,
      "height": null,
      "justify_content": null,
      "justify_items": null,
      "left": null,
      "margin": null,
      "max_height": null,
      "max_width": null,
      "min_height": null,
      "min_width": null,
      "object_fit": null,
      "object_position": null,
      "order": null,
      "overflow": null,
      "overflow_x": null,
      "overflow_y": null,
      "padding": null,
      "right": null,
      "top": null,
      "visibility": null,
      "width": null
     }
    },
    "bd23673e3e1846299277a00abcf5a099": {
     "model_module": "@jupyter-widgets/controls",
     "model_module_version": "1.5.0",
     "model_name": "ProgressStyleModel",
     "state": {
      "_model_module": "@jupyter-widgets/controls",
      "_model_module_version": "1.5.0",
      "_model_name": "ProgressStyleModel",
      "_view_count": null,
      "_view_module": "@jupyter-widgets/base",
      "_view_module_version": "1.2.0",
      "_view_name": "StyleView",
      "bar_color": null,
      "description_width": ""
     }
    },
    "bde57028334a42d18e8a1d1133dd434b": {
     "model_module": "@jupyter-widgets/controls",
     "model_module_version": "1.5.0",
     "model_name": "HTMLModel",
     "state": {
      "_dom_classes": [],
      "_model_module": "@jupyter-widgets/controls",
      "_model_module_version": "1.5.0",
      "_model_name": "HTMLModel",
      "_view_count": null,
      "_view_module": "@jupyter-widgets/controls",
      "_view_module_version": "1.5.0",
      "_view_name": "HTMLView",
      "description": "",
      "description_tooltip": null,
      "layout": "IPY_MODEL_5f71f10b3a89403b9cae37ede4fd85d8",
      "placeholder": "​",
      "style": "IPY_MODEL_7459ecda568e4481a7d0228cbf7a7c2e",
      "value": "Dl Completed...: 100%"
     }
    },
    "be1746ec51d949d696d1b25cc62a0d74": {
     "model_module": "@jupyter-widgets/controls",
     "model_module_version": "1.5.0",
     "model_name": "HBoxModel",
     "state": {
      "_dom_classes": [],
      "_model_module": "@jupyter-widgets/controls",
      "_model_module_version": "1.5.0",
      "_model_name": "HBoxModel",
      "_view_count": null,
      "_view_module": "@jupyter-widgets/controls",
      "_view_module_version": "1.5.0",
      "_view_name": "HBoxView",
      "box_style": "",
      "children": [
       "IPY_MODEL_7e68092dadfb4fa3af7d81bc432b4b3c",
       "IPY_MODEL_009a5328fb3a4b8aaa0ff92b33f13ea5",
       "IPY_MODEL_77e2275c63fd47189d722e7296c8ff49"
      ],
      "layout": "IPY_MODEL_d5bf802fb9ca48e28697af24869e9ab8"
     }
    },
    "c12e3971f2044fc98f08c3bf91b24350": {
     "model_module": "@jupyter-widgets/controls",
     "model_module_version": "1.5.0",
     "model_name": "DescriptionStyleModel",
     "state": {
      "_model_module": "@jupyter-widgets/controls",
      "_model_module_version": "1.5.0",
      "_model_name": "DescriptionStyleModel",
      "_view_count": null,
      "_view_module": "@jupyter-widgets/base",
      "_view_module_version": "1.2.0",
      "_view_name": "StyleView",
      "description_width": ""
     }
    },
    "c1928bbac220418da48c7e107ed6cee4": {
     "model_module": "@jupyter-widgets/controls",
     "model_module_version": "1.5.0",
     "model_name": "HTMLModel",
     "state": {
      "_dom_classes": [],
      "_model_module": "@jupyter-widgets/controls",
      "_model_module_version": "1.5.0",
      "_model_name": "HTMLModel",
      "_view_count": null,
      "_view_module": "@jupyter-widgets/controls",
      "_view_module_version": "1.5.0",
      "_view_name": "HTMLView",
      "description": "",
      "description_tooltip": null,
      "layout": "IPY_MODEL_591f98a6a5504b9ebf7f76c2f05f48dc",
      "placeholder": "​",
      "style": "IPY_MODEL_183e93aef1de4037be5ac81aa33c4561",
      "value": " 21427/25000 [00:06&lt;00:00, 4391.20 examples/s]"
     }
    },
    "cc7d1da697064bf1963a5808fc9157cb": {
     "model_module": "@jupyter-widgets/controls",
     "model_module_version": "1.5.0",
     "model_name": "FloatProgressModel",
     "state": {
      "_dom_classes": [],
      "_model_module": "@jupyter-widgets/controls",
      "_model_module_version": "1.5.0",
      "_model_name": "FloatProgressModel",
      "_view_count": null,
      "_view_module": "@jupyter-widgets/controls",
      "_view_module_version": "1.5.0",
      "_view_name": "ProgressView",
      "bar_style": "success",
      "description": "",
      "description_tooltip": null,
      "layout": "IPY_MODEL_413b883eb992445a88cbfb06d8849d6d",
      "max": 1,
      "min": 0,
      "orientation": "horizontal",
      "style": "IPY_MODEL_bd23673e3e1846299277a00abcf5a099",
      "value": 1
     }
    },
    "cf99d29eca5e4d338eede8d890b4e1b2": {
     "model_module": "@jupyter-widgets/base",
     "model_module_version": "1.2.0",
     "model_name": "LayoutModel",
     "state": {
      "_model_module": "@jupyter-widgets/base",
      "_model_module_version": "1.2.0",
      "_model_name": "LayoutModel",
      "_view_count": null,
      "_view_module": "@jupyter-widgets/base",
      "_view_module_version": "1.2.0",
      "_view_name": "LayoutView",
      "align_content": null,
      "align_items": null,
      "align_self": null,
      "border": null,
      "bottom": null,
      "display": null,
      "flex": null,
      "flex_flow": null,
      "grid_area": null,
      "grid_auto_columns": null,
      "grid_auto_flow": null,
      "grid_auto_rows": null,
      "grid_column": null,
      "grid_gap": null,
      "grid_row": null,
      "grid_template_areas": null,
      "grid_template_columns": null,
      "grid_template_rows": null,
      "height": null,
      "justify_content": null,
      "justify_items": null,
      "left": null,
      "margin": null,
      "max_height": null,
      "max_width": null,
      "min_height": null,
      "min_width": null,
      "object_fit": null,
      "object_position": null,
      "order": null,
      "overflow": null,
      "overflow_x": null,
      "overflow_y": null,
      "padding": null,
      "right": null,
      "top": null,
      "visibility": null,
      "width": null
     }
    },
    "d43158a8bda148b3a4a85a3a6c5d818b": {
     "model_module": "@jupyter-widgets/base",
     "model_module_version": "1.2.0",
     "model_name": "LayoutModel",
     "state": {
      "_model_module": "@jupyter-widgets/base",
      "_model_module_version": "1.2.0",
      "_model_name": "LayoutModel",
      "_view_count": null,
      "_view_module": "@jupyter-widgets/base",
      "_view_module_version": "1.2.0",
      "_view_name": "LayoutView",
      "align_content": null,
      "align_items": null,
      "align_self": null,
      "border": null,
      "bottom": null,
      "display": null,
      "flex": null,
      "flex_flow": null,
      "grid_area": null,
      "grid_auto_columns": null,
      "grid_auto_flow": null,
      "grid_auto_rows": null,
      "grid_column": null,
      "grid_gap": null,
      "grid_row": null,
      "grid_template_areas": null,
      "grid_template_columns": null,
      "grid_template_rows": null,
      "height": null,
      "justify_content": null,
      "justify_items": null,
      "left": null,
      "margin": null,
      "max_height": null,
      "max_width": null,
      "min_height": null,
      "min_width": null,
      "object_fit": null,
      "object_position": null,
      "order": null,
      "overflow": null,
      "overflow_x": null,
      "overflow_y": null,
      "padding": null,
      "right": null,
      "top": null,
      "visibility": null,
      "width": null
     }
    },
    "d5551ed11b654003994a7fa3b25647e6": {
     "model_module": "@jupyter-widgets/controls",
     "model_module_version": "1.5.0",
     "model_name": "DescriptionStyleModel",
     "state": {
      "_model_module": "@jupyter-widgets/controls",
      "_model_module_version": "1.5.0",
      "_model_name": "DescriptionStyleModel",
      "_view_count": null,
      "_view_module": "@jupyter-widgets/base",
      "_view_module_version": "1.2.0",
      "_view_name": "StyleView",
      "description_width": ""
     }
    },
    "d5bf802fb9ca48e28697af24869e9ab8": {
     "model_module": "@jupyter-widgets/base",
     "model_module_version": "1.2.0",
     "model_name": "LayoutModel",
     "state": {
      "_model_module": "@jupyter-widgets/base",
      "_model_module_version": "1.2.0",
      "_model_name": "LayoutModel",
      "_view_count": null,
      "_view_module": "@jupyter-widgets/base",
      "_view_module_version": "1.2.0",
      "_view_name": "LayoutView",
      "align_content": null,
      "align_items": null,
      "align_self": null,
      "border": null,
      "bottom": null,
      "display": null,
      "flex": null,
      "flex_flow": null,
      "grid_area": null,
      "grid_auto_columns": null,
      "grid_auto_flow": null,
      "grid_auto_rows": null,
      "grid_column": null,
      "grid_gap": null,
      "grid_row": null,
      "grid_template_areas": null,
      "grid_template_columns": null,
      "grid_template_rows": null,
      "height": null,
      "justify_content": null,
      "justify_items": null,
      "left": null,
      "margin": null,
      "max_height": null,
      "max_width": null,
      "min_height": null,
      "min_width": null,
      "object_fit": null,
      "object_position": null,
      "order": null,
      "overflow": null,
      "overflow_x": null,
      "overflow_y": null,
      "padding": null,
      "right": null,
      "top": null,
      "visibility": "hidden",
      "width": null
     }
    },
    "d8329906ee84498c9c02ffe27b562989": {
     "model_module": "@jupyter-widgets/controls",
     "model_module_version": "1.5.0",
     "model_name": "ProgressStyleModel",
     "state": {
      "_model_module": "@jupyter-widgets/controls",
      "_model_module_version": "1.5.0",
      "_model_name": "ProgressStyleModel",
      "_view_count": null,
      "_view_module": "@jupyter-widgets/base",
      "_view_module_version": "1.2.0",
      "_view_name": "StyleView",
      "bar_color": null,
      "description_width": ""
     }
    },
    "de2c061770ee4a71bd2b93df5e9e9d7e": {
     "model_module": "@jupyter-widgets/base",
     "model_module_version": "1.2.0",
     "model_name": "LayoutModel",
     "state": {
      "_model_module": "@jupyter-widgets/base",
      "_model_module_version": "1.2.0",
      "_model_name": "LayoutModel",
      "_view_count": null,
      "_view_module": "@jupyter-widgets/base",
      "_view_module_version": "1.2.0",
      "_view_name": "LayoutView",
      "align_content": null,
      "align_items": null,
      "align_self": null,
      "border": null,
      "bottom": null,
      "display": null,
      "flex": null,
      "flex_flow": null,
      "grid_area": null,
      "grid_auto_columns": null,
      "grid_auto_flow": null,
      "grid_auto_rows": null,
      "grid_column": null,
      "grid_gap": null,
      "grid_row": null,
      "grid_template_areas": null,
      "grid_template_columns": null,
      "grid_template_rows": null,
      "height": null,
      "justify_content": null,
      "justify_items": null,
      "left": null,
      "margin": null,
      "max_height": null,
      "max_width": null,
      "min_height": null,
      "min_width": null,
      "object_fit": null,
      "object_position": null,
      "order": null,
      "overflow": null,
      "overflow_x": null,
      "overflow_y": null,
      "padding": null,
      "right": null,
      "top": null,
      "visibility": null,
      "width": null
     }
    },
    "dec09525296744558d98c0ee10b7159a": {
     "model_module": "@jupyter-widgets/controls",
     "model_module_version": "1.5.0",
     "model_name": "HTMLModel",
     "state": {
      "_dom_classes": [],
      "_model_module": "@jupyter-widgets/controls",
      "_model_module_version": "1.5.0",
      "_model_name": "HTMLModel",
      "_view_count": null,
      "_view_module": "@jupyter-widgets/controls",
      "_view_module_version": "1.5.0",
      "_view_name": "HTMLView",
      "description": "",
      "description_tooltip": null,
      "layout": "IPY_MODEL_583f9006b5064d129709941b10b73c37",
      "placeholder": "​",
      "style": "IPY_MODEL_fca2811546b34579b4ae039db8c3ef30",
      "value": "Generating splits...: 100%"
     }
    },
    "e0be0b54027844afbbe2a0f71ff72985": {
     "model_module": "@jupyter-widgets/base",
     "model_module_version": "1.2.0",
     "model_name": "LayoutModel",
     "state": {
      "_model_module": "@jupyter-widgets/base",
      "_model_module_version": "1.2.0",
      "_model_name": "LayoutModel",
      "_view_count": null,
      "_view_module": "@jupyter-widgets/base",
      "_view_module_version": "1.2.0",
      "_view_name": "LayoutView",
      "align_content": null,
      "align_items": null,
      "align_self": null,
      "border": null,
      "bottom": null,
      "display": null,
      "flex": null,
      "flex_flow": null,
      "grid_area": null,
      "grid_auto_columns": null,
      "grid_auto_flow": null,
      "grid_auto_rows": null,
      "grid_column": null,
      "grid_gap": null,
      "grid_row": null,
      "grid_template_areas": null,
      "grid_template_columns": null,
      "grid_template_rows": null,
      "height": null,
      "justify_content": null,
      "justify_items": null,
      "left": null,
      "margin": null,
      "max_height": null,
      "max_width": null,
      "min_height": null,
      "min_width": null,
      "object_fit": null,
      "object_position": null,
      "order": null,
      "overflow": null,
      "overflow_x": null,
      "overflow_y": null,
      "padding": null,
      "right": null,
      "top": null,
      "visibility": null,
      "width": null
     }
    },
    "e112516791294d7b897970ccfd0dd93d": {
     "model_module": "@jupyter-widgets/controls",
     "model_module_version": "1.5.0",
     "model_name": "HTMLModel",
     "state": {
      "_dom_classes": [],
      "_model_module": "@jupyter-widgets/controls",
      "_model_module_version": "1.5.0",
      "_model_name": "HTMLModel",
      "_view_count": null,
      "_view_module": "@jupyter-widgets/controls",
      "_view_module_version": "1.5.0",
      "_view_name": "HTMLView",
      "description": "",
      "description_tooltip": null,
      "layout": "IPY_MODEL_d43158a8bda148b3a4a85a3a6c5d818b",
      "placeholder": "​",
      "style": "IPY_MODEL_3e873fa7e47e40358d52dafb0757d926",
      "value": "Dl Size...: 100%"
     }
    },
    "e1b36e1e47954770a949f5edeff35ca3": {
     "model_module": "@jupyter-widgets/controls",
     "model_module_version": "1.5.0",
     "model_name": "FloatProgressModel",
     "state": {
      "_dom_classes": [],
      "_model_module": "@jupyter-widgets/controls",
      "_model_module_version": "1.5.0",
      "_model_name": "FloatProgressModel",
      "_view_count": null,
      "_view_module": "@jupyter-widgets/controls",
      "_view_module_version": "1.5.0",
      "_view_name": "ProgressView",
      "bar_style": "",
      "description": "",
      "description_tooltip": null,
      "layout": "IPY_MODEL_8f1c53d44cf845bbadd759811bf9f5e0",
      "max": 25000,
      "min": 0,
      "orientation": "horizontal",
      "style": "IPY_MODEL_6e6a2aa1f5314545b8810e9bf6e9ea4b",
      "value": 25000
     }
    },
    "e9dd4d114d82419d90088a9c4148c0af": {
     "model_module": "@jupyter-widgets/base",
     "model_module_version": "1.2.0",
     "model_name": "LayoutModel",
     "state": {
      "_model_module": "@jupyter-widgets/base",
      "_model_module_version": "1.2.0",
      "_model_name": "LayoutModel",
      "_view_count": null,
      "_view_module": "@jupyter-widgets/base",
      "_view_module_version": "1.2.0",
      "_view_name": "LayoutView",
      "align_content": null,
      "align_items": null,
      "align_self": null,
      "border": null,
      "bottom": null,
      "display": null,
      "flex": null,
      "flex_flow": null,
      "grid_area": null,
      "grid_auto_columns": null,
      "grid_auto_flow": null,
      "grid_auto_rows": null,
      "grid_column": null,
      "grid_gap": null,
      "grid_row": null,
      "grid_template_areas": null,
      "grid_template_columns": null,
      "grid_template_rows": null,
      "height": null,
      "justify_content": null,
      "justify_items": null,
      "left": null,
      "margin": null,
      "max_height": null,
      "max_width": null,
      "min_height": null,
      "min_width": null,
      "object_fit": null,
      "object_position": null,
      "order": null,
      "overflow": null,
      "overflow_x": null,
      "overflow_y": null,
      "padding": null,
      "right": null,
      "top": null,
      "visibility": null,
      "width": null
     }
    },
    "ea210267756b4729922be9710210d561": {
     "model_module": "@jupyter-widgets/base",
     "model_module_version": "1.2.0",
     "model_name": "LayoutModel",
     "state": {
      "_model_module": "@jupyter-widgets/base",
      "_model_module_version": "1.2.0",
      "_model_name": "LayoutModel",
      "_view_count": null,
      "_view_module": "@jupyter-widgets/base",
      "_view_module_version": "1.2.0",
      "_view_name": "LayoutView",
      "align_content": null,
      "align_items": null,
      "align_self": null,
      "border": null,
      "bottom": null,
      "display": null,
      "flex": null,
      "flex_flow": null,
      "grid_area": null,
      "grid_auto_columns": null,
      "grid_auto_flow": null,
      "grid_auto_rows": null,
      "grid_column": null,
      "grid_gap": null,
      "grid_row": null,
      "grid_template_areas": null,
      "grid_template_columns": null,
      "grid_template_rows": null,
      "height": null,
      "justify_content": null,
      "justify_items": null,
      "left": null,
      "margin": null,
      "max_height": null,
      "max_width": null,
      "min_height": null,
      "min_width": null,
      "object_fit": null,
      "object_position": null,
      "order": null,
      "overflow": null,
      "overflow_x": null,
      "overflow_y": null,
      "padding": null,
      "right": null,
      "top": null,
      "visibility": "hidden",
      "width": null
     }
    },
    "eeb3b7e1dccb4a3881940def10950c3b": {
     "model_module": "@jupyter-widgets/controls",
     "model_module_version": "1.5.0",
     "model_name": "HTMLModel",
     "state": {
      "_dom_classes": [],
      "_model_module": "@jupyter-widgets/controls",
      "_model_module_version": "1.5.0",
      "_model_name": "HTMLModel",
      "_view_count": null,
      "_view_module": "@jupyter-widgets/controls",
      "_view_module_version": "1.5.0",
      "_view_name": "HTMLView",
      "description": "",
      "description_tooltip": null,
      "layout": "IPY_MODEL_e9dd4d114d82419d90088a9c4148c0af",
      "placeholder": "​",
      "style": "IPY_MODEL_ba9d70f66fd1492f9c55d6566f86fed9",
      "value": " 24763/25000 [00:05&lt;00:00, 5287.35 examples/s]"
     }
    },
    "f027466f32464f72a1aba3e6ed45e73e": {
     "model_module": "@jupyter-widgets/controls",
     "model_module_version": "1.5.0",
     "model_name": "HTMLModel",
     "state": {
      "_dom_classes": [],
      "_model_module": "@jupyter-widgets/controls",
      "_model_module_version": "1.5.0",
      "_model_name": "HTMLModel",
      "_view_count": null,
      "_view_module": "@jupyter-widgets/controls",
      "_view_module_version": "1.5.0",
      "_view_name": "HTMLView",
      "description": "",
      "description_tooltip": null,
      "layout": "IPY_MODEL_bc2a1b1e585d45458cfafb8493f392c3",
      "placeholder": "​",
      "style": "IPY_MODEL_3c2a23c6d64d4d58b7caad3e69b36e4c",
      "value": "Shuffling /root/tensorflow_datasets/imdb_reviews/plain_text/1.0.0.incompleteM9RXNO/imdb_reviews-test.tfrecord*...:  50%"
     }
    },
    "f06871f44acd43ec863d89797fb5df17": {
     "model_module": "@jupyter-widgets/base",
     "model_module_version": "1.2.0",
     "model_name": "LayoutModel",
     "state": {
      "_model_module": "@jupyter-widgets/base",
      "_model_module_version": "1.2.0",
      "_model_name": "LayoutModel",
      "_view_count": null,
      "_view_module": "@jupyter-widgets/base",
      "_view_module_version": "1.2.0",
      "_view_name": "LayoutView",
      "align_content": null,
      "align_items": null,
      "align_self": null,
      "border": null,
      "bottom": null,
      "display": null,
      "flex": null,
      "flex_flow": null,
      "grid_area": null,
      "grid_auto_columns": null,
      "grid_auto_flow": null,
      "grid_auto_rows": null,
      "grid_column": null,
      "grid_gap": null,
      "grid_row": null,
      "grid_template_areas": null,
      "grid_template_columns": null,
      "grid_template_rows": null,
      "height": null,
      "justify_content": null,
      "justify_items": null,
      "left": null,
      "margin": null,
      "max_height": null,
      "max_width": null,
      "min_height": null,
      "min_width": null,
      "object_fit": null,
      "object_position": null,
      "order": null,
      "overflow": null,
      "overflow_x": null,
      "overflow_y": null,
      "padding": null,
      "right": null,
      "top": null,
      "visibility": null,
      "width": null
     }
    },
    "f0e1fde3be4143c0a1358cab69cdecf9": {
     "model_module": "@jupyter-widgets/controls",
     "model_module_version": "1.5.0",
     "model_name": "HBoxModel",
     "state": {
      "_dom_classes": [],
      "_model_module": "@jupyter-widgets/controls",
      "_model_module_version": "1.5.0",
      "_model_name": "HBoxModel",
      "_view_count": null,
      "_view_module": "@jupyter-widgets/controls",
      "_view_module_version": "1.5.0",
      "_view_name": "HBoxView",
      "box_style": "",
      "children": [
       "IPY_MODEL_bde57028334a42d18e8a1d1133dd434b",
       "IPY_MODEL_cc7d1da697064bf1963a5808fc9157cb",
       "IPY_MODEL_fd2b4e1eee844cada10fbe4a3067922a"
      ],
      "layout": "IPY_MODEL_950aba0b427f4f91b533d78cbda77ad9"
     }
    },
    "f2fd6186764f410fa2497363384aad91": {
     "model_module": "@jupyter-widgets/base",
     "model_module_version": "1.2.0",
     "model_name": "LayoutModel",
     "state": {
      "_model_module": "@jupyter-widgets/base",
      "_model_module_version": "1.2.0",
      "_model_name": "LayoutModel",
      "_view_count": null,
      "_view_module": "@jupyter-widgets/base",
      "_view_module_version": "1.2.0",
      "_view_name": "LayoutView",
      "align_content": null,
      "align_items": null,
      "align_self": null,
      "border": null,
      "bottom": null,
      "display": null,
      "flex": null,
      "flex_flow": null,
      "grid_area": null,
      "grid_auto_columns": null,
      "grid_auto_flow": null,
      "grid_auto_rows": null,
      "grid_column": null,
      "grid_gap": null,
      "grid_row": null,
      "grid_template_areas": null,
      "grid_template_columns": null,
      "grid_template_rows": null,
      "height": null,
      "justify_content": null,
      "justify_items": null,
      "left": null,
      "margin": null,
      "max_height": null,
      "max_width": null,
      "min_height": null,
      "min_width": null,
      "object_fit": null,
      "object_position": null,
      "order": null,
      "overflow": null,
      "overflow_x": null,
      "overflow_y": null,
      "padding": null,
      "right": null,
      "top": null,
      "visibility": null,
      "width": "20px"
     }
    },
    "f49a848a17c24886a0c5070ce68d6ee5": {
     "model_module": "@jupyter-widgets/controls",
     "model_module_version": "1.5.0",
     "model_name": "DescriptionStyleModel",
     "state": {
      "_model_module": "@jupyter-widgets/controls",
      "_model_module_version": "1.5.0",
      "_model_name": "DescriptionStyleModel",
      "_view_count": null,
      "_view_module": "@jupyter-widgets/base",
      "_view_module_version": "1.2.0",
      "_view_name": "StyleView",
      "description_width": ""
     }
    },
    "f69cb95537604b548f78a6c1d795d5ab": {
     "model_module": "@jupyter-widgets/base",
     "model_module_version": "1.2.0",
     "model_name": "LayoutModel",
     "state": {
      "_model_module": "@jupyter-widgets/base",
      "_model_module_version": "1.2.0",
      "_model_name": "LayoutModel",
      "_view_count": null,
      "_view_module": "@jupyter-widgets/base",
      "_view_module_version": "1.2.0",
      "_view_name": "LayoutView",
      "align_content": null,
      "align_items": null,
      "align_self": null,
      "border": null,
      "bottom": null,
      "display": null,
      "flex": null,
      "flex_flow": null,
      "grid_area": null,
      "grid_auto_columns": null,
      "grid_auto_flow": null,
      "grid_auto_rows": null,
      "grid_column": null,
      "grid_gap": null,
      "grid_row": null,
      "grid_template_areas": null,
      "grid_template_columns": null,
      "grid_template_rows": null,
      "height": null,
      "justify_content": null,
      "justify_items": null,
      "left": null,
      "margin": null,
      "max_height": null,
      "max_width": null,
      "min_height": null,
      "min_width": null,
      "object_fit": null,
      "object_position": null,
      "order": null,
      "overflow": null,
      "overflow_x": null,
      "overflow_y": null,
      "padding": null,
      "right": null,
      "top": null,
      "visibility": null,
      "width": null
     }
    },
    "fc54b0f61a8f4088bb0ee2b26bc871c8": {
     "model_module": "@jupyter-widgets/base",
     "model_module_version": "1.2.0",
     "model_name": "LayoutModel",
     "state": {
      "_model_module": "@jupyter-widgets/base",
      "_model_module_version": "1.2.0",
      "_model_name": "LayoutModel",
      "_view_count": null,
      "_view_module": "@jupyter-widgets/base",
      "_view_module_version": "1.2.0",
      "_view_name": "LayoutView",
      "align_content": null,
      "align_items": null,
      "align_self": null,
      "border": null,
      "bottom": null,
      "display": null,
      "flex": null,
      "flex_flow": null,
      "grid_area": null,
      "grid_auto_columns": null,
      "grid_auto_flow": null,
      "grid_auto_rows": null,
      "grid_column": null,
      "grid_gap": null,
      "grid_row": null,
      "grid_template_areas": null,
      "grid_template_columns": null,
      "grid_template_rows": null,
      "height": null,
      "justify_content": null,
      "justify_items": null,
      "left": null,
      "margin": null,
      "max_height": null,
      "max_width": null,
      "min_height": null,
      "min_width": null,
      "object_fit": null,
      "object_position": null,
      "order": null,
      "overflow": null,
      "overflow_x": null,
      "overflow_y": null,
      "padding": null,
      "right": null,
      "top": null,
      "visibility": null,
      "width": null
     }
    },
    "fca2811546b34579b4ae039db8c3ef30": {
     "model_module": "@jupyter-widgets/controls",
     "model_module_version": "1.5.0",
     "model_name": "DescriptionStyleModel",
     "state": {
      "_model_module": "@jupyter-widgets/controls",
      "_model_module_version": "1.5.0",
      "_model_name": "DescriptionStyleModel",
      "_view_count": null,
      "_view_module": "@jupyter-widgets/base",
      "_view_module_version": "1.2.0",
      "_view_name": "StyleView",
      "description_width": ""
     }
    },
    "fcdbf478a2694582929e4bd82958319f": {
     "model_module": "@jupyter-widgets/controls",
     "model_module_version": "1.5.0",
     "model_name": "HBoxModel",
     "state": {
      "_dom_classes": [],
      "_model_module": "@jupyter-widgets/controls",
      "_model_module_version": "1.5.0",
      "_model_name": "HBoxModel",
      "_view_count": null,
      "_view_module": "@jupyter-widgets/controls",
      "_view_module_version": "1.5.0",
      "_view_name": "HBoxView",
      "box_style": "",
      "children": [
       "IPY_MODEL_e112516791294d7b897970ccfd0dd93d",
       "IPY_MODEL_99f61437003343d7ada5afd6482ec2e6",
       "IPY_MODEL_a06372fa99324ed4b00ece724bd699d6"
      ],
      "layout": "IPY_MODEL_111768dee2ee45c2b26a955ece0d411d"
     }
    },
    "fd2601d8194b4e2c9566293d22725f26": {
     "model_module": "@jupyter-widgets/base",
     "model_module_version": "1.2.0",
     "model_name": "LayoutModel",
     "state": {
      "_model_module": "@jupyter-widgets/base",
      "_model_module_version": "1.2.0",
      "_model_name": "LayoutModel",
      "_view_count": null,
      "_view_module": "@jupyter-widgets/base",
      "_view_module_version": "1.2.0",
      "_view_name": "LayoutView",
      "align_content": null,
      "align_items": null,
      "align_self": null,
      "border": null,
      "bottom": null,
      "display": null,
      "flex": null,
      "flex_flow": null,
      "grid_area": null,
      "grid_auto_columns": null,
      "grid_auto_flow": null,
      "grid_auto_rows": null,
      "grid_column": null,
      "grid_gap": null,
      "grid_row": null,
      "grid_template_areas": null,
      "grid_template_columns": null,
      "grid_template_rows": null,
      "height": null,
      "justify_content": null,
      "justify_items": null,
      "left": null,
      "margin": null,
      "max_height": null,
      "max_width": null,
      "min_height": null,
      "min_width": null,
      "object_fit": null,
      "object_position": null,
      "order": null,
      "overflow": null,
      "overflow_x": null,
      "overflow_y": null,
      "padding": null,
      "right": null,
      "top": null,
      "visibility": null,
      "width": null
     }
    },
    "fd2b4e1eee844cada10fbe4a3067922a": {
     "model_module": "@jupyter-widgets/controls",
     "model_module_version": "1.5.0",
     "model_name": "HTMLModel",
     "state": {
      "_dom_classes": [],
      "_model_module": "@jupyter-widgets/controls",
      "_model_module_version": "1.5.0",
      "_model_name": "HTMLModel",
      "_view_count": null,
      "_view_module": "@jupyter-widgets/controls",
      "_view_module_version": "1.5.0",
      "_view_name": "HTMLView",
      "description": "",
      "description_tooltip": null,
      "layout": "IPY_MODEL_69aee8634a654129b360f6d664806199",
      "placeholder": "​",
      "style": "IPY_MODEL_8138bbda8b8f4e32bb5d9c6d04b3ef73",
      "value": " 1/1 [00:05&lt;00:00,  5.93s/ url]"
     }
    }
   }
  }
 },
 "nbformat": 4,
 "nbformat_minor": 4
}
