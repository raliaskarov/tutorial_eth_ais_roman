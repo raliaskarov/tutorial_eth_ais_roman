{
 "cells": [
  {
   "cell_type": "markdown",
   "id": "6e80ab3a",
   "metadata": {},
   "source": [
    "## Compute your own Word Embeddings - Anomalies and Curiosities of Medicine\n",
    "\n",
    "In this notebook, we will compute the word embeddings using the fasttext library based on the book \"Anomalies and Curiosities of Medicine by George M. Gould and Walter L. Pyle\", published in 1896. The book is freely available as a txt file from project Guthenberg under this url: https://www.gutenberg.org/ebooks/747"
   ]
  },
  {
   "attachments": {
    "pg747.cover.medium.jpg": {
     "image/jpeg": "[encoded data removed]"
    }
   },
   "cell_type": "markdown",
   "id": "ae87d1ee",
   "metadata": {},
   "source": [
    "![pg747.cover.medium.jpg](attachment:pg747.cover.medium.jpg)"
   ]
  },
  {
   "cell_type": "code",
   "execution_count": 1,
   "id": "200e1e2d",
   "metadata": {
    "ExecuteTime": {
     "end_time": "2025-09-04T21:14:36.544211200Z",
     "start_time": "2025-09-04T21:14:36.525761600Z"
    }
   },
   "outputs": [
    {
     "ename": "ModuleNotFoundError",
     "evalue": "No module named 'numpy'",
     "output_type": "error",
     "traceback": [
      "\u001B[31m---------------------------------------------------------------------------\u001B[39m",
      "\u001B[31mModuleNotFoundError\u001B[39m                       Traceback (most recent call last)",
      "\u001B[36mCell\u001B[39m\u001B[36m \u001B[39m\u001B[32mIn[1]\u001B[39m\u001B[32m, line 1\u001B[39m\n\u001B[32m----> \u001B[39m\u001B[32m1\u001B[39m \u001B[38;5;28;01mimport\u001B[39;00m\u001B[38;5;250m \u001B[39m\u001B[34;01mnumpy\u001B[39;00m\u001B[38;5;250m \u001B[39m\u001B[38;5;28;01mas\u001B[39;00m\u001B[38;5;250m \u001B[39m\u001B[34;01mnp\u001B[39;00m\n\u001B[32m      2\u001B[39m \u001B[38;5;28;01mimport\u001B[39;00m\u001B[38;5;250m \u001B[39m\u001B[34;01mmatplotlib\u001B[39;00m\u001B[34;01m.\u001B[39;00m\u001B[34;01mpyplot\u001B[39;00m\u001B[38;5;250m \u001B[39m\u001B[38;5;28;01mas\u001B[39;00m\u001B[38;5;250m \u001B[39m\u001B[34;01mplt\u001B[39;00m\n\u001B[32m      3\u001B[39m \u001B[38;5;28;01mimport\u001B[39;00m\u001B[38;5;250m \u001B[39m\u001B[34;01mseaborn\u001B[39;00m\u001B[38;5;250m \u001B[39m\u001B[38;5;28;01mas\u001B[39;00m\u001B[38;5;250m \u001B[39m\u001B[34;01msns\u001B[39;00m\n",
      "\u001B[31mModuleNotFoundError\u001B[39m: No module named 'numpy'"
     ]
    }
   ],
   "source": [
    "import numpy as np\n",
    "import matplotlib.pyplot as plt\n",
    "import seaborn as sns\n",
    "import pandas as pd\n",
    "import re"
   ]
  },
  {
   "cell_type": "markdown",
   "id": "0359829e",
   "metadata": {},
   "source": [
    "### Reading the raw data\n",
    "We start by reading the content of the book."
   ]
  },
  {
   "cell_type": "code",
   "execution_count": null,
   "id": "ad604b0e",
   "metadata": {
    "ExecuteTime": {
     "end_time": "2025-09-04T21:14:36.549810100Z",
     "start_time": "2025-09-04T21:14:36.548898600Z"
    }
   },
   "outputs": [],
   "source": [
    "book_file = open(\"./medicine.txt\", \"r\", encoding=\"utf-8\")\n",
    "book = book_file.read()\n",
    "book_file.close()"
   ]
  },
  {
   "cell_type": "markdown",
   "id": "8ee81afa",
   "metadata": {},
   "source": [
    "Let's look at the first few characters of the book."
   ]
  },
  {
   "cell_type": "code",
   "execution_count": null,
   "id": "ac8b9175",
   "metadata": {
    "ExecuteTime": {
     "start_time": "2025-09-04T21:14:36.549222Z"
    }
   },
   "outputs": [],
   "source": [
    "print(book[0:2500])"
   ]
  },
  {
   "cell_type": "markdown",
   "id": "a02d85d5",
   "metadata": {},
   "source": [
    "### Basic data cleaning\n",
    "\n",
    "We can use the pattern to split the text into chapters. Also we check the length of the individual chapters, and discard the short ones that are mostly table of content and other non-core text parts."
   ]
  },
  {
   "cell_type": "code",
   "execution_count": null,
   "id": "a1ae83bb",
   "metadata": {
    "ExecuteTime": {
     "start_time": "2025-09-04T21:14:36.549222Z"
    }
   },
   "outputs": [],
   "source": [
    "chapters_ = re.split(\"CHAPTER \", book)"
   ]
  },
  {
   "cell_type": "markdown",
   "id": "2b512f8d-e530-4433-9da8-c1e5268f1a62",
   "metadata": {},
   "source": [
    "To get an overview of the book, we print the first 200 characters of each chapter:"
   ]
  },
  {
   "cell_type": "code",
   "execution_count": null,
   "id": "9b558ece",
   "metadata": {
    "ExecuteTime": {
     "start_time": "2025-09-04T21:14:36.549222Z"
    }
   },
   "outputs": [],
   "source": [
    "[ chap[:200] for chap in chapters_ ]"
   ]
  },
  {
   "cell_type": "code",
   "execution_count": null,
   "id": "ca43e38d",
   "metadata": {
    "ExecuteTime": {
     "end_time": "2025-09-04T21:14:36.549810100Z",
     "start_time": "2025-09-04T21:14:36.549810100Z"
    }
   },
   "outputs": [],
   "source": [
    "plt.plot([len(chapter) for chapter in chapters_])"
   ]
  },
  {
   "cell_type": "code",
   "execution_count": null,
   "id": "de6a9475",
   "metadata": {
    "ExecuteTime": {
     "start_time": "2025-09-04T21:14:36.552664500Z"
    }
   },
   "outputs": [],
   "source": [
    "good_chapters = [chapter.replace('\\n',' ') for chapter in chapters_[1:] if len(chapter)>2000]"
   ]
  },
  {
   "cell_type": "code",
   "execution_count": null,
   "id": "9cd9aa1a",
   "metadata": {
    "ExecuteTime": {
     "start_time": "2025-09-04T21:14:36.552664500Z"
    }
   },
   "outputs": [],
   "source": [
    "[ chap[:200] for chap in good_chapters ]"
   ]
  },
  {
   "cell_type": "markdown",
   "id": "bf6e2f38",
   "metadata": {},
   "source": [
    " ## Calculate the Embeddings\n",
    "\n",
    " ### Install and Import required libraries\n"
   ]
  },
  {
   "cell_type": "code",
   "execution_count": null,
   "id": "dc8cecdb",
   "metadata": {
    "ExecuteTime": {
     "end_time": "2025-09-04T21:14:36.552664500Z",
     "start_time": "2025-09-04T21:14:36.552664500Z"
    }
   },
   "outputs": [],
   "source": [
    "## uncomment the line below if the libraries are not available on your device:\n",
    "!pip install gensim nltk"
   ]
  },
  {
   "cell_type": "code",
   "execution_count": null,
   "id": "9490bba9",
   "metadata": {
    "ExecuteTime": {
     "end_time": "2025-09-04T21:14:36.554357300Z",
     "start_time": "2025-09-04T21:14:36.552664500Z"
    }
   },
   "outputs": [],
   "source": [
    "import nltk\n",
    "nltk.download('punkt_tab')"
   ]
  },
  {
   "cell_type": "code",
   "execution_count": null,
   "id": "5ce464a8",
   "metadata": {
    "ExecuteTime": {
     "end_time": "2025-09-04T21:14:36.554357300Z",
     "start_time": "2025-09-04T21:14:36.554357300Z"
    }
   },
   "outputs": [],
   "source": [
    "from gensim.models import FastText\n",
    "from nltk.tokenize import word_tokenize"
   ]
  },
  {
   "cell_type": "markdown",
   "id": "8ca1d3e7",
   "metadata": {},
   "source": [
    "### Tokenization\n",
    "Now we are running the tokenization."
   ]
  },
  {
   "cell_type": "code",
   "execution_count": null,
   "id": "2fc3fbdc",
   "metadata": {
    "ExecuteTime": {
     "start_time": "2025-09-04T21:14:36.554357300Z"
    }
   },
   "outputs": [],
   "source": [
    "tokenized_sentences = [word_tokenize(chapter.lower()) for chapter in good_chapters]"
   ]
  },
  {
   "cell_type": "markdown",
   "id": "97de1479-727d-429d-8b4e-edd272801808",
   "metadata": {},
   "source": [
    "Let's look at the first 20 tokens of the first 2 sentences:"
   ]
  },
  {
   "cell_type": "code",
   "execution_count": null,
   "id": "c4b26d89-eb8d-45a5-85f5-a69672985a4f",
   "metadata": {
    "ExecuteTime": {
     "start_time": "2025-09-04T21:14:36.555898200Z"
    }
   },
   "outputs": [],
   "source": [
    "[ sent[:20] for sent in tokenized_sentences[:2] ]"
   ]
  },
  {
   "cell_type": "markdown",
   "id": "587914b2",
   "metadata": {},
   "source": [
    "### Train FastText model\n",
    "Now we are ready to train the fastText embedding model. We use dimension 50, a window size of 5, and go for a skipgram (as we have a rather small dataset):"
   ]
  },
  {
   "cell_type": "code",
   "execution_count": null,
   "id": "af61f5e9",
   "metadata": {
    "ExecuteTime": {
     "start_time": "2025-09-04T21:14:36.555898200Z"
    }
   },
   "outputs": [],
   "source": [
    "model = FastText(sentences=tokenized_sentences, vector_size=50, window=5, min_count=1, workers=4, sg=1)"
   ]
  },
  {
   "cell_type": "markdown",
   "id": "82250f88",
   "metadata": {},
   "source": [
    "### Access embeddings"
   ]
  },
  {
   "cell_type": "code",
   "execution_count": null,
   "id": "2d7dad61",
   "metadata": {
    "ExecuteTime": {
     "start_time": "2025-09-04T21:14:36.555898200Z"
    }
   },
   "outputs": [],
   "source": [
    "word_embeddings = model.wv\n",
    "print(word_embeddings['blood'])"
   ]
  },
  {
   "cell_type": "markdown",
   "id": "b1727e51",
   "metadata": {},
   "source": [
    "### Find similar words\n",
    "Now we are ready to play around with the embeddings. For example, we can find the similar words to some words that we might find interesting:"
   ]
  },
  {
   "cell_type": "code",
   "execution_count": null,
   "id": "fd5036e6",
   "metadata": {
    "ExecuteTime": {
     "start_time": "2025-09-04T21:14:36.557905700Z"
    }
   },
   "outputs": [],
   "source": [
    "model.wv.most_similar('blood')"
   ]
  },
  {
   "cell_type": "code",
   "execution_count": null,
   "id": "a9150694",
   "metadata": {
    "ExecuteTime": {
     "start_time": "2025-09-04T21:14:36.557905700Z"
    }
   },
   "outputs": [],
   "source": [
    "model.wv.most_similar('food')"
   ]
  },
  {
   "cell_type": "code",
   "execution_count": null,
   "id": "82f503e5",
   "metadata": {
    "ExecuteTime": {
     "start_time": "2025-09-04T21:14:36.557905700Z"
    }
   },
   "outputs": [],
   "source": [
    "model.wv.most_similar('body')"
   ]
  },
  {
   "cell_type": "markdown",
   "id": "55e05ee3-815f-42c3-a009-75df0f69d532",
   "metadata": {},
   "source": [
    "**Exercise:** Use the `dracula.txt` to generate word embeddings based on that book. Note that you might have to adapt some of the preprocessing steps, such as filtering out the parts that do not belong to the story itself. Compare the obtained results, e.g., the similar words to \"blood\"."
   ]
  },
  {
   "cell_type": "code",
   "execution_count": null,
   "id": "38e5e909-afd4-4dc3-894a-118f0cb93076",
   "metadata": {
    "ExecuteTime": {
     "start_time": "2025-09-04T21:14:36.557905700Z"
    }
   },
   "outputs": [],
   "source": []
  }
 ],
 "metadata": {
  "jupytext": {
   "formats": "ipynb,md"
  },
  "kernelspec": {
   "display_name": "Python 3 (ipykernel)",
   "language": "python",
   "name": "python3"
  },
  "language_info": {
   "codemirror_mode": {
    "name": "ipython",
    "version": 3
   },
   "file_extension": ".py",
   "mimetype": "text/x-python",
   "name": "python",
   "nbconvert_exporter": "python",
   "pygments_lexer": "ipython3",
   "version": "3.10.11"
  }
 },
 "nbformat": 4,
 "nbformat_minor": 5
}
