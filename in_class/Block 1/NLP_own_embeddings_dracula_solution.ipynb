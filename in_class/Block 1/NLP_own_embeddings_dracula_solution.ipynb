{
 "cells": [
  {
   "cell_type": "markdown",
   "id": "6e80ab3a",
   "metadata": {},
   "source": [
    "## Compute your own Word Embeddings - Dracula\n",
    "\n",
    "In this notebook, we will compute the word embeddings using the fasttext library based on the book \"Dracula\" by Bram Stoker, published in 1897. The book is freely available as a txt file from project Guthenberg under this url: https://www.gutenberg.org/ebooks/345 "
   ]
  },
  {
   "attachments": {
    "pg345.cover.medium.jpg": {
     "image/jpeg": "[encoded data removed]"
    }
   },
   "cell_type": "markdown",
   "id": "f4bb0a98",
   "metadata": {},
   "source": [
    "![pg345.cover.medium.jpg](attachment:pg345.cover.medium.jpg)"
   ]
  },
  {
   "cell_type": "code",
   "execution_count": 1,
   "id": "200e1e2d",
   "metadata": {},
   "outputs": [],
   "source": [
    "import numpy as np\n",
    "import matplotlib.pyplot as plt\n",
    "import seaborn as sns\n",
    "import pandas as pd\n",
    "import re"
   ]
  },
  {
   "cell_type": "markdown",
   "id": "0359829e",
   "metadata": {},
   "source": [
    "### Reading the raw data"
   ]
  },
  {
   "cell_type": "markdown",
   "id": "9ec0506c",
   "metadata": {},
   "source": [
    "We start by reading the content of the book."
   ]
  },
  {
   "cell_type": "code",
   "execution_count": 2,
   "id": "ad604b0e",
   "metadata": {},
   "outputs": [],
   "source": [
    "book_file = open(\"./dracula.txt\", \"r\", encoding=\"utf-8\")\n",
    "book = book_file.read()\n",
    "book_file.close()"
   ]
  },
  {
   "cell_type": "markdown",
   "id": "8ee81afa",
   "metadata": {},
   "source": [
    "Let's look at the first few characters of the book."
   ]
  },
  {
   "cell_type": "code",
   "execution_count": 3,
   "id": "ac8b9175",
   "metadata": {},
   "outputs": [
    {
     "name": "stdout",
     "output_type": "stream",
     "text": [
      "﻿The Project Gutenberg eBook of Dracula\n",
      "    \n",
      "This ebook is for the use of anyone anywhere in the United States and\n",
      "most other parts of the world at no cost and with almost no restrictions\n",
      "whatsoever. You may copy it, give it away or re-use it under the terms\n",
      "of the Project Gutenberg License included with this ebook or online\n",
      "at www.gutenberg.org. If you are not located in the United States,\n",
      "you will have to check the laws of the country where you are located\n",
      "before using this eBook.\n",
      "\n",
      "Title: Dracula\n",
      "\n",
      "Author: Bram Stoker\n",
      "\n",
      "Release date: October 1, 1995 [eBook #345]\n",
      "                Most recently updated: November 12, 2023\n",
      "\n",
      "Language: English\n",
      "\n",
      "Credits: Chuck Greif and the Online Distributed Proofreading Team\n",
      "\n",
      "\n",
      "*** START OF THE PROJECT GUTENBERG EBOOK DRACULA ***\n",
      "\n",
      "\n",
      "\n",
      "\n",
      "                                DRACULA\n",
      "\n",
      "                                  _by_\n",
      "\n",
      "                              Bram Stoker\n",
      "\n",
      "                        [Illustration: colophon]\n",
      "\n",
      "                                NEW YORK\n",
      "\n",
      "                            GROSSET & DUNLAP\n",
      "\n",
      "                              _Publishers_\n",
      "\n",
      "      Copyright, 1897, in the United States of America, according\n",
      "                   to Act of Congress, by Bram Stoker\n",
      "\n",
      "                        [_All rights reserved._]\n",
      "\n",
      "                      PRINTED IN THE UNITED STATES\n",
      "                                   AT\n",
      "               THE COUNTRY LIFE PRESS, GARDEN CITY, N.Y.\n",
      "\n",
      "\n",
      "\n",
      "\n",
      "                                   TO\n",
      "\n",
      "                             MY DEAR FRIEND\n",
      "\n",
      "                  \n"
     ]
    }
   ],
   "source": [
    "print(book[0:1500])"
   ]
  },
  {
   "cell_type": "markdown",
   "id": "72dbd46d",
   "metadata": {},
   "source": [
    "We see that the beginning of the book is a preamble followed by a table of contents. The actual content of the book start with Chapter 1. We also find that the patter `***` is used to separate project info from the actual content of the text. "
   ]
  },
  {
   "cell_type": "markdown",
   "id": "a02d85d5",
   "metadata": {},
   "source": [
    "### Basic data cleaning\n",
    "\n",
    "We can use the pattern to split the text into chapters. "
   ]
  },
  {
   "cell_type": "code",
   "execution_count": 4,
   "id": "a1ae83bb",
   "metadata": {},
   "outputs": [],
   "source": [
    "chapters_ = re.split(\"CHAPTER \", book)"
   ]
  },
  {
   "cell_type": "code",
   "execution_count": 5,
   "id": "9b558ece",
   "metadata": {},
   "outputs": [
    {
     "data": {
      "text/plain": [
       "['\\ufeffThe Project Gutenberg eBook of Dracula\\n    \\nThis ebook is for the use of anyone anywhere in the United States and\\nmost other parts of the world at no cost and with almost no restrictions\\nwhatsoever. ',\n",
       " 'I. Jonathan Harker’s Journal\\n',\n",
       " 'II. Jonathan Harker’s Journal\\n',\n",
       " 'III. Jonathan Harker’s Journal\\n',\n",
       " 'IV. Jonathan Harker’s Journal\\n',\n",
       " 'V. Letters—Lucy and Mina\\n',\n",
       " 'VI. Mina Murray’s Journal\\n',\n",
       " 'VII. Cutting from “The Dailygraph,” 8 August\\n',\n",
       " 'VIII. Mina Murray’s Journal\\n',\n",
       " 'IX. Mina Murray’s Journal\\n',\n",
       " 'X. Mina Murray’s Journal\\n',\n",
       " 'XI. Lucy Westenra’s Diary\\n',\n",
       " 'XII. Dr. Seward’s Diary\\n',\n",
       " 'XIII. Dr. Seward’s Diary\\n',\n",
       " 'XIV. Mina Harker’s Journal\\n',\n",
       " 'XV. Dr. Seward’s Diary\\n',\n",
       " 'XVI. Dr. Seward’s Diary\\n',\n",
       " 'XVII. Dr. Seward’s Diary\\n',\n",
       " 'XVIII. Dr. Seward’s Diary\\n',\n",
       " 'XIX. Jonathan Harker’s Journal\\n',\n",
       " 'XX. Jonathan Harker’s Journal\\n',\n",
       " 'XXI. Dr. Seward’s Diary\\n',\n",
       " 'XXII. Jonathan Harker’s Journal\\n',\n",
       " 'XXIII. Dr. Seward’s Diary\\n',\n",
       " 'XXIV. Dr. Seward’s Phonograph Diary, spoken by Van Helsing\\n',\n",
       " 'XXV. Dr. Seward’s Diary\\n',\n",
       " 'XXVI. Dr. Seward’s Diary\\n',\n",
       " 'XXVII. Mina Harker’s Journal\\n\\n\\n\\n\\nHow these papers have been placed in sequence will be made manifest in\\nthe reading of them. All needless matters have been eliminated, so that\\na history almost at vari',\n",
       " 'I\\n\\nJONATHAN HARKER’S JOURNAL\\n\\n(_Kept in shorthand._)\\n\\n\\n_3 May. Bistritz._--Left Munich at 8:35 P. M., on 1st May, arriving at\\nVienna early next morning; should have arrived at 6:46, but train was an\\nh',\n",
       " 'II\\n\\nJONATHAN HARKER’S JOURNAL--_continued_\\n\\n\\n_5 May._--I must have been asleep, for certainly if I had been fully\\nawake I must have noticed the approach of such a remarkable place. In\\nthe gloom the co',\n",
       " 'III\\n\\nJONATHAN HARKER’S JOURNAL--_continued_\\n\\n\\nWhen I found that I was a prisoner a sort of wild feeling came over me.\\nI rushed up and down the stairs, trying every door and peering out of\\nevery window',\n",
       " 'IV\\n\\nJONATHAN HARKER’S JOURNAL--_continued_\\n\\n\\nI awoke in my own bed. If it be that I had not dreamt, the Count must\\nhave carried me here. I tried to satisfy myself on the subject, but\\ncould not arrive ',\n",
       " 'V\\n\\n_Letter from Miss Mina Murray to Miss Lucy Westenra._\\n\\n\\n“_9 May._\\n\\n“My dearest Lucy,--\\n\\n“Forgive my long delay in writing, but I have been simply overwhelmed\\nwith work. The life of an assistant sch',\n",
       " 'VI\\n\\nMINA MURRAY’S JOURNAL\\n\\n\\n_24 July. Whitby._--Lucy met me at the station, looking sweeter and\\nlovelier than ever, and we drove up to the house at the Crescent in\\nwhich they have rooms. This is a lov',\n",
       " 'VII\\n\\nCUTTING FROM “THE DAILYGRAPH,” 8 AUGUST\\n\\n\\n(_Pasted in Mina Murray’s Journal._)\\n\\nFrom a Correspondent.\\n\\n_Whitby_.\\n\\nOne of the greatest and suddenest storms on record has just been\\nexperienced here',\n",
       " 'VIII\\n\\nMINA MURRAY’S JOURNAL\\n\\n\\n_Same day, 11 o’clock p. m._--Oh, but I am tired! If it were not that I\\nhad made my diary a duty I should not open it to-night. We had a lovely\\nwalk. Lucy, after a while,',\n",
       " 'IX\\n\\n\\n_Letter, Mina Harker to Lucy Westenra._\\n\\n“_Buda-Pesth, 24 August._\\n\\n“My dearest Lucy,--\\n\\n“I know you will be anxious to hear all that has happened since we\\nparted at the railway station at Whitby',\n",
       " 'X\\n\\n\\n_Letter, Dr. Seward to Hon. Arthur Holmwood._\\n\\n“_6 September._\\n\\n“My dear Art,--\\n\\n“My news to-day is not so good. Lucy this morning had gone back a bit.\\nThere is, however, one good thing which has ',\n",
       " 'XI\\n\\n_Lucy Westenra’s Diary._\\n\\n\\n_12 September._--How good they all are to me. I quite love that dear Dr.\\nVan Helsing. I wonder why he was so anxious about these flowers. He\\npositively frightened me, he',\n",
       " 'XII\\n\\nDR. SEWARD’S DIARY\\n\\n\\n_18 September._--I drove at once to Hillingham and arrived early.\\nKeeping my cab at the gate, I went up the avenue alone. I knocked gently\\nand rang as quietly as possible, fo',\n",
       " 'XIII\\n\\nDR. SEWARD’S DIARY--_continued_.\\n\\n\\nThe funeral was arranged for the next succeeding day, so that Lucy and\\nher mother might be buried together. I attended to all the ghastly\\nformalities, and the ',\n",
       " 'XIV\\n\\nMINA HARKER’S JOURNAL\\n\\n\\n_23 September_.--Jonathan is better after a bad night. I am so glad that\\nhe has plenty of work to do, for that keeps his mind off the terrible\\nthings; and oh, I am rejoice',\n",
       " 'XV\\n\\nDR. SEWARD’S DIARY--_continued_.\\n\\n\\nFor a while sheer anger mastered me; it was as if he had during her life\\nstruck Lucy on the face. I smote the table hard and rose up as I said to\\nhim:--\\n\\n“Dr. Va',\n",
       " 'XVI\\n\\nDR. SEWARD’S DIARY--_continued_\\n\\n\\nIt was just a quarter before twelve o’clock when we got into the\\nchurchyard over the low wall. The night was dark with occasional gleams\\nof moonlight between the',\n",
       " 'XVII\\n\\nDR. SEWARD’S DIARY--_continued_\\n\\n\\nWhen we arrived at the Berkeley Hotel, Van Helsing found a telegram\\nwaiting for him:--\\n\\n     “Am coming up by train. Jonathan at Whitby. Important news.--MINA\\n ',\n",
       " 'XVIII\\n\\nDR. SEWARD’S DIARY\\n\\n\\n_30 September._--I got home at five o’clock, and found that Godalming\\nand Morris had not only arrived, but had already studied the transcript\\nof the various diaries and let',\n",
       " 'XIX\\n\\nJONATHAN HARKER’S JOURNAL\\n\\n\\n_1 October, 5 a. m._--I went with the party to the search with an easy\\nmind, for I think I never saw Mina so absolutely strong and well. I am\\nso glad that she consente',\n",
       " 'XX\\n\\nJONATHAN HARKER’S JOURNAL\\n\\n\\n_1 October, evening._--I found Thomas Snelling in his house at Bethnal\\nGreen, but unhappily he was not in a condition to remember anything. The\\nvery prospect of beer wh',\n",
       " 'XXI\\n\\nDR. SEWARD’S DIARY\\n\\n\\n_3 October._--Let me put down with exactness all that happened, as well\\nas I can remember it, since last I made an entry. Not a detail that I\\ncan recall must be forgotten; in',\n",
       " 'XXII\\n\\nJONATHAN HARKER’S JOURNAL\\n\\n\\n_3 October._--As I must do something or go mad, I write this diary. It\\nis now six o’clock, and we are to meet in the study in half an hour and\\ntake something to eat; ',\n",
       " 'XXIII\\n\\nDR. SEWARD’S DIARY\\n\\n\\n_3 October._--The time seemed terribly long whilst we were waiting for\\nthe coming of Godalming and Quincey Morris. The Professor tried to keep\\nour minds active by using the',\n",
       " 'XXIV\\n\\nDR. SEWARD’S PHONOGRAPH DIARY, SPOKEN BY VAN HELSING\\n\\n\\nThis to Jonathan Harker.\\n\\nYou are to stay with your dear Madam Mina. We shall go to make our\\nsearch--if I can call it so, for it is not sea',\n",
       " 'XXV\\n\\nDR. SEWARD’S DIARY\\n\\n\\n_11 October, Evening._--Jonathan Harker has asked me to note this, as he\\nsays he is hardly equal to the task, and he wants an exact record kept.\\n\\nI think that none of us were',\n",
       " 'XXVI\\n\\nDR. SEWARD’S DIARY\\n\\n\\n_29 October._--This is written in the train from Varna to Galatz. Last\\nnight we all assembled a little before the time of sunset. Each of us\\nhad done his work as well as he ',\n",
       " 'XXVII\\n\\nMINA HARKER’S JOURNAL\\n\\n\\n_1 November._--All day long we have travelled, and at a good speed. The\\nhorses seem to know that they are being kindly treated, for they go\\nwillingly their full stage at']"
      ]
     },
     "execution_count": 5,
     "metadata": {},
     "output_type": "execute_result"
    }
   ],
   "source": [
    "[ chap[:200] for chap in chapters_ ]"
   ]
  },
  {
   "cell_type": "markdown",
   "id": "0705b2ec-f7ea-4f5c-a7fe-28836adcc9aa",
   "metadata": {},
   "source": [
    "Again, to get an overview of the book, we print the first 200 characters of each chapter:"
   ]
  },
  {
   "cell_type": "code",
   "execution_count": 6,
   "id": "ca43e38d",
   "metadata": {},
   "outputs": [
    {
     "data": {
      "text/plain": [
       "[<matplotlib.lines.Line2D at 0x7f3ba2383850>]"
      ]
     },
     "execution_count": 6,
     "metadata": {},
     "output_type": "execute_result"
    },
    {
     "data": {
      "image/png": "[encoded data removed]",
      "text/plain": [
       "<Figure size 640x480 with 1 Axes>"
      ]
     },
     "metadata": {},
     "output_type": "display_data"
    }
   ],
   "source": [
    "plt.plot([len(chapter) for chapter in chapters_])"
   ]
  },
  {
   "cell_type": "code",
   "execution_count": 7,
   "id": "de6a9475",
   "metadata": {},
   "outputs": [],
   "source": [
    "good_chapters = [chapter.replace('\\n',' ') for chapter in chapters_ if len(chapter)>2000]"
   ]
  },
  {
   "cell_type": "code",
   "execution_count": 8,
   "id": "9cd9aa1a",
   "metadata": {},
   "outputs": [
    {
     "data": {
      "text/plain": [
       "['I  JONATHAN HARKER’S JOURNAL  (_Kept in shorthand._)   _3 May. Bistritz._--Left Munich at 8:35 P. M., on 1st May, arriving at Vienna early next morning; should have arrived at 6:46, but train was an h',\n",
       " 'II  JONATHAN HARKER’S JOURNAL--_continued_   _5 May._--I must have been asleep, for certainly if I had been fully awake I must have noticed the approach of such a remarkable place. In the gloom the co',\n",
       " 'III  JONATHAN HARKER’S JOURNAL--_continued_   When I found that I was a prisoner a sort of wild feeling came over me. I rushed up and down the stairs, trying every door and peering out of every window',\n",
       " 'IV  JONATHAN HARKER’S JOURNAL--_continued_   I awoke in my own bed. If it be that I had not dreamt, the Count must have carried me here. I tried to satisfy myself on the subject, but could not arrive ',\n",
       " 'V  _Letter from Miss Mina Murray to Miss Lucy Westenra._   “_9 May._  “My dearest Lucy,--  “Forgive my long delay in writing, but I have been simply overwhelmed with work. The life of an assistant sch',\n",
       " 'VI  MINA MURRAY’S JOURNAL   _24 July. Whitby._--Lucy met me at the station, looking sweeter and lovelier than ever, and we drove up to the house at the Crescent in which they have rooms. This is a lov',\n",
       " 'VII  CUTTING FROM “THE DAILYGRAPH,” 8 AUGUST   (_Pasted in Mina Murray’s Journal._)  From a Correspondent.  _Whitby_.  One of the greatest and suddenest storms on record has just been experienced here',\n",
       " 'VIII  MINA MURRAY’S JOURNAL   _Same day, 11 o’clock p. m._--Oh, but I am tired! If it were not that I had made my diary a duty I should not open it to-night. We had a lovely walk. Lucy, after a while,',\n",
       " 'IX   _Letter, Mina Harker to Lucy Westenra._  “_Buda-Pesth, 24 August._  “My dearest Lucy,--  “I know you will be anxious to hear all that has happened since we parted at the railway station at Whitby',\n",
       " 'X   _Letter, Dr. Seward to Hon. Arthur Holmwood._  “_6 September._  “My dear Art,--  “My news to-day is not so good. Lucy this morning had gone back a bit. There is, however, one good thing which has ',\n",
       " 'XI  _Lucy Westenra’s Diary._   _12 September._--How good they all are to me. I quite love that dear Dr. Van Helsing. I wonder why he was so anxious about these flowers. He positively frightened me, he',\n",
       " 'XII  DR. SEWARD’S DIARY   _18 September._--I drove at once to Hillingham and arrived early. Keeping my cab at the gate, I went up the avenue alone. I knocked gently and rang as quietly as possible, fo',\n",
       " 'XIII  DR. SEWARD’S DIARY--_continued_.   The funeral was arranged for the next succeeding day, so that Lucy and her mother might be buried together. I attended to all the ghastly formalities, and the ',\n",
       " 'XIV  MINA HARKER’S JOURNAL   _23 September_.--Jonathan is better after a bad night. I am so glad that he has plenty of work to do, for that keeps his mind off the terrible things; and oh, I am rejoice',\n",
       " 'XV  DR. SEWARD’S DIARY--_continued_.   For a while sheer anger mastered me; it was as if he had during her life struck Lucy on the face. I smote the table hard and rose up as I said to him:--  “Dr. Va',\n",
       " 'XVI  DR. SEWARD’S DIARY--_continued_   It was just a quarter before twelve o’clock when we got into the churchyard over the low wall. The night was dark with occasional gleams of moonlight between the',\n",
       " 'XVII  DR. SEWARD’S DIARY--_continued_   When we arrived at the Berkeley Hotel, Van Helsing found a telegram waiting for him:--       “Am coming up by train. Jonathan at Whitby. Important news.--MINA  ',\n",
       " 'XVIII  DR. SEWARD’S DIARY   _30 September._--I got home at five o’clock, and found that Godalming and Morris had not only arrived, but had already studied the transcript of the various diaries and let',\n",
       " 'XIX  JONATHAN HARKER’S JOURNAL   _1 October, 5 a. m._--I went with the party to the search with an easy mind, for I think I never saw Mina so absolutely strong and well. I am so glad that she consente',\n",
       " 'XX  JONATHAN HARKER’S JOURNAL   _1 October, evening._--I found Thomas Snelling in his house at Bethnal Green, but unhappily he was not in a condition to remember anything. The very prospect of beer wh',\n",
       " 'XXI  DR. SEWARD’S DIARY   _3 October._--Let me put down with exactness all that happened, as well as I can remember it, since last I made an entry. Not a detail that I can recall must be forgotten; in',\n",
       " 'XXII  JONATHAN HARKER’S JOURNAL   _3 October._--As I must do something or go mad, I write this diary. It is now six o’clock, and we are to meet in the study in half an hour and take something to eat; ',\n",
       " 'XXIII  DR. SEWARD’S DIARY   _3 October._--The time seemed terribly long whilst we were waiting for the coming of Godalming and Quincey Morris. The Professor tried to keep our minds active by using the',\n",
       " 'XXIV  DR. SEWARD’S PHONOGRAPH DIARY, SPOKEN BY VAN HELSING   This to Jonathan Harker.  You are to stay with your dear Madam Mina. We shall go to make our search--if I can call it so, for it is not sea',\n",
       " 'XXV  DR. SEWARD’S DIARY   _11 October, Evening._--Jonathan Harker has asked me to note this, as he says he is hardly equal to the task, and he wants an exact record kept.  I think that none of us were',\n",
       " 'XXVI  DR. SEWARD’S DIARY   _29 October._--This is written in the train from Varna to Galatz. Last night we all assembled a little before the time of sunset. Each of us had done his work as well as he ',\n",
       " 'XXVII  MINA HARKER’S JOURNAL   _1 November._--All day long we have travelled, and at a good speed. The horses seem to know that they are being kindly treated, for they go willingly their full stage at']"
      ]
     },
     "execution_count": 8,
     "metadata": {},
     "output_type": "execute_result"
    }
   ],
   "source": [
    "[ chap[:200] for chap in good_chapters ]"
   ]
  },
  {
   "cell_type": "code",
   "execution_count": 9,
   "id": "dc8cecdb",
   "metadata": {},
   "outputs": [],
   "source": [
    "# !pip install gensim nltk"
   ]
  },
  {
   "cell_type": "code",
   "execution_count": 10,
   "id": "9490bba9",
   "metadata": {},
   "outputs": [
    {
     "name": "stderr",
     "output_type": "stream",
     "text": [
      "[nltk_data] Downloading package punkt_tab to /home/jovyan/nltk_data...\n",
      "[nltk_data]   Unzipping tokenizers/punkt_tab.zip.\n"
     ]
    },
    {
     "data": {
      "text/plain": [
       "True"
      ]
     },
     "execution_count": 10,
     "metadata": {},
     "output_type": "execute_result"
    }
   ],
   "source": [
    "import nltk\n",
    "nltk.download('punkt_tab')"
   ]
  },
  {
   "cell_type": "code",
   "execution_count": 11,
   "id": "5ce464a8",
   "metadata": {},
   "outputs": [],
   "source": [
    "from gensim.models import FastText\n",
    "from nltk.tokenize import word_tokenize\n",
    "\n",
    "# Tokenize sentences\n",
    "tokenized_sentences = [word_tokenize(chapter.lower()) for chapter in good_chapters]"
   ]
  },
  {
   "cell_type": "markdown",
   "id": "35fdcd18-b718-4f76-bf0a-c288bf3fae6f",
   "metadata": {},
   "source": [
    "Let's again look at the first 20 tokens of the first 2 sentences:"
   ]
  },
  {
   "cell_type": "code",
   "execution_count": 12,
   "id": "2fc3fbdc",
   "metadata": {},
   "outputs": [
    {
     "data": {
      "text/plain": [
       "[['i',\n",
       "  'jonathan',\n",
       "  'harker',\n",
       "  '’',\n",
       "  's',\n",
       "  'journal',\n",
       "  '(',\n",
       "  '_kept',\n",
       "  'in',\n",
       "  'shorthand._',\n",
       "  ')',\n",
       "  '_3',\n",
       "  'may',\n",
       "  '.',\n",
       "  'bistritz._',\n",
       "  '--',\n",
       "  'left',\n",
       "  'munich',\n",
       "  'at',\n",
       "  '8:35'],\n",
       " ['ii',\n",
       "  'jonathan',\n",
       "  'harker',\n",
       "  '’',\n",
       "  's',\n",
       "  'journal',\n",
       "  '--',\n",
       "  '_continued_',\n",
       "  '_5',\n",
       "  'may._',\n",
       "  '--',\n",
       "  'i',\n",
       "  'must',\n",
       "  'have',\n",
       "  'been',\n",
       "  'asleep',\n",
       "  ',',\n",
       "  'for',\n",
       "  'certainly',\n",
       "  'if']]"
      ]
     },
     "execution_count": 12,
     "metadata": {},
     "output_type": "execute_result"
    }
   ],
   "source": [
    "[ sent[:20] for sent in tokenized_sentences[:2] ]"
   ]
  },
  {
   "cell_type": "code",
   "execution_count": 13,
   "id": "af61f5e9",
   "metadata": {},
   "outputs": [],
   "source": [
    "# Train FastText model\n",
    "model = FastText(sentences=tokenized_sentences, vector_size=50, window=5, min_count=1,\n",
    "                 workers=1, sg=1, seed=42)\n"
   ]
  },
  {
   "cell_type": "code",
   "execution_count": 14,
   "id": "2d7dad61",
   "metadata": {},
   "outputs": [
    {
     "name": "stdout",
     "output_type": "stream",
     "text": [
      "[-0.17170827  0.01594794  0.31046194  0.15127857 -0.47916162  0.42798564\n",
      " -0.55744517  0.03303687  0.06482461  0.19093353  0.12002496 -0.3148609\n",
      "  0.6480318   0.26364902  0.06320828  0.34435645  0.39564136 -0.32918632\n",
      " -0.8669687  -0.35198662 -0.01916987  0.10016022  0.5588777   0.31112555\n",
      "  0.19301683 -0.14353104 -0.03135667  0.7075974  -0.71999747  0.6916624\n",
      "  0.01510853 -0.03059572 -0.26042077  0.37933034 -0.8448704   0.15861793\n",
      "  0.31985903  0.07470595 -0.24404284 -0.31705478 -0.3461812   0.57735944\n",
      " -0.29605943  0.19567086  0.7980123  -0.91895014 -0.01861222  0.00604821\n",
      " -0.04803235  0.05641289]\n"
     ]
    }
   ],
   "source": [
    "# Access embeddings\n",
    "word_embeddings = model.wv\n",
    "print(word_embeddings['blood'])"
   ]
  },
  {
   "cell_type": "code",
   "execution_count": 15,
   "id": "fd5036e6",
   "metadata": {},
   "outputs": [
    {
     "data": {
      "text/plain": [
       "[('life-blood', 0.991051197052002),\n",
       " ('bloody', 0.98297119140625),\n",
       " ('bloodless', 0.981428325176239),\n",
       " ('death-beauty', 0.9808684587478638),\n",
       " ('blood.', 0.978346586227417),\n",
       " ('pole', 0.9751719236373901),\n",
       " ('features', 0.9749549031257629),\n",
       " ('blot', 0.974745512008667),\n",
       " ('errors', 0.9742821455001831),\n",
       " ('creatures', 0.9738898277282715)]"
      ]
     },
     "execution_count": 15,
     "metadata": {},
     "output_type": "execute_result"
    }
   ],
   "source": [
    "model.wv.most_similar('blood')"
   ]
  },
  {
   "cell_type": "code",
   "execution_count": 16,
   "id": "a9150694",
   "metadata": {},
   "outputs": [
    {
     "data": {
      "text/plain": [
       "[('hood', 0.9941005110740662),\n",
       " ('landlady', 0.992630124092102),\n",
       " ('derogatory', 0.992297351360321),\n",
       " ('purity', 0.9921227693557739),\n",
       " ('tenth', 0.9914929866790771),\n",
       " ('victory', 0.9912064075469971),\n",
       " ('land_', 0.9909618496894836),\n",
       " ('bradshaw', 0.9909471869468689),\n",
       " ('repulsion', 0.9908758401870728),\n",
       " ('views', 0.9908447861671448)]"
      ]
     },
     "execution_count": 16,
     "metadata": {},
     "output_type": "execute_result"
    }
   ],
   "source": [
    "model.wv.most_similar('food')"
   ]
  },
  {
   "cell_type": "code",
   "execution_count": 17,
   "id": "82f503e5",
   "metadata": {},
   "outputs": [
    {
     "data": {
      "text/plain": [
       "[('body.', 0.9856458306312561),\n",
       " ('scart', 0.9830433130264282),\n",
       " ('housebreaker', 0.9830130934715271),\n",
       " ('tea', 0.9829016327857971),\n",
       " ('court', 0.9828699231147766),\n",
       " ('courtliness', 0.981835663318634),\n",
       " ('body-snatcher', 0.9817771315574646),\n",
       " ('coin', 0.9813472628593445),\n",
       " ('cart', 0.9813452959060669),\n",
       " ('clearin', 0.9812021255493164)]"
      ]
     },
     "execution_count": 17,
     "metadata": {},
     "output_type": "execute_result"
    }
   ],
   "source": [
    "model.wv.most_similar('body')"
   ]
  },
  {
   "cell_type": "code",
   "execution_count": null,
   "id": "edac17ad",
   "metadata": {},
   "outputs": [],
   "source": []
  }
 ],
 "metadata": {
  "jupytext": {
   "formats": "ipynb,md"
  },
  "kernelspec": {
   "display_name": "Python 3 (ipykernel)",
   "language": "python",
   "name": "python3"
  },
  "language_info": {
   "codemirror_mode": {
    "name": "ipython",
    "version": 3
   },
   "file_extension": ".py",
   "mimetype": "text/x-python",
   "name": "python",
   "nbconvert_exporter": "python",
   "pygments_lexer": "ipython3",
   "version": "3.10.11"
  }
 },
 "nbformat": 4,
 "nbformat_minor": 5
}
