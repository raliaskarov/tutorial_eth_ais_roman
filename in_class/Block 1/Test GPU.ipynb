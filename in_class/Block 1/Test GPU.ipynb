{
 "cells": [
  {
   "cell_type": "markdown",
   "id": "95f092e7-9aaf-42eb-b278-370ce33b0919",
   "metadata": {},
   "source": [
    "# Test Notebook"
   ]
  },
  {
   "cell_type": "markdown",
   "id": "fa141809-6ec3-41cb-8bfc-0e98bb774b05",
   "metadata": {},
   "source": [
    "## We want to make sure we are using the GPU:"
   ]
  },
  {
   "cell_type": "markdown",
   "id": "3a405352-d2ee-4391-989b-925eb90a9363",
   "metadata": {},
   "source": [
    "Please execute the cells below, to see whether you selected the right environment. "
   ]
  },
  {
   "cell_type": "code",
   "execution_count": null,
   "id": "e00af33c-46df-4cb2-9130-453426f96cbe",
   "metadata": {},
   "outputs": [],
   "source": [
    "import tensorflow as tf"
   ]
  },
  {
   "cell_type": "code",
   "execution_count": null,
   "id": "15402976-f2e3-4f93-bb81-bbaa1953fc25",
   "metadata": {},
   "outputs": [],
   "source": [
    "if tf.test.gpu_device_name():\n",
    "    print('This notebook is running on a GPU :-)')\n",
    "    print('Default GPU Device: {}'.format(tf.test.gpu_device_name()))\n",
    "else:\n",
    "    print(\"No GPU available?\")"
   ]
  },
  {
   "cell_type": "markdown",
   "id": "f263e05e-ac36-4f78-85c4-24666728325e",
   "metadata": {},
   "source": [
    "If the previous cell printed \"No GPU available?\", there was probably an issue when setting up the environment. Make sure you selected the one with 1 GPU. "
   ]
  },
  {
   "cell_type": "markdown",
   "id": "722036ce-3c9c-48c9-b2ac-3e793c9e2d4c",
   "metadata": {},
   "source": [
    "This notebook will be saved automatically, when you press the **Back** button on the top left."
   ]
  }
 ],
 "metadata": {
  "kernelspec": {
   "display_name": "Python 3 (ipykernel)",
   "language": "python",
   "name": "python3"
  },
  "language_info": {
   "codemirror_mode": {
    "name": "ipython",
    "version": 3
   },
   "file_extension": ".py",
   "mimetype": "text/x-python",
   "name": "python",
   "nbconvert_exporter": "python",
   "pygments_lexer": "ipython3",
   "version": "3.10.11"
  }
 },
 "nbformat": 4,
 "nbformat_minor": 5
}
