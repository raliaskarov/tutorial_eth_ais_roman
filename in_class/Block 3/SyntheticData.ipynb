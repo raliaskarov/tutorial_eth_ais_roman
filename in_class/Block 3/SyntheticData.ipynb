{
 "cells": [
  {
   "cell_type": "markdown",
   "id": "c62898ed-1081-4a7a-a0a8-a638ee61195b",
   "metadata": {},
   "source": [
    "# Synthetic Data Generation\n",
    "This notebook gives an example of how we can generate synthetic data to get a dataset similar to an original dataset with sensitive information."
   ]
  },
  {
   "cell_type": "code",
   "execution_count": null,
   "id": "ae8883fa-7f41-42b1-a8aa-f1592f6d877b",
   "metadata": {},
   "outputs": [],
   "source": [
    "import pandas as pd\n",
    "from scipy.stats import norm\n",
    "import matplotlib.pyplot as plt"
   ]
  },
  {
   "cell_type": "markdown",
   "id": "08c31041-8180-47fe-bcbc-ac4b2c61a420",
   "metadata": {},
   "source": [
    "## Load and Inspect Original Data"
   ]
  },
  {
   "cell_type": "code",
   "execution_count": null,
   "id": "c252e1d0-b2ca-43cc-ac58-8cfcbe433bf6",
   "metadata": {},
   "outputs": [],
   "source": [
    "titanic = pd.read_csv('titanic.csv')"
   ]
  },
  {
   "cell_type": "code",
   "execution_count": null,
   "id": "e73e36ad-ae7d-4b4b-8f54-5c3b6b8a21f5",
   "metadata": {},
   "outputs": [],
   "source": [
    "titanic.head()"
   ]
  },
  {
   "cell_type": "markdown",
   "id": "b042901c-c632-4978-9b31-26094857d2d3",
   "metadata": {},
   "source": [
    "Inspect the original data:"
   ]
  },
  {
   "cell_type": "code",
   "execution_count": null,
   "id": "d0ac4154-1512-45c0-9256-189327145ef4",
   "metadata": {},
   "outputs": [],
   "source": [
    "# the histogram of the data\n",
    "plt.figure(figsize=(5, 3))\n",
    "n, bins, patches = plt.hist(titanic['Age'], 30, density = True, alpha=0.75, label='Raw Data')\n",
    "\n",
    "plt.grid(True)\n",
    "plt.legend()\n",
    "plt.xlabel('Age')\n",
    "plt.ylabel('Ratio')\n",
    "plt.title('Age of Titanic Passengers')\n",
    "plt.show()"
   ]
  },
  {
   "cell_type": "markdown",
   "id": "8b6aa7a9-3188-415a-ae57-38f4e7c26508",
   "metadata": {},
   "source": [
    "## Fit normal distribution to the data\n",
    "For this toy example, we assume the age of the passengers is normally distributed, and we use the original data to infer to parameters of a normal distribution:"
   ]
  },
  {
   "cell_type": "code",
   "execution_count": null,
   "id": "dc7cbf7b-1f8a-47c8-b194-c852b1cfcb1f",
   "metadata": {},
   "outputs": [],
   "source": [
    "(mu, sigma) = norm.fit(titanic['Age'].dropna())"
   ]
  },
  {
   "cell_type": "markdown",
   "id": "ae2888b5-1e39-4c27-84f9-0e89e5f49805",
   "metadata": {},
   "source": [
    "Now we can plot the original data along with the fitted distribution and the synthetic sample distribution:"
   ]
  },
  {
   "cell_type": "code",
   "execution_count": null,
   "id": "4f7e2db7-eda6-41cf-89d1-3ff1f3a2df8f",
   "metadata": {},
   "outputs": [],
   "source": [
    "plt.figure(figsize=(5, 3))\n",
    "\n",
    "# the histogram of the data\n",
    "n, bins, patches = plt.hist(titanic['Age'], 30, density = True, alpha=0.75, label='Raw Data')\n",
    "\n",
    "# add a 'best fit' line\n",
    "y = norm.pdf( bins, mu, sigma)\n",
    "l = plt.plot(bins, y, 'r--', linewidth=2, label='Fitted Distribution')\n",
    "\n",
    "# plot synthetic data samples\n",
    "r = norm.rvs(size=1000) # standard normal distribution\n",
    "synth_ages = mu + sigma*r\n",
    "n, bins, patches = plt.hist(synth_ages, 30, density = True, color='green', alpha=0.75, label='Synthetic Data')\n",
    "\n",
    "# make plot nicer:\n",
    "plt.grid(True)\n",
    "plt.legend()\n",
    "plt.xlabel('Age')\n",
    "plt.ylabel('Ratio')\n",
    "plt.title('Age of Titanic Passengers')\n",
    "plt.show()"
   ]
  },
  {
   "cell_type": "code",
   "execution_count": null,
   "id": "46b17e56-d075-4831-9209-acbdf1d7d311",
   "metadata": {},
   "outputs": [],
   "source": []
  }
 ],
 "metadata": {
  "kernelspec": {
   "display_name": "Python 3 (ipykernel)",
   "language": "python",
   "name": "python3"
  },
  "language_info": {
   "codemirror_mode": {
    "name": "ipython",
    "version": 3
   },
   "file_extension": ".py",
   "mimetype": "text/x-python",
   "name": "python",
   "nbconvert_exporter": "python",
   "pygments_lexer": "ipython3",
   "version": "3.10.11"
  }
 },
 "nbformat": 4,
 "nbformat_minor": 5
}
