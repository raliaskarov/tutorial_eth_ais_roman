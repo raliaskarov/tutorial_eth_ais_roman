{
 "cells": [
  {
   "cell_type": "markdown",
   "id": "39aa6ca0-1075-42bb-98ca-045100101c14",
   "metadata": {},
   "source": [
    "# Example for Differential Privacy\n",
    "This notebook illustrates the use of differential privacy in a (sypothetical) survey amont students to find out whether they ever cheated in an exam.\n",
    "Inspired by https://towardsdatascience.com/a-differential-privacy-example-for-beginners-ef3c23f69401"
   ]
  },
  {
   "cell_type": "code",
   "execution_count": null,
   "id": "4ca5ccf5-afd8-487f-aec8-17179e0a1805",
   "metadata": {},
   "outputs": [],
   "source": [
    "import matplotlib.pyplot as plt #matplotlib to graph data\n",
    "import numpy as np \n",
    "from scipy.stats import norm\n",
    "np.random.seed(42)"
   ]
  },
  {
   "cell_type": "markdown",
   "id": "b1b546dd-a5b6-48b2-b71b-017c158e0fb3",
   "metadata": {},
   "source": [
    "## Generate \"True\" Responses\n",
    "Simulate 200 Students, choose randomly whether they ever cheated:"
   ]
  },
  {
   "cell_type": "code",
   "execution_count": null,
   "id": "01ddaaaf-0b5a-4650-8416-59b07c2f1762",
   "metadata": {},
   "outputs": [],
   "source": [
    "nStudents = 200\n",
    "rawData = [ 1 if x else 0 for x in np.random.randn(200) > 0.5 ]"
   ]
  },
  {
   "cell_type": "markdown",
   "id": "1f6e88d0-4658-4c01-a8b6-11c31d8cbd8d",
   "metadata": {},
   "source": [
    "We also define an auxiliary function to generate a bar plot with labels:"
   ]
  },
  {
   "cell_type": "code",
   "execution_count": null,
   "id": "6541b982-34d5-49d7-9d46-b77b1156a6f8",
   "metadata": {},
   "outputs": [],
   "source": [
    "def make_barplot(plotData, dataDesc=''):\n",
    "    labels = list(plotData.keys())\n",
    "    values = list(plotData.values())\n",
    "\n",
    "    plt.figure()\n",
    "    graph = plt.bar(labels, values)\n",
    "    for bar in graph:\n",
    "        plt.annotate(bar.get_height(), xy=(bar.get_x()+0.33, bar.get_height()-10), fontsize=10, color=\"white\")\n",
    "    plt.title(\"No DP: Number of students who reported 'cheating' vs 'never cheated'\")\n",
    "    \n",
    "    title_str_root = '' if dataDesc=='' else dataDesc + ': '\n",
    "    title_str = title_str_root + \"Number of students who reported 'cheating' vs 'never cheated'\"\n",
    "    plt.title(title_str)\n",
    "    plt.show()"
   ]
  },
  {
   "cell_type": "markdown",
   "id": "e7ec7247-c366-4e11-a2b5-1460b2f5b54d",
   "metadata": {},
   "source": [
    "Now we use this function to generate a plot showing the distribution of cheaters among the sensitive data:"
   ]
  },
  {
   "cell_type": "code",
   "execution_count": null,
   "id": "876016ac-1ab9-4eee-ae04-843bae169ee5",
   "metadata": {},
   "outputs": [],
   "source": [
    "# count 1 (\"cheated\") and 0 (\"never cheated\")\n",
    "plotData = {'cheated': rawData.count(1), 'never cheated': rawData.count(0)}\n",
    "\n",
    "# make plot\n",
    "make_barplot(plotData, \"No DP\")"
   ]
  },
  {
   "cell_type": "markdown",
   "id": "2003f65a-082c-401f-a2ba-5b8ec1d2077c",
   "metadata": {},
   "source": [
    "Given this hypothetical (synthetic) dataset, about a quarter of all students have cheated at least once in an exam:"
   ]
  },
  {
   "cell_type": "code",
   "execution_count": null,
   "id": "34058aab-1bff-45b0-bd16-c5311ce41b09",
   "metadata": {},
   "outputs": [],
   "source": [
    "true_cheat_rate = sum(rawData)/len(rawData)\n",
    "true_cheat_rate"
   ]
  },
  {
   "cell_type": "markdown",
   "id": "7c6656ee-d890-4219-ad03-40fe3760a541",
   "metadata": {},
   "source": [
    "## The Impact of an Additional Student\n",
    "Let's assume we add one more student to our dataset, and that the newly added student did actually cheat:"
   ]
  },
  {
   "cell_type": "code",
   "execution_count": null,
   "id": "caf90cc9-0ee3-49bf-8396-a56c0deb5880",
   "metadata": {},
   "outputs": [],
   "source": [
    "rawData.append(1)  # indicates Student n+1 did actually cheat"
   ]
  },
  {
   "cell_type": "markdown",
   "id": "81696601-d097-40e6-8c99-f7a1cc7cbaa7",
   "metadata": {},
   "source": [
    "Let's now look at the overall distribution of cheaters in the dataset including the additional student:"
   ]
  },
  {
   "cell_type": "code",
   "execution_count": null,
   "id": "75fca7b7-4ffd-4dd9-a630-1f26e9d3fc93",
   "metadata": {},
   "outputs": [],
   "source": [
    "# count 1 (\"cheated\") and 0 (\"never cheated\")\n",
    "plotData = {'cheated': rawData.count(1), 'never cheated': rawData.count(0)}\n",
    "\n",
    "# make plot\n",
    "make_barplot(plotData, \"No DP\")"
   ]
  },
  {
   "cell_type": "markdown",
   "id": "39de6dc0-3e3a-4ea3-9fa9-bd6c07faa6c0",
   "metadata": {},
   "source": [
    "Well, much to our surprise, we now have an additional cheater in our dataset. We thus know for sure that the additional student (the last one we added) did actually cheat."
   ]
  },
  {
   "cell_type": "markdown",
   "id": "767ad5d0-3024-4c0c-8817-aa9df3a078bb",
   "metadata": {},
   "source": [
    "## Defining Differential Privacy\n",
    "Now, we define the measurement function as described in the slides. This is a randomized function that will return the counts of self-declaring cheaters and non-cheaters:"
   ]
  },
  {
   "cell_type": "code",
   "execution_count": null,
   "id": "98d3197a-1b0b-42b7-8652-de8b5fe054ed",
   "metadata": {},
   "outputs": [],
   "source": [
    "p_tell_truth = 0.5\n",
    "p_cheat_random = 0.5"
   ]
  },
  {
   "cell_type": "code",
   "execution_count": null,
   "id": "5a297568-178b-413e-a681-46791e427a66",
   "metadata": {},
   "outputs": [],
   "source": [
    "def get_counts_dp(rawData):\n",
    "    dpData = []\n",
    "    for each in rawData:\n",
    "        flip = int(np.random.uniform(0, 1)>p_tell_truth)\n",
    "        if flip == 1:\n",
    "            rand_cheat = int(np.random.uniform(0, 1)<p_cheat_random)\n",
    "            dpData.append(rand_cheat)\n",
    "        else:\n",
    "            dpData.append(each)\n",
    "    \n",
    "    dpCountsData = {'cheated': dpData.count(1), 'never cheated': dpData.count(0)}\n",
    "\n",
    "    return dpCountsData"
   ]
  },
  {
   "cell_type": "markdown",
   "id": "f711b64b-45fc-4daa-8999-e33e6126f975",
   "metadata": {},
   "source": [
    "Let's look at the counts we get when running the stochastic counting function a first time:"
   ]
  },
  {
   "cell_type": "code",
   "execution_count": null,
   "id": "395d38b8-f774-4150-b35a-3519f03bb86a",
   "metadata": {},
   "outputs": [],
   "source": [
    "# count 1 (\"cheated\") and 0 (\"never cheated\")\n",
    "dpCountsData = get_counts_dp(rawData)\n",
    "\n",
    "# make plot\n",
    "make_barplot(dpCountsData, \"No DP\")"
   ]
  },
  {
   "cell_type": "markdown",
   "id": "8420bf7c-63b2-4740-80fd-e074ea6c9bde",
   "metadata": {},
   "source": [
    "Let's run the same counting function again:"
   ]
  },
  {
   "cell_type": "code",
   "execution_count": null,
   "id": "d9717862-35dc-4bc2-9c69-7ade16f7e2cd",
   "metadata": {},
   "outputs": [],
   "source": [
    "# count 1 (\"cheated\") and 0 (\"never cheated\")\n",
    "dpCountsData = get_counts_dp(rawData)\n",
    "\n",
    "# make plot\n",
    "make_barplot(dpCountsData, \"No DP\")"
   ]
  },
  {
   "cell_type": "markdown",
   "id": "2bba3820-bc5c-4997-86d2-002e3c3850f2",
   "metadata": {},
   "source": [
    "The differences we see between the two runs are typically larger than 1 - so, any single student could plausibly deny the effect of their own statement on the total outcome. This is exactly the idea of differential privacy."
   ]
  },
  {
   "cell_type": "markdown",
   "id": "799a0b1f-f21a-48ab-a245-bfe0fee2eeff",
   "metadata": {},
   "source": [
    "## Understanding the DP Estimator\n",
    "Next, we want to look at how the estimation result we get using differential privacy is distributed. To do so, we run 500 runs of the stochastic counting function, and compute the corresponding cheater rate according to the formula derived on the slides:"
   ]
  },
  {
   "cell_type": "code",
   "execution_count": null,
   "id": "61a39dae-aaa4-4ff9-b54b-e77ebf02afa4",
   "metadata": {},
   "outputs": [],
   "source": [
    "np.random.seed(123)\n",
    "cheaterRate = []\n",
    "for trial in range(500):\n",
    "    dpCountsData = get_counts_dp(rawData)\n",
    "    dpCheatRate = dpCountsData['cheated'] / len(rawData)\n",
    "    estTrueCheatRate = (dpCheatRate-p_cheat_random)/p_tell_truth + p_cheat_random\n",
    "    cheaterRate.append(estTrueCheatRate)"
   ]
  },
  {
   "cell_type": "markdown",
   "id": "48d06ec9-dd86-47ca-b96e-90f708466fb0",
   "metadata": {},
   "source": [
    "Next, we plot a histogram of the estimated cheater rates as obtained in the 500 trials:"
   ]
  },
  {
   "cell_type": "code",
   "execution_count": null,
   "id": "bb4c3551-3525-4b2a-a613-eb2d979aa98a",
   "metadata": {},
   "outputs": [],
   "source": [
    "plt.hist(cheaterRate, bins=[ 0.01*x for x in range(0, 51) ], label='Estimated Cheat Rate')\n",
    "plt.vlines(true_cheat_rate, 0, 40, linestyles='dashed', color='r', label='True Cheat Rate')\n",
    "plt.grid()\n",
    "plt.legend()\n",
    "plt.title('Distribution of Cheat Rate Estimators\\nResults obtained using Differential Privacy')\n",
    "plt.xlabel('Estimated Cheat Rate')\n",
    "plt.ylabel('Frequency')\n",
    "plt.show()"
   ]
  },
  {
   "cell_type": "code",
   "execution_count": null,
   "id": "d8772879-c426-42da-afc2-eac9c4a3d9b1",
   "metadata": {},
   "outputs": [],
   "source": [
    "(mu, sigma) = norm.fit(cheaterRate)\n",
    "print('Estimated Cheat Rate:')\n",
    "print('- Mean: ', mu)\n",
    "print('- St. Dev.:', sigma)"
   ]
  },
  {
   "cell_type": "markdown",
   "id": "14c24474-0e87-439c-9e9e-b367f2211ddd",
   "metadata": {},
   "source": [
    "So, even with 500 runs, the variability of the estimated cheater rate is still quite high! This is the price we have to pay for the plausible deniability."
   ]
  },
  {
   "cell_type": "code",
   "execution_count": null,
   "id": "740d4a39-7717-453c-aad8-b391d98d41a7",
   "metadata": {},
   "outputs": [],
   "source": []
  }
 ],
 "metadata": {
  "kernelspec": {
   "display_name": "Python 3 (ipykernel)",
   "language": "python",
   "name": "python3"
  },
  "language_info": {
   "codemirror_mode": {
    "name": "ipython",
    "version": 3
   },
   "file_extension": ".py",
   "mimetype": "text/x-python",
   "name": "python",
   "nbconvert_exporter": "python",
   "pygments_lexer": "ipython3",
   "version": "3.10.11"
  }
 },
 "nbformat": 4,
 "nbformat_minor": 5
}
